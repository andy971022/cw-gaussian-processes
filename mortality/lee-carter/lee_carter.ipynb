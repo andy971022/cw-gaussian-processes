{
 "cells": [
  {
   "cell_type": "code",
   "execution_count": 1,
   "metadata": {},
   "outputs": [],
   "source": [
    "#https://www.kaggle.com/tokutani/lee-carter-model\n",
    "#http://www.actuaries.jp/lib/y_ronbun/H18-2.pdf\n",
    "\n",
    "# arima : http://zhuanlan.zhihu.com/p/60648709\n",
    "# svd : https://www.cnblogs.com/pinard/p/6251584.html"
   ]
  },
  {
   "cell_type": "code",
   "execution_count": 2,
   "metadata": {},
   "outputs": [],
   "source": [
    "import pandas as pd\n",
    "import numpy as np"
   ]
  },
  {
   "cell_type": "code",
   "execution_count": 3,
   "metadata": {},
   "outputs": [
    {
     "data": {
      "text/plain": [
       "array([[0.01452139, 0.01633921, 0.01744255, ..., 0.46666667, 0.5       ,\n",
       "        0.4       ],\n",
       "       [0.01347565, 0.01349442, 0.01530892, ..., 0.37777778, 0.39285714,\n",
       "        0.41176471],\n",
       "       [0.01195558, 0.01345789, 0.01359709, ..., 0.41269841, 0.43243243,\n",
       "        0.40909091],\n",
       "       ...,\n",
       "       [0.00329878, 0.00360296, 0.00388929, ..., 0.30328164, 0.32349896,\n",
       "        0.34353481],\n",
       "       [0.0033268 , 0.00351578, 0.00395875, ..., 0.31137048, 0.33187534,\n",
       "        0.35298935],\n",
       "       [0.00333587, 0.00351435, 0.00399912, ..., 0.30489039, 0.32557011,\n",
       "        0.34604317]])"
      ]
     },
     "execution_count": 3,
     "metadata": {},
     "output_type": "execute_result"
    }
   ],
   "source": [
    "CSV_FIlE = \"../japan3.csv\"\n",
    "IMG_DIR = \"./mf\"\n",
    "\n",
    "df = pd.read_csv(CSV_FIlE)\n",
    "df, df_test = df[(df[\"year\"]<2010) & (df[\"year\"]>=1946)], df[df[\"year\"]>=2010]\n",
    "year = df[\"year\"].to_numpy().reshape(-1,1)\n",
    "age = df[\"age\"].to_numpy().reshape(-1,1)\n",
    "T = int(max(age) - min(age))\n",
    "span = int(max(year) - min(year))\n",
    "rate = df[\"rate\"].to_numpy().reshape(-1,T+1)\n",
    "rate"
   ]
  },
  {
   "cell_type": "code",
   "execution_count": 4,
   "metadata": {},
   "outputs": [
    {
     "name": "stdout",
     "output_type": "stream",
     "text": [
      "(51, 51) (51, 63)\n",
      "(51,) (63,) (51, 63) (51, 51)\n"
     ]
    }
   ],
   "source": [
    "full_matrices = False\n",
    "\n",
    "logm_xt = np.log(rate).T\n",
    "a_x = logm_xt.mean(axis=1).reshape(-1,1)\n",
    "\n",
    "z_xt = logm_xt - a_x\n",
    "\n",
    "U,S,V = np.linalg.svd(z_xt, full_matrices=full_matrices)\n",
    "\n",
    "print(U.shape,V.shape)\n",
    "\n",
    "if full_matrices: \n",
    "    b_x_k_t = U[0].reshape(-1,1)*S[0]*V[:,0].reshape(1,-1)\n",
    "    e_xt = z_xt - b_x_k_t\n",
    "\n",
    "\n",
    "    # bx,kt\n",
    "    k_t = V[:,0]\n",
    "    b_x = S[0]*U[0] \n",
    "\n",
    "    X = 1/b_x.sum()\n",
    "    Y = -np.mean(k_t/X)\n",
    "\n",
    "\n",
    "    a_x = a_x - X*Y*b_x # new solution\n",
    "    b_x = b_x*X # sum b_x = 1\n",
    "    k_t = k_t/X + Y  # sum k_t = 0\n",
    "\n",
    "    logm_xt_lcfitted = b_x_k_t + a_x[:,0].reshape(-1,1)\n",
    "\n",
    "\n",
    "    print(b_x.shape,k_t.shape,logm_xt.shape,a_x.shape)  \n",
    "else:\n",
    "    b_x_k_t = U[0].reshape(-1,1)*S[0]*V[0].reshape(1,-1)\n",
    "    e_xt = z_xt - b_x_k_t\n",
    "\n",
    "\n",
    "    # bx,kt\n",
    "    k_t = V[0]\n",
    "    b_x = S[0]*U[0] \n",
    "\n",
    "    X = 1/b_x.sum()\n",
    "    Y = -np.mean(k_t/X)\n",
    "\n",
    "\n",
    "    a_x = a_x - X*Y*b_x # new solution\n",
    "    b_x = b_x*X # sum b_x = 1\n",
    "    k_t = k_t/X + Y  # sum k_t = 0\n",
    "\n",
    "    logm_xt_lcfitted = b_x_k_t + a_x[:,0].reshape(-1,1)\n",
    "\n",
    "\n",
    "    print(b_x.shape,k_t.shape,logm_xt.shape,a_x.shape)"
   ]
  },
  {
   "cell_type": "code",
   "execution_count": 5,
   "metadata": {},
   "outputs": [
    {
     "data": {
      "text/plain": [
       "(3.9968028886505635e-15, 0.9999999999999998)"
      ]
     },
     "execution_count": 5,
     "metadata": {},
     "output_type": "execute_result"
    }
   ],
   "source": [
    "k_t.sum(),b_x.sum()"
   ]
  },
  {
   "cell_type": "code",
   "execution_count": 6,
   "metadata": {},
   "outputs": [
    {
     "data": {
      "text/plain": [
       "array([ 0.16532607,  0.22895238, -0.2827371 ,  0.2111559 , -0.28025108,\n",
       "        0.04968883, -0.24638362,  0.11533585, -0.09147334,  0.12319958,\n",
       "       -0.08289645,  0.35259153, -0.14058196,  0.14416001, -0.04446002,\n",
       "        0.16634459,  0.34878499, -0.09494696,  0.16625864,  0.07517382,\n",
       "       -0.01512235, -0.11163388, -0.01398478,  0.18272293,  0.00847881,\n",
       "       -0.2869454 , -0.06865172, -0.01255109,  0.10455783,  0.00880855,\n",
       "        0.08954937,  0.14856874, -0.0671462 , -0.0123018 , -0.02455616,\n",
       "       -0.05080354, -0.0105159 ,  0.06454315,  0.03171756,  0.03842888,\n",
       "        0.06197238,  0.01070099,  0.03010139, -0.13060439, -0.08065202,\n",
       "       -0.06617807,  0.11343941,  0.11370014,  0.04555514,  0.00209009,\n",
       "        0.01347029])"
      ]
     },
     "execution_count": 6,
     "metadata": {},
     "output_type": "execute_result"
    }
   ],
   "source": [
    "b_x"
   ]
  },
  {
   "cell_type": "code",
   "execution_count": 7,
   "metadata": {},
   "outputs": [
    {
     "data": {
      "text/plain": [
       "0.6280979123357496"
      ]
     },
     "execution_count": 7,
     "metadata": {},
     "output_type": "execute_result"
    }
   ],
   "source": [
    "S[0]/S.sum()"
   ]
  },
  {
   "cell_type": "code",
   "execution_count": 8,
   "metadata": {},
   "outputs": [
    {
     "data": {
      "text/plain": [
       "63"
      ]
     },
     "execution_count": 8,
     "metadata": {},
     "output_type": "execute_result"
    }
   ],
   "source": [
    "len(k_t)"
   ]
  },
  {
   "cell_type": "code",
   "execution_count": 9,
   "metadata": {},
   "outputs": [
    {
     "data": {
      "text/plain": [
       "array([1947, 1948, 1949, 1950, 1951, 1952, 1953, 1954, 1955, 1956, 1957,\n",
       "       1958, 1959, 1960, 1961, 1962, 1963, 1964, 1965, 1966, 1967, 1968,\n",
       "       1969, 1970, 1971, 1972, 1973, 1974, 1975, 1976, 1977, 1978, 1979,\n",
       "       1980, 1981, 1982, 1983, 1984, 1985, 1986, 1987, 1988, 1989, 1990,\n",
       "       1991, 1992, 1993, 1994, 1995, 1996, 1997, 1998, 1999, 2000, 2001,\n",
       "       2002, 2003, 2004, 2005, 2006, 2007, 2008, 2009])"
      ]
     },
     "execution_count": 9,
     "metadata": {},
     "output_type": "execute_result"
    },
    {
     "data": {
      "image/png": "[encoded data removed]",
      "text/plain": [
       "<Figure size 432x288 with 1 Axes>"
      ]
     },
     "metadata": {
      "needs_background": "light"
     },
     "output_type": "display_data"
    }
   ],
   "source": [
    "import seaborn as sns\n",
    "sns.lineplot(year.reshape(-1,T+1)[:,0],k_t)\n",
    "year.reshape(-1,T+1)[:,0]"
   ]
  },
  {
   "cell_type": "code",
   "execution_count": 10,
   "metadata": {},
   "outputs": [
    {
     "data": {
      "text/plain": [
       "<matplotlib.axes._subplots.AxesSubplot at 0x7f26def8c048>"
      ]
     },
     "execution_count": 10,
     "metadata": {},
     "output_type": "execute_result"
    },
    {
     "data": {
      "image/png": "[encoded data removed]",
      "text/plain": [
       "<Figure size 432x288 with 1 Axes>"
      ]
     },
     "metadata": {
      "needs_background": "light"
     },
     "output_type": "display_data"
    }
   ],
   "source": [
    "sns.lineplot(age.reshape(span+1,-1)[0], b_x)"
   ]
  },
  {
   "cell_type": "code",
   "execution_count": 11,
   "metadata": {},
   "outputs": [
    {
     "data": {
      "text/plain": [
       "array([-1.21436271e+00, -3.21535341e-02,  2.03446562e-01, -3.64326273e-01,\n",
       "       -2.77851954e-01,  3.54375731e-01, -4.94128606e-01, -2.11555187e-01,\n",
       "        3.49812703e-01,  3.30592794e-01, -7.59731131e-01, -3.75233536e-02,\n",
       "        2.09162053e-01, -1.77270281e-01,  1.62526472e-01, -5.19128160e-01,\n",
       "       -7.96701877e-02,  2.14239196e-01, -4.26308606e-01, -1.34645643e-01,\n",
       "       -9.19488081e-04, -1.21052443e-01,  4.72421724e-03, -4.73399124e-01,\n",
       "       -2.15400954e-01, -1.94093398e-02, -1.71087603e-01, -2.58379359e-01,\n",
       "       -1.46952995e-01, -3.21920788e-01, -1.36747613e-01, -2.44496373e-01,\n",
       "        1.22686158e-01, -2.11251015e-01, -2.79195380e-01,  6.35112693e-02,\n",
       "       -1.78317649e-01, -1.21091966e-01, -2.09386545e-01, -2.08313967e-01,\n",
       "        8.07776923e-02, -2.27202568e-01,  1.72089973e-02, -1.13265184e-01,\n",
       "        8.85059742e-03, -4.77048000e-02, -2.28332080e-01,  1.28389344e-01,\n",
       "       -3.64086882e-01, -9.44081428e-02, -3.76910502e-02,  5.10266894e-02,\n",
       "       -3.09312566e-01, -1.93939646e-01, -1.63494583e-01, -3.33237655e-02,\n",
       "       -1.89921642e-01,  6.43214489e-02, -2.64947239e-01, -1.11858267e-01,\n",
       "       -5.99222761e-02, -1.96836316e-01])"
      ]
     },
     "execution_count": 11,
     "metadata": {},
     "output_type": "execute_result"
    }
   ],
   "source": [
    "np.diff(k_t)"
   ]
  },
  {
   "cell_type": "code",
   "execution_count": 12,
   "metadata": {},
   "outputs": [
    {
     "name": "stdout",
     "output_type": "stream",
     "text": [
      "[[ 50  51  52 ...  98  99 100]\n",
      " [ 50  51  52 ...  98  99 100]\n",
      " [ 50  51  52 ...  98  99 100]\n",
      " ...\n",
      " [ 50  51  52 ...  98  99 100]\n",
      " [ 50  51  52 ...  98  99 100]\n",
      " [ 50  51  52 ...  98  99 100]]\n"
     ]
    },
    {
     "data": {
      "text/plain": [
       "<matplotlib.axes._subplots.AxesSubplot at 0x7f26deaa1358>"
      ]
     },
     "execution_count": 12,
     "metadata": {},
     "output_type": "execute_result"
    },
    {
     "data": {
      "image/png": "[encoded data removed]",
      "text/plain": [
       "<Figure size 432x288 with 1 Axes>"
      ]
     },
     "metadata": {
      "needs_background": "light"
     },
     "output_type": "display_data"
    }
   ],
   "source": [
    "print(age.reshape(span+1,-1))\n",
    "sns.lineplot(age.reshape(span+1,-1)[0], a_x[:,0])"
   ]
  },
  {
   "cell_type": "code",
   "execution_count": 13,
   "metadata": {},
   "outputs": [
    {
     "data": {
      "text/plain": [
       "<matplotlib.axes._subplots.AxesSubplot at 0x7f26dea83550>"
      ]
     },
     "execution_count": 13,
     "metadata": {},
     "output_type": "execute_result"
    },
    {
     "data": {
      "image/png": "[encoded data removed]",
      "text/plain": [
       "<Figure size 432x288 with 1 Axes>"
      ]
     },
     "metadata": {
      "needs_background": "light"
     },
     "output_type": "display_data"
    }
   ],
   "source": [
    "sns.lineplot(age.reshape(span+1,-1)[0],np.exp(logm_xt_lcfitted[:,10]))\n",
    "sns.lineplot(age.reshape(span+1,-1)[0],np.exp(logm_xt[:,10]))"
   ]
  },
  {
   "cell_type": "code",
   "execution_count": 14,
   "metadata": {},
   "outputs": [
    {
     "data": {
      "text/plain": [
       "array([[ 0.16532607],\n",
       "       [ 0.22895238],\n",
       "       [-0.2827371 ],\n",
       "       [ 0.2111559 ],\n",
       "       [-0.28025108],\n",
       "       [ 0.04968883],\n",
       "       [-0.24638362],\n",
       "       [ 0.11533585],\n",
       "       [-0.09147334],\n",
       "       [ 0.12319958],\n",
       "       [-0.08289645],\n",
       "       [ 0.35259153],\n",
       "       [-0.14058196],\n",
       "       [ 0.14416001],\n",
       "       [-0.04446002],\n",
       "       [ 0.16634459],\n",
       "       [ 0.34878499],\n",
       "       [-0.09494696],\n",
       "       [ 0.16625864],\n",
       "       [ 0.07517382],\n",
       "       [-0.01512235],\n",
       "       [-0.11163388],\n",
       "       [-0.01398478],\n",
       "       [ 0.18272293],\n",
       "       [ 0.00847881],\n",
       "       [-0.2869454 ],\n",
       "       [-0.06865172],\n",
       "       [-0.01255109],\n",
       "       [ 0.10455783],\n",
       "       [ 0.00880855],\n",
       "       [ 0.08954937],\n",
       "       [ 0.14856874],\n",
       "       [-0.0671462 ],\n",
       "       [-0.0123018 ],\n",
       "       [-0.02455616],\n",
       "       [-0.05080354],\n",
       "       [-0.0105159 ],\n",
       "       [ 0.06454315],\n",
       "       [ 0.03171756],\n",
       "       [ 0.03842888],\n",
       "       [ 0.06197238],\n",
       "       [ 0.01070099],\n",
       "       [ 0.03010139],\n",
       "       [-0.13060439],\n",
       "       [-0.08065202],\n",
       "       [-0.06617807],\n",
       "       [ 0.11343941],\n",
       "       [ 0.11370014],\n",
       "       [ 0.04555514],\n",
       "       [ 0.00209009],\n",
       "       [ 0.01347029]])"
      ]
     },
     "execution_count": 14,
     "metadata": {},
     "output_type": "execute_result"
    }
   ],
   "source": [
    "b_x.reshape(-1,1)"
   ]
  },
  {
   "cell_type": "code",
   "execution_count": 15,
   "metadata": {},
   "outputs": [
    {
     "name": "stdout",
     "output_type": "stream",
     "text": [
      "1.2468278581962965e-28\n"
     ]
    }
   ],
   "source": [
    "chk = logm_xt_lcfitted - a_x[:,0].reshape(-1,1)\n",
    "chk = chk - np.dot(b_x.reshape(-1,1),k_t.reshape(-1,1).T)\n",
    "chk = chk*chk\n",
    "print(chk.sum())"
   ]
  },
  {
   "cell_type": "code",
   "execution_count": 16,
   "metadata": {},
   "outputs": [
    {
     "name": "stdout",
     "output_type": "stream",
     "text": [
      "\u001b[31mDEPRECATION: The default format will switch to columns in the future. You can use --format=(legacy|columns) (or define a format=(legacy|columns) in your pip.conf under the [list] section) to disable this warning.\u001b[0m\n",
      "statsmodels (0.11.1)\n"
     ]
    }
   ],
   "source": [
    "! pip3 list | grep statsmodels"
   ]
  },
  {
   "cell_type": "code",
   "execution_count": 17,
   "metadata": {},
   "outputs": [],
   "source": [
    "import statsmodels.api as sm\n",
    "from statsmodels.tsa.arima_model import ARIMA\n",
    "from statsmodels.tsa.seasonal import seasonal_decompose\n",
    "from statsmodels.tsa.stattools import adfuller as ADF\n",
    "from statsmodels.tsa.ar_model import AutoReg"
   ]
  },
  {
   "cell_type": "code",
   "execution_count": 18,
   "metadata": {},
   "outputs": [
    {
     "data": {
      "text/plain": [
       "(<matplotlib.axes._subplots.AxesSubplot at 0x7f27228e7828>,\n",
       " (-3.951050145901435,\n",
       "  0.0016896691744788792,\n",
       "  4,\n",
       "  57,\n",
       "  {'1%': -3.5506699942762414,\n",
       "   '5%': -2.913766394626147,\n",
       "   '10%': -2.5946240473991997},\n",
       "  -53.77787211771194))"
      ]
     },
     "execution_count": 18,
     "metadata": {},
     "output_type": "execute_result"
    },
    {
     "data": {
      "image/png": "[encoded data removed]",
      "text/plain": [
       "<Figure size 432x288 with 1 Axes>"
      ]
     },
     "metadata": {
      "needs_background": "light"
     },
     "output_type": "display_data"
    }
   ],
   "source": [
    "k_t_ADF = ADF(np.diff(k_t))\n",
    "sns.lineplot(np.arange(len(np.diff(k_t))),np.diff(k_t)),k_t_ADF"
   ]
  },
  {
   "cell_type": "code",
   "execution_count": 19,
   "metadata": {},
   "outputs": [
    {
     "data": {
      "image/png": "[encoded data removed]",
      "text/plain": [
       "<Figure size 432x288 with 1 Axes>"
      ]
     },
     "metadata": {
      "needs_background": "light"
     },
     "output_type": "display_data"
    }
   ],
   "source": [
    "acf = sm.graphics.tsa.plot_acf(np.diff(k_t))"
   ]
  },
  {
   "cell_type": "code",
   "execution_count": 20,
   "metadata": {},
   "outputs": [
    {
     "data": {
      "image/png": "[encoded data removed]",
      "text/plain": [
       "<Figure size 432x288 with 1 Axes>"
      ]
     },
     "metadata": {
      "needs_background": "light"
     },
     "output_type": "display_data"
    }
   ],
   "source": [
    "pacf = sm.graphics.tsa.plot_pacf(np.diff(k_t))"
   ]
  },
  {
   "cell_type": "code",
   "execution_count": 21,
   "metadata": {},
   "outputs": [
    {
     "name": "stderr",
     "output_type": "stream",
     "text": [
      "/home/chen/work/venv/lib/python3.6/site-packages/statsmodels/base/model.py:548: HessianInversionWarning: Inverting hessian failed, no bse or cov_params available\n",
      "  'available', HessianInversionWarning)\n",
      "/home/chen/work/venv/lib/python3.6/site-packages/statsmodels/tsa/tsatools.py:689: RuntimeWarning: overflow encountered in exp\n",
      "  newparams = ((1-np.exp(-params))/(1+np.exp(-params))).copy()\n",
      "/home/chen/work/venv/lib/python3.6/site-packages/statsmodels/tsa/tsatools.py:689: RuntimeWarning: invalid value encountered in true_divide\n",
      "  newparams = ((1-np.exp(-params))/(1+np.exp(-params))).copy()\n",
      "/home/chen/work/venv/lib/python3.6/site-packages/statsmodels/tsa/tsatools.py:690: RuntimeWarning: overflow encountered in exp\n",
      "  tmp = ((1-np.exp(-params))/(1+np.exp(-params))).copy()\n",
      "/home/chen/work/venv/lib/python3.6/site-packages/statsmodels/tsa/tsatools.py:690: RuntimeWarning: invalid value encountered in true_divide\n",
      "  tmp = ((1-np.exp(-params))/(1+np.exp(-params))).copy()\n",
      "/home/chen/work/venv/lib/python3.6/site-packages/statsmodels/base/model.py:568: ConvergenceWarning: Maximum Likelihood optimization failed to converge. Check mle_retvals\n",
      "  \"Check mle_retvals\", ConvergenceWarning)\n"
     ]
    }
   ],
   "source": [
    "trend_evaluate = sm.tsa.arma_order_select_ic(np.diff(k_t), ic=['aic', 'bic'], trend='nc', max_ar=4, max_ma=4)"
   ]
  },
  {
   "cell_type": "code",
   "execution_count": 22,
   "metadata": {},
   "outputs": [
    {
     "data": {
      "text/plain": [
       "{'aic':            0          1          2          3         4\n",
       " 0        NaN  24.457279  26.136298  10.277191  6.865535\n",
       " 1  24.458480  26.454782  26.781446   3.451522 -7.259623\n",
       " 2  26.159421  25.859292  24.230159   4.317118  7.410485\n",
       " 3  14.080721  -4.697993  -3.438557  -1.554025  3.451686\n",
       " 4   6.888990  -2.038508  -1.265818   0.559151  1.904025,\n",
       " 'bic':            0          1          2          3          4\n",
       " 0        NaN  28.711548  32.517701  18.785729  17.501207\n",
       " 1  28.712749  32.836185  35.289984  14.087194   5.503183\n",
       " 2  32.540824  34.367830  34.865831  17.079925  22.300426\n",
       " 3  22.589259   5.937679   9.324249  13.335916  20.468761\n",
       " 4  17.524662  10.724298  13.624123  17.576226  21.048235,\n",
       " 'aic_min_order': (1, 4),\n",
       " 'bic_min_order': (1, 4)}"
      ]
     },
     "execution_count": 22,
     "metadata": {},
     "output_type": "execute_result"
    }
   ],
   "source": [
    "trend_evaluate"
   ]
  },
  {
   "cell_type": "code",
   "execution_count": 23,
   "metadata": {},
   "outputs": [],
   "source": [
    "model = ARIMA(k_t, order=(1,1,4))"
   ]
  },
  {
   "cell_type": "code",
   "execution_count": 24,
   "metadata": {},
   "outputs": [
    {
     "data": {
      "text/html": [
       "<table class=\"simpletable\">\n",
       "<caption>ARIMA Model Results</caption>\n",
       "<tr>\n",
       "  <th>Dep. Variable:</th>        <td>D.y</td>       <th>  No. Observations:  </th>   <td>62</td>   \n",
       "</tr>\n",
       "<tr>\n",
       "  <th>Model:</th>          <td>ARIMA(1, 1, 4)</td>  <th>  Log Likelihood     </th> <td>13.473</td> \n",
       "</tr>\n",
       "<tr>\n",
       "  <th>Method:</th>             <td>css-mle</td>     <th>  S.D. of innovations</th>  <td>0.190</td> \n",
       "</tr>\n",
       "<tr>\n",
       "  <th>Date:</th>          <td>Fri, 05 Mar 2021</td> <th>  AIC                </th> <td>-12.946</td>\n",
       "</tr>\n",
       "<tr>\n",
       "  <th>Time:</th>              <td>13:43:31</td>     <th>  BIC                </th>  <td>1.944</td> \n",
       "</tr>\n",
       "<tr>\n",
       "  <th>Sample:</th>                <td>1</td>        <th>  HQIC               </th> <td>-7.100</td> \n",
       "</tr>\n",
       "<tr>\n",
       "  <th></th>                       <td> </td>        <th>                     </th>    <td> </td>   \n",
       "</tr>\n",
       "</table>\n",
       "<table class=\"simpletable\">\n",
       "<tr>\n",
       "      <td></td>         <th>coef</th>     <th>std err</th>      <th>z</th>      <th>P>|z|</th>  <th>[0.025</th>    <th>0.975]</th>  \n",
       "</tr>\n",
       "<tr>\n",
       "  <th>const</th>     <td>   -0.1291</td> <td>    0.019</td> <td>   -6.686</td> <td> 0.000</td> <td>   -0.167</td> <td>   -0.091</td>\n",
       "</tr>\n",
       "<tr>\n",
       "  <th>ar.L1.D.y</th> <td>   -0.9000</td> <td>    0.110</td> <td>   -8.183</td> <td> 0.000</td> <td>   -1.116</td> <td>   -0.684</td>\n",
       "</tr>\n",
       "<tr>\n",
       "  <th>ma.L1.D.y</th> <td>    0.3509</td> <td>    0.153</td> <td>    2.293</td> <td> 0.022</td> <td>    0.051</td> <td>    0.651</td>\n",
       "</tr>\n",
       "<tr>\n",
       "  <th>ma.L2.D.y</th> <td>   -0.7705</td> <td>    0.132</td> <td>   -5.845</td> <td> 0.000</td> <td>   -1.029</td> <td>   -0.512</td>\n",
       "</tr>\n",
       "<tr>\n",
       "  <th>ma.L3.D.y</th> <td>    0.2857</td> <td>    0.120</td> <td>    2.381</td> <td> 0.017</td> <td>    0.051</td> <td>    0.521</td>\n",
       "</tr>\n",
       "<tr>\n",
       "  <th>ma.L4.D.y</th> <td>    0.6749</td> <td>    0.139</td> <td>    4.865</td> <td> 0.000</td> <td>    0.403</td> <td>    0.947</td>\n",
       "</tr>\n",
       "</table>\n",
       "<table class=\"simpletable\">\n",
       "<caption>Roots</caption>\n",
       "<tr>\n",
       "    <td></td>   <th>            Real</th>  <th>         Imaginary</th> <th>         Modulus</th>  <th>        Frequency</th>\n",
       "</tr>\n",
       "<tr>\n",
       "  <th>AR.1</th> <td>          -1.1111</td> <td>          +0.0000j</td> <td>           1.1111</td> <td>           0.5000</td>\n",
       "</tr>\n",
       "<tr>\n",
       "  <th>MA.1</th> <td>           0.8456</td> <td>          -0.7095j</td> <td>           1.1038</td> <td>          -0.1111</td>\n",
       "</tr>\n",
       "<tr>\n",
       "  <th>MA.2</th> <td>           0.8456</td> <td>          +0.7095j</td> <td>           1.1038</td> <td>           0.1111</td>\n",
       "</tr>\n",
       "<tr>\n",
       "  <th>MA.3</th> <td>          -1.0573</td> <td>          -0.3133j</td> <td>           1.1027</td> <td>          -0.4541</td>\n",
       "</tr>\n",
       "<tr>\n",
       "  <th>MA.4</th> <td>          -1.0573</td> <td>          +0.3133j</td> <td>           1.1027</td> <td>           0.4541</td>\n",
       "</tr>\n",
       "</table>"
      ],
      "text/plain": [
       "<class 'statsmodels.iolib.summary.Summary'>\n",
       "\"\"\"\n",
       "                             ARIMA Model Results                              \n",
       "==============================================================================\n",
       "Dep. Variable:                    D.y   No. Observations:                   62\n",
       "Model:                 ARIMA(1, 1, 4)   Log Likelihood                  13.473\n",
       "Method:                       css-mle   S.D. of innovations              0.190\n",
       "Date:                Fri, 05 Mar 2021   AIC                            -12.946\n",
       "Time:                        13:43:31   BIC                              1.944\n",
       "Sample:                             1   HQIC                            -7.100\n",
       "                                                                              \n",
       "==============================================================================\n",
       "                 coef    std err          z      P>|z|      [0.025      0.975]\n",
       "------------------------------------------------------------------------------\n",
       "const         -0.1291      0.019     -6.686      0.000      -0.167      -0.091\n",
       "ar.L1.D.y     -0.9000      0.110     -8.183      0.000      -1.116      -0.684\n",
       "ma.L1.D.y      0.3509      0.153      2.293      0.022       0.051       0.651\n",
       "ma.L2.D.y     -0.7705      0.132     -5.845      0.000      -1.029      -0.512\n",
       "ma.L3.D.y      0.2857      0.120      2.381      0.017       0.051       0.521\n",
       "ma.L4.D.y      0.6749      0.139      4.865      0.000       0.403       0.947\n",
       "                                    Roots                                    \n",
       "=============================================================================\n",
       "                  Real          Imaginary           Modulus         Frequency\n",
       "-----------------------------------------------------------------------------\n",
       "AR.1           -1.1111           +0.0000j            1.1111            0.5000\n",
       "MA.1            0.8456           -0.7095j            1.1038           -0.1111\n",
       "MA.2            0.8456           +0.7095j            1.1038            0.1111\n",
       "MA.3           -1.0573           -0.3133j            1.1027           -0.4541\n",
       "MA.4           -1.0573           +0.3133j            1.1027            0.4541\n",
       "-----------------------------------------------------------------------------\n",
       "\"\"\""
      ]
     },
     "execution_count": 24,
     "metadata": {},
     "output_type": "execute_result"
    }
   ],
   "source": [
    "model_fit = model.fit()\n",
    "model_fit.summary()"
   ]
  },
  {
   "cell_type": "code",
   "execution_count": 25,
   "metadata": {},
   "outputs": [
    {
     "data": {
      "text/plain": [
       "<matplotlib.axes._subplots.AxesSubplot at 0x7f2702bf2d68>"
      ]
     },
     "execution_count": 25,
     "metadata": {},
     "output_type": "execute_result"
    },
    {
     "data": {
      "image/png": "[encoded data removed]",
      "text/plain": [
       "<Figure size 432x288 with 1 Axes>"
      ]
     },
     "metadata": {
      "needs_background": "light"
     },
     "output_type": "display_data"
    }
   ],
   "source": [
    "sns.lineplot(np.arange(7),model_fit.forecast(steps = 7)[0])"
   ]
  },
  {
   "cell_type": "code",
   "execution_count": 26,
   "metadata": {},
   "outputs": [
    {
     "data": {
      "text/html": [
       "<div>\n",
       "<style scoped>\n",
       "    .dataframe tbody tr th:only-of-type {\n",
       "        vertical-align: middle;\n",
       "    }\n",
       "\n",
       "    .dataframe tbody tr th {\n",
       "        vertical-align: top;\n",
       "    }\n",
       "\n",
       "    .dataframe thead th {\n",
       "        text-align: right;\n",
       "    }\n",
       "</style>\n",
       "<table border=\"1\" class=\"dataframe\">\n",
       "  <thead>\n",
       "    <tr style=\"text-align: right;\">\n",
       "      <th></th>\n",
       "      <th>Unnamed: 0</th>\n",
       "      <th>age</th>\n",
       "      <th>year</th>\n",
       "      <th>D</th>\n",
       "      <th>L</th>\n",
       "      <th>rate</th>\n",
       "    </tr>\n",
       "  </thead>\n",
       "  <tbody>\n",
       "    <tr>\n",
       "      <th>3253</th>\n",
       "      <td>3254</td>\n",
       "      <td>90</td>\n",
       "      <td>2010</td>\n",
       "      <td>3530</td>\n",
       "      <td>21308</td>\n",
       "      <td>0.165665</td>\n",
       "    </tr>\n",
       "    <tr>\n",
       "      <th>3304</th>\n",
       "      <td>3305</td>\n",
       "      <td>90</td>\n",
       "      <td>2011</td>\n",
       "      <td>3438</td>\n",
       "      <td>21164</td>\n",
       "      <td>0.162446</td>\n",
       "    </tr>\n",
       "    <tr>\n",
       "      <th>3355</th>\n",
       "      <td>3356</td>\n",
       "      <td>90</td>\n",
       "      <td>2012</td>\n",
       "      <td>3648</td>\n",
       "      <td>22073</td>\n",
       "      <td>0.165270</td>\n",
       "    </tr>\n",
       "    <tr>\n",
       "      <th>3406</th>\n",
       "      <td>3407</td>\n",
       "      <td>90</td>\n",
       "      <td>2013</td>\n",
       "      <td>3630</td>\n",
       "      <td>22875</td>\n",
       "      <td>0.158689</td>\n",
       "    </tr>\n",
       "    <tr>\n",
       "      <th>3457</th>\n",
       "      <td>3458</td>\n",
       "      <td>90</td>\n",
       "      <td>2014</td>\n",
       "      <td>3716</td>\n",
       "      <td>23977</td>\n",
       "      <td>0.154982</td>\n",
       "    </tr>\n",
       "    <tr>\n",
       "      <th>3508</th>\n",
       "      <td>3509</td>\n",
       "      <td>90</td>\n",
       "      <td>2015</td>\n",
       "      <td>3865</td>\n",
       "      <td>24821</td>\n",
       "      <td>0.155715</td>\n",
       "    </tr>\n",
       "    <tr>\n",
       "      <th>3559</th>\n",
       "      <td>3560</td>\n",
       "      <td>90</td>\n",
       "      <td>2016</td>\n",
       "      <td>3959</td>\n",
       "      <td>25567</td>\n",
       "      <td>0.154848</td>\n",
       "    </tr>\n",
       "  </tbody>\n",
       "</table>\n",
       "</div>"
      ],
      "text/plain": [
       "      Unnamed: 0  age  year     D      L      rate\n",
       "3253        3254   90  2010  3530  21308  0.165665\n",
       "3304        3305   90  2011  3438  21164  0.162446\n",
       "3355        3356   90  2012  3648  22073  0.165270\n",
       "3406        3407   90  2013  3630  22875  0.158689\n",
       "3457        3458   90  2014  3716  23977  0.154982\n",
       "3508        3509   90  2015  3865  24821  0.155715\n",
       "3559        3560   90  2016  3959  25567  0.154848"
      ]
     },
     "execution_count": 26,
     "metadata": {},
     "output_type": "execute_result"
    }
   ],
   "source": [
    "# age 90 = #41\n",
    "age = 90\n",
    "index = age - 50\n",
    "steps = 7\n",
    "df_test[df_test[\"age\"]==age]"
   ]
  },
  {
   "cell_type": "code",
   "execution_count": 27,
   "metadata": {},
   "outputs": [
    {
     "data": {
      "text/plain": [
       "array([0.17883652, 0.17923535, 0.17669637, 0.17542916, 0.17390559,\n",
       "       0.17263208, 0.17115628])"
      ]
     },
     "execution_count": 27,
     "metadata": {},
     "output_type": "execute_result"
    }
   ],
   "source": [
    "age_predict = np.exp(a_x[index][0] + b_x[index]*model_fit.forecast(steps = steps)[0])\n",
    "age_predict"
   ]
  },
  {
   "cell_type": "code",
   "execution_count": 28,
   "metadata": {},
   "outputs": [
    {
     "data": {
      "text/plain": [
       "-1.4747981777294938"
      ]
     },
     "execution_count": 28,
     "metadata": {},
     "output_type": "execute_result"
    }
   ],
   "source": [
    "a_x[index][0]"
   ]
  },
  {
   "cell_type": "code",
   "execution_count": 29,
   "metadata": {},
   "outputs": [
    {
     "data": {
      "text/plain": [
       "array([-0.24648499, -0.24425736, -0.25852425, -0.26572179, -0.27444451,\n",
       "       -0.2817945 , -0.29038002])"
      ]
     },
     "execution_count": 29,
     "metadata": {},
     "output_type": "execute_result"
    }
   ],
   "source": [
    "b_x[index]*model_fit.forecast(steps = steps)[0]"
   ]
  },
  {
   "cell_type": "code",
   "execution_count": 30,
   "metadata": {},
   "outputs": [
    {
     "data": {
      "text/plain": [
       "array([-3.97733636, -3.94139089, -4.1716045 , -4.2877457 , -4.42849745,\n",
       "       -4.5470985 , -4.68563627])"
      ]
     },
     "execution_count": 30,
     "metadata": {},
     "output_type": "execute_result"
    }
   ],
   "source": [
    "model_fit.forecast(steps = steps)[0]"
   ]
  },
  {
   "cell_type": "code",
   "execution_count": 31,
   "metadata": {},
   "outputs": [
    {
     "data": {
      "text/plain": [
       "<matplotlib.axes._subplots.AxesSubplot at 0x7f2702b71e80>"
      ]
     },
     "execution_count": 31,
     "metadata": {},
     "output_type": "execute_result"
    },
    {
     "data": {
      "image/png": "[encoded data removed]",
      "text/plain": [
       "<Figure size 432x288 with 1 Axes>"
      ]
     },
     "metadata": {
      "needs_background": "light"
     },
     "output_type": "display_data"
    }
   ],
   "source": [
    "sns.lineplot(np.arange(min(year),min(year)+span+steps+1),np.concatenate([rate[:,index],age_predict]))"
   ]
  },
  {
   "cell_type": "code",
   "execution_count": 39,
   "metadata": {},
   "outputs": [
    {
     "data": {
      "text/plain": [
       "<matplotlib.axes._subplots.AxesSubplot at 0x7f26f12bfc50>"
      ]
     },
     "execution_count": 39,
     "metadata": {},
     "output_type": "execute_result"
    },
    {
     "data": {
      "image/png": "[encoded data removed]",
      "text/plain": [
       "<Figure size 432x288 with 1 Axes>"
      ]
     },
     "metadata": {
      "needs_background": "light"
     },
     "output_type": "display_data"
    }
   ],
   "source": [
    "sns.lineplot(np.arange(min(year),min(year)+span+steps+1),np.concatenate([np.exp(a_x[index][0] + b_x[index]*k_t),age_predict]))\n",
    "sns.lineplot(np.arange(min(year),min(year)+span+7+1),np.concatenate([rate[:,index],df_test[df_test[\"age\"]==age].rate.to_numpy()]))"
   ]
  },
  {
   "cell_type": "code",
   "execution_count": 33,
   "metadata": {},
   "outputs": [
    {
     "data": {
      "text/plain": [
       "(0.01593039506474301, 0.015753869439457308)"
      ]
     },
     "execution_count": 33,
     "metadata": {},
     "output_type": "execute_result"
    }
   ],
   "source": [
    "from sklearn.metrics import mean_absolute_error, mean_squared_error\n",
    "\n",
    "rmse = mean_squared_error(age_predict, df_test[df_test[\"age\"]==age].rate.to_numpy(), squared=False)\n",
    "mae = mean_absolute_error(age_predict, df_test[df_test[\"age\"]==age].rate.to_numpy())\n",
    "\n",
    "rmse,mae"
   ]
  },
  {
   "cell_type": "code",
   "execution_count": 34,
   "metadata": {},
   "outputs": [
    {
     "data": {
      "text/plain": [
       "array([-0.13319743,  0.98471847])"
      ]
     },
     "execution_count": 34,
     "metadata": {},
     "output_type": "execute_result"
    }
   ],
   "source": [
    "# AR(1)\n",
    "\n",
    "model = sm.tsa.AutoReg(k_t, 1).fit()\n",
    "\n",
    "model.params"
   ]
  },
  {
   "cell_type": "code",
   "execution_count": 35,
   "metadata": {},
   "outputs": [],
   "source": [
    "def ar(x, params):\n",
    "    return params[0] + params[1]*x"
   ]
  },
  {
   "cell_type": "code",
   "execution_count": 36,
   "metadata": {},
   "outputs": [
    {
     "name": "stdout",
     "output_type": "stream",
     "text": [
      "0.157232704402516\n"
     ]
    },
    {
     "data": {
      "text/plain": [
       "array([ 0.02163252, -0.11189548, -0.24338298, -0.37286114, -0.50036068,\n",
       "       -0.62591183, -0.74954436])"
      ]
     },
     "execution_count": 36,
     "metadata": {},
     "output_type": "execute_result"
    }
   ],
   "source": [
    "ar_pred = []\n",
    "ph = rate[-1,index]\n",
    "print(ph)\n",
    "for i in range(7):\n",
    "    ph = ar(ph,model.params)\n",
    "    ar_pred.append(ph)\n",
    "ar_pred = np.array(ar_pred)\n",
    "ar_pred"
   ]
  },
  {
   "cell_type": "code",
   "execution_count": 37,
   "metadata": {},
   "outputs": [
    {
     "data": {
      "text/plain": [
       "array([0.22913188, 0.22724362, 0.22539943, 0.22359805, 0.22183826,\n",
       "       0.2201189 , 0.21843884])"
      ]
     },
     "execution_count": 37,
     "metadata": {},
     "output_type": "execute_result"
    }
   ],
   "source": [
    "age_ar_predict = np.exp(a_x[index][0] + b_x[index]*ar_pred)\n",
    "age_ar_predict"
   ]
  },
  {
   "cell_type": "code",
   "execution_count": 38,
   "metadata": {},
   "outputs": [
    {
     "data": {
      "text/plain": [
       "<matplotlib.axes._subplots.AxesSubplot at 0x7f26f12d4588>"
      ]
     },
     "execution_count": 38,
     "metadata": {},
     "output_type": "execute_result"
    },
    {
     "data": {
      "image/png": "[encoded data removed]",
      "text/plain": [
       "<Figure size 432x288 with 1 Axes>"
      ]
     },
     "metadata": {
      "needs_background": "light"
     },
     "output_type": "display_data"
    }
   ],
   "source": [
    "sns.lineplot(np.arange(min(year),min(year)+span+7+1),np.concatenate([rate[:,index],age_ar_predict]))\n",
    "sns.lineplot(np.arange(min(year),min(year)+span+7+1),np.concatenate([rate[:,index],df_test[df_test[\"age\"]==age].rate.to_numpy()]))"
   ]
  }
 ],
 "metadata": {
  "kernelspec": {
   "display_name": "Python 3",
   "language": "python",
   "name": "python3"
  },
  "language_info": {
   "codemirror_mode": {
    "name": "ipython",
    "version": 3
   },
   "file_extension": ".py",
   "mimetype": "text/x-python",
   "name": "python",
   "nbconvert_exporter": "python",
   "pygments_lexer": "ipython3",
   "version": "3.6.9"
  }
 },
 "nbformat": 4,
 "nbformat_minor": 4
}
