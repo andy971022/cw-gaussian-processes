{
 "cells": [
  {
   "cell_type": "code",
   "execution_count": null,
   "metadata": {},
   "outputs": [],
   "source": []
  },
  {
   "cell_type": "code",
   "execution_count": null,
   "metadata": {},
   "outputs": [],
   "source": []
  },
  {
   "cell_type": "code",
   "execution_count": 1,
   "metadata": {},
   "outputs": [
    {
     "name": "stdout",
     "output_type": "stream",
     "text": [
      "\n",
      "Name : GP regression\n",
      "Objective : -328.11399253173914\n",
      "Number of Parameters : 3\n",
      "Number of Optimization Parameters : 3\n",
      "Updates : True\n",
      "Parameters:\n",
      "  \u001b[1mGP_regression.         \u001b[0;0m  |                   value  |  constraints  |  priors\n",
      "  \u001b[1mrbf.variance           \u001b[0;0m  |  5.0870266525547854e-05  |      +ve      |        \n",
      "  \u001b[1mrbf.lengthscale        \u001b[0;0m  |       8.034301651251498  |      +ve      |        \n",
      "  \u001b[1mGaussian_noise.variance\u001b[0;0m  |  2.5670891828876565e-08  |      +ve      |        \n"
     ]
    },
    {
     "data": {
      "text/plain": [
       "<Figure size 640x480 with 1 Axes>"
      ]
     },
     "metadata": {},
     "output_type": "display_data"
    }
   ],
   "source": [
    "import GPy\n",
    "from cwgp.cwgp import CWGP\n",
    "import numpy as np\n",
    "import matplotlib.pyplot as plt\n",
    "import pandas as pd\n",
    "from pandas import Series, DataFrame\n",
    "import seaborn as sns\n",
    "\n",
    "\n",
    "kernel = GPy.kern.RBF(1)\n",
    "\n",
    "for i in range(50, 51, 1):\n",
    "\n",
    "    d = pd.read_csv('japan3.csv')\n",
    "    t = d[(d.age <= 80) & (d.year >= 1950) & (d.year <= 2000)]\n",
    "\n",
    "    model = GPy.models.GPRegression(t[t['age'] == i].year[:, None], t[t['age'] == i].rate[:, None], kernel=kernel)\n",
    "    model.optimize()\n",
    "    print(model)\n",
    "    model.plot(plot_limits=[1940,2030])\n",
    "\n",
    "    plt.scatter(d[d['age'] == i].year[:, None], d[d['age'] == i].rate[:, None], marker=\"x\", color='black')\n",
    "\n",
    "    plt.title('Age ' + str(i))\n",
    "    plt.ylim([0,0.02])\n",
    "    plt.xlabel('Year')\n",
    "    plt.ylabel('Mortality Rate')\n",
    "  \n",
    "    plt.grid(True)\n",
    "    plt.show()\n",
    "\n",
    "## prediction\n",
    "x_pred = np.linspace(-10, 10, 100)\n",
    "x_pred = x_pred[:, None]\n",
    "y_qua_pred = model.predict_quantiles(x_pred, quantiles=(2.5, 50, 97.5))[0]\n",
    "\n"
   ]
  },
  {
   "cell_type": "code",
   "execution_count": 2,
   "metadata": {},
   "outputs": [
    {
     "name": "stderr",
     "output_type": "stream",
     "text": [
      " /opt/anaconda3/lib/python3.7/site-packages/autograd/tracer.py:48: RuntimeWarning:divide by zero encountered in log\n",
      " /opt/anaconda3/lib/python3.7/site-packages/scipy/optimize/_numdiff.py:557: RuntimeWarning:invalid value encountered in subtract\n",
      " /opt/anaconda3/lib/python3.7/site-packages/numpy/linalg/linalg.py:2125: RuntimeWarning:invalid value encountered in det\n",
      " /opt/anaconda3/lib/python3.7/site-packages/scipy/optimize/_numdiff.py:450: RuntimeWarning:invalid value encountered in less\n",
      " /opt/anaconda3/lib/python3.7/site-packages/scipy/optimize/_numdiff.py:450: RuntimeWarning:invalid value encountered in greater\n",
      " /opt/anaconda3/lib/python3.7/site-packages/scipy/optimize/_numdiff.py:465: RuntimeWarning:invalid value encountered in greater_equal\n"
     ]
    }
   ],
   "source": [
    "a= CWGP(\"sa\",t[t['age'] == i].rate[:, None],transformations=4)\n",
    "model_c = a.fit()"
   ]
  },
  {
   "cell_type": "code",
   "execution_count": 3,
   "metadata": {},
   "outputs": [
    {
     "data": {
      "text/plain": [
       "array([ 5.558571  ,  0.12029731,  4.51424942, -0.58029201,  4.52008498,\n",
       "       -0.64241223,  4.06008673, -0.49705088])"
      ]
     },
     "execution_count": 3,
     "metadata": {},
     "output_type": "execute_result"
    }
   ],
   "source": [
    "model_c.x"
   ]
  },
  {
   "cell_type": "code",
   "execution_count": 4,
   "metadata": {},
   "outputs": [
    {
     "data": {
      "text/plain": [
       "<matplotlib.axes._subplots.AxesSubplot at 0x7fa02ffb4290>"
      ]
     },
     "execution_count": 4,
     "metadata": {},
     "output_type": "execute_result"
    },
    {
     "data": {
      "image/png": "[encoded data removed]",
      "text/plain": [
       "<Figure size 432x288 with 1 Axes>"
      ]
     },
     "metadata": {
      "needs_background": "light"
     },
     "output_type": "display_data"
    }
   ],
   "source": [
    "sns.distplot(t[t['age'] == 50].rate[:, None])"
   ]
  },
  {
   "cell_type": "code",
   "execution_count": 5,
   "metadata": {},
   "outputs": [],
   "source": [
    "transformed_mort, d = a.phi.comp_phi(model_c.x)"
   ]
  },
  {
   "cell_type": "code",
   "execution_count": 6,
   "metadata": {},
   "outputs": [
    {
     "data": {
      "text/plain": [
       "<matplotlib.axes._subplots.AxesSubplot at 0x7fa0308c1e90>"
      ]
     },
     "execution_count": 6,
     "metadata": {},
     "output_type": "execute_result"
    },
    {
     "data": {
      "image/png": "[encoded data removed]",
      "text/plain": [
       "<Figure size 432x288 with 1 Axes>"
      ]
     },
     "metadata": {
      "needs_background": "light"
     },
     "output_type": "display_data"
    }
   ],
   "source": [
    "sns.distplot(transformed_mort)"
   ]
  },
  {
   "cell_type": "code",
   "execution_count": 7,
   "metadata": {},
   "outputs": [
    {
     "name": "stdout",
     "output_type": "stream",
     "text": [
      "\n",
      "Name : GP regression\n",
      "Objective : 11.633967341405633\n",
      "Number of Parameters : 3\n",
      "Number of Optimization Parameters : 3\n",
      "Updates : True\n",
      "Parameters:\n",
      "  \u001b[1mGP_regression.         \u001b[0;0m  |                 value  |  constraints  |  priors\n",
      "  \u001b[1mrbf.variance           \u001b[0;0m  |     6.044664456458615  |      +ve      |        \n",
      "  \u001b[1mrbf.lengthscale        \u001b[0;0m  |     6.813326542870792  |      +ve      |        \n",
      "  \u001b[1mGaussian_noise.variance\u001b[0;0m  |  0.028400563837888127  |      +ve      |        \n"
     ]
    },
    {
     "data": {
      "image/png": "[encoded data removed]",
      "text/plain": [
       "<Figure size 432x288 with 1 Axes>"
      ]
     },
     "metadata": {
      "needs_background": "light"
     },
     "output_type": "display_data"
    }
   ],
   "source": [
    "kernel = GPy.kern.RBF(1)\n",
    "\n",
    "for i in range(50, 51, 1):\n",
    "\n",
    "    d = pd.read_csv('japan3.csv')\n",
    "    t = d[(d.age <= 80) & (d.year >= 1950) & (d.year <= 2000)]\n",
    "\n",
    "    model_cwgp = GPy.models.GPRegression(t[t['age'] == i].year[:, None], transformed_mort, kernel=kernel)\n",
    "    model_cwgp.optimize()\n",
    "    print(model_cwgp)\n",
    "    model_cwgp.plot(plot_limits=[1940,2030])\n",
    "\n",
    "    plt.title('Age ' + str(i))\n",
    "    plt.xlabel('Year')\n",
    "    plt.ylabel('Mortality Rate')\n",
    "  \n",
    "    plt.grid(True)\n",
    "    plt.show()"
   ]
  },
  {
   "cell_type": "code",
   "execution_count": 8,
   "metadata": {},
   "outputs": [
    {
     "data": {
      "text/plain": [
       "array([[[ 4.19916270e+00,  4.09298903e+00]],\n",
       "\n",
       "       [[ 4.61965526e+00,  3.46701224e+00]],\n",
       "\n",
       "       [[ 4.92410633e+00,  2.79585040e+00]],\n",
       "\n",
       "       [[ 5.07908411e+00,  2.12769173e+00]],\n",
       "\n",
       "       [[ 5.06273699e+00,  1.51349905e+00]],\n",
       "\n",
       "       [[ 4.86927533e+00,  9.95923852e-01]],\n",
       "\n",
       "       [[ 4.51139724e+00,  5.99922570e-01]],\n",
       "\n",
       "       [[ 4.01987509e+00,  3.28507283e-01]],\n",
       "\n",
       "       [[ 3.44002541e+00,  1.65128252e-01]],\n",
       "\n",
       "       [[ 2.82543904e+00,  8.14218035e-02]],\n",
       "\n",
       "       [[ 2.23000069e+00,  4.68947925e-02]],\n",
       "\n",
       "       [[ 1.69970144e+00,  3.67104853e-02]],\n",
       "\n",
       "       [[ 1.26589828e+00,  3.52154765e-02]],\n",
       "\n",
       "       [[ 9.41428684e-01,  3.52152857e-02]],\n",
       "\n",
       "       [[ 7.20381694e-01,  3.48512410e-02]],\n",
       "\n",
       "       [[ 5.81499298e-01,  3.43563767e-02]],\n",
       "\n",
       "       [[ 4.94345075e-01,  3.41014967e-02]],\n",
       "\n",
       "       [[ 4.26752324e-01,  3.40650461e-02]],\n",
       "\n",
       "       [[ 3.51817752e-01,  3.40560150e-02]],\n",
       "\n",
       "       [[ 2.52899390e-01,  3.39839748e-02]],\n",
       "\n",
       "       [[ 1.25646029e-01,  3.38906907e-02]],\n",
       "\n",
       "       [[-2.31349464e-02,  3.38372939e-02]],\n",
       "\n",
       "       [[-1.79188108e-01,  3.38276763e-02]],\n",
       "\n",
       "       [[-3.25941990e-01,  3.38263810e-02]],\n",
       "\n",
       "       [[-4.49663384e-01,  3.38101010e-02]],\n",
       "\n",
       "       [[-5.43353589e-01,  3.37855402e-02]],\n",
       "\n",
       "       [[-6.08520761e-01,  3.37691377e-02]],\n",
       "\n",
       "       [[-6.54542456e-01,  3.37650615e-02]],\n",
       "\n",
       "       [[-6.95926738e-01,  3.37650322e-02]],\n",
       "\n",
       "       [[-7.48256324e-01,  3.37615011e-02]],\n",
       "\n",
       "       [[-8.23869785e-01,  3.37549841e-02]],\n",
       "\n",
       "       [[-9.28360344e-01,  3.37499810e-02]],\n",
       "\n",
       "       [[-1.05876709e+00,  3.37483448e-02]],\n",
       "\n",
       "       [[-1.20394279e+00,  3.37483700e-02]],\n",
       "\n",
       "       [[-1.34708235e+00,  3.37482705e-02]],\n",
       "\n",
       "       [[-1.46988180e+00,  3.37480887e-02]],\n",
       "\n",
       "       [[-1.55737614e+00,  3.37482705e-02]],\n",
       "\n",
       "       [[-1.60227852e+00,  3.37483700e-02]],\n",
       "\n",
       "       [[-1.60768612e+00,  3.37483448e-02]],\n",
       "\n",
       "       [[-1.58735068e+00,  3.37499810e-02]],\n",
       "\n",
       "       [[-1.56327960e+00,  3.37549841e-02]],\n",
       "\n",
       "       [[-1.56110818e+00,  3.37615011e-02]],\n",
       "\n",
       "       [[-1.60429135e+00,  3.37650322e-02]],\n",
       "\n",
       "       [[-1.70852544e+00,  3.37650615e-02]],\n",
       "\n",
       "       [[-1.87780882e+00,  3.37691377e-02]],\n",
       "\n",
       "       [[-2.10316383e+00,  3.37855402e-02]],\n",
       "\n",
       "       [[-2.36436621e+00,  3.38101010e-02]],\n",
       "\n",
       "       [[-2.63424984e+00,  3.38263810e-02]],\n",
       "\n",
       "       [[-2.88449555e+00,  3.38276763e-02]],\n",
       "\n",
       "       [[-3.09146057e+00,  3.38372939e-02]],\n",
       "\n",
       "       [[-3.24065227e+00,  3.38906907e-02]],\n",
       "\n",
       "       [[-3.32886711e+00,  3.39839748e-02]],\n",
       "\n",
       "       [[-3.36366479e+00,  3.40560150e-02]],\n",
       "\n",
       "       [[-3.36053123e+00,  3.40650461e-02]],\n",
       "\n",
       "       [[-3.33861055e+00,  3.41014967e-02]],\n",
       "\n",
       "       [[-3.31612946e+00,  3.43563767e-02]],\n",
       "\n",
       "       [[-3.30656658e+00,  3.48512410e-02]],\n",
       "\n",
       "       [[-3.31629784e+00,  3.52152857e-02]],\n",
       "\n",
       "       [[-3.34400145e+00,  3.52154765e-02]],\n",
       "\n",
       "       [[-3.38167010e+00,  3.67104853e-02]],\n",
       "\n",
       "       [[-3.41676281e+00,  4.68947925e-02]],\n",
       "\n",
       "       [[-3.43488627e+00,  8.14218035e-02]],\n",
       "\n",
       "       [[-3.42242019e+00,  1.65128252e-01]],\n",
       "\n",
       "       [[-3.36864363e+00,  3.28507283e-01]],\n",
       "\n",
       "       [[-3.26711403e+00,  5.99922570e-01]],\n",
       "\n",
       "       [[-3.11623778e+00,  9.95923852e-01]],\n",
       "\n",
       "       [[-2.91911342e+00,  1.51349905e+00]],\n",
       "\n",
       "       [[-2.68281303e+00,  2.12769173e+00]],\n",
       "\n",
       "       [[-2.41730002e+00,  2.79585040e+00]],\n",
       "\n",
       "       [[-2.13417789e+00,  3.46701224e+00]],\n",
       "\n",
       "       [[-1.84544012e+00,  4.09298903e+00]],\n",
       "\n",
       "       [[-1.56235734e+00,  4.63746169e+00]],\n",
       "\n",
       "       [[-1.29459945e+00,  5.08067654e+00]],\n",
       "\n",
       "       [[-1.04965014e+00,  5.41930916e+00]],\n",
       "\n",
       "       [[-8.32530847e-01,  5.66273263e+00]],\n",
       "\n",
       "       [[-6.45813436e-01,  5.82769747e+00]],\n",
       "\n",
       "       [[-4.89869708e-01,  5.93327201e+00]],\n",
       "\n",
       "       [[-3.63285391e-01,  5.99717225e+00]],\n",
       "\n",
       "       [[-2.63358471e-01,  6.03379663e+00]],\n",
       "\n",
       "       [[-1.86606845e-01,  6.05369602e+00]],\n",
       "\n",
       "       [[-1.29225394e-01,  6.06395555e+00]],\n",
       "\n",
       "       [[-8.74534095e-02,  6.06897897e+00]],\n",
       "\n",
       "       [[-5.78350878e-02,  6.07131662e+00]],\n",
       "\n",
       "       [[-3.73746145e-02,  6.07235117e+00]],\n",
       "\n",
       "       [[-2.36006725e-02,  6.07278686e+00]],\n",
       "\n",
       "       [[-1.45623637e-02,  6.07296155e+00]],\n",
       "\n",
       "       [[-8.78014502e-03,  6.07302827e+00]],\n",
       "\n",
       "       [[-5.17297587e-03,  6.07305256e+00]],\n",
       "\n",
       "       [[-2.97822986e-03,  6.07306098e+00]],\n",
       "\n",
       "       [[-1.67559007e-03,  6.07306377e+00]]])"
      ]
     },
     "execution_count": 8,
     "metadata": {},
     "output_type": "execute_result"
    }
   ],
   "source": [
    "data = []\n",
    "for i in range(1940,2030):\n",
    "    data.append(model_cwgp.predict(np.array(i).reshape(1,-1)))\n",
    "tr_data = np.array(data).reshape(-1,1,2)\n",
    "tr_data"
   ]
  },
  {
   "cell_type": "code",
   "execution_count": 9,
   "metadata": {},
   "outputs": [],
   "source": [
    "CI=1.96\n",
    "mean = tr_data[:,:,0]\n",
    "var_upper= mean + CI*tr_data[:,:,1]\n",
    "var_lower= mean - CI*tr_data[:,:,1]"
   ]
  },
  {
   "cell_type": "code",
   "execution_count": 10,
   "metadata": {
    "scrolled": false
   },
   "outputs": [],
   "source": [
    "predict_mean = a.phi.inv_comp_phi(model_c.x,mean)\n",
    "predict_var_upper = a.phi.inv_comp_phi(model_c.x,var_upper)\n",
    "predict_var_lower = a.phi.inv_comp_phi(model_c.x,var_lower)"
   ]
  },
  {
   "cell_type": "code",
   "execution_count": 11,
   "metadata": {},
   "outputs": [
    {
     "data": {
      "text/plain": [
       "(90,)"
      ]
     },
     "execution_count": 11,
     "metadata": {},
     "output_type": "execute_result"
    }
   ],
   "source": [
    "np.ravel(predict_var_upper).shape"
   ]
  },
  {
   "cell_type": "code",
   "execution_count": 12,
   "metadata": {
    "scrolled": true
   },
   "outputs": [
    {
     "data": {
      "text/plain": [
       "[<matplotlib.lines.Line2D at 0x7fa02b273fd0>]"
      ]
     },
     "execution_count": 12,
     "metadata": {},
     "output_type": "execute_result"
    },
    {
     "data": {
      "image/png": "[encoded data removed]",
      "text/plain": [
       "<Figure size 432x288 with 1 Axes>"
      ]
     },
     "metadata": {
      "needs_background": "light"
     },
     "output_type": "display_data"
    }
   ],
   "source": [
    "plt.fill_between(np.linspace(1940,2029,90),np.ravel(predict_var_upper),np.ravel(predict_var_lower),color=(0,0.5,0.5,0.2))\n",
    "plt.scatter(d[d['age'] == 50].year[:, None], d[d['age'] == 50].rate[:, None], marker=\"x\", color='black')\n",
    "plt.ylim([0,0.02])\n",
    "plt.plot(np.linspace(1940,2029,90),predict_mean)\n"
   ]
  },
  {
   "cell_type": "code",
   "execution_count": null,
   "metadata": {},
   "outputs": [],
   "source": []
  }
 ],
 "metadata": {
  "kernelspec": {
   "display_name": "Python 3",
   "language": "python",
   "name": "python3"
  },
  "language_info": {
   "codemirror_mode": {
    "name": "ipython",
    "version": 3
   },
   "file_extension": ".py",
   "mimetype": "text/x-python",
   "name": "python",
   "nbconvert_exporter": "python",
   "pygments_lexer": "ipython3",
   "version": "3.6.9"
  }
 },
 "nbformat": 4,
 "nbformat_minor": 2
}
