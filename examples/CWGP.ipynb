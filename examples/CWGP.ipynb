{
 "cells": [
  {
   "cell_type": "code",
   "execution_count": 1,
   "metadata": {},
   "outputs": [
    {
     "name": "stderr",
     "output_type": "stream",
     "text": [
      "Warning message:\n",
      "“package ‘Deriv’ was built under R version 3.6.3”"
     ]
    }
   ],
   "source": [
    "library(Deriv)"
   ]
  },
  {
   "cell_type": "code",
   "execution_count": 2,
   "metadata": {},
   "outputs": [],
   "source": [
    "set.seed(2020)"
   ]
  },
  {
   "cell_type": "code",
   "execution_count": 3,
   "metadata": {},
   "outputs": [],
   "source": [
    "n <- 100\n",
    "betas <- matrix(rbeta(n,5,1))"
   ]
  },
  {
   "cell_type": "code",
   "execution_count": 4,
   "metadata": {},
   "outputs": [
    {
     "data": {
      "text/html": [
       "<ol class=list-inline>\n",
       "\t<li>0.901578759228587</li>\n",
       "\t<li>0.89018497733774</li>\n",
       "\t<li>0.44061829068335</li>\n",
       "\t<li>0.941940376816362</li>\n",
       "\t<li>0.959617207283964</li>\n",
       "</ol>\n"
      ],
      "text/latex": [
       "\\begin{enumerate*}\n",
       "\\item 0.901578759228587\n",
       "\\item 0.89018497733774\n",
       "\\item 0.44061829068335\n",
       "\\item 0.941940376816362\n",
       "\\item 0.959617207283964\n",
       "\\end{enumerate*}\n"
      ],
      "text/markdown": [
       "1. 0.901578759228587\n",
       "2. 0.89018497733774\n",
       "3. 0.44061829068335\n",
       "4. 0.941940376816362\n",
       "5. 0.959617207283964\n",
       "\n",
       "\n"
      ],
      "text/plain": [
       "[1] 0.9015788 0.8901850 0.4406183 0.9419404 0.9596172"
      ]
     },
     "metadata": {},
     "output_type": "display_data"
    }
   ],
   "source": [
    "betas[1:5]"
   ]
  },
  {
   "cell_type": "code",
   "execution_count": 5,
   "metadata": {},
   "outputs": [
    {
     "data": {
      "image/png": "[encoded data removed]",
      "text/plain": [
       "Plot with title “Histogram of betas”"
      ]
     },
     "metadata": {},
     "output_type": "display_data"
    }
   ],
   "source": [
    "hist(betas)"
   ]
  },
  {
   "cell_type": "code",
   "execution_count": 6,
   "metadata": {},
   "outputs": [
    {
     "data": {
      "text/html": [
       "<ol class=list-inline>\n",
       "\t<li>100</li>\n",
       "\t<li>1</li>\n",
       "</ol>\n"
      ],
      "text/latex": [
       "\\begin{enumerate*}\n",
       "\\item 100\n",
       "\\item 1\n",
       "\\end{enumerate*}\n"
      ],
      "text/markdown": [
       "1. 100\n",
       "2. 1\n",
       "\n",
       "\n"
      ],
      "text/plain": [
       "[1] 100   1"
      ]
     },
     "metadata": {},
     "output_type": "display_data"
    }
   ],
   "source": [
    "dim(betas)"
   ]
  },
  {
   "cell_type": "code",
   "execution_count": 7,
   "metadata": {},
   "outputs": [],
   "source": [
    "sal <- function(a,b,c,d){\n",
    "    a + b*sinh(c*asinh(betas) + d)\n",
    "    }\n",
    "# sal = expression(a + b*sinh(c*asinh(y)+d))"
   ]
  },
  {
   "cell_type": "code",
   "execution_count": 8,
   "metadata": {},
   "outputs": [],
   "source": [
    "drule[[\"asinh\"]] <- alist(x=1/sqrt(x^2+1))\n",
    "\n",
    "d_sal = Deriv(sal,\"y\")"
   ]
  },
  {
   "cell_type": "code",
   "execution_count": 10,
   "metadata": {},
   "outputs": [
    {
     "ename": "ERROR",
     "evalue": "Error in t(phi_y - mu_x) %*% solve(cov_xx): non-conformable arguments\n",
     "output_type": "error",
     "traceback": [
      "Error in t(phi_y - mu_x) %*% solve(cov_xx): non-conformable arguments\nTraceback:\n"
     ]
    }
   ],
   "source": [
    "phi_y <- sal(1,1,1,1)\n",
    "mu_x <- mean(phi_y)\n",
    "cov_xx <- cov(phi_y,phi_y)\n",
    "    \n",
    "gaussian_params <- 0.5* t(phi_y-mu_x) %*% solve(cov_xx) %*% (phi_y-mu_x)"
   ]
  },
  {
   "cell_type": "code",
   "execution_count": null,
   "metadata": {},
   "outputs": [],
   "source": [
    "dim(solve(cov_xx))"
   ]
  },
  {
   "cell_type": "code",
   "execution_count": null,
   "metadata": {},
   "outputs": [],
   "source": [
    "# negative log likelihood function\n",
    "# https://stackoverflow.com/questions/20479315/optim-function-argument-missing\n",
    "# x = phi_y\n",
    "nllf <- function(v){\n",
    "    a <- v[1]\n",
    "    b <- v[2]\n",
    "    c <- v[3]\n",
    "    d <- v[4]\n",
    "    \n",
    "    phi_y <- sal(a,b,c,d)\n",
    "    mu_x <- mean(phi_y)\n",
    "    cov_xx <- cov(phi_y,phi_y)\n",
    "    \n",
    "    gaussian_params <- 0.5* t(phi_y-mu_x) %*% solve(cov_xx) %*% (phi_y-mu_x)\n",
    "    return(0.5*log(det(cov_xx)) + gaussian_params-sum(log(d_sal(a,b,c,d))))\n",
    "    }\n"
   ]
  },
  {
   "cell_type": "code",
   "execution_count": null,
   "metadata": {},
   "outputs": [],
   "source": [
    "d_sal"
   ]
  },
  {
   "cell_type": "code",
   "execution_count": null,
   "metadata": {},
   "outputs": [],
   "source": [
    "#log likelihood\n",
    "# L = -1/2log|C|-1/2(y-\\mu)C^{-1}(y-\\mu)+\\sum log \\partial \\phi(yi)/\\partial yi - N/2 log2\\pi"
   ]
  },
  {
   "cell_type": "code",
   "execution_count": null,
   "metadata": {},
   "outputs": [],
   "source": [
    "o = optim(par=c(0.5,0.5,0.5,0.5),fn=nllf,)\n",
    "o"
   ]
  },
  {
   "cell_type": "code",
   "execution_count": null,
   "metadata": {},
   "outputs": [],
   "source": [
    "par = o$par"
   ]
  },
  {
   "cell_type": "code",
   "execution_count": null,
   "metadata": {},
   "outputs": [],
   "source": [
    "hist(sal(par[1],par[2],par[3],par[4],betas))"
   ]
  }
 ],
 "metadata": {
  "kernelspec": {
   "display_name": "R",
   "language": "R",
   "name": "ir"
  },
  "language_info": {
   "codemirror_mode": "r",
   "file_extension": ".r",
   "mimetype": "text/x-r-source",
   "name": "R",
   "pygments_lexer": "r",
   "version": "3.6.1"
  }
 },
 "nbformat": 4,
 "nbformat_minor": 4
}
