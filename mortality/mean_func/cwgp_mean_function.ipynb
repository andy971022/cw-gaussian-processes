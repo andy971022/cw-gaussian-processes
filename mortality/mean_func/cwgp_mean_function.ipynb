{
 "cells": [
  {
   "cell_type": "code",
   "execution_count": 1,
   "metadata": {},
   "outputs": [],
   "source": [
    "import itertools\n",
    "from cwgp.grid_search import grid_search\n",
    "import pandas as pd\n",
    "import numpy as np\n",
    "import seaborn as sns\n",
    "import matplotlib.pyplot as plt\n",
    "import copy\n",
    "import GPy\n",
    "from sklearn.metrics import mean_absolute_error, mean_squared_error\n",
    "import os\n",
    "import scipy"
   ]
  },
  {
   "cell_type": "code",
   "execution_count": 2,
   "metadata": {},
   "outputs": [],
   "source": [
    "import warnings\n",
    "warnings.filterwarnings('ignore')"
   ]
  },
  {
   "cell_type": "code",
   "execution_count": 3,
   "metadata": {},
   "outputs": [],
   "source": [
    "def exp(x, *par):\n",
    "    return par[0]*np.exp(par[1]*x)"
   ]
  },
  {
   "cell_type": "code",
   "execution_count": 4,
   "metadata": {},
   "outputs": [],
   "source": [
    "def poly(x, *par):\n",
    "    return np.polyval(par,x)"
   ]
  },
  {
   "cell_type": "code",
   "execution_count": 5,
   "metadata": {},
   "outputs": [],
   "source": [
    "def log(x, *par):\n",
    "    return par[0]*np.log(x)"
   ]
  },
  {
   "cell_type": "code",
   "execution_count": 6,
   "metadata": {},
   "outputs": [],
   "source": [
    "def const(x, *par):\n",
    "    return 0"
   ]
  },
  {
   "cell_type": "code",
   "execution_count": 7,
   "metadata": {},
   "outputs": [],
   "source": [
    "def cwgp_regression(x_train, y_train, cwgp_model, **kwargs):\n",
    "    kernel = GPy.kern.RBF(1)\n",
    "\n",
    "\n",
    "    res = scipy.optimize.curve_fit(poly,  np.ravel(x_train), np.ravel(y_train), p0=(-1,-1), maxfev=3000)\n",
    "    par = res[0]\n",
    "    print(f\"params:{par}\")\n",
    "    mf = GPy.core.Mapping(1,1)\n",
    "    mf.f = lambda x: poly(x, *par)\n",
    "    mf.update_gradients = lambda a,b: None\n",
    "\n",
    "\n",
    "    model = GPy.models.GPRegression(x_train, y_train, mean_function=mf, kernel=kernel)\n",
    "    model.optimize()\n",
    "\n",
    "    \n",
    "    start, end = 1940, 2031\n",
    "    start_align = np.min(x_train)-start\n",
    "    domain_discrete = np.arange(start, end).reshape(-1,1)\n",
    "    y_all = model.predict(domain_discrete)\n",
    "    y_mean,y_var = y_all[0],y_all[1]\n",
    "    y_top, y_bot = y_mean + 1.96*np.sqrt(y_var), y_mean - 1.96*np.sqrt(y_var)\n",
    "\n",
    "    for cwgp in cwgp_model[::-1]:\n",
    "        y_train = cwgp.phi.inv_comp_phi(cwgp.phi.res.x, y_train)\n",
    "        y_mean, y_var = cwgp.phi.inv_comp_phi(cwgp.phi.res.x, y_mean), cwgp.phi.inv_comp_phi(cwgp.phi.res.x, y_var)\n",
    "        y_top, y_bot = cwgp.phi.inv_comp_phi(cwgp.phi.res.x, y_top), cwgp.phi.inv_comp_phi(cwgp.phi.res.x, y_bot)\n",
    "\n",
    "\n",
    "    validate_rmse = mean_squared_error(y_val, y_mean[train_up+start_align:train_up+start_align+validate], squared=False)\n",
    "    validate_mae = mean_absolute_error(y_val, y_mean[train_up+start_align:train_up+start_align+validate])\n",
    "    test_rmse = mean_squared_error(y_test, y_mean[train_up+start_align+validate:train_up+start_align+validate+test], squared=False)\n",
    "    test_mae = mean_absolute_error(y_test, y_mean[train_up+start_align+validate:train_up+start_align+validate+test])\n",
    "    txt = f\"\"\"validate rmse : {validate_rmse} \\n validate mae : {validate_mae} \\n\n",
    "    test rmse : {test_rmse} \\n test mae : {test_mae}\"\"\"\n",
    "\n",
    "    \n",
    "    if validate_rmse < 0.002:\n",
    "        name = [f\"{cwgp.phi.fn.__name__}_{cwgp.phi.n}\" for cwgp in cwgp_model]\n",
    "        name = \"_\".join(name)\n",
    "        domain = np.linspace(1940,2030,91)\n",
    "        plt.fill_between(domain, np.ravel(y_top), np.ravel(y_bot), color=(0,0.5,0.5,0.2), label=\"Confidence\")\n",
    "        plt.scatter(x_train,y_train, marker=\"x\", color='black', label=\"data\")\n",
    "        plt.scatter(x_val,y_val, marker=\"x\", color='red', label=\"validate\")\n",
    "        plt.scatter(x_test, y_test, marker=\"x\", color='blue', label=\"test\")\n",
    "        plt.plot(np.linspace(1940,2030,91),y_mean, label=\"mean\")\n",
    "        plt.ylim([0.1,0.35])\n",
    "        plt.legend()\n",
    "        plt.figtext(0.5, 0.2, txt, wrap=True, horizontalalignment='center', fontsize=12)\n",
    "        plt.grid(True)\n",
    "        plt.show()\n",
    "\n",
    "\n",
    "\n",
    "    print(txt)\n",
    "    return txt"
   ]
  },
  {
   "cell_type": "code",
   "execution_count": 8,
   "metadata": {},
   "outputs": [],
   "source": [
    "CSV_FIlE = \"../japan3.csv\"\n",
    "df = pd.read_csv(CSV_FIlE)\n",
    "age = 90\n",
    "df_all = {}\n",
    "df_all[age]= df[(df[\"age\"]==age)]\n",
    "\n",
    "year = df_all[age][\"year\"].to_numpy().reshape(-1,1)\n",
    "rate = df_all[age][\"rate\"].to_numpy().reshape(-1,1)\n"
   ]
  },
  {
   "cell_type": "code",
   "execution_count": 9,
   "metadata": {},
   "outputs": [],
   "source": [
    "train_ratio, validate_ratio, test_ratio = 0.8, 0.1, 0.1\n",
    "length = len(rate)\n",
    "\n",
    "train, validate, test = int(train_ratio*length), int(validate_ratio*length), int(test_ratio*length)\n",
    "train_up, train_low = train, train-train"
   ]
  },
  {
   "cell_type": "code",
   "execution_count": 10,
   "metadata": {},
   "outputs": [],
   "source": [
    "x_train, y_train = year[train_low:train_up],rate[train_low:train_up]\n",
    "x_val, y_val = year[train_up:train_up+validate],rate[train_up:train_up+validate]\n",
    "x_test, y_test = year[train_up+validate:],rate[train_up+validate:]"
   ]
  },
  {
   "cell_type": "code",
   "execution_count": null,
   "metadata": {},
   "outputs": [
    {
     "name": "stderr",
     "output_type": "stream",
     "text": [
      "\r",
      "  0%|          | 0/1296 [00:00<?, ?it/s]"
     ]
    },
    {
     "name": "stdout",
     "output_type": "stream",
     "text": [
      "[('sa', 1), ('sa', 2), ('sal', 1), ('sal', 2), ('box_cox', 1), ('box_cox', 2)]\n",
      "(('sa', 1), ('sa', 1), ('sa', 1), ('sa', 1))\n"
     ]
    },
    {
     "name": "stderr",
     "output_type": "stream",
     "text": [
      "\r",
      "  0%|          | 1/1296 [00:00<11:33,  1.87it/s]"
     ]
    },
    {
     "name": "stdout",
     "output_type": "stream",
     "text": [
      "params:[-8.20155454e-02  1.61944511e+02]\n",
      "validate rmse : 0.006237246834713726 \n",
      " validate mae : 0.005922953096292629 \n",
      "\n",
      "    test rmse : 0.005587769474788027 \n",
      " test mae : 0.004666267526493557\n",
      "(('sa', 1), ('sa', 1), ('sa', 1), ('sa', 2))\n"
     ]
    },
    {
     "name": "stderr",
     "output_type": "stream",
     "text": [
      "\r",
      "  0%|          | 2/1296 [00:01<12:14,  1.76it/s]"
     ]
    },
    {
     "name": "stdout",
     "output_type": "stream",
     "text": [
      "params:[-8.20155153e-02  1.61944452e+02]\n",
      "validate rmse : 0.006237248572716559 \n",
      " validate mae : 0.005922955025724268 \n",
      "\n",
      "    test rmse : 0.005587767216888224 \n",
      " test mae : 0.004666265947204128\n",
      "(('sa', 1), ('sa', 1), ('sa', 1), ('sal', 1))\n"
     ]
    },
    {
     "name": "stderr",
     "output_type": "stream",
     "text": [
      "\r",
      "  0%|          | 3/1296 [00:03<25:20,  1.18s/it]"
     ]
    },
    {
     "name": "stdout",
     "output_type": "stream",
     "text": [
      "params:[-1.08152118e-01  2.13535565e+02]\n",
      "validate rmse : 0.003934435816131272 \n",
      " validate mae : 0.003449150573025409 \n",
      "\n",
      "    test rmse : 0.015027553307679943 \n",
      " test mae : 0.01490562501834942\n",
      "(('sa', 1), ('sa', 1), ('sa', 1), ('sal', 2))\n"
     ]
    },
    {
     "name": "stderr",
     "output_type": "stream",
     "text": [
      "\r",
      "  0%|          | 4/1296 [00:04<25:32,  1.19s/it]"
     ]
    },
    {
     "name": "stdout",
     "output_type": "stream",
     "text": [
      "params:[-7.98338855e-02  1.58690748e+02]\n",
      "validate rmse : 0.004656840367362329 \n",
      " validate mae : 0.004284263107492137 \n",
      "\n",
      "    test rmse : 0.0028573183270003185 \n",
      " test mae : 0.002146735963899427\n",
      "(('sa', 1), ('sa', 1), ('sa', 1), ('box_cox', 1))\n"
     ]
    },
    {
     "name": "stderr",
     "output_type": "stream",
     "text": [
      "\r",
      "  0%|          | 5/1296 [00:04<20:09,  1.07it/s]"
     ]
    },
    {
     "name": "stdout",
     "output_type": "stream",
     "text": [
      "params:[-8.61787207e-02  1.69067335e+02]\n",
      "validate rmse : 0.004816096187386926 \n",
      " validate mae : 0.004447021490066003 \n",
      "\n",
      "    test rmse : 0.0036430758713044417 \n",
      " test mae : 0.0032575915492717633\n",
      "(('sa', 1), ('sa', 1), ('sa', 1), ('box_cox', 2))\n"
     ]
    },
    {
     "name": "stderr",
     "output_type": "stream",
     "text": [
      "\r",
      "  0%|          | 6/1296 [00:05<18:11,  1.18it/s]"
     ]
    },
    {
     "name": "stdout",
     "output_type": "stream",
     "text": [
      "params:[-8.41239497e-02  1.63879233e+02]\n",
      "validate rmse : 0.006846459923839538 \n",
      " validate mae : 0.006618797708041797 \n",
      "\n",
      "    test rmse : 0.0032911068998083986 \n",
      " test mae : 0.0029081959412389185\n",
      "(('sa', 1), ('sa', 1), ('sa', 2), ('sa', 1))\n"
     ]
    },
    {
     "name": "stderr",
     "output_type": "stream",
     "text": [
      "\r",
      "  1%|          | 7/1296 [00:06<17:00,  1.26it/s]"
     ]
    },
    {
     "name": "stdout",
     "output_type": "stream",
     "text": [
      "params:[-8.20155384e-02  1.61944497e+02]\n",
      "validate rmse : 0.006237245479668995 \n",
      " validate mae : 0.005922951684588118 \n",
      "\n",
      "    test rmse : 0.005587768401798799 \n",
      " test mae : 0.004666266549538016\n",
      "(('sa', 1), ('sa', 1), ('sa', 2), ('sa', 2))\n"
     ]
    },
    {
     "name": "stderr",
     "output_type": "stream",
     "text": [
      "\r",
      "  1%|          | 8/1296 [00:06<17:26,  1.23it/s]"
     ]
    },
    {
     "name": "stdout",
     "output_type": "stream",
     "text": [
      "params:[-8.20155175e-02  1.61944456e+02]\n",
      "validate rmse : 0.0062372448154590565 \n",
      " validate mae : 0.005922951051470845 \n",
      "\n",
      "    test rmse : 0.005587766018668379 \n",
      " test mae : 0.00466626462578252\n",
      "(('sa', 1), ('sa', 1), ('sa', 2), ('sal', 1))\n"
     ]
    },
    {
     "name": "stderr",
     "output_type": "stream",
     "text": [
      "\r",
      "  1%|          | 9/1296 [00:08<25:28,  1.19s/it]"
     ]
    },
    {
     "name": "stdout",
     "output_type": "stream",
     "text": [
      "params:[-1.08262544e-01  2.13755767e+02]\n",
      "validate rmse : 0.003911008051609526 \n",
      " validate mae : 0.0034316142401221994 \n",
      "\n",
      "    test rmse : 0.014961100303531032 \n",
      " test mae : 0.014839065803025695\n",
      "(('sa', 1), ('sa', 1), ('sa', 2), ('sal', 2))\n",
      "params:[-1. -1.]\n"
     ]
    },
    {
     "name": "stderr",
     "output_type": "stream",
     "text": [
      "\r",
      "  1%|          | 10/1296 [00:30<2:43:20,  7.62s/it]"
     ]
    },
    {
     "name": "stdout",
     "output_type": "stream",
     "text": [
      "validate rmse : 0.02841459817068356 \n",
      " validate mae : 0.028227617294497725 \n",
      "\n",
      "    test rmse : 0.03276553662682801 \n",
      " test mae : 0.03246604213854782\n",
      "(('sa', 1), ('sa', 1), ('sa', 2), ('box_cox', 1))\n"
     ]
    },
    {
     "name": "stderr",
     "output_type": "stream",
     "text": [
      "\r",
      "  1%|          | 11/1296 [00:31<1:58:01,  5.51s/it]"
     ]
    },
    {
     "name": "stdout",
     "output_type": "stream",
     "text": [
      "params:[-8.61788429e-02  1.69067576e+02]\n",
      "validate rmse : 0.004816069333094828 \n",
      " validate mae : 0.0044469931260567265 \n",
      "\n",
      "    test rmse : 0.0036430406240172083 \n",
      " test mae : 0.00325756368199697\n",
      "(('sa', 1), ('sa', 1), ('sa', 2), ('box_cox', 2))\n"
     ]
    },
    {
     "name": "stderr",
     "output_type": "stream",
     "text": [
      "\r",
      "  1%|          | 12/1296 [00:32<1:27:19,  4.08s/it]"
     ]
    },
    {
     "name": "stdout",
     "output_type": "stream",
     "text": [
      "params:[-8.41239916e-02  1.63879316e+02]\n",
      "validate rmse : 0.006846400904826516 \n",
      " validate mae : 0.006618736652155439 \n",
      "\n",
      "    test rmse : 0.0032910442879004044 \n",
      " test mae : 0.002908152204460957\n",
      "(('sa', 1), ('sa', 1), ('sal', 1), ('sa', 1))\n"
     ]
    },
    {
     "name": "stderr",
     "output_type": "stream",
     "text": [
      "\r",
      "  1%|          | 13/1296 [00:34<1:12:51,  3.41s/it]"
     ]
    },
    {
     "name": "stdout",
     "output_type": "stream",
     "text": [
      "params:[-1.08355392e-01  2.13991764e+02]\n",
      "validate rmse : 0.00399258882407155 \n",
      " validate mae : 0.003489196957198614 \n",
      "\n",
      "    test rmse : 0.015136275468780469 \n",
      " test mae : 0.01501484328647955\n",
      "(('sa', 1), ('sa', 1), ('sal', 1), ('sa', 2))\n"
     ]
    },
    {
     "name": "stderr",
     "output_type": "stream",
     "text": [
      "\r",
      "  1%|          | 14/1296 [00:36<1:04:22,  3.01s/it]"
     ]
    },
    {
     "name": "stdout",
     "output_type": "stream",
     "text": [
      "params:[-1.08291927e-01  2.13849016e+02]\n",
      "validate rmse : 0.0041260629523449015 \n",
      " validate mae : 0.0035885484650758715 \n",
      "\n",
      "    test rmse : 0.015522205966860596 \n",
      " test mae : 0.015400970688904546\n",
      "(('sa', 1), ('sa', 1), ('sal', 1), ('sal', 1))\n"
     ]
    },
    {
     "name": "stderr",
     "output_type": "stream",
     "text": [
      "\r",
      "  1%|          | 15/1296 [00:38<55:59,  2.62s/it]  "
     ]
    },
    {
     "name": "stdout",
     "output_type": "stream",
     "text": [
      "params:[-1.06411226e-01  2.09984024e+02]\n",
      "validate rmse : 0.00416346864686594 \n",
      " validate mae : 0.0036099911321708566 \n",
      "\n",
      "    test rmse : 0.015628456056225582 \n",
      " test mae : 0.015506211815673033\n",
      "(('sa', 1), ('sa', 1), ('sal', 1), ('sal', 2))\n"
     ]
    },
    {
     "name": "stderr",
     "output_type": "stream",
     "text": [
      "\r",
      "  1%|          | 16/1296 [00:44<1:20:08,  3.76s/it]"
     ]
    },
    {
     "name": "stdout",
     "output_type": "stream",
     "text": [
      "params:[-1.08939456e-01  2.14555251e+02]\n",
      "validate rmse : 0.00883500659294432 \n",
      " validate mae : 0.007896240042192502 \n",
      "\n",
      "    test rmse : 0.025805964794052155 \n",
      " test mae : 0.02564392436952888\n",
      "(('sa', 1), ('sa', 1), ('sal', 1), ('box_cox', 1))\n"
     ]
    },
    {
     "name": "stderr",
     "output_type": "stream",
     "text": [
      "\r",
      "  1%|▏         | 17/1296 [00:46<1:07:46,  3.18s/it]"
     ]
    },
    {
     "name": "stdout",
     "output_type": "stream",
     "text": [
      "params:[-1.06006095e-01  2.08413513e+02]\n",
      "validate rmse : 0.0021374674559518614 \n",
      " validate mae : 0.0017506251476731452 \n",
      "\n",
      "    test rmse : 0.008108095727871781 \n",
      " test mae : 0.007869016575890715\n",
      "(('sa', 1), ('sa', 1), ('sal', 1), ('box_cox', 2))\n"
     ]
    },
    {
     "name": "stderr",
     "output_type": "stream",
     "text": [
      "\r",
      "  1%|▏         | 18/1296 [00:48<57:46,  2.71s/it]  "
     ]
    },
    {
     "name": "stdout",
     "output_type": "stream",
     "text": [
      "params:[-1.08296457e-01  2.11797050e+02]\n",
      "validate rmse : 0.002612240422877651 \n",
      " validate mae : 0.0018712907539798485 \n",
      "\n",
      "    test rmse : 0.011601269405077486 \n",
      " test mae : 0.011435821239407768\n",
      "(('sa', 1), ('sa', 1), ('sal', 2), ('sa', 1))\n"
     ]
    },
    {
     "name": "stderr",
     "output_type": "stream",
     "text": [
      "\r",
      "  1%|▏         | 19/1296 [01:03<2:22:24,  6.69s/it]"
     ]
    },
    {
     "name": "stdout",
     "output_type": "stream",
     "text": [
      "params:[-1.10910238e-01  2.19036811e+02]\n",
      "validate rmse : 0.00473126103771296 \n",
      " validate mae : 0.003974259146232887 \n",
      "\n",
      "    test rmse : 0.016179001876856 \n",
      " test mae : 0.016066106191217146\n",
      "(('sa', 1), ('sa', 1), ('sal', 2), ('sa', 2))\n"
     ]
    },
    {
     "name": "stderr",
     "output_type": "stream",
     "text": [
      "\r",
      "  2%|▏         | 20/1296 [01:07<2:00:29,  5.67s/it]"
     ]
    },
    {
     "name": "stdout",
     "output_type": "stream",
     "text": [
      "params:[-7.98432089e-02  1.58344111e+02]\n",
      "validate rmse : 0.004882840508586724 \n",
      " validate mae : 0.004170114648080437 \n",
      "\n",
      "    test rmse : 0.008059491172749915 \n",
      " test mae : 0.006852077588936217\n",
      "(('sa', 1), ('sa', 1), ('sal', 2), ('sal', 1))\n"
     ]
    },
    {
     "name": "stderr",
     "output_type": "stream",
     "text": [
      "\r",
      "  2%|▏         | 21/1296 [01:27<3:30:10,  9.89s/it]"
     ]
    },
    {
     "name": "stdout",
     "output_type": "stream",
     "text": [
      "params:[-1.09159613e-01  2.15613852e+02]\n",
      "validate rmse : 0.0020302528715879942 \n",
      " validate mae : 0.0017369295634542656 \n",
      "\n",
      "    test rmse : 0.005263602551895159 \n",
      " test mae : 0.0047219480860898845\n",
      "(('sa', 1), ('sa', 1), ('sal', 2), ('sal', 2))\n"
     ]
    },
    {
     "name": "stderr",
     "output_type": "stream",
     "text": [
      "\r",
      "  2%|▏         | 22/1296 [01:49<4:48:36, 13.59s/it]"
     ]
    },
    {
     "name": "stdout",
     "output_type": "stream",
     "text": [
      "params:[-3.79971719e-07  5.40242780e-01]\n",
      "validate rmse : 0.8509546215546281 \n",
      " validate mae : 0.849283577152321 \n",
      "\n",
      "    test rmse : 1.0487394929662774 \n",
      " test mae : 1.0472460680193714\n",
      "(('sa', 1), ('sa', 1), ('sal', 2), ('box_cox', 1))\n"
     ]
    },
    {
     "name": "stderr",
     "output_type": "stream",
     "text": [
      "\r",
      "  2%|▏         | 23/1296 [01:53<3:50:09, 10.85s/it]"
     ]
    },
    {
     "name": "stdout",
     "output_type": "stream",
     "text": [
      "params:[-1.30837353e-02  3.16394479e+01]\n",
      "validate rmse : 0.49282202617900034 \n",
      " validate mae : 0.321997901439872 \n",
      "\n",
      "    test rmse : 0.7458745910051172 \n",
      " test mae : 0.7452384424991708\n",
      "(('sa', 1), ('sa', 1), ('sal', 2), ('box_cox', 2))\n"
     ]
    },
    {
     "name": "stderr",
     "output_type": "stream",
     "text": [
      "\r",
      "  2%|▏         | 24/1296 [01:56<2:56:18,  8.32s/it]"
     ]
    },
    {
     "name": "stdout",
     "output_type": "stream",
     "text": [
      "params:[-3.30416629e-02  6.91920067e+01]\n",
      "validate rmse : 0.0037716642839136835 \n",
      " validate mae : 0.003326608629629948 \n",
      "\n",
      "    test rmse : 0.014579952717766879 \n",
      " test mae : 0.014456815017107771\n",
      "(('sa', 1), ('sa', 1), ('box_cox', 1), ('sa', 1))\n"
     ]
    },
    {
     "name": "stderr",
     "output_type": "stream",
     "text": [
      "\r",
      "  2%|▏         | 25/1296 [01:56<2:05:49,  5.94s/it]"
     ]
    },
    {
     "name": "stdout",
     "output_type": "stream",
     "text": [
      "params:[-8.08699208e-02  1.58934747e+02]\n",
      "validate rmse : 0.007277080319696905 \n",
      " validate mae : 0.00706303540607126 \n",
      "\n",
      "    test rmse : 0.003612677697878006 \n",
      " test mae : 0.0031260887021274226\n",
      "(('sa', 1), ('sa', 1), ('box_cox', 1), ('sa', 2))\n"
     ]
    },
    {
     "name": "stderr",
     "output_type": "stream",
     "text": [
      "\r",
      "  2%|▏         | 26/1296 [01:57<1:31:14,  4.31s/it]"
     ]
    },
    {
     "name": "stdout",
     "output_type": "stream",
     "text": [
      "params:[-8.08699629e-02  1.58934829e+02]\n",
      "validate rmse : 0.007277062668223243 \n",
      " validate mae : 0.007063017216915026 \n",
      "\n",
      "    test rmse : 0.0036126565592583654 \n",
      " test mae : 0.0031260683463608502\n",
      "(('sa', 1), ('sa', 1), ('box_cox', 1), ('sal', 1))\n"
     ]
    },
    {
     "name": "stderr",
     "output_type": "stream",
     "text": [
      "\r",
      "  2%|▏         | 27/1296 [02:01<1:32:55,  4.39s/it]"
     ]
    },
    {
     "name": "stdout",
     "output_type": "stream",
     "text": [
      "params:[-1.08802802e-01  2.14852031e+02]\n",
      "validate rmse : 0.002171200123207555 \n",
      " validate mae : 0.0019311857313330874 \n",
      "\n",
      "    test rmse : 0.008399995017459156 \n",
      " test mae : 0.008132373195258403\n",
      "(('sa', 1), ('sa', 1), ('box_cox', 1), ('sal', 2))\n",
      "params:[-2.40618147e+01  4.69336973e+04]\n"
     ]
    },
    {
     "name": "stderr",
     "output_type": "stream",
     "text": [
      "\r",
      "  2%|▏         | 28/1296 [02:04<1:20:21,  3.80s/it]"
     ]
    },
    {
     "name": "stdout",
     "output_type": "stream",
     "text": [
      "validate rmse : 0.002006277156880058 \n",
      " validate mae : 0.001712385868833036 \n",
      "\n",
      "    test rmse : 0.004078428296277692 \n",
      " test mae : 0.003632165441614214\n",
      "(('sa', 1), ('sa', 1), ('box_cox', 1), ('box_cox', 1))\n"
     ]
    },
    {
     "name": "stderr",
     "output_type": "stream",
     "text": [
      "\r",
      "  2%|▏         | 29/1296 [02:04<59:18,  2.81s/it]  "
     ]
    },
    {
     "name": "stdout",
     "output_type": "stream",
     "text": [
      "params:[-8.76725109e-02  1.70806621e+02]\n",
      "validate rmse : 0.005137561338089504 \n",
      " validate mae : 0.0048189223996106135 \n",
      "\n",
      "    test rmse : 0.0024669451836741908 \n",
      " test mae : 0.0018176907041790788\n",
      "(('sa', 1), ('sa', 1), ('box_cox', 1), ('box_cox', 2))\n"
     ]
    },
    {
     "name": "stderr",
     "output_type": "stream",
     "text": [
      "\r",
      "  2%|▏         | 30/1296 [02:04<44:07,  2.09s/it]"
     ]
    },
    {
     "name": "stdout",
     "output_type": "stream",
     "text": [
      "params:[-8.12040297e-02  1.56960886e+02]\n",
      "validate rmse : 0.0039757812781027815 \n",
      " validate mae : 0.003541610796401485 \n",
      "\n",
      "    test rmse : 0.003311294594110993 \n",
      " test mae : 0.002648859712342276\n",
      "(('sa', 1), ('sa', 1), ('box_cox', 2), ('sa', 1))\n"
     ]
    },
    {
     "name": "stderr",
     "output_type": "stream",
     "text": [
      "\r",
      "  2%|▏         | 31/1296 [02:05<33:46,  1.60s/it]"
     ]
    },
    {
     "name": "stdout",
     "output_type": "stream",
     "text": [
      "params:[-7.26523464e-02  1.41954392e+02]\n",
      "validate rmse : 0.006108148805163572 \n",
      " validate mae : 0.005851295619231153 \n",
      "\n",
      "    test rmse : 0.0028997096569741997 \n",
      " test mae : 0.0026134963233044634\n",
      "(('sa', 1), ('sa', 1), ('box_cox', 2), ('sa', 2))\n"
     ]
    },
    {
     "name": "stderr",
     "output_type": "stream",
     "text": [
      "\r",
      "  2%|▏         | 32/1296 [02:06<27:41,  1.31s/it]"
     ]
    },
    {
     "name": "stdout",
     "output_type": "stream",
     "text": [
      "params:[-7.26524157e-02  1.41954530e+02]\n",
      "validate rmse : 0.006108127066649289 \n",
      " validate mae : 0.005851272921061158 \n",
      "\n",
      "    test rmse : 0.0028996944619376942 \n",
      " test mae : 0.00261348264075719\n",
      "(('sa', 1), ('sa', 1), ('box_cox', 2), ('sal', 1))\n"
     ]
    },
    {
     "name": "stderr",
     "output_type": "stream",
     "text": [
      "\r",
      "  3%|▎         | 33/1296 [02:06<25:29,  1.21s/it]"
     ]
    },
    {
     "name": "stdout",
     "output_type": "stream",
     "text": [
      "params:[-1.01178182e-01  1.99873811e+02]\n",
      "validate rmse : 0.006596345539671672 \n",
      " validate mae : 0.006359269256523747 \n",
      "\n",
      "    test rmse : 0.002855369089894924 \n",
      " test mae : 0.0025668623597166645\n",
      "(('sa', 1), ('sa', 1), ('box_cox', 2), ('sal', 2))\n"
     ]
    },
    {
     "name": "stderr",
     "output_type": "stream",
     "text": [
      "\r",
      "  3%|▎         | 34/1296 [02:27<2:27:06,  6.99s/it]"
     ]
    },
    {
     "name": "stdout",
     "output_type": "stream",
     "text": [
      "params:[-1.10998503e-01  2.19142395e+02]\n",
      "validate rmse : 0.0022596001930607693 \n",
      " validate mae : 0.0019290414465354241 \n",
      "\n",
      "    test rmse : 0.010183068813018139 \n",
      " test mae : 0.01001103396200932\n",
      "(('sa', 1), ('sa', 1), ('box_cox', 2), ('box_cox', 1))\n"
     ]
    },
    {
     "name": "stderr",
     "output_type": "stream",
     "text": [
      "\r",
      "  3%|▎         | 35/1296 [02:28<1:46:28,  5.07s/it]"
     ]
    },
    {
     "name": "stdout",
     "output_type": "stream",
     "text": [
      "params:[-7.94788644e-02  1.53602595e+02]\n",
      "validate rmse : 0.005172077168198077 \n",
      " validate mae : 0.004863692895956256 \n",
      "\n",
      "    test rmse : 0.002445971957111178 \n",
      " test mae : 0.0020053513558602226\n",
      "(('sa', 1), ('sa', 1), ('box_cox', 2), ('box_cox', 2))\n"
     ]
    },
    {
     "name": "stderr",
     "output_type": "stream",
     "text": [
      "\r",
      "  3%|▎         | 36/1296 [02:28<1:17:39,  3.70s/it]"
     ]
    },
    {
     "name": "stdout",
     "output_type": "stream",
     "text": [
      "params:[-6.99777559e-02  1.33816149e+02]\n",
      "validate rmse : 0.004090197883860897 \n",
      " validate mae : 0.0036847459518008657 \n",
      "\n",
      "    test rmse : 0.0029595351780836183 \n",
      " test mae : 0.0022291016952362607\n",
      "(('sa', 1), ('sa', 2), ('sa', 1), ('sa', 1))\n"
     ]
    },
    {
     "name": "stderr",
     "output_type": "stream",
     "text": [
      "\r",
      "  3%|▎         | 37/1296 [02:29<59:11,  2.82s/it]  "
     ]
    },
    {
     "name": "stdout",
     "output_type": "stream",
     "text": [
      "params:[-8.20155206e-02  1.61944462e+02]\n",
      "validate rmse : 0.006237246080436867 \n",
      " validate mae : 0.005922952371297625 \n",
      "\n",
      "    test rmse : 0.005587767037065301 \n",
      " test mae : 0.004666265547335632\n",
      "(('sa', 1), ('sa', 2), ('sa', 1), ('sa', 2))\n"
     ]
    },
    {
     "name": "stderr",
     "output_type": "stream",
     "text": [
      "\r",
      "  3%|▎         | 38/1296 [02:30<46:35,  2.22s/it]"
     ]
    },
    {
     "name": "stdout",
     "output_type": "stream",
     "text": [
      "params:[-8.20155157e-02  1.61944452e+02]\n",
      "validate rmse : 0.006237241694119463 \n",
      " validate mae : 0.0059229477450906875 \n",
      "\n",
      "    test rmse : 0.005587765312583249 \n",
      " test mae : 0.0046662637469530545\n",
      "(('sa', 1), ('sa', 2), ('sa', 1), ('sal', 1))\n"
     ]
    },
    {
     "name": "stderr",
     "output_type": "stream",
     "text": [
      "\r",
      "  3%|▎         | 39/1296 [02:32<45:07,  2.15s/it]"
     ]
    },
    {
     "name": "stdout",
     "output_type": "stream",
     "text": [
      "params:[-1.08247316e-01  2.13722406e+02]\n",
      "validate rmse : 0.003941464247830935 \n",
      " validate mae : 0.0034544815265962403 \n",
      "\n",
      "    test rmse : 0.015048641691668389 \n",
      " test mae : 0.014926736705929517\n",
      "(('sa', 1), ('sa', 2), ('sa', 1), ('sal', 2))\n",
      "params:[-1.06156427e-01  2.09565185e+02]\n"
     ]
    },
    {
     "name": "stderr",
     "output_type": "stream",
     "text": [
      "\r",
      "  3%|▎         | 40/1296 [02:44<1:49:18,  5.22s/it]"
     ]
    },
    {
     "name": "stdout",
     "output_type": "stream",
     "text": [
      "validate rmse : 0.0029980019766652584 \n",
      " validate mae : 0.002449300333491694 \n",
      "\n",
      "    test rmse : 0.004704222487768376 \n",
      " test mae : 0.004166242573968697\n",
      "(('sa', 1), ('sa', 2), ('sa', 1), ('box_cox', 1))\n"
     ]
    },
    {
     "name": "stderr",
     "output_type": "stream",
     "text": [
      "\r",
      "  3%|▎         | 41/1296 [02:45<1:20:23,  3.84s/it]"
     ]
    },
    {
     "name": "stdout",
     "output_type": "stream",
     "text": [
      "params:[-8.61786915e-02  1.69067278e+02]\n",
      "validate rmse : 0.004816103878900936 \n",
      " validate mae : 0.004447029612330059 \n",
      "\n",
      "    test rmse : 0.0036430859573505256 \n",
      " test mae : 0.0032575995231289884\n",
      "(('sa', 1), ('sa', 2), ('sa', 1), ('box_cox', 2))\n"
     ]
    },
    {
     "name": "stderr",
     "output_type": "stream",
     "text": [
      "\r",
      "  3%|▎         | 42/1296 [02:45<59:40,  2.86s/it]  "
     ]
    },
    {
     "name": "stdout",
     "output_type": "stream",
     "text": [
      "params:[-8.41239942e-02  1.63879319e+02]\n",
      "validate rmse : 0.006846440431990503 \n",
      " validate mae : 0.0066187775448971874 \n",
      "\n",
      "    test rmse : 0.0032910856433127533 \n",
      " test mae : 0.0029081810613611875\n",
      "(('sa', 1), ('sa', 2), ('sa', 2), ('sa', 1))\n"
     ]
    },
    {
     "name": "stderr",
     "output_type": "stream",
     "text": [
      "\r",
      "  3%|▎         | 43/1296 [02:46<46:40,  2.24s/it]"
     ]
    },
    {
     "name": "stdout",
     "output_type": "stream",
     "text": [
      "params:[-8.20155198e-02  1.61944460e+02]\n",
      "validate rmse : 0.006237242734340285 \n",
      " validate mae : 0.0059229488413414955 \n",
      "\n",
      "    test rmse : 0.0055877656764624795 \n",
      " test mae : 0.004666264142044978\n",
      "(('sa', 1), ('sa', 2), ('sa', 2), ('sa', 2))\n"
     ]
    },
    {
     "name": "stderr",
     "output_type": "stream",
     "text": [
      "\r",
      "  3%|▎         | 44/1296 [02:47<37:58,  1.82s/it]"
     ]
    },
    {
     "name": "stdout",
     "output_type": "stream",
     "text": [
      "params:[-8.20155915e-02  1.61944599e+02]\n",
      "validate rmse : 0.006237226434318989 \n",
      " validate mae : 0.005922931384074154 \n",
      "\n",
      "    test rmse : 0.005587767562613851 \n",
      " test mae : 0.0046662639091068926\n",
      "(('sa', 1), ('sa', 2), ('sa', 2), ('sal', 1))\n"
     ]
    },
    {
     "name": "stderr",
     "output_type": "stream",
     "text": [
      "\r",
      "  3%|▎         | 45/1296 [02:50<48:27,  2.32s/it]"
     ]
    },
    {
     "name": "stdout",
     "output_type": "stream",
     "text": [
      "params:[-1.08203295e-01  2.13643283e+02]\n",
      "validate rmse : 0.003837404748349141 \n",
      " validate mae : 0.0033758886706593866 \n",
      "\n",
      "    test rmse : 0.014745933347966863 \n",
      " test mae : 0.014623490017944222\n",
      "(('sa', 1), ('sa', 2), ('sa', 2), ('sal', 2))\n",
      "params:[-1.60225920e+08  3.14656372e+11]\n"
     ]
    },
    {
     "name": "stderr",
     "output_type": "stream",
     "text": [
      "\r",
      "  4%|▎         | 46/1296 [03:31<4:44:56, 13.68s/it]"
     ]
    },
    {
     "name": "stdout",
     "output_type": "stream",
     "text": [
      "validate rmse : 0.015989262933506703 \n",
      " validate mae : 0.01573100212054621 \n",
      "\n",
      "    test rmse : 0.01886125443626967 \n",
      " test mae : 0.018421005173081963\n",
      "(('sa', 1), ('sa', 2), ('sa', 2), ('box_cox', 1))\n"
     ]
    },
    {
     "name": "stderr",
     "output_type": "stream",
     "text": [
      "\r",
      "  4%|▎         | 47/1296 [03:31<3:23:33,  9.78s/it]"
     ]
    },
    {
     "name": "stdout",
     "output_type": "stream",
     "text": [
      "params:[-8.61786966e-02  1.69067288e+02]\n",
      "validate rmse : 0.0048161011733257155 \n",
      " validate mae : 0.0044470267281791565 \n",
      "\n",
      "    test rmse : 0.003643083370497444 \n",
      " test mae : 0.003257597489689651\n",
      "(('sa', 1), ('sa', 2), ('sa', 2), ('box_cox', 2))\n"
     ]
    },
    {
     "name": "stderr",
     "output_type": "stream",
     "text": [
      "\r",
      "  4%|▎         | 48/1296 [03:32<2:26:29,  7.04s/it]"
     ]
    },
    {
     "name": "stdout",
     "output_type": "stream",
     "text": [
      "params:[-8.41237057e-02  1.63878749e+02]\n",
      "validate rmse : 0.006846673964648589 \n",
      " validate mae : 0.006619019146322962 \n",
      "\n",
      "    test rmse : 0.003291327573543545 \n",
      " test mae : 0.002908349753077692\n",
      "(('sa', 1), ('sa', 2), ('sal', 1), ('sa', 1))\n"
     ]
    },
    {
     "name": "stderr",
     "output_type": "stream",
     "text": [
      "\r",
      "  4%|▍         | 49/1296 [03:36<2:06:20,  6.08s/it]"
     ]
    },
    {
     "name": "stdout",
     "output_type": "stream",
     "text": [
      "params:[-1.08331209e-01  2.13944352e+02]\n",
      "validate rmse : 0.003976567961458822 \n",
      " validate mae : 0.003477195585515319 \n",
      "\n",
      "    test rmse : 0.015090723654916137 \n",
      " test mae : 0.014969222019661705\n",
      "(('sa', 1), ('sa', 2), ('sal', 1), ('sa', 2))\n"
     ]
    },
    {
     "name": "stderr",
     "output_type": "stream",
     "text": [
      "\r",
      "  4%|▍         | 50/1296 [03:38<1:43:36,  4.99s/it]"
     ]
    },
    {
     "name": "stdout",
     "output_type": "stream",
     "text": [
      "params:[-1.08298253e-01  2.13863327e+02]\n",
      "validate rmse : 0.004109996948640092 \n",
      " validate mae : 0.0035765414468403233 \n",
      "\n",
      "    test rmse : 0.015473830964593191 \n",
      " test mae : 0.015352616000006116\n",
      "(('sa', 1), ('sa', 2), ('sal', 1), ('sal', 1))\n"
     ]
    },
    {
     "name": "stderr",
     "output_type": "stream",
     "text": [
      "\r",
      "  4%|▍         | 51/1296 [03:41<1:28:56,  4.29s/it]"
     ]
    },
    {
     "name": "stdout",
     "output_type": "stream",
     "text": [
      "params:[-1.06437287e-01  2.10035229e+02]\n",
      "validate rmse : 0.004187911481741045 \n",
      " validate mae : 0.0036278046751471132 \n",
      "\n",
      "    test rmse : 0.01569300304930834 \n",
      " test mae : 0.015570790201845184\n",
      "(('sa', 1), ('sa', 2), ('sal', 1), ('sal', 2))\n",
      "params:[-2.04880936e+07  4.07248625e+10]\n"
     ]
    },
    {
     "name": "stderr",
     "output_type": "stream",
     "text": [
      "\r",
      "  4%|▍         | 52/1296 [04:01<3:06:34,  9.00s/it]"
     ]
    },
    {
     "name": "stdout",
     "output_type": "stream",
     "text": [
      "validate rmse : 0.016546899477798017 \n",
      " validate mae : 0.01638427393040146 \n",
      "\n",
      "    test rmse : 0.016304867154512542 \n",
      " test mae : 0.015903478725552287\n",
      "(('sa', 1), ('sa', 2), ('sal', 1), ('box_cox', 1))\n"
     ]
    },
    {
     "name": "stderr",
     "output_type": "stream",
     "text": [
      "\r",
      "  4%|▍         | 53/1296 [04:03<2:24:17,  6.96s/it]"
     ]
    },
    {
     "name": "stdout",
     "output_type": "stream",
     "text": [
      "params:[-1.06032048e-01  2.08450986e+02]\n",
      "validate rmse : 0.0021390988208482673 \n",
      " validate mae : 0.001762617799819641 \n",
      "\n",
      "    test rmse : 0.008334004696855614 \n",
      " test mae : 0.008105887670541576\n",
      "(('sa', 1), ('sa', 2), ('sal', 1), ('box_cox', 2))\n",
      "params:[-1.08732019e-01  2.12679315e+02]\n"
     ]
    },
    {
     "name": "stderr",
     "output_type": "stream",
     "text": [
      "\r",
      "  4%|▍         | 54/1296 [04:08<2:10:35,  6.31s/it]"
     ]
    },
    {
     "name": "stdout",
     "output_type": "stream",
     "text": [
      "validate rmse : 0.002596626447156115 \n",
      " validate mae : 0.001823239154241037 \n",
      "\n",
      "    test rmse : 0.011284519533973672 \n",
      " test mae : 0.011117437503614575\n",
      "(('sa', 1), ('sa', 2), ('sal', 2), ('sa', 1))\n",
      "params:[-1.04727785e-01  2.06593210e+02]\n"
     ]
    },
    {
     "name": "stderr",
     "output_type": "stream",
     "text": [
      "\r",
      "  4%|▍         | 55/1296 [04:12<1:55:11,  5.57s/it]"
     ]
    },
    {
     "name": "stdout",
     "output_type": "stream",
     "text": [
      "validate rmse : 0.0023950736142927596 \n",
      " validate mae : 0.0018622564371356001 \n",
      "\n",
      "    test rmse : 0.005335654695345157 \n",
      " test mae : 0.004863217068022951\n",
      "(('sa', 1), ('sa', 2), ('sal', 2), ('sa', 2))\n"
     ]
    },
    {
     "name": "stderr",
     "output_type": "stream",
     "text": [
      "\r",
      "  4%|▍         | 56/1296 [04:38<4:05:04, 11.86s/it]"
     ]
    },
    {
     "name": "stdout",
     "output_type": "stream",
     "text": [
      "params:[-1.06016978e-01  2.09229371e+02]\n",
      "validate rmse : 0.0029265466023585198 \n",
      " validate mae : 0.002387220905100851 \n",
      "\n",
      "    test rmse : 0.004906507156424659 \n",
      " test mae : 0.0044025971891401405\n",
      "(('sa', 1), ('sa', 2), ('sal', 2), ('sal', 1))\n",
      "params:[-1.07311996e-01  2.11874447e+02]\n"
     ]
    },
    {
     "data": {
      "image/png": "[encoded data removed]",
      "text/plain": [
       "<Figure size 432x288 with 1 Axes>"
      ]
     },
     "metadata": {
      "needs_background": "light"
     },
     "output_type": "display_data"
    },
    {
     "name": "stderr",
     "output_type": "stream",
     "text": [
      "\r",
      "  4%|▍         | 57/1296 [04:50<4:05:50, 11.91s/it]"
     ]
    },
    {
     "name": "stdout",
     "output_type": "stream",
     "text": [
      "validate rmse : 0.001995328606085073 \n",
      " validate mae : 0.0018324668229473976 \n",
      "\n",
      "    test rmse : 0.007167320094579704 \n",
      " test mae : 0.006802175330846122\n",
      "(('sa', 1), ('sa', 2), ('sal', 2), ('sal', 2))\n"
     ]
    },
    {
     "name": "stderr",
     "output_type": "stream",
     "text": [
      "\r",
      "  4%|▍         | 58/1296 [05:18<5:44:53, 16.72s/it]"
     ]
    },
    {
     "name": "stdout",
     "output_type": "stream",
     "text": [
      "params:[-1.71860059e+00  3.44477009e+03]\n",
      "validate rmse : 0.23070419131163908 \n",
      " validate mae : 0.22468102775118948 \n",
      "\n",
      "    test rmse : 0.388617934802302 \n",
      " test mae : 0.3871836673559068\n",
      "(('sa', 1), ('sa', 2), ('sal', 2), ('box_cox', 1))\n"
     ]
    },
    {
     "name": "stderr",
     "output_type": "stream",
     "text": [
      "\r",
      "  5%|▍         | 59/1296 [05:31<5:20:30, 15.55s/it]"
     ]
    },
    {
     "name": "stdout",
     "output_type": "stream",
     "text": [
      "params:[-1.05027253e-01  2.06663324e+02]\n",
      "validate rmse : 0.006077184573954506 \n",
      " validate mae : 0.005819080786125914 \n",
      "\n",
      "    test rmse : 0.002379066753023667 \n",
      " test mae : 0.0020119075291187482\n",
      "(('sa', 1), ('sa', 2), ('sal', 2), ('box_cox', 2))\n"
     ]
    },
    {
     "name": "stderr",
     "output_type": "stream",
     "text": [
      "\r",
      "  5%|▍         | 60/1296 [05:48<5:32:34, 16.14s/it]"
     ]
    },
    {
     "name": "stdout",
     "output_type": "stream",
     "text": [
      "params:[-1.05632781e-01  2.06663452e+02]\n",
      "validate rmse : 0.004698984577231856 \n",
      " validate mae : 0.004348716104093224 \n",
      "\n",
      "    test rmse : 0.002697171720284557 \n",
      " test mae : 0.0019478291672719028\n",
      "(('sa', 1), ('sa', 2), ('box_cox', 1), ('sa', 1))\n"
     ]
    },
    {
     "name": "stderr",
     "output_type": "stream",
     "text": [
      "\r",
      "  5%|▍         | 61/1296 [05:49<3:56:08, 11.47s/it]"
     ]
    },
    {
     "name": "stdout",
     "output_type": "stream",
     "text": [
      "params:[-8.08698942e-02  1.58934694e+02]\n",
      "validate rmse : 0.007277092926528303 \n",
      " validate mae : 0.007063048397337873 \n",
      "\n",
      "    test rmse : 0.0036126918477974355 \n",
      " test mae : 0.00312610239382364\n",
      "(('sa', 1), ('sa', 2), ('box_cox', 1), ('sa', 2))\n"
     ]
    },
    {
     "name": "stderr",
     "output_type": "stream",
     "text": [
      "\r",
      "  5%|▍         | 62/1296 [05:50<2:49:06,  8.22s/it]"
     ]
    },
    {
     "name": "stdout",
     "output_type": "stream",
     "text": [
      "params:[-8.08699111e-02  1.58934728e+02]\n",
      "validate rmse : 0.007277076282559407 \n",
      " validate mae : 0.007063031246211425 \n",
      "\n",
      "    test rmse : 0.0036126728131116548 \n",
      " test mae : 0.003126084002943484\n",
      "(('sa', 1), ('sa', 2), ('box_cox', 1), ('sal', 1))\n"
     ]
    },
    {
     "name": "stderr",
     "output_type": "stream",
     "text": [
      "\r",
      "  5%|▍         | 63/1296 [05:53<2:18:36,  6.74s/it]"
     ]
    },
    {
     "name": "stdout",
     "output_type": "stream",
     "text": [
      "params:[-1.08804944e-01  2.14856276e+02]\n",
      "validate rmse : 0.002171884885881428 \n",
      " validate mae : 0.001931509525024843 \n",
      "\n",
      "    test rmse : 0.008403401897260361 \n",
      " test mae : 0.008135977680296511\n",
      "(('sa', 1), ('sa', 2), ('box_cox', 1), ('sal', 2))\n",
      "params:[-5.67965568e+07  1.11529123e+11]\n"
     ]
    },
    {
     "name": "stderr",
     "output_type": "stream",
     "text": [
      "\r",
      "  5%|▍         | 64/1296 [06:12<3:33:04, 10.38s/it]"
     ]
    },
    {
     "name": "stdout",
     "output_type": "stream",
     "text": [
      "validate rmse : 0.016119713843304136 \n",
      " validate mae : 0.01586878263519531 \n",
      "\n",
      "    test rmse : 0.018879682379657734 \n",
      " test mae : 0.018445394631841677\n",
      "(('sa', 1), ('sa', 2), ('box_cox', 1), ('box_cox', 1))\n"
     ]
    },
    {
     "name": "stderr",
     "output_type": "stream",
     "text": [
      "\r",
      "  5%|▌         | 65/1296 [06:12<2:31:55,  7.40s/it]"
     ]
    },
    {
     "name": "stdout",
     "output_type": "stream",
     "text": [
      "params:[-8.76725120e-02  1.70806623e+02]\n",
      "validate rmse : 0.0051375580103731975 \n",
      " validate mae : 0.004818918810114271 \n",
      "\n",
      "    test rmse : 0.002466946516508134 \n",
      " test mae : 0.001817689509836807\n",
      "(('sa', 1), ('sa', 2), ('box_cox', 1), ('box_cox', 2))\n"
     ]
    },
    {
     "name": "stderr",
     "output_type": "stream",
     "text": [
      "\r",
      "  5%|▌         | 66/1296 [06:13<1:49:46,  5.35s/it]"
     ]
    },
    {
     "name": "stdout",
     "output_type": "stream",
     "text": [
      "params:[-8.12040036e-02  1.56960833e+02]\n",
      "validate rmse : 0.003975766623065167 \n",
      " validate mae : 0.0035415940585330286 \n",
      "\n",
      "    test rmse : 0.003311311173950796 \n",
      " test mae : 0.002648876656909311\n",
      "(('sa', 1), ('sa', 2), ('box_cox', 2), ('sa', 1))\n"
     ]
    },
    {
     "name": "stderr",
     "output_type": "stream",
     "text": [
      "\r",
      "  5%|▌         | 67/1296 [06:13<1:20:30,  3.93s/it]"
     ]
    },
    {
     "name": "stdout",
     "output_type": "stream",
     "text": [
      "params:[-7.26524643e-02  1.41954625e+02]\n",
      "validate rmse : 0.006108106066335351 \n",
      " validate mae : 0.005851250997430244 \n",
      "\n",
      "    test rmse : 0.0028996769603981485 \n",
      " test mae : 0.0026134668554546364\n",
      "(('sa', 1), ('sa', 2), ('box_cox', 2), ('sa', 2))\n"
     ]
    },
    {
     "name": "stderr",
     "output_type": "stream",
     "text": [
      "\r",
      "  5%|▌         | 68/1296 [06:14<1:00:24,  2.95s/it]"
     ]
    },
    {
     "name": "stdout",
     "output_type": "stream",
     "text": [
      "params:[-7.26523491e-02  1.41954400e+02]\n",
      "validate rmse : 0.006108177272746163 \n",
      " validate mae : 0.00585132533355986 \n",
      "\n",
      "    test rmse : 0.0028997318386838914 \n",
      " test mae : 0.002613516317574584\n",
      "(('sa', 1), ('sa', 2), ('box_cox', 2), ('sal', 1))\n"
     ]
    },
    {
     "name": "stderr",
     "output_type": "stream",
     "text": [
      "\r",
      "  5%|▌         | 69/1296 [06:15<48:51,  2.39s/it]  "
     ]
    },
    {
     "name": "stdout",
     "output_type": "stream",
     "text": [
      "params:[-1.01176619e-01  1.99871083e+02]\n",
      "validate rmse : 0.006596910534111432 \n",
      " validate mae : 0.006359856432173667 \n",
      "\n",
      "    test rmse : 0.0028558010049912624 \n",
      " test mae : 0.002567230758928634\n",
      "(('sa', 1), ('sa', 2), ('box_cox', 2), ('sal', 2))\n"
     ]
    },
    {
     "name": "stderr",
     "output_type": "stream",
     "text": [
      "\r",
      "  5%|▌         | 70/1296 [06:28<1:52:47,  5.52s/it]"
     ]
    },
    {
     "name": "stdout",
     "output_type": "stream",
     "text": [
      "params:[-1.10949663e-01  2.19050423e+02]\n",
      "validate rmse : 0.0022037648854888394 \n",
      " validate mae : 0.0018959817510284368 \n",
      "\n",
      "    test rmse : 0.00980261200982877 \n",
      " test mae : 0.009621324357797239\n",
      "(('sa', 1), ('sa', 2), ('box_cox', 2), ('box_cox', 1))\n"
     ]
    },
    {
     "name": "stderr",
     "output_type": "stream",
     "text": [
      "\r",
      "  5%|▌         | 71/1296 [06:29<1:23:04,  4.07s/it]"
     ]
    },
    {
     "name": "stdout",
     "output_type": "stream",
     "text": [
      "params:[-7.94788782e-02  1.53602622e+02]\n",
      "validate rmse : 0.005172074622657435 \n",
      " validate mae : 0.004863690159867619 \n",
      "\n",
      "    test rmse : 0.0024459718998273115 \n",
      " test mae : 0.0020053499342168363\n",
      "(('sa', 1), ('sa', 2), ('box_cox', 2), ('box_cox', 2))\n"
     ]
    },
    {
     "name": "stderr",
     "output_type": "stream",
     "text": [
      "\r",
      "  6%|▌         | 72/1296 [06:29<1:02:07,  3.05s/it]"
     ]
    },
    {
     "name": "stdout",
     "output_type": "stream",
     "text": [
      "params:[-6.99778106e-02  1.33816254e+02]\n",
      "validate rmse : 0.004090159064236768 \n",
      " validate mae : 0.0036847025217665824 \n",
      "\n",
      "    test rmse : 0.002959567299547357 \n",
      " test mae : 0.0022291414886171845\n",
      "(('sa', 1), ('sal', 1), ('sa', 1), ('sa', 1))\n"
     ]
    },
    {
     "name": "stderr",
     "output_type": "stream",
     "text": [
      "\r",
      "  6%|▌         | 73/1296 [06:31<56:01,  2.75s/it]  "
     ]
    },
    {
     "name": "stdout",
     "output_type": "stream",
     "text": [
      "params:[-1.08295386e-01  2.13859888e+02]\n",
      "validate rmse : 0.004086297748844251 \n",
      " validate mae : 0.003558973027919204 \n",
      "\n",
      "    test rmse : 0.015406399747029694 \n",
      " test mae : 0.015285158918773026\n",
      "(('sa', 1), ('sal', 1), ('sa', 1), ('sa', 2))\n"
     ]
    },
    {
     "name": "stderr",
     "output_type": "stream",
     "text": [
      "\r",
      "  6%|▌         | 74/1296 [06:34<52:31,  2.58s/it]"
     ]
    },
    {
     "name": "stdout",
     "output_type": "stream",
     "text": [
      "params:[-1.08322167e-01  2.13920221e+02]\n",
      "validate rmse : 0.004034220374852007 \n",
      " validate mae : 0.003520465022279873 \n",
      "\n",
      "    test rmse : 0.015260373319405506 \n",
      " test mae : 0.015139025170693115\n",
      "(('sa', 1), ('sal', 1), ('sa', 1), ('sal', 1))\n"
     ]
    },
    {
     "name": "stderr",
     "output_type": "stream",
     "text": [
      "\r",
      "  6%|▌         | 75/1296 [06:36<49:25,  2.43s/it]"
     ]
    },
    {
     "name": "stdout",
     "output_type": "stream",
     "text": [
      "params:[-1.06275257e-01  2.09717895e+02]\n",
      "validate rmse : 0.0040066922085740895 \n",
      " validate mae : 0.0034938047618609763 \n",
      "\n",
      "    test rmse : 0.015191007363197536 \n",
      " test mae : 0.01506851239237816\n",
      "(('sa', 1), ('sal', 1), ('sa', 1), ('sal', 2))\n"
     ]
    },
    {
     "name": "stderr",
     "output_type": "stream",
     "text": [
      "\r",
      "  6%|▌         | 76/1296 [06:40<1:00:06,  2.96s/it]"
     ]
    },
    {
     "name": "stdout",
     "output_type": "stream",
     "text": [
      "params:[-1.06989754e-01  2.11139234e+02]\n",
      "validate rmse : 0.004164917021691339 \n",
      " validate mae : 0.003589139786228601 \n",
      "\n",
      "    test rmse : 0.015306887172672826 \n",
      " test mae : 0.015186329947120939\n",
      "(('sa', 1), ('sal', 1), ('sa', 1), ('box_cox', 1))\n"
     ]
    },
    {
     "name": "stderr",
     "output_type": "stream",
     "text": [
      "\r",
      "  6%|▌         | 77/1296 [06:41<51:32,  2.54s/it]  "
     ]
    },
    {
     "name": "stdout",
     "output_type": "stream",
     "text": [
      "params:[-1.06092801e-01  2.08622183e+02]\n",
      "validate rmse : 0.0021406455741305435 \n",
      " validate mae : 0.0017754289718557778 \n",
      "\n",
      "    test rmse : 0.008476564217392943 \n",
      " test mae : 0.008254978606509823\n",
      "(('sa', 1), ('sal', 1), ('sa', 1), ('box_cox', 2))\n"
     ]
    },
    {
     "name": "stderr",
     "output_type": "stream",
     "text": [
      "\r",
      "  6%|▌         | 78/1296 [06:43<47:06,  2.32s/it]"
     ]
    },
    {
     "name": "stdout",
     "output_type": "stream",
     "text": [
      "params:[-1.09439266e-01  2.14100347e+02]\n",
      "validate rmse : 0.002639191511701528 \n",
      " validate mae : 0.002260334600198949 \n",
      "\n",
      "    test rmse : 0.012846593561956705 \n",
      " test mae : 0.012692762642803859\n",
      "(('sa', 1), ('sal', 1), ('sa', 2), ('sa', 1))\n"
     ]
    },
    {
     "name": "stderr",
     "output_type": "stream",
     "text": [
      "\r",
      "  6%|▌         | 79/1296 [06:46<47:56,  2.36s/it]"
     ]
    },
    {
     "name": "stdout",
     "output_type": "stream",
     "text": [
      "params:[-1.08293031e-01  2.13853929e+02]\n",
      "validate rmse : 0.004099450642314732 \n",
      " validate mae : 0.0035687934878184746 \n",
      "\n",
      "    test rmse : 0.01544515087918637 \n",
      " test mae : 0.015323914548211906\n",
      "(('sa', 1), ('sal', 1), ('sa', 2), ('sa', 2))\n"
     ]
    },
    {
     "name": "stderr",
     "output_type": "stream",
     "text": [
      "\r",
      "  6%|▌         | 80/1296 [06:49<55:11,  2.72s/it]"
     ]
    },
    {
     "name": "stdout",
     "output_type": "stream",
     "text": [
      "params:[-1.08335854e-01  2.13947708e+02]\n",
      "validate rmse : 0.004034418703542269 \n",
      " validate mae : 0.0035204714131210186 \n",
      "\n",
      "    test rmse : 0.015257893461371182 \n",
      " test mae : 0.0151365711836621\n",
      "(('sa', 1), ('sal', 1), ('sa', 2), ('sal', 1))\n"
     ]
    },
    {
     "name": "stderr",
     "output_type": "stream",
     "text": [
      "\r",
      "  6%|▋         | 81/1296 [06:59<1:36:16,  4.75s/it]"
     ]
    },
    {
     "name": "stdout",
     "output_type": "stream",
     "text": [
      "params:[-1.06188796e-01  2.09548421e+02]\n",
      "validate rmse : 0.003917385754785904 \n",
      " validate mae : 0.003427324305996904 \n",
      "\n",
      "    test rmse : 0.014948165287108638 \n",
      " test mae : 0.014825214545350482\n",
      "(('sa', 1), ('sal', 1), ('sa', 2), ('sal', 2))\n"
     ]
    },
    {
     "name": "stderr",
     "output_type": "stream",
     "text": [
      "\r",
      "  6%|▋         | 82/1296 [07:09<2:07:14,  6.29s/it]"
     ]
    },
    {
     "name": "stdout",
     "output_type": "stream",
     "text": [
      "params:[-1.10567504e-01  2.18317991e+02]\n",
      "validate rmse : 0.002864197418260668 \n",
      " validate mae : 0.0024826140330865476 \n",
      "\n",
      "    test rmse : 0.014914988343095303 \n",
      " test mae : 0.014720353821258822\n",
      "(('sa', 1), ('sal', 1), ('sa', 2), ('box_cox', 1))\n"
     ]
    },
    {
     "name": "stderr",
     "output_type": "stream",
     "text": [
      "\r",
      "  6%|▋         | 83/1296 [07:13<1:53:34,  5.62s/it]"
     ]
    },
    {
     "name": "stdout",
     "output_type": "stream",
     "text": [
      "params:[-1.06137299e-01  2.08714657e+02]\n",
      "validate rmse : 0.002138313277755707 \n",
      " validate mae : 0.0017779999828421156 \n",
      "\n",
      "    test rmse : 0.008480170916333563 \n",
      " test mae : 0.008258307366122116\n",
      "(('sa', 1), ('sal', 1), ('sa', 2), ('box_cox', 2))\n"
     ]
    },
    {
     "name": "stderr",
     "output_type": "stream",
     "text": [
      "\r",
      "  6%|▋         | 84/1296 [07:16<1:38:21,  4.87s/it]"
     ]
    },
    {
     "name": "stdout",
     "output_type": "stream",
     "text": [
      "params:[-1.08761039e-01  2.12778982e+02]\n",
      "validate rmse : 0.002567773593443677 \n",
      " validate mae : 0.0019051258817522779 \n",
      "\n",
      "    test rmse : 0.011765857481353151 \n",
      " test mae : 0.011604191845879122\n",
      "(('sa', 1), ('sal', 1), ('sal', 1), ('sa', 1))\n"
     ]
    },
    {
     "name": "stderr",
     "output_type": "stream",
     "text": [
      "\r",
      "  7%|▋         | 85/1296 [07:19<1:25:06,  4.22s/it]"
     ]
    },
    {
     "name": "stdout",
     "output_type": "stream",
     "text": [
      "params:[-1.05744280e-01  2.08675731e+02]\n",
      "validate rmse : 0.0038577148376840653 \n",
      " validate mae : 0.0033817054742432723 \n",
      "\n",
      "    test rmse : 0.014772494798312785 \n",
      " test mae : 0.014649193293974553\n",
      "(('sa', 1), ('sal', 1), ('sal', 1), ('sa', 2))\n"
     ]
    },
    {
     "name": "stderr",
     "output_type": "stream",
     "text": [
      "\r",
      "  7%|▋         | 86/1296 [07:21<1:15:22,  3.74s/it]"
     ]
    },
    {
     "name": "stdout",
     "output_type": "stream",
     "text": [
      "params:[-1.05908761e-01  2.08997794e+02]\n",
      "validate rmse : 0.004006836463917392 \n",
      " validate mae : 0.0034932810324446806 \n",
      "\n",
      "    test rmse : 0.015183919755402984 \n",
      " test mae : 0.015061451987151694\n",
      "(('sa', 1), ('sal', 1), ('sal', 1), ('sal', 1))\n"
     ]
    },
    {
     "name": "stderr",
     "output_type": "stream",
     "text": [
      "\r",
      "  7%|▋         | 87/1296 [07:24<1:08:25,  3.40s/it]"
     ]
    },
    {
     "name": "stdout",
     "output_type": "stream",
     "text": [
      "params:[-1.08065584e-01  2.13252944e+02]\n",
      "validate rmse : 0.005169989576404106 \n",
      " validate mae : 0.0043362779122667495 \n",
      "\n",
      "    test rmse : 0.017978327719990684 \n",
      " test mae : 0.017855443281918643\n",
      "(('sa', 1), ('sal', 1), ('sal', 1), ('sal', 2))\n"
     ]
    },
    {
     "name": "stderr",
     "output_type": "stream",
     "text": [
      "\r",
      "  7%|▋         | 88/1296 [07:31<1:32:42,  4.61s/it]"
     ]
    },
    {
     "name": "stdout",
     "output_type": "stream",
     "text": [
      "params:[-1.09265173e-01  2.15695670e+02]\n",
      "validate rmse : 0.007379378121755112 \n",
      " validate mae : 0.006103794890696524 \n",
      "\n",
      "    test rmse : 0.02955186536250437 \n",
      " test mae : 0.029063840011095857\n",
      "(('sa', 1), ('sal', 1), ('sal', 1), ('box_cox', 1))\n"
     ]
    },
    {
     "name": "stderr",
     "output_type": "stream",
     "text": [
      "\r",
      "  7%|▋         | 89/1296 [07:34<1:24:24,  4.20s/it]"
     ]
    },
    {
     "name": "stdout",
     "output_type": "stream",
     "text": [
      "params:[-1.04762718e-01  2.05789874e+02]\n",
      "validate rmse : 0.002495765306430265 \n",
      " validate mae : 0.002219924394032291 \n",
      "\n",
      "    test rmse : 0.01108902038094762 \n",
      " test mae : 0.010932610138992462\n",
      "(('sa', 1), ('sal', 1), ('sal', 1), ('box_cox', 2))\n"
     ]
    },
    {
     "name": "stderr",
     "output_type": "stream",
     "text": [
      "\r",
      "  7%|▋         | 90/1296 [07:37<1:15:11,  3.74s/it]"
     ]
    },
    {
     "name": "stdout",
     "output_type": "stream",
     "text": [
      "params:[-1.04792478e-01  2.04774144e+02]\n",
      "validate rmse : 0.002824916764676284 \n",
      " validate mae : 0.002539593528309641 \n",
      "\n",
      "    test rmse : 0.013638011504032975 \n",
      " test mae : 0.013487059168723873\n",
      "(('sa', 1), ('sal', 1), ('sal', 2), ('sa', 1))\n",
      "params:[-1.06999888e-01  2.11572834e+02]\n"
     ]
    },
    {
     "data": {
      "image/png": "[encoded data removed]",
      "text/plain": [
       "<Figure size 432x288 with 1 Axes>"
      ]
     },
     "metadata": {
      "needs_background": "light"
     },
     "output_type": "display_data"
    },
    {
     "name": "stderr",
     "output_type": "stream",
     "text": [
      "\r",
      "  7%|▋         | 91/1296 [07:47<1:49:31,  5.45s/it]"
     ]
    },
    {
     "name": "stdout",
     "output_type": "stream",
     "text": [
      "validate rmse : 0.00197490650435381 \n",
      " validate mae : 0.001760027770267934 \n",
      "\n",
      "    test rmse : 0.006662259854871983 \n",
      " test mae : 0.006249590817090296\n",
      "(('sa', 1), ('sal', 1), ('sal', 2), ('sa', 2))\n"
     ]
    },
    {
     "name": "stderr",
     "output_type": "stream",
     "text": [
      "\r",
      "  7%|▋         | 92/1296 [07:57<2:22:14,  7.09s/it]"
     ]
    },
    {
     "name": "stdout",
     "output_type": "stream",
     "text": [
      "params:[-1.09852892e-01  2.16670002e+02]\n",
      "validate rmse : 0.005776054943109983 \n",
      " validate mae : 0.004879090292743582 \n",
      "\n",
      "    test rmse : 0.01889254465704554 \n",
      " test mae : 0.018768287239294523\n",
      "(('sa', 1), ('sal', 1), ('sal', 2), ('sal', 1))\n"
     ]
    },
    {
     "name": "stderr",
     "output_type": "stream",
     "text": [
      "\r",
      "  7%|▋         | 93/1296 [08:21<4:01:26, 12.04s/it]"
     ]
    },
    {
     "name": "stdout",
     "output_type": "stream",
     "text": [
      "params:[-1.12184749e-01  2.21570418e+02]\n",
      "validate rmse : 0.0028283258501884097 \n",
      " validate mae : 0.002540849796400957 \n",
      "\n",
      "    test rmse : 0.012244347004645802 \n",
      " test mae : 0.012101082739048367\n",
      "(('sa', 1), ('sal', 1), ('sal', 2), ('sal', 2))\n"
     ]
    },
    {
     "name": "stderr",
     "output_type": "stream",
     "text": [
      "\r",
      "  7%|▋         | 94/1296 [08:44<5:06:49, 15.32s/it]"
     ]
    },
    {
     "name": "stdout",
     "output_type": "stream",
     "text": [
      "params:[-1.10947049e-01  2.19033007e+02]\n",
      "validate rmse : 0.008733992076354858 \n",
      " validate mae : 0.007291183516743178 \n",
      "\n",
      "    test rmse : 0.03321399128951099 \n",
      " test mae : 0.03263974138864064\n",
      "(('sa', 1), ('sal', 1), ('sal', 2), ('box_cox', 1))\n"
     ]
    },
    {
     "name": "stderr",
     "output_type": "stream",
     "text": [
      "\r",
      "  7%|▋         | 95/1296 [08:56<4:47:07, 14.34s/it]"
     ]
    },
    {
     "name": "stdout",
     "output_type": "stream",
     "text": [
      "params:[ 2.81678057e-02 -5.24872554e+01]\n",
      "validate rmse : 0.061057694039805335 \n",
      " validate mae : 0.060100715186458466 \n",
      "\n",
      "    test rmse : 0.0766724161130564 \n",
      " test mae : 0.07648183852218908\n",
      "(('sa', 1), ('sal', 1), ('sal', 2), ('box_cox', 2))\n",
      "params:[-1.12460023e-01  2.20156798e+02]\n"
     ]
    },
    {
     "name": "stderr",
     "output_type": "stream",
     "text": [
      "\r",
      "  7%|▋         | 96/1296 [09:12<4:56:35, 14.83s/it]"
     ]
    },
    {
     "name": "stdout",
     "output_type": "stream",
     "text": [
      "validate rmse : 0.0025311996178376214 \n",
      " validate mae : 0.0020709583697186085 \n",
      "\n",
      "    test rmse : 0.012252687703286412 \n",
      " test mae : 0.012096271049030802\n",
      "(('sa', 1), ('sal', 1), ('box_cox', 1), ('sa', 1))\n"
     ]
    },
    {
     "name": "stderr",
     "output_type": "stream",
     "text": [
      "\r",
      "  7%|▋         | 97/1296 [09:15<3:44:03, 11.21s/it]"
     ]
    },
    {
     "name": "stdout",
     "output_type": "stream",
     "text": [
      "params:[-9.65173914e-02  1.90079744e+02]\n",
      "validate rmse : 0.0026763393524531823 \n",
      " validate mae : 0.001937677450476837 \n",
      "\n",
      "    test rmse : 0.010655691098110178 \n",
      " test mae : 0.01048497406040486\n",
      "(('sa', 1), ('sal', 1), ('box_cox', 1), ('sa', 2))\n"
     ]
    },
    {
     "name": "stderr",
     "output_type": "stream",
     "text": [
      "\r",
      "  8%|▊         | 98/1296 [09:19<3:02:47,  9.16s/it]"
     ]
    },
    {
     "name": "stdout",
     "output_type": "stream",
     "text": [
      "params:[-9.61329691e-02  1.89293556e+02]\n",
      "validate rmse : 0.0026579923212730013 \n",
      " validate mae : 0.0018978194045448332 \n",
      "\n",
      "    test rmse : 0.010913318184243712 \n",
      " test mae : 0.010744612281079119\n",
      "(('sa', 1), ('sal', 1), ('box_cox', 1), ('sal', 1))\n"
     ]
    },
    {
     "name": "stderr",
     "output_type": "stream",
     "text": [
      "\r",
      "  8%|▊         | 99/1296 [09:24<2:39:20,  7.99s/it]"
     ]
    },
    {
     "name": "stdout",
     "output_type": "stream",
     "text": [
      "params:[-1.13542091e-01  2.24133586e+02]\n",
      "validate rmse : 0.007932697345296938 \n",
      " validate mae : 0.006900132772104919 \n",
      "\n",
      "    test rmse : 0.025110506460276287 \n",
      " test mae : 0.024924815786179975\n",
      "(('sa', 1), ('sal', 1), ('box_cox', 1), ('sal', 2))\n",
      "params:[-1. -1.]\n"
     ]
    },
    {
     "name": "stderr",
     "output_type": "stream",
     "text": [
      "\r",
      "  8%|▊         | 100/1296 [09:42<3:34:14, 10.75s/it]"
     ]
    },
    {
     "name": "stdout",
     "output_type": "stream",
     "text": [
      "validate rmse : 0.09688365794898099 \n",
      " validate mae : 0.09682893979393625 \n",
      "\n",
      "    test rmse : 0.10116944271132561 \n",
      " test mae : 0.10107278187880676\n",
      "(('sa', 1), ('sal', 1), ('box_cox', 1), ('box_cox', 1))\n"
     ]
    },
    {
     "name": "stderr",
     "output_type": "stream",
     "text": [
      "\r",
      "  8%|▊         | 101/1296 [09:44<2:45:01,  8.29s/it]"
     ]
    },
    {
     "name": "stdout",
     "output_type": "stream",
     "text": [
      "params:[-1.08625586e-01  2.12416883e+02]\n",
      "validate rmse : 0.004929920798492651 \n",
      " validate mae : 0.004139029976331916 \n",
      "\n",
      "    test rmse : 0.01735380625437188 \n",
      " test mae : 0.017230404334365707\n",
      "(('sa', 1), ('sal', 1), ('box_cox', 1), ('box_cox', 2))\n"
     ]
    },
    {
     "name": "stderr",
     "output_type": "stream",
     "text": [
      "\r",
      "  8%|▊         | 102/1296 [09:48<2:20:52,  7.08s/it]"
     ]
    },
    {
     "name": "stdout",
     "output_type": "stream",
     "text": [
      "params:[-1.01410666e-01  1.97073293e+02]\n",
      "validate rmse : 0.0082543926584602 \n",
      " validate mae : 0.007397357247023728 \n",
      "\n",
      "    test rmse : 0.02451411279867856 \n",
      " test mae : 0.024354481402453217\n",
      "(('sa', 1), ('sal', 1), ('box_cox', 2), ('sa', 1))\n"
     ]
    },
    {
     "name": "stderr",
     "output_type": "stream",
     "text": [
      "\r",
      "  8%|▊         | 103/1296 [09:53<2:06:02,  6.34s/it]"
     ]
    },
    {
     "name": "stdout",
     "output_type": "stream",
     "text": [
      "params:[-8.98810621e-02  1.76287222e+02]\n",
      "validate rmse : 0.004773571699076108 \n",
      " validate mae : 0.004021313170858258 \n",
      "\n",
      "    test rmse : 0.01744758530535625 \n",
      " test mae : 0.017319010311848942\n",
      "(('sa', 1), ('sal', 1), ('box_cox', 2), ('sa', 2))\n"
     ]
    },
    {
     "name": "stderr",
     "output_type": "stream",
     "text": [
      "\r",
      "  8%|▊         | 104/1296 [09:56<1:43:22,  5.20s/it]"
     ]
    },
    {
     "name": "stdout",
     "output_type": "stream",
     "text": [
      "params:[-8.97179323e-02  1.75929302e+02]\n",
      "validate rmse : 0.005250385189539786 \n",
      " validate mae : 0.0044180941576254995 \n",
      "\n",
      "    test rmse : 0.018351191948742785 \n",
      " test mae : 0.01822213432438829\n",
      "(('sa', 1), ('sal', 1), ('box_cox', 2), ('sal', 1))\n",
      "params:[-1.13739389e-01  2.24549662e+02]\n"
     ]
    },
    {
     "name": "stderr",
     "output_type": "stream",
     "text": [
      "\r",
      "  8%|▊         | 105/1296 [10:02<1:49:13,  5.50s/it]"
     ]
    },
    {
     "name": "stdout",
     "output_type": "stream",
     "text": [
      "validate rmse : 0.00617359181310388 \n",
      " validate mae : 0.005235711285055582 \n",
      "\n",
      "    test rmse : 0.02025476160591993 \n",
      " test mae : 0.02011877636462989\n",
      "(('sa', 1), ('sal', 1), ('box_cox', 2), ('sal', 2))\n",
      "params:[-1. -1.]\n"
     ]
    },
    {
     "name": "stderr",
     "output_type": "stream",
     "text": [
      "\r",
      "  8%|▊         | 106/1296 [10:20<3:05:52,  9.37s/it]"
     ]
    },
    {
     "name": "stdout",
     "output_type": "stream",
     "text": [
      "validate rmse : 0.09192092367177139 \n",
      " validate mae : 0.09186325286546253 \n",
      "\n",
      "    test rmse : 0.09620835299932258 \n",
      " test mae : 0.09610670722384487\n",
      "(('sa', 1), ('sal', 1), ('box_cox', 2), ('box_cox', 1))\n"
     ]
    },
    {
     "name": "stderr",
     "output_type": "stream",
     "text": [
      "\r",
      "  8%|▊         | 107/1296 [10:22<2:20:11,  7.07s/it]"
     ]
    },
    {
     "name": "stdout",
     "output_type": "stream",
     "text": [
      "params:[-1.02273428e-01  1.98751161e+02]\n",
      "validate rmse : 0.008189205937045786 \n",
      " validate mae : 0.007388318845645114 \n",
      "\n",
      "    test rmse : 0.023920485813170814 \n",
      " test mae : 0.02377177780415874\n",
      "(('sa', 1), ('sal', 1), ('box_cox', 2), ('box_cox', 2))\n"
     ]
    },
    {
     "name": "stderr",
     "output_type": "stream",
     "text": [
      "\r",
      "  8%|▊         | 108/1296 [10:25<1:57:17,  5.92s/it]"
     ]
    },
    {
     "name": "stdout",
     "output_type": "stream",
     "text": [
      "params:[-8.80061765e-02  1.69543884e+02]\n",
      "validate rmse : 0.012226557985470092 \n",
      " validate mae : 0.011511623460801288 \n",
      "\n",
      "    test rmse : 0.03059825453985088 \n",
      " test mae : 0.030422766094025062\n",
      "(('sa', 1), ('sal', 2), ('sa', 1), ('sa', 1))\n"
     ]
    },
    {
     "name": "stderr",
     "output_type": "stream",
     "text": [
      "\r",
      "  8%|▊         | 109/1296 [10:28<1:41:21,  5.12s/it]"
     ]
    },
    {
     "name": "stdout",
     "output_type": "stream",
     "text": [
      "params:[-1.12297224e-01  2.21793064e+02]\n",
      "validate rmse : 0.0035913447499091463 \n",
      " validate mae : 0.00301562528220994 \n",
      "\n",
      "    test rmse : 0.010676076163819496 \n",
      " test mae : 0.010457838682682987\n",
      "(('sa', 1), ('sal', 2), ('sa', 1), ('sa', 2))\n"
     ]
    },
    {
     "name": "stderr",
     "output_type": "stream",
     "text": [
      "\r",
      "  8%|▊         | 110/1296 [10:42<2:34:25,  7.81s/it]"
     ]
    },
    {
     "name": "stdout",
     "output_type": "stream",
     "text": [
      "params:[-1.10683352e-01  2.18577192e+02]\n",
      "validate rmse : 0.004094340467244221 \n",
      " validate mae : 0.003486861608826838 \n",
      "\n",
      "    test rmse : 0.01432866934621259 \n",
      " test mae : 0.014208036370132598\n",
      "(('sa', 1), ('sal', 2), ('sa', 1), ('sal', 1))\n"
     ]
    },
    {
     "name": "stderr",
     "output_type": "stream",
     "text": [
      "\r",
      "  9%|▊         | 111/1296 [10:49<2:24:48,  7.33s/it]"
     ]
    },
    {
     "name": "stdout",
     "output_type": "stream",
     "text": [
      "params:[-9.32362219e-02  1.84348092e+02]\n",
      "validate rmse : 0.009982831287559077 \n",
      " validate mae : 0.009811797835710647 \n",
      "\n",
      "    test rmse : 0.00775727277159561 \n",
      " test mae : 0.007184929008137065\n",
      "(('sa', 1), ('sal', 2), ('sa', 1), ('sal', 2))\n",
      "params:[-1.08406816e+06 -2.12548574e+09]\n"
     ]
    },
    {
     "name": "stderr",
     "output_type": "stream",
     "text": [
      "\r",
      "  9%|▊         | 112/1296 [11:12<3:58:07, 12.07s/it]"
     ]
    },
    {
     "name": "stdout",
     "output_type": "stream",
     "text": [
      "validate rmse : 0.020350454000798456 \n",
      " validate mae : 0.019014258809320877 \n",
      "\n",
      "    test rmse : 0.04995186102458145 \n",
      " test mae : 0.04809029339325784\n",
      "(('sa', 1), ('sal', 2), ('sa', 1), ('box_cox', 1))\n"
     ]
    },
    {
     "name": "stderr",
     "output_type": "stream",
     "text": [
      "\r",
      "  9%|▊         | 113/1296 [11:33<4:49:14, 14.67s/it]"
     ]
    },
    {
     "name": "stdout",
     "output_type": "stream",
     "text": [
      "params:[-1.05181926e-01  2.06827049e+02]\n",
      "validate rmse : 0.005360018893498047 \n",
      " validate mae : 0.005060341780919996 \n",
      "\n",
      "    test rmse : 0.0023868095325919624 \n",
      " test mae : 0.001832840866958634\n",
      "(('sa', 1), ('sal', 2), ('sa', 1), ('box_cox', 2))\n",
      "params:[-8.92169005e-02  1.74001174e+02]\n"
     ]
    },
    {
     "name": "stderr",
     "output_type": "stream",
     "text": [
      "\r",
      "  9%|▉         | 114/1296 [11:53<5:20:21, 16.26s/it]"
     ]
    },
    {
     "name": "stdout",
     "output_type": "stream",
     "text": [
      "validate rmse : 0.006050801924445544 \n",
      " validate mae : 0.00579167485109757 \n",
      "\n",
      "    test rmse : 0.0027660855606052898 \n",
      " test mae : 0.0024865759162836115\n",
      "(('sa', 1), ('sal', 2), ('sa', 2), ('sa', 1))\n",
      "params:[-1.07262051e-01  2.11839902e+02]\n"
     ]
    },
    {
     "name": "stderr",
     "output_type": "stream",
     "text": [
      "\r",
      "  9%|▉         | 115/1296 [12:12<5:37:50, 17.16s/it]"
     ]
    },
    {
     "name": "stdout",
     "output_type": "stream",
     "text": [
      "validate rmse : 0.0034476939035906293 \n",
      " validate mae : 0.0029250298565067106 \n",
      "\n",
      "    test rmse : 0.004313036857890386 \n",
      " test mae : 0.003733101077003333\n",
      "(('sa', 1), ('sal', 2), ('sa', 2), ('sa', 2))\n"
     ]
    },
    {
     "name": "stderr",
     "output_type": "stream",
     "text": [
      "\r",
      "  9%|▉         | 116/1296 [12:21<4:50:10, 14.75s/it]"
     ]
    },
    {
     "name": "stdout",
     "output_type": "stream",
     "text": [
      "params:[-1.06931823e-01  2.11133665e+02]\n",
      "validate rmse : 0.0032877028815250318 \n",
      " validate mae : 0.0027453052983419856 \n",
      "\n",
      "    test rmse : 0.004295607420190073 \n",
      " test mae : 0.003691913068663316\n",
      "(('sa', 1), ('sal', 2), ('sa', 2), ('sal', 1))\n"
     ]
    },
    {
     "name": "stderr",
     "output_type": "stream",
     "text": [
      "\r",
      "  9%|▉         | 117/1296 [12:27<3:59:51, 12.21s/it]"
     ]
    },
    {
     "name": "stdout",
     "output_type": "stream",
     "text": [
      "params:[-1.07009353e-01  2.11195500e+02]\n",
      "validate rmse : 0.003842282734750035 \n",
      " validate mae : 0.0033395140437195436 \n",
      "\n",
      "    test rmse : 0.014240153170618814 \n",
      " test mae : 0.014117270985469955\n",
      "(('sa', 1), ('sal', 2), ('sa', 2), ('sal', 2))\n"
     ]
    },
    {
     "name": "stderr",
     "output_type": "stream",
     "text": [
      "\r",
      "  9%|▉         | 118/1296 [12:44<4:24:40, 13.48s/it]"
     ]
    },
    {
     "name": "stdout",
     "output_type": "stream",
     "text": [
      "params:[-1.07696655e-01  2.12326907e+02]\n",
      "validate rmse : 0.007932358922705707 \n",
      " validate mae : 0.0071559174232385435 \n",
      "\n",
      "    test rmse : 0.023064592689026046 \n",
      " test mae : 0.02292761479969013\n",
      "(('sa', 1), ('sal', 2), ('sa', 2), ('box_cox', 1))\n"
     ]
    },
    {
     "name": "stderr",
     "output_type": "stream",
     "text": [
      "\r",
      "  9%|▉         | 119/1296 [12:56<4:20:35, 13.28s/it]"
     ]
    },
    {
     "name": "stdout",
     "output_type": "stream",
     "text": [
      "params:[-1.04410157e-01  2.05371242e+02]\n",
      "validate rmse : 0.0058627772349144755 \n",
      " validate mae : 0.005597973943425689 \n",
      "\n",
      "    test rmse : 0.00263965222918268 \n",
      " test mae : 0.0023495795268168107\n",
      "(('sa', 1), ('sal', 2), ('sa', 2), ('box_cox', 2))\n"
     ]
    },
    {
     "name": "stderr",
     "output_type": "stream",
     "text": [
      "\r",
      "  9%|▉         | 120/1296 [13:01<3:27:17, 10.58s/it]"
     ]
    },
    {
     "name": "stdout",
     "output_type": "stream",
     "text": [
      "params:[-1.30768763e-01  2.56388168e+02]\n",
      "validate rmse : 0.0065889318114059564 \n",
      " validate mae : 0.005868516926619359 \n",
      "\n",
      "    test rmse : 0.01744005204477422 \n",
      " test mae : 0.017342058979599763\n",
      "(('sa', 1), ('sal', 2), ('sal', 1), ('sa', 1))\n"
     ]
    },
    {
     "name": "stderr",
     "output_type": "stream",
     "text": [
      "\r",
      "  9%|▉         | 121/1296 [13:10<3:18:10, 10.12s/it]"
     ]
    },
    {
     "name": "stdout",
     "output_type": "stream",
     "text": [
      "params:[-1.07230432e-01  2.11752762e+02]\n",
      "validate rmse : 0.003605182643091279 \n",
      " validate mae : 0.003193304538695933 \n",
      "\n",
      "    test rmse : 0.014024779475573181 \n",
      " test mae : 0.013899676186975284\n",
      "(('sa', 1), ('sal', 2), ('sal', 1), ('sa', 2))\n"
     ]
    },
    {
     "name": "stderr",
     "output_type": "stream",
     "text": [
      "\r",
      "  9%|▉         | 122/1296 [13:23<3:36:50, 11.08s/it]"
     ]
    },
    {
     "name": "stdout",
     "output_type": "stream",
     "text": [
      "params:[-1.07641108e-01  2.12641140e+02]\n",
      "validate rmse : 0.0025185376725904325 \n",
      " validate mae : 0.0018846304252272009 \n",
      "\n",
      "    test rmse : 0.003832017942123137 \n",
      " test mae : 0.0030899532565575\n",
      "(('sa', 1), ('sal', 2), ('sal', 1), ('sal', 1))\n"
     ]
    },
    {
     "name": "stderr",
     "output_type": "stream",
     "text": [
      "\r",
      "  9%|▉         | 123/1296 [13:27<2:54:34,  8.93s/it]"
     ]
    },
    {
     "name": "stdout",
     "output_type": "stream",
     "text": [
      "params:[-1.01492548e-01  2.00211775e+02]\n",
      "validate rmse : 0.004823408994937464 \n",
      " validate mae : 0.004000928149470494 \n",
      "\n",
      "    test rmse : 0.013658033306251456 \n",
      " test mae : 0.01352726085896109\n",
      "(('sa', 1), ('sal', 2), ('sal', 1), ('sal', 2))\n"
     ]
    },
    {
     "name": "stderr",
     "output_type": "stream",
     "text": [
      "\r",
      " 10%|▉         | 124/1296 [13:40<3:20:42, 10.28s/it]"
     ]
    },
    {
     "name": "stdout",
     "output_type": "stream",
     "text": [
      "params:[-5.61044734e-01  1.11940682e+03]\n",
      "validate rmse : 0.1668440007989542 \n",
      " validate mae : 0.166776037275437 \n",
      "\n",
      "    test rmse : 0.18152591402517643 \n",
      " test mae : 0.18151651854856304\n",
      "(('sa', 1), ('sal', 2), ('sal', 1), ('box_cox', 1))\n",
      "params:[-1.96876886e+01  3.86589969e+04]\n"
     ]
    },
    {
     "name": "stderr",
     "output_type": "stream",
     "text": [
      "\r",
      " 10%|▉         | 125/1296 [14:05<4:44:21, 14.57s/it]"
     ]
    },
    {
     "name": "stdout",
     "output_type": "stream",
     "text": [
      "validate rmse : 0.10657943756343298 \n",
      " validate mae : 0.10623558614113958 \n",
      "\n",
      "    test rmse : 0.13748852766589648 \n",
      " test mae : 0.13737813487804545\n",
      "(('sa', 1), ('sal', 2), ('sal', 1), ('box_cox', 2))\n"
     ]
    },
    {
     "name": "stderr",
     "output_type": "stream",
     "text": [
      "\r",
      " 10%|▉         | 126/1296 [14:08<3:38:16, 11.19s/it]"
     ]
    },
    {
     "name": "stdout",
     "output_type": "stream",
     "text": [
      "params:[1.64765998e-05 1.30510129e+00]\n",
      "validate rmse : 0.10539041326922198 \n",
      " validate mae : 0.10533046604507575 \n",
      "\n",
      "    test rmse : 0.11096919435429202 \n",
      " test mae : 0.11086603503343738\n",
      "(('sa', 1), ('sal', 2), ('sal', 2), ('sa', 1))\n"
     ]
    },
    {
     "name": "stderr",
     "output_type": "stream",
     "text": [
      "\r",
      " 10%|▉         | 127/1296 [14:33<4:56:51, 15.24s/it]"
     ]
    },
    {
     "name": "stdout",
     "output_type": "stream",
     "text": [
      "params:[-1.08581670e-01  2.14375136e+02]\n",
      "validate rmse : 0.002166638147781465 \n",
      " validate mae : 0.0019189978871778368 \n",
      "\n",
      "    test rmse : 0.009030933737849939 \n",
      " test mae : 0.00881652412034588\n",
      "(('sa', 1), ('sal', 2), ('sal', 2), ('sa', 2))\n"
     ]
    },
    {
     "name": "stderr",
     "output_type": "stream",
     "text": [
      "\r",
      " 10%|▉         | 128/1296 [15:00<6:05:31, 18.78s/it]"
     ]
    },
    {
     "name": "stdout",
     "output_type": "stream",
     "text": [
      "params:[-1.48034565e-01  2.91622983e+02]\n",
      "validate rmse : 0.11979992638753753 \n",
      " validate mae : 0.11775657045852032 \n",
      "\n",
      "    test rmse : 0.1623622178630924 \n",
      " test mae : 0.16222616550269903\n",
      "(('sa', 1), ('sal', 2), ('sal', 2), ('sal', 1))\n"
     ]
    },
    {
     "name": "stderr",
     "output_type": "stream",
     "text": [
      "\r",
      " 10%|▉         | 129/1296 [15:14<5:38:30, 17.40s/it]"
     ]
    },
    {
     "name": "stdout",
     "output_type": "stream",
     "text": [
      "params:[-1.07241903e-01  2.11952580e+02]\n",
      "validate rmse : 0.0021850541690369004 \n",
      " validate mae : 0.0017234951853178121 \n",
      "\n",
      "    test rmse : 0.003300624213702947 \n",
      " test mae : 0.002656479512386008\n",
      "(('sa', 1), ('sal', 2), ('sal', 2), ('sal', 2))\n"
     ]
    },
    {
     "name": "stderr",
     "output_type": "stream",
     "text": [
      "\r",
      " 10%|█         | 130/1296 [15:37<6:12:07, 19.15s/it]"
     ]
    },
    {
     "name": "stdout",
     "output_type": "stream",
     "text": [
      "params:[-1.14073616e-01  2.24998121e+02]\n",
      "validate rmse : 0.011283128134008898 \n",
      " validate mae : 0.01033916861908001 \n",
      "\n",
      "    test rmse : 0.02998268128052057 \n",
      " test mae : 0.029814737194950914\n",
      "(('sa', 1), ('sal', 2), ('sal', 2), ('box_cox', 1))\n"
     ]
    },
    {
     "name": "stderr",
     "output_type": "stream",
     "text": [
      "\r",
      " 10%|█         | 131/1296 [15:46<5:12:45, 16.11s/it]"
     ]
    },
    {
     "name": "stdout",
     "output_type": "stream",
     "text": [
      "params:[-1.48996228e-02  3.37772058e+01]\n",
      "validate rmse : 0.2779985194049442 \n",
      " validate mae : 0.25862731651738186 \n",
      "\n",
      "    test rmse : 0.17748165192348872 \n",
      " test mae : 0.1774705496441647\n",
      "(('sa', 1), ('sal', 2), ('sal', 2), ('box_cox', 2))\n"
     ]
    },
    {
     "name": "stderr",
     "output_type": "stream",
     "text": [
      "\r",
      " 10%|█         | 132/1296 [16:07<5:39:04, 17.48s/it]"
     ]
    },
    {
     "name": "stdout",
     "output_type": "stream",
     "text": [
      "params:[-1.18388695e-01  2.31877491e+02]\n",
      "validate rmse : 0.002163604468537447 \n",
      " validate mae : 0.001919705915971717 \n",
      "\n",
      "    test rmse : 0.008281328687712239 \n",
      " test mae : 0.008011401922980511\n",
      "(('sa', 1), ('sal', 2), ('box_cox', 1), ('sa', 1))\n"
     ]
    },
    {
     "name": "stderr",
     "output_type": "stream",
     "text": [
      "\r",
      " 10%|█         | 133/1296 [16:14<4:38:49, 14.38s/it]"
     ]
    },
    {
     "name": "stdout",
     "output_type": "stream",
     "text": [
      "params:[-1.02825725e-01  2.02741895e+02]\n",
      "validate rmse : 0.0026941566265838387 \n",
      " validate mae : 0.0021628604624138537 \n",
      "\n",
      "    test rmse : 0.005208853360214294 \n",
      " test mae : 0.004736763029891257\n",
      "(('sa', 1), ('sal', 2), ('box_cox', 1), ('sa', 2))\n",
      "params:[-2.39331863e+04  4.80611206e+07]\n"
     ]
    },
    {
     "name": "stderr",
     "output_type": "stream",
     "text": [
      "\r",
      " 10%|█         | 134/1296 [16:24<4:09:13, 12.87s/it]"
     ]
    },
    {
     "name": "stdout",
     "output_type": "stream",
     "text": [
      "validate rmse : 0.04227721518411359 \n",
      " validate mae : 0.032359133006937865 \n",
      "\n",
      "    test rmse : 0.07892943333308831 \n",
      " test mae : 0.07880625342377147\n",
      "(('sa', 1), ('sal', 2), ('box_cox', 1), ('sal', 1))\n"
     ]
    },
    {
     "name": "stderr",
     "output_type": "stream",
     "text": [
      "\r",
      " 10%|█         | 135/1296 [16:29<3:27:34, 10.73s/it]"
     ]
    },
    {
     "name": "stdout",
     "output_type": "stream",
     "text": [
      "params:[-1. -1.]\n",
      "validate rmse : 0.4580429379405005 \n",
      " validate mae : 0.4485435417034621 \n",
      "\n",
      "    test rmse : 0.3398753504587183 \n",
      " test mae : 0.33941234629202593\n",
      "(('sa', 1), ('sal', 2), ('box_cox', 1), ('sal', 2))\n",
      "params:[471.17916412 100.42540518]\n"
     ]
    },
    {
     "name": "stderr",
     "output_type": "stream",
     "text": [
      "\r",
      " 10%|█         | 136/1296 [16:45<3:54:27, 12.13s/it]"
     ]
    },
    {
     "name": "stdout",
     "output_type": "stream",
     "text": [
      "validate rmse : 0.0869448292546536 \n",
      " validate mae : 0.08688385147485014 \n",
      "\n",
      "    test rmse : 0.09123494966644365 \n",
      " test mae : 0.0911277510266731\n",
      "(('sa', 1), ('sal', 2), ('box_cox', 1), ('box_cox', 1))\n"
     ]
    },
    {
     "name": "stderr",
     "output_type": "stream",
     "text": [
      "\r",
      " 11%|█         | 137/1296 [16:55<3:43:48, 11.59s/it]"
     ]
    },
    {
     "name": "stdout",
     "output_type": "stream",
     "text": [
      "params:[-1.51130372e-02  3.24383335e+01]\n",
      "validate rmse : 0.2871820201554897 \n",
      " validate mae : 0.28655997627003343 \n",
      "\n",
      "    test rmse : 0.2437980930251266 \n",
      " test mae : 0.24374605950782763\n",
      "(('sa', 1), ('sal', 2), ('box_cox', 1), ('box_cox', 2))\n",
      "params:[-1.04092121e-01  2.02558505e+02]\n"
     ]
    },
    {
     "data": {
      "image/png": "[encoded data removed]",
      "text/plain": [
       "<Figure size 432x288 with 1 Axes>"
      ]
     },
     "metadata": {
      "needs_background": "light"
     },
     "output_type": "display_data"
    },
    {
     "name": "stderr",
     "output_type": "stream",
     "text": [
      "\r",
      " 11%|█         | 138/1296 [17:08<3:51:26, 11.99s/it]"
     ]
    },
    {
     "name": "stdout",
     "output_type": "stream",
     "text": [
      "validate rmse : 0.0019053247931423679 \n",
      " validate mae : 0.0017259623674999486 \n",
      "\n",
      "    test rmse : 0.007425133130344032 \n",
      " test mae : 0.007108611485450329\n",
      "(('sa', 1), ('sal', 2), ('box_cox', 2), ('sa', 1))\n",
      "params:[-9.03609814e-02  1.77304954e+02]\n"
     ]
    },
    {
     "data": {
      "image/png": "[encoded data removed]",
      "text/plain": [
       "<Figure size 432x288 with 1 Axes>"
      ]
     },
     "metadata": {
      "needs_background": "light"
     },
     "output_type": "display_data"
    },
    {
     "name": "stderr",
     "output_type": "stream",
     "text": [
      "\r",
      " 11%|█         | 139/1296 [17:37<5:28:52, 17.06s/it]"
     ]
    },
    {
     "name": "stdout",
     "output_type": "stream",
     "text": [
      "validate rmse : 0.0018518928270245913 \n",
      " validate mae : 0.0016693588437370502 \n",
      "\n",
      "    test rmse : 0.006884950301037717 \n",
      " test mae : 0.0065197535722562915\n",
      "(('sa', 1), ('sal', 2), ('box_cox', 2), ('sa', 2))\n"
     ]
    },
    {
     "name": "stderr",
     "output_type": "stream",
     "text": [
      "\r",
      " 11%|█         | 140/1296 [17:56<5:38:02, 17.55s/it]"
     ]
    },
    {
     "name": "stdout",
     "output_type": "stream",
     "text": [
      "params:[-8.78366603e-02  1.73532559e+02]\n",
      "validate rmse : 0.014895591241708231 \n",
      " validate mae : 0.01473665343148912 \n",
      "\n",
      "    test rmse : 0.023055252596353423 \n",
      " test mae : 0.022966084726368352\n",
      "(('sa', 1), ('sal', 2), ('box_cox', 2), ('sal', 1))\n",
      "params:[-1. -1.]\n"
     ]
    },
    {
     "name": "stderr",
     "output_type": "stream",
     "text": [
      "\r",
      " 11%|█         | 141/1296 [18:03<4:41:37, 14.63s/it]"
     ]
    },
    {
     "name": "stdout",
     "output_type": "stream",
     "text": [
      "validate rmse : 0.13339007960335655 \n",
      " validate mae : 0.12755594277578802 \n",
      "\n",
      "    test rmse : 0.9060738094247145 \n",
      " test mae : 0.7659100859255766\n",
      "(('sa', 1), ('sal', 2), ('box_cox', 2), ('sal', 2))\n"
     ]
    },
    {
     "name": "stderr",
     "output_type": "stream",
     "text": [
      "\r",
      " 11%|█         | 142/1296 [18:32<6:00:02, 18.72s/it]"
     ]
    },
    {
     "name": "stdout",
     "output_type": "stream",
     "text": [
      "params:[-1.09051429e-01  2.15563941e+02]\n",
      "validate rmse : 0.002876489746508131 \n",
      " validate mae : 0.0022310883703484823 \n",
      "\n",
      "    test rmse : 0.003027041304901183 \n",
      " test mae : 0.0022452778684081526\n",
      "(('sa', 1), ('sal', 2), ('box_cox', 2), ('box_cox', 1))\n"
     ]
    },
    {
     "name": "stderr",
     "output_type": "stream",
     "text": [
      "\r",
      " 11%|█         | 143/1296 [18:39<4:51:34, 15.17s/it]"
     ]
    },
    {
     "name": "stdout",
     "output_type": "stream",
     "text": [
      "params:[ 1.23897599e-02 -2.15847328e+01]\n",
      "validate rmse : 0.0749641474428307 \n",
      " validate mae : 0.07417442781954285 \n",
      "\n",
      "    test rmse : 0.09927330562903411 \n",
      " test mae : 0.09901461675718111\n",
      "(('sa', 1), ('sal', 2), ('box_cox', 2), ('box_cox', 2))\n"
     ]
    },
    {
     "name": "stderr",
     "output_type": "stream",
     "text": [
      "\r",
      " 11%|█         | 144/1296 [18:52<4:39:18, 14.55s/it]"
     ]
    },
    {
     "name": "stdout",
     "output_type": "stream",
     "text": [
      "params:[-8.67477123e-02  1.67129379e+02]\n",
      "validate rmse : 0.005947500732552113 \n",
      " validate mae : 0.005516601823556911 \n",
      "\n",
      "    test rmse : 0.014750363850894725 \n",
      " test mae : 0.014626532425105313\n",
      "(('sa', 1), ('box_cox', 1), ('sa', 1), ('sa', 1))\n"
     ]
    },
    {
     "name": "stderr",
     "output_type": "stream",
     "text": [
      "\r",
      " 11%|█         | 145/1296 [18:52<3:17:39, 10.30s/it]"
     ]
    },
    {
     "name": "stdout",
     "output_type": "stream",
     "text": [
      "params:[-8.08700292e-02  1.58934962e+02]\n",
      "validate rmse : 0.007277030328465304 \n",
      " validate mae : 0.007062983885590036 \n",
      "\n",
      "    test rmse : 0.003612625838295054 \n",
      " test mae : 0.0031260382016867127\n",
      "(('sa', 1), ('box_cox', 1), ('sa', 1), ('sa', 2))\n"
     ]
    },
    {
     "name": "stderr",
     "output_type": "stream",
     "text": [
      "\r",
      " 11%|█▏        | 146/1296 [18:53<2:21:44,  7.39s/it]"
     ]
    },
    {
     "name": "stdout",
     "output_type": "stream",
     "text": [
      "params:[-8.08696102e-02  1.58934136e+02]\n",
      "validate rmse : 0.007277035198617365 \n",
      " validate mae : 0.0070629889166958825 \n",
      "\n",
      "    test rmse : 0.003612625402492469 \n",
      " test mae : 0.0031260382554531125\n",
      "(('sa', 1), ('box_cox', 1), ('sa', 1), ('sal', 1))\n"
     ]
    },
    {
     "name": "stderr",
     "output_type": "stream",
     "text": [
      "\r",
      " 11%|█▏        | 147/1296 [18:56<1:58:45,  6.20s/it]"
     ]
    },
    {
     "name": "stdout",
     "output_type": "stream",
     "text": [
      "params:[-1.08795800e-01  2.14838023e+02]\n",
      "validate rmse : 0.002171415763856004 \n",
      " validate mae : 0.0019312877794423597 \n",
      "\n",
      "    test rmse : 0.00840105800230848 \n",
      " test mae : 0.008133497757518938\n",
      "(('sa', 1), ('box_cox', 1), ('sa', 1), ('sal', 2))\n"
     ]
    },
    {
     "name": "stderr",
     "output_type": "stream",
     "text": [
      "\r",
      " 11%|█▏        | 148/1296 [19:14<3:03:02,  9.57s/it]"
     ]
    },
    {
     "name": "stdout",
     "output_type": "stream",
     "text": [
      "params:[-1.08488204e-01  2.14230478e+02]\n",
      "validate rmse : 0.0020515051186670613 \n",
      " validate mae : 0.001721797252250317 \n",
      "\n",
      "    test rmse : 0.004396384573302448 \n",
      " test mae : 0.0035843066553466673\n",
      "(('sa', 1), ('box_cox', 1), ('sa', 1), ('box_cox', 1))\n"
     ]
    },
    {
     "name": "stderr",
     "output_type": "stream",
     "text": [
      "\r",
      " 11%|█▏        | 149/1296 [19:14<2:10:37,  6.83s/it]"
     ]
    },
    {
     "name": "stdout",
     "output_type": "stream",
     "text": [
      "params:[-8.39221677e-02  1.63797890e+02]\n",
      "validate rmse : 0.004264882294759101 \n",
      " validate mae : 0.0038711368652980566 \n",
      "\n",
      "    test rmse : 0.0029266898799077882 \n",
      " test mae : 0.0022005911597459643\n",
      "(('sa', 1), ('box_cox', 1), ('sa', 1), ('box_cox', 2))\n"
     ]
    },
    {
     "name": "stderr",
     "output_type": "stream",
     "text": [
      "\r",
      " 12%|█▏        | 150/1296 [19:14<1:33:51,  4.91s/it]"
     ]
    },
    {
     "name": "stdout",
     "output_type": "stream",
     "text": [
      "params:[-8.04437848e-02  1.55937596e+02]\n",
      "validate rmse : 0.004491486907205718 \n",
      " validate mae : 0.004123605232511969 \n",
      "\n",
      "    test rmse : 0.0027265216134501127 \n",
      " test mae : 0.0019442326697386356\n",
      "(('sa', 1), ('box_cox', 1), ('sa', 2), ('sa', 1))\n"
     ]
    },
    {
     "name": "stderr",
     "output_type": "stream",
     "text": [
      "\r",
      " 12%|█▏        | 151/1296 [19:15<1:08:26,  3.59s/it]"
     ]
    },
    {
     "name": "stdout",
     "output_type": "stream",
     "text": [
      "params:[-8.08698488e-02  1.58934607e+02]\n",
      "validate rmse : 0.0072770676329401785 \n",
      " validate mae : 0.0070630223286011285 \n",
      "\n",
      "    test rmse : 0.0036126692797074163 \n",
      " test mae : 0.0031260801276334588\n",
      "(('sa', 1), ('box_cox', 1), ('sa', 2), ('sa', 2))\n"
     ]
    },
    {
     "name": "stderr",
     "output_type": "stream",
     "text": [
      "\r",
      " 12%|█▏        | 152/1296 [19:16<51:27,  2.70s/it]  "
     ]
    },
    {
     "name": "stdout",
     "output_type": "stream",
     "text": [
      "params:[-8.08684400e-02  1.58931829e+02]\n",
      "validate rmse : 0.007277706903212374 \n",
      " validate mae : 0.007063681080376126 \n",
      "\n",
      "    test rmse : 0.003613407720341312 \n",
      " test mae : 0.0031267930477634604\n",
      "(('sa', 1), ('box_cox', 1), ('sa', 2), ('sal', 1))\n"
     ]
    },
    {
     "name": "stderr",
     "output_type": "stream",
     "text": [
      "\r",
      " 12%|█▏        | 153/1296 [19:19<55:27,  2.91s/it]"
     ]
    },
    {
     "name": "stdout",
     "output_type": "stream",
     "text": [
      "params:[-1.08794338e-01  2.14835031e+02]\n",
      "validate rmse : 0.0021716841576919855 \n",
      " validate mae : 0.0019314132132166872 \n",
      "\n",
      "    test rmse : 0.008402479732353633 \n",
      " test mae : 0.008135004854419706\n",
      "(('sa', 1), ('box_cox', 1), ('sa', 2), ('sal', 2))\n",
      "params:[-7.65970202e+04  1.50243264e+08]\n"
     ]
    },
    {
     "name": "stderr",
     "output_type": "stream",
     "text": [
      "\r",
      " 12%|█▏        | 154/1296 [19:25<1:12:19,  3.80s/it]"
     ]
    },
    {
     "name": "stdout",
     "output_type": "stream",
     "text": [
      "validate rmse : 0.016666154872628902 \n",
      " validate mae : 0.01656642826539387 \n",
      "\n",
      "    test rmse : 0.013762023096130567 \n",
      " test mae : 0.013487095656367576\n",
      "(('sa', 1), ('box_cox', 1), ('sa', 2), ('box_cox', 1))\n"
     ]
    },
    {
     "name": "stderr",
     "output_type": "stream",
     "text": [
      "\r",
      " 12%|█▏        | 155/1296 [19:25<53:28,  2.81s/it]  "
     ]
    },
    {
     "name": "stdout",
     "output_type": "stream",
     "text": [
      "params:[-8.39253174e-02  1.63804103e+02]\n",
      "validate rmse : 0.00426328688814734 \n",
      " validate mae : 0.003869354654411774 \n",
      "\n",
      "    test rmse : 0.0029281233180994196 \n",
      " test mae : 0.002202403944905352\n",
      "(('sa', 1), ('box_cox', 1), ('sa', 2), ('box_cox', 2))\n"
     ]
    },
    {
     "name": "stderr",
     "output_type": "stream",
     "text": [
      "\r",
      " 12%|█▏        | 156/1296 [19:26<40:05,  2.11s/it]"
     ]
    },
    {
     "name": "stdout",
     "output_type": "stream",
     "text": [
      "params:[-8.04437731e-02  1.55937572e+02]\n",
      "validate rmse : 0.004491466285209446 \n",
      " validate mae : 0.0041235826345938685 \n",
      "\n",
      "    test rmse : 0.002726534532766555 \n",
      " test mae : 0.0019442440442821332\n",
      "(('sa', 1), ('box_cox', 1), ('sal', 1), ('sa', 1))\n"
     ]
    },
    {
     "name": "stderr",
     "output_type": "stream",
     "text": [
      "\r",
      " 12%|█▏        | 157/1296 [19:29<44:47,  2.36s/it]"
     ]
    },
    {
     "name": "stdout",
     "output_type": "stream",
     "text": [
      "params:[-1.08940991e-01  2.15150152e+02]\n",
      "validate rmse : 0.0022271637014170363 \n",
      " validate mae : 0.0019563179166542178 \n",
      "\n",
      "    test rmse : 0.008646964187366372 \n",
      " test mae : 0.00839246399793633\n",
      "(('sa', 1), ('box_cox', 1), ('sal', 1), ('sa', 2))\n"
     ]
    },
    {
     "name": "stderr",
     "output_type": "stream",
     "text": [
      "\r",
      " 12%|█▏        | 158/1296 [19:32<48:34,  2.56s/it]"
     ]
    },
    {
     "name": "stdout",
     "output_type": "stream",
     "text": [
      "params:[-1.08942974e-01  2.15154585e+02]\n",
      "validate rmse : 0.002225745921559661 \n",
      " validate mae : 0.0019557012103334176 \n",
      "\n",
      "    test rmse : 0.008640936928345088 \n",
      " test mae : 0.008386129866920574\n",
      "(('sa', 1), ('box_cox', 1), ('sal', 1), ('sal', 1))\n"
     ]
    },
    {
     "name": "stderr",
     "output_type": "stream",
     "text": [
      "\r",
      " 12%|█▏        | 159/1296 [19:35<54:05,  2.85s/it]"
     ]
    },
    {
     "name": "stdout",
     "output_type": "stream",
     "text": [
      "params:[-1.07230648e-01  2.11668594e+02]\n",
      "validate rmse : 0.00212273622965375 \n",
      " validate mae : 0.0019012580797092243 \n",
      "\n",
      "    test rmse : 0.008338720767557466 \n",
      " test mae : 0.008074828216617983\n",
      "(('sa', 1), ('box_cox', 1), ('sal', 1), ('sal', 2))\n"
     ]
    },
    {
     "name": "stderr",
     "output_type": "stream",
     "text": [
      "\r",
      " 12%|█▏        | 160/1296 [19:37<45:57,  2.43s/it]"
     ]
    },
    {
     "name": "stdout",
     "output_type": "stream",
     "text": [
      "params:[-2.93701312e-02  5.92705173e+01]\n",
      "validate rmse : 0.044645277417907345 \n",
      " validate mae : 0.04354263408943315 \n",
      "\n",
      "    test rmse : 0.08904151340184223 \n",
      " test mae : 0.08823291377910138\n",
      "(('sa', 1), ('box_cox', 1), ('sal', 1), ('box_cox', 1))\n"
     ]
    },
    {
     "name": "stderr",
     "output_type": "stream",
     "text": [
      "\r",
      " 12%|█▏        | 161/1296 [19:40<52:23,  2.77s/it]"
     ]
    },
    {
     "name": "stdout",
     "output_type": "stream",
     "text": [
      "params:[-1.06730883e-01  2.09879350e+02]\n",
      "validate rmse : 0.0030419494927639177 \n",
      " validate mae : 0.002447215462730797 \n",
      "\n",
      "    test rmse : 0.003728806826167688 \n",
      " test mae : 0.0030204004657964595\n",
      "(('sa', 1), ('box_cox', 1), ('sal', 1), ('box_cox', 2))\n"
     ]
    },
    {
     "name": "stderr",
     "output_type": "stream",
     "text": [
      "\r",
      " 12%|█▎        | 162/1296 [19:43<54:26,  2.88s/it]"
     ]
    },
    {
     "name": "stdout",
     "output_type": "stream",
     "text": [
      "params:[-1.08619974e-01  2.12499365e+02]\n",
      "validate rmse : 0.0027111287536704764 \n",
      " validate mae : 0.002183120594758285 \n",
      "\n",
      "    test rmse : 0.00608544545755103 \n",
      " test mae : 0.005734435610157367\n",
      "(('sa', 1), ('box_cox', 1), ('sal', 2), ('sa', 1))\n"
     ]
    },
    {
     "name": "stderr",
     "output_type": "stream",
     "text": [
      "\r",
      " 13%|█▎        | 163/1296 [19:45<49:21,  2.61s/it]"
     ]
    },
    {
     "name": "stdout",
     "output_type": "stream",
     "text": [
      "params:[-8.78234700e-02  1.72740275e+02]\n",
      "validate rmse : 0.0052544454982814265 \n",
      " validate mae : 0.004951991710984808 \n",
      "\n",
      "    test rmse : 0.0024993757948648613 \n",
      " test mae : 0.002126763713605238\n",
      "(('sa', 1), ('box_cox', 1), ('sal', 2), ('sa', 2))\n"
     ]
    },
    {
     "name": "stderr",
     "output_type": "stream",
     "text": [
      "\r",
      " 13%|█▎        | 164/1296 [19:53<1:18:30,  4.16s/it]"
     ]
    },
    {
     "name": "stdout",
     "output_type": "stream",
     "text": [
      "params:[-1.07931986e-01  2.13265211e+02]\n",
      "validate rmse : 0.004023301096697097 \n",
      " validate mae : 0.0036165166139280613 \n",
      "\n",
      "    test rmse : 0.002879376272510178 \n",
      " test mae : 0.002077427234966678\n",
      "(('sa', 1), ('box_cox', 1), ('sal', 2), ('sal', 1))\n",
      "params:[-1.0927356e-01  2.1584693e+02]\n"
     ]
    },
    {
     "name": "stderr",
     "output_type": "stream",
     "text": [
      "\r",
      " 13%|█▎        | 165/1296 [20:14<2:54:43,  9.27s/it]"
     ]
    },
    {
     "name": "stdout",
     "output_type": "stream",
     "text": [
      "validate rmse : 0.003226980304507048 \n",
      " validate mae : 0.0026896945709705927 \n",
      "\n",
      "    test rmse : 0.0037885066083447752 \n",
      " test mae : 0.003081696311770204\n",
      "(('sa', 1), ('box_cox', 1), ('sal', 2), ('sal', 2))\n"
     ]
    },
    {
     "name": "stderr",
     "output_type": "stream",
     "text": [
      "\r",
      " 13%|█▎        | 166/1296 [20:25<3:04:46,  9.81s/it]"
     ]
    },
    {
     "name": "stdout",
     "output_type": "stream",
     "text": [
      "params:[-1.08961043e-01  2.15189343e+02]\n",
      "validate rmse : 0.0030730238050608177 \n",
      " validate mae : 0.0025120429832625824 \n",
      "\n",
      "    test rmse : 0.003827889656710811 \n",
      " test mae : 0.0031087427659011063\n",
      "(('sa', 1), ('box_cox', 1), ('sal', 2), ('box_cox', 1))\n"
     ]
    },
    {
     "name": "stderr",
     "output_type": "stream",
     "text": [
      "\r",
      " 13%|█▎        | 167/1296 [20:27<2:20:42,  7.48s/it]"
     ]
    },
    {
     "name": "stdout",
     "output_type": "stream",
     "text": [
      "params:[-2.69574084e-03  8.41862506e+00]\n",
      "validate rmse : 0.09902912591283054 \n",
      " validate mae : 0.0602894230733343 \n",
      "\n",
      "    test rmse : 0.02968631866753674 \n",
      " test mae : 0.02941215903817181\n",
      "(('sa', 1), ('box_cox', 1), ('sal', 2), ('box_cox', 2))\n",
      "params:[-1.06933791e-01  2.09282696e+02]\n"
     ]
    },
    {
     "name": "stderr",
     "output_type": "stream",
     "text": [
      "\r",
      " 13%|█▎        | 168/1296 [20:38<2:36:08,  8.31s/it]"
     ]
    },
    {
     "name": "stdout",
     "output_type": "stream",
     "text": [
      "validate rmse : 0.004115714350931827 \n",
      " validate mae : 0.003723241623432718 \n",
      "\n",
      "    test rmse : 0.002669764066378532 \n",
      " test mae : 0.0020711256361014402\n",
      "(('sa', 1), ('box_cox', 1), ('box_cox', 1), ('sa', 1))\n"
     ]
    },
    {
     "name": "stderr",
     "output_type": "stream",
     "text": [
      "\r",
      " 13%|█▎        | 169/1296 [20:38<1:51:33,  5.94s/it]"
     ]
    },
    {
     "name": "stdout",
     "output_type": "stream",
     "text": [
      "params:[-7.56688464e-02  1.47922325e+02]\n",
      "validate rmse : 0.004506532904176463 \n",
      " validate mae : 0.004141403665083869 \n",
      "\n",
      "    test rmse : 0.002694646951908052 \n",
      " test mae : 0.0019139871139363582\n",
      "(('sa', 1), ('box_cox', 1), ('box_cox', 1), ('sa', 2))\n"
     ]
    },
    {
     "name": "stderr",
     "output_type": "stream",
     "text": [
      "\r",
      " 13%|█▎        | 170/1296 [20:39<1:21:03,  4.32s/it]"
     ]
    },
    {
     "name": "stdout",
     "output_type": "stream",
     "text": [
      "params:[-7.56688569e-02  1.47922346e+02]\n",
      "validate rmse : 0.0045065480253748845 \n",
      " validate mae : 0.004141420080256261 \n",
      "\n",
      "    test rmse : 0.0026946401099723315 \n",
      " test mae : 0.001913980821326104\n",
      "(('sa', 1), ('box_cox', 1), ('box_cox', 1), ('sal', 1))\n"
     ]
    },
    {
     "name": "stderr",
     "output_type": "stream",
     "text": [
      "\r",
      " 13%|█▎        | 171/1296 [20:39<1:01:01,  3.25s/it]"
     ]
    },
    {
     "name": "stdout",
     "output_type": "stream",
     "text": [
      "params:[-1.05091923e-01  2.07572813e+02]\n",
      "validate rmse : 0.00477455475464972 \n",
      " validate mae : 0.004422574217665252 \n",
      "\n",
      "    test rmse : 0.0027558025582432467 \n",
      " test mae : 0.0020444868229603746\n",
      "(('sa', 1), ('box_cox', 1), ('box_cox', 1), ('sal', 2))\n"
     ]
    },
    {
     "name": "stderr",
     "output_type": "stream",
     "text": [
      "\r",
      " 13%|█▎        | 172/1296 [20:52<1:55:13,  6.15s/it]"
     ]
    },
    {
     "name": "stdout",
     "output_type": "stream",
     "text": [
      "params:[-1.50582853e-02  2.51847061e+01]\n",
      "validate rmse : 0.07798060783579773 \n",
      " validate mae : 0.07700156431718828 \n",
      "\n",
      "    test rmse : 0.12314168166945312 \n",
      " test mae : 0.12276727078008264\n",
      "(('sa', 1), ('box_cox', 1), ('box_cox', 1), ('box_cox', 1))\n"
     ]
    },
    {
     "name": "stderr",
     "output_type": "stream",
     "text": [
      "\r",
      " 13%|█▎        | 173/1296 [20:53<1:22:24,  4.40s/it]"
     ]
    },
    {
     "name": "stdout",
     "output_type": "stream",
     "text": [
      "params:[-8.18029965e-02  1.58101351e+02]\n",
      "validate rmse : 0.0031538192108635003 \n",
      " validate mae : 0.0025742610841130165 \n",
      "\n",
      "    test rmse : 0.004303188766914686 \n",
      " test mae : 0.003668029599393643\n",
      "(('sa', 1), ('box_cox', 1), ('box_cox', 1), ('box_cox', 2))\n"
     ]
    },
    {
     "name": "stderr",
     "output_type": "stream",
     "text": [
      "\r",
      " 13%|█▎        | 174/1296 [20:53<1:00:13,  3.22s/it]"
     ]
    },
    {
     "name": "stdout",
     "output_type": "stream",
     "text": [
      "params:[-7.13689862e-02  1.36483307e+02]\n",
      "validate rmse : 0.0022431343808087443 \n",
      " validate mae : 0.001791518179425284 \n",
      "\n",
      "    test rmse : 0.005895708401961009 \n",
      " test mae : 0.0054772105068800125\n",
      "(('sa', 1), ('box_cox', 1), ('box_cox', 2), ('sa', 1))\n"
     ]
    },
    {
     "name": "stderr",
     "output_type": "stream",
     "text": [
      "\r",
      " 14%|█▎        | 175/1296 [20:54<44:49,  2.40s/it]  "
     ]
    },
    {
     "name": "stdout",
     "output_type": "stream",
     "text": [
      "params:[-6.88937085e-02  1.34247282e+02]\n",
      "validate rmse : 0.005659697453916601 \n",
      " validate mae : 0.005379286084415347 \n",
      "\n",
      "    test rmse : 0.002513502991700912 \n",
      " test mae : 0.002152481424665576\n",
      "(('sa', 1), ('box_cox', 1), ('box_cox', 2), ('sa', 2))\n"
     ]
    },
    {
     "name": "stderr",
     "output_type": "stream",
     "text": [
      "\r",
      " 14%|█▎        | 176/1296 [20:54<34:06,  1.83s/it]"
     ]
    },
    {
     "name": "stdout",
     "output_type": "stream",
     "text": [
      "params:[-6.88938468e-02  1.34247547e+02]\n",
      "validate rmse : 0.005659533230804819 \n",
      " validate mae : 0.005379112876234874 \n",
      "\n",
      "    test rmse : 0.0025134557793471055 \n",
      " test mae : 0.002152381756715025\n",
      "(('sa', 1), ('box_cox', 1), ('box_cox', 2), ('sal', 1))\n"
     ]
    },
    {
     "name": "stderr",
     "output_type": "stream",
     "text": [
      "\r",
      " 14%|█▎        | 177/1296 [20:55<28:02,  1.50s/it]"
     ]
    },
    {
     "name": "stdout",
     "output_type": "stream",
     "text": [
      "params:[-9.94200815e-02  1.96501510e+02]\n",
      "validate rmse : 0.004401550643748667 \n",
      " validate mae : 0.003993938036048619 \n",
      "\n",
      "    test rmse : 0.003382137931152749 \n",
      " test mae : 0.0030350466624162265\n",
      "(('sa', 1), ('box_cox', 1), ('box_cox', 2), ('sal', 2))\n",
      "params:[-1.08397857e+02  2.04081507e+05]\n"
     ]
    },
    {
     "data": {
      "image/png": "[encoded data removed]",
      "text/plain": [
       "<Figure size 432x288 with 1 Axes>"
      ]
     },
     "metadata": {
      "needs_background": "light"
     },
     "output_type": "display_data"
    },
    {
     "name": "stderr",
     "output_type": "stream",
     "text": [
      "\r",
      " 14%|█▎        | 178/1296 [20:59<41:02,  2.20s/it]"
     ]
    },
    {
     "name": "stdout",
     "output_type": "stream",
     "text": [
      "validate rmse : 0.001830717950676405 \n",
      " validate mae : 0.001585053893742444 \n",
      "\n",
      "    test rmse : 0.004492007845393916 \n",
      " test mae : 0.003525708028803825\n",
      "(('sa', 1), ('box_cox', 1), ('box_cox', 2), ('box_cox', 1))\n"
     ]
    },
    {
     "name": "stderr",
     "output_type": "stream",
     "text": [
      "\r",
      " 14%|█▍        | 179/1296 [20:59<30:46,  1.65s/it]"
     ]
    },
    {
     "name": "stdout",
     "output_type": "stream",
     "text": [
      "params:[-7.04025252e-02  1.34589363e+02]\n",
      "validate rmse : 0.0026127457759922514 \n",
      " validate mae : 0.0020760920615256868 \n",
      "\n",
      "    test rmse : 0.005160793570923196 \n",
      " test mae : 0.0046640757075141525\n",
      "(('sa', 1), ('box_cox', 1), ('box_cox', 2), ('box_cox', 2))\n"
     ]
    },
    {
     "name": "stderr",
     "output_type": "stream",
     "text": [
      "\r",
      " 14%|█▍        | 180/1296 [21:00<23:56,  1.29s/it]"
     ]
    },
    {
     "name": "stdout",
     "output_type": "stream",
     "text": [
      "params:[-5.75870838e-02  1.08412787e+02]\n",
      "validate rmse : 0.0020547054945720153 \n",
      " validate mae : 0.001736199305157754 \n",
      "\n",
      "    test rmse : 0.006481693711268326 \n",
      " test mae : 0.0061138392533997\n",
      "(('sa', 1), ('box_cox', 2), ('sa', 1), ('sa', 1))\n"
     ]
    },
    {
     "name": "stderr",
     "output_type": "stream",
     "text": [
      "\r",
      " 14%|█▍        | 181/1296 [21:00<19:39,  1.06s/it]"
     ]
    },
    {
     "name": "stdout",
     "output_type": "stream",
     "text": [
      "params:[-7.26522410e-02  1.41954186e+02]\n",
      "validate rmse : 0.006108236911608341 \n",
      " validate mae : 0.005851387601359095 \n",
      "\n",
      "    test rmse : 0.002899772459539557 \n",
      " test mae : 0.0026135528837123883\n",
      "(('sa', 1), ('box_cox', 2), ('sa', 1), ('sa', 2))\n"
     ]
    },
    {
     "name": "stderr",
     "output_type": "stream",
     "text": [
      "\r",
      " 14%|█▍        | 182/1296 [21:01<19:49,  1.07s/it]"
     ]
    },
    {
     "name": "stdout",
     "output_type": "stream",
     "text": [
      "params:[-7.26527018e-02  1.41955090e+02]\n",
      "validate rmse : 0.006107907456556731 \n",
      " validate mae : 0.005851043642510355 \n",
      "\n",
      "    test rmse : 0.0028995458810966938 \n",
      " test mae : 0.00261334888268703\n",
      "(('sa', 1), ('box_cox', 2), ('sa', 1), ('sal', 1))\n"
     ]
    },
    {
     "name": "stderr",
     "output_type": "stream",
     "text": [
      "\r",
      " 14%|█▍        | 183/1296 [21:02<19:17,  1.04s/it]"
     ]
    },
    {
     "name": "stdout",
     "output_type": "stream",
     "text": [
      "params:[-1.01176169e-01  1.99869700e+02]\n",
      "validate rmse : 0.006595428949474853 \n",
      " validate mae : 0.0063583166056628325 \n",
      "\n",
      "    test rmse : 0.002854633942348749 \n",
      " test mae : 0.0025662339529869166\n",
      "(('sa', 1), ('box_cox', 2), ('sa', 1), ('sal', 2))\n"
     ]
    },
    {
     "name": "stderr",
     "output_type": "stream",
     "text": [
      "\r",
      " 14%|█▍        | 184/1296 [21:03<18:25,  1.01it/s]"
     ]
    },
    {
     "name": "stdout",
     "output_type": "stream",
     "text": [
      "params:[-2.72595067e-02  5.64196758e+01]\n",
      "validate rmse : 0.02688900922107809 \n",
      " validate mae : 0.026637071533056007 \n",
      "\n",
      "    test rmse : 0.04183751998404678 \n",
      " test mae : 0.041781591149813245\n",
      "(('sa', 1), ('box_cox', 2), ('sa', 1), ('box_cox', 1))\n"
     ]
    },
    {
     "name": "stderr",
     "output_type": "stream",
     "text": [
      "\r",
      " 14%|█▍        | 185/1296 [21:04<15:58,  1.16it/s]"
     ]
    },
    {
     "name": "stdout",
     "output_type": "stream",
     "text": [
      "params:[-7.28816486e-02  1.41426917e+02]\n",
      "validate rmse : 0.006415245654250333 \n",
      " validate mae : 0.006171124545209096 \n",
      "\n",
      "    test rmse : 0.0031315175101499226 \n",
      " test mae : 0.002804027344703443\n",
      "(('sa', 1), ('box_cox', 2), ('sa', 1), ('box_cox', 2))\n"
     ]
    },
    {
     "name": "stderr",
     "output_type": "stream",
     "text": [
      "\r",
      " 14%|█▍        | 186/1296 [21:04<13:47,  1.34it/s]"
     ]
    },
    {
     "name": "stdout",
     "output_type": "stream",
     "text": [
      "params:[-7.26128246e-02  1.39875024e+02]\n",
      "validate rmse : 0.006087676163257832 \n",
      " validate mae : 0.005829920561797827 \n",
      "\n",
      "    test rmse : 0.0028855690004022765 \n",
      " test mae : 0.002600675157613958\n",
      "(('sa', 1), ('box_cox', 2), ('sa', 2), ('sa', 1))\n"
     ]
    },
    {
     "name": "stderr",
     "output_type": "stream",
     "text": [
      "\r",
      " 14%|█▍        | 187/1296 [21:05<12:53,  1.43it/s]"
     ]
    },
    {
     "name": "stdout",
     "output_type": "stream",
     "text": [
      "params:[-7.26526625e-02  1.41955011e+02]\n",
      "validate rmse : 0.006108033315597829 \n",
      " validate mae : 0.005851175054198037 \n",
      "\n",
      "    test rmse : 0.002899611440888831 \n",
      " test mae : 0.0026134077215632856\n",
      "(('sa', 1), ('box_cox', 2), ('sa', 2), ('sa', 2))\n"
     ]
    },
    {
     "name": "stderr",
     "output_type": "stream",
     "text": [
      "\r",
      " 15%|█▍        | 188/1296 [21:05<12:54,  1.43it/s]"
     ]
    },
    {
     "name": "stdout",
     "output_type": "stream",
     "text": [
      "params:[-7.26521309e-02  1.41953971e+02]\n",
      "validate rmse : 0.006108319109727505 \n",
      " validate mae : 0.005851473417502945 \n",
      "\n",
      "    test rmse : 0.0028998289378471443 \n",
      " test mae : 0.002613603726672615\n",
      "(('sa', 1), ('box_cox', 2), ('sa', 2), ('sal', 1))\n"
     ]
    },
    {
     "name": "stderr",
     "output_type": "stream",
     "text": [
      "\r",
      " 15%|█▍        | 189/1296 [21:06<14:26,  1.28it/s]"
     ]
    },
    {
     "name": "stdout",
     "output_type": "stream",
     "text": [
      "params:[-1.01176676e-01  1.99870772e+02]\n",
      "validate rmse : 0.006595956072175852 \n",
      " validate mae : 0.006358864524016595 \n",
      "\n",
      "    test rmse : 0.00285505915856991 \n",
      " test mae : 0.0025665975116525774\n",
      "(('sa', 1), ('box_cox', 2), ('sa', 2), ('sal', 2))\n"
     ]
    },
    {
     "name": "stderr",
     "output_type": "stream",
     "text": [
      "\r",
      " 15%|█▍        | 190/1296 [21:11<35:08,  1.91s/it]"
     ]
    },
    {
     "name": "stdout",
     "output_type": "stream",
     "text": [
      "params:[-1.11731675e-01  2.20612741e+02]\n",
      "validate rmse : 0.0023042769085816666 \n",
      " validate mae : 0.001960309902475179 \n",
      "\n",
      "    test rmse : 0.010015864520487174 \n",
      " test mae : 0.009835223548258942\n",
      "(('sa', 1), ('box_cox', 2), ('sa', 2), ('box_cox', 1))\n"
     ]
    },
    {
     "name": "stderr",
     "output_type": "stream",
     "text": [
      "\r",
      " 15%|█▍        | 191/1296 [21:11<27:39,  1.50s/it]"
     ]
    },
    {
     "name": "stdout",
     "output_type": "stream",
     "text": [
      "params:[-7.28817212e-02  1.41427060e+02]\n",
      "validate rmse : 0.006415175624310995 \n",
      " validate mae : 0.006171051775919157 \n",
      "\n",
      "    test rmse : 0.00313145834414992 \n",
      " test mae : 0.0028039822635959133\n",
      "(('sa', 1), ('box_cox', 2), ('sa', 2), ('box_cox', 2))\n"
     ]
    },
    {
     "name": "stderr",
     "output_type": "stream",
     "text": [
      "\r",
      " 15%|█▍        | 192/1296 [21:12<22:30,  1.22s/it]"
     ]
    },
    {
     "name": "stdout",
     "output_type": "stream",
     "text": [
      "params:[-7.26126409e-02  1.39874656e+02]\n",
      "validate rmse : 0.006087700504126697 \n",
      " validate mae : 0.0058299459895851434 \n",
      "\n",
      "    test rmse : 0.0028856002031297954 \n",
      " test mae : 0.0026007037372568925\n",
      "(('sa', 1), ('box_cox', 2), ('sal', 1), ('sa', 1))\n"
     ]
    },
    {
     "name": "stderr",
     "output_type": "stream",
     "text": [
      "\r",
      " 15%|█▍        | 193/1296 [21:13<20:25,  1.11s/it]"
     ]
    },
    {
     "name": "stdout",
     "output_type": "stream",
     "text": [
      "params:[-9.96863387e-02  1.96962143e+02]\n",
      "validate rmse : 0.006148291129214993 \n",
      " validate mae : 0.005891873105377405 \n",
      "\n",
      "    test rmse : 0.002562884102203722 \n",
      " test mae : 0.002269195558506104\n",
      "(('sa', 1), ('box_cox', 2), ('sal', 1), ('sa', 2))\n"
     ]
    },
    {
     "name": "stderr",
     "output_type": "stream",
     "text": [
      "\r",
      " 15%|█▍        | 194/1296 [21:14<18:54,  1.03s/it]"
     ]
    },
    {
     "name": "stdout",
     "output_type": "stream",
     "text": [
      "params:[-7.25625110e-02  1.41766549e+02]\n",
      "validate rmse : 0.006066117174856415 \n",
      " validate mae : 0.005807417850686225 \n",
      "\n",
      "    test rmse : 0.00286482571778658 \n",
      " test mae : 0.002581527646003965\n",
      "(('sa', 1), ('box_cox', 2), ('sal', 1), ('sal', 1))\n"
     ]
    },
    {
     "name": "stderr",
     "output_type": "stream",
     "text": [
      "\r",
      " 15%|█▌        | 195/1296 [21:15<19:09,  1.04s/it]"
     ]
    },
    {
     "name": "stdout",
     "output_type": "stream",
     "text": [
      "params:[-1.10194790e-01  2.17577571e+02]\n",
      "validate rmse : 0.0021662747237879186 \n",
      " validate mae : 0.0017479390714292315 \n",
      "\n",
      "    test rmse : 0.008235919635831935 \n",
      " test mae : 0.008001885834932563\n",
      "(('sa', 1), ('box_cox', 2), ('sal', 1), ('sal', 2))\n"
     ]
    },
    {
     "name": "stderr",
     "output_type": "stream",
     "text": [
      "\r",
      " 15%|█▌        | 196/1296 [21:21<47:30,  2.59s/it]"
     ]
    },
    {
     "name": "stdout",
     "output_type": "stream",
     "text": [
      "params:[-1.11066467e-01  2.19297324e+02]\n",
      "validate rmse : 0.0025654544035329943 \n",
      " validate mae : 0.002220504615726613 \n",
      "\n",
      "    test rmse : 0.011382577461872172 \n",
      " test mae : 0.011232147426866004\n",
      "(('sa', 1), ('box_cox', 2), ('sal', 1), ('box_cox', 1))\n"
     ]
    },
    {
     "name": "stderr",
     "output_type": "stream",
     "text": [
      "\r",
      " 15%|█▌        | 197/1296 [21:22<38:07,  2.08s/it]"
     ]
    },
    {
     "name": "stdout",
     "output_type": "stream",
     "text": [
      "params:[-1.00289066e-01  1.97154699e+02]\n",
      "validate rmse : 0.007177600029012098 \n",
      " validate mae : 0.00696118620867185 \n",
      "\n",
      "    test rmse : 0.003499430959502312 \n",
      " test mae : 0.003038862890862435\n",
      "(('sa', 1), ('box_cox', 2), ('sal', 1), ('box_cox', 2))\n"
     ]
    },
    {
     "name": "stderr",
     "output_type": "stream",
     "text": [
      "\r",
      " 15%|█▌        | 198/1296 [21:23<32:29,  1.78s/it]"
     ]
    },
    {
     "name": "stdout",
     "output_type": "stream",
     "text": [
      "params:[-1.00081423e-01  1.95696989e+02]\n",
      "validate rmse : 0.006035244109810287 \n",
      " validate mae : 0.00577575194720661 \n",
      "\n",
      "    test rmse : 0.0027134231354763996 \n",
      " test mae : 0.002433285267127288\n",
      "(('sa', 1), ('box_cox', 2), ('sal', 2), ('sa', 1))\n"
     ]
    },
    {
     "name": "stderr",
     "output_type": "stream",
     "text": [
      "\r",
      " 15%|█▌        | 199/1296 [21:30<1:03:44,  3.49s/it]"
     ]
    },
    {
     "name": "stdout",
     "output_type": "stream",
     "text": [
      "params:[-1.11565558e-01  2.20252722e+02]\n",
      "validate rmse : 0.0022352310799811674 \n",
      " validate mae : 0.0019162416259391785 \n",
      "\n",
      "    test rmse : 0.010010213002499052 \n",
      " test mae : 0.009833978352635128\n",
      "(('sa', 1), ('box_cox', 2), ('sal', 2), ('sa', 2))\n"
     ]
    },
    {
     "name": "stderr",
     "output_type": "stream",
     "text": [
      "\r",
      " 15%|█▌        | 200/1296 [21:42<1:48:41,  5.95s/it]"
     ]
    },
    {
     "name": "stdout",
     "output_type": "stream",
     "text": [
      "params:[-1.11633807e-01  2.20393554e+02]\n",
      "validate rmse : 0.0023355588503185996 \n",
      " validate mae : 0.002004553595976899 \n",
      "\n",
      "    test rmse : 0.010746267010162222 \n",
      " test mae : 0.010585665515628522\n",
      "(('sa', 1), ('box_cox', 2), ('sal', 2), ('sal', 1))\n",
      "params:[-1. -1.]\n"
     ]
    },
    {
     "name": "stderr",
     "output_type": "stream",
     "text": [
      "\r",
      " 16%|█▌        | 201/1296 [21:48<1:50:00,  6.03s/it]"
     ]
    },
    {
     "name": "stdout",
     "output_type": "stream",
     "text": [
      "validate rmse : 0.1332049933435198 \n",
      " validate mae : 0.13316520185091182 \n",
      "\n",
      "    test rmse : 0.1374799507097686 \n",
      " test mae : 0.13740883676081816\n",
      "(('sa', 1), ('box_cox', 2), ('sal', 2), ('sal', 2))\n"
     ]
    },
    {
     "name": "stderr",
     "output_type": "stream",
     "text": [
      "\r",
      " 16%|█▌        | 202/1296 [22:01<2:27:55,  8.11s/it]"
     ]
    },
    {
     "name": "stdout",
     "output_type": "stream",
     "text": [
      "params:[-1.11957537e-01  2.21074664e+02]\n",
      "validate rmse : 0.0025042645372060877 \n",
      " validate mae : 0.002185376630022075 \n",
      "\n",
      "    test rmse : 0.011345870052030721 \n",
      " test mae : 0.01119435944604717\n",
      "(('sa', 1), ('box_cox', 2), ('sal', 2), ('box_cox', 1))\n"
     ]
    },
    {
     "name": "stderr",
     "output_type": "stream",
     "text": [
      "\r",
      " 16%|█▌        | 203/1296 [22:09<2:25:54,  8.01s/it]"
     ]
    },
    {
     "name": "stdout",
     "output_type": "stream",
     "text": [
      "params:[-1.48306848e-01  2.72508973e+02]\n",
      "validate rmse : 0.010413392569618757 \n",
      " validate mae : 0.010116240396515212 \n",
      "\n",
      "    test rmse : 0.020475070590935496 \n",
      " test mae : 0.020391041069389788\n",
      "(('sa', 1), ('box_cox', 2), ('sal', 2), ('box_cox', 2))\n"
     ]
    },
    {
     "name": "stderr",
     "output_type": "stream",
     "text": [
      "\r",
      " 16%|█▌        | 204/1296 [22:16<2:22:55,  7.85s/it]"
     ]
    },
    {
     "name": "stdout",
     "output_type": "stream",
     "text": [
      "params:[-1.08840045e-01  2.12989030e+02]\n",
      "validate rmse : 0.003250592364335623 \n",
      " validate mae : 0.002681780211559729 \n",
      "\n",
      "    test rmse : 0.004780667922305731 \n",
      " test mae : 0.004289640780117275\n",
      "(('sa', 1), ('box_cox', 2), ('box_cox', 1), ('sa', 1))\n"
     ]
    },
    {
     "name": "stderr",
     "output_type": "stream",
     "text": [
      "\r",
      " 16%|█▌        | 205/1296 [22:17<1:43:00,  5.66s/it]"
     ]
    },
    {
     "name": "stdout",
     "output_type": "stream",
     "text": [
      "params:[-6.66735332e-02  1.29817211e+02]\n",
      "validate rmse : 0.006405298024414205 \n",
      " validate mae : 0.006160440778786108 \n",
      "\n",
      "    test rmse : 0.0031882173129302556 \n",
      " test mae : 0.002849717523353846\n",
      "(('sa', 1), ('box_cox', 2), ('box_cox', 1), ('sa', 2))\n"
     ]
    },
    {
     "name": "stderr",
     "output_type": "stream",
     "text": [
      "\r",
      " 16%|█▌        | 206/1296 [22:18<1:14:53,  4.12s/it]"
     ]
    },
    {
     "name": "stdout",
     "output_type": "stream",
     "text": [
      "params:[-6.66738223e-02  1.29817779e+02]\n",
      "validate rmse : 0.006405065622988588 \n",
      " validate mae : 0.006160199378634732 \n",
      "\n",
      "    test rmse : 0.0031880056764441904 \n",
      " test mae : 0.0028495590647880176\n",
      "(('sa', 1), ('box_cox', 2), ('box_cox', 1), ('sal', 1))\n"
     ]
    },
    {
     "name": "stderr",
     "output_type": "stream",
     "text": [
      "\r",
      " 16%|█▌        | 207/1296 [22:18<57:25,  3.16s/it]  "
     ]
    },
    {
     "name": "stdout",
     "output_type": "stream",
     "text": [
      "params:[-9.63624168e-02  1.90496751e+02]\n",
      "validate rmse : 0.005742067379891639 \n",
      " validate mae : 0.005404892504942467 \n",
      "\n",
      "    test rmse : 0.004956763159527683 \n",
      " test mae : 0.004125105604743896\n",
      "(('sa', 1), ('box_cox', 2), ('box_cox', 1), ('sal', 2))\n"
     ]
    },
    {
     "name": "stderr",
     "output_type": "stream",
     "text": [
      "\r",
      " 16%|█▌        | 208/1296 [22:22<1:00:05,  3.31s/it]"
     ]
    },
    {
     "name": "stdout",
     "output_type": "stream",
     "text": [
      "params:[-1.59172726e-01  3.12993313e+02]\n",
      "validate rmse : 0.009116194317555717 \n",
      " validate mae : 0.008814974254898661 \n",
      "\n",
      "    test rmse : 0.018455475770489536 \n",
      " test mae : 0.018359100201997543\n",
      "(('sa', 1), ('box_cox', 2), ('box_cox', 1), ('box_cox', 1))\n"
     ]
    },
    {
     "name": "stderr",
     "output_type": "stream",
     "text": [
      "\r",
      " 16%|█▌        | 209/1296 [22:23<44:43,  2.47s/it]  "
     ]
    },
    {
     "name": "stdout",
     "output_type": "stream",
     "text": [
      "params:[-6.95410158e-02  1.32934313e+02]\n",
      "validate rmse : 0.003775596538892055 \n",
      " validate mae : 0.003329139418890316 \n",
      "\n",
      "    test rmse : 0.003240702083564303 \n",
      " test mae : 0.002550065830371944\n",
      "(('sa', 1), ('box_cox', 2), ('box_cox', 1), ('box_cox', 2))\n"
     ]
    },
    {
     "name": "stderr",
     "output_type": "stream",
     "text": [
      "\r",
      " 16%|█▌        | 210/1296 [22:23<34:18,  1.90s/it]"
     ]
    },
    {
     "name": "stdout",
     "output_type": "stream",
     "text": [
      "params:[-5.70336178e-02  1.07356695e+02]\n",
      "validate rmse : 0.002960628109589318 \n",
      " validate mae : 0.002387724587227354 \n",
      "\n",
      "    test rmse : 0.004242632919470642 \n",
      " test mae : 0.0035687732019789704\n",
      "(('sa', 1), ('box_cox', 2), ('box_cox', 2), ('sa', 1))\n"
     ]
    },
    {
     "name": "stderr",
     "output_type": "stream",
     "text": [
      "\r",
      " 16%|█▋        | 211/1296 [22:24<26:52,  1.49s/it]"
     ]
    },
    {
     "name": "stdout",
     "output_type": "stream",
     "text": [
      "params:[-6.45641366e-02  1.25689005e+02]\n",
      "validate rmse : 0.007928842868957207 \n",
      " validate mae : 0.007728505682718267 \n",
      "\n",
      "    test rmse : 0.004877905108136058 \n",
      " test mae : 0.004224535657912655\n",
      "(('sa', 1), ('box_cox', 2), ('box_cox', 2), ('sa', 2))\n"
     ]
    },
    {
     "name": "stderr",
     "output_type": "stream",
     "text": [
      "\r",
      " 16%|█▋        | 212/1296 [22:24<21:44,  1.20s/it]"
     ]
    },
    {
     "name": "stdout",
     "output_type": "stream",
     "text": [
      "params:[-6.45686226e-02  1.25697833e+02]\n",
      "validate rmse : 0.007926277183881206 \n",
      " validate mae : 0.007725885074229547 \n",
      "\n",
      "    test rmse : 0.004874633338773266 \n",
      " test mae : 0.00422179147165498\n",
      "(('sa', 1), ('box_cox', 2), ('box_cox', 2), ('sal', 1))\n"
     ]
    },
    {
     "name": "stderr",
     "output_type": "stream",
     "text": [
      "\r",
      " 16%|█▋        | 213/1296 [22:26<26:27,  1.47s/it]"
     ]
    },
    {
     "name": "stdout",
     "output_type": "stream",
     "text": [
      "params:[-9.38066060e-02  1.85475434e+02]\n",
      "validate rmse : 0.005517820225281948 \n",
      " validate mae : 0.0051411198812611825 \n",
      "\n",
      "    test rmse : 0.005468873839183052 \n",
      " test mae : 0.0045044394680507005\n",
      "(('sa', 1), ('box_cox', 2), ('box_cox', 2), ('sal', 2))\n",
      "params:[-1.25929537e+06  2.41926712e+09]\n"
     ]
    },
    {
     "name": "stderr",
     "output_type": "stream",
     "text": [
      "\r",
      " 17%|█▋        | 214/1296 [22:28<29:45,  1.65s/it]"
     ]
    },
    {
     "name": "stdout",
     "output_type": "stream",
     "text": [
      "validate rmse : 0.018652267718677975 \n",
      " validate mae : 0.018551519066043805 \n",
      "\n",
      "    test rmse : 0.02029908418235231 \n",
      " test mae : 0.020036017834692093\n",
      "(('sa', 1), ('box_cox', 2), ('box_cox', 2), ('box_cox', 1))\n"
     ]
    },
    {
     "name": "stderr",
     "output_type": "stream",
     "text": [
      "\r",
      " 17%|█▋        | 215/1296 [22:29<23:44,  1.32s/it]"
     ]
    },
    {
     "name": "stdout",
     "output_type": "stream",
     "text": [
      "params:[-5.55394840e-02  1.04399669e+02]\n",
      "validate rmse : 0.0028913044398605828 \n",
      " validate mae : 0.002326851067192191 \n",
      "\n",
      "    test rmse : 0.004353567515755465 \n",
      " test mae : 0.0037045262293668646\n",
      "(('sa', 1), ('box_cox', 2), ('box_cox', 2), ('box_cox', 2))\n"
     ]
    },
    {
     "name": "stderr",
     "output_type": "stream",
     "text": [
      "\r",
      " 17%|█▋        | 216/1296 [22:30<19:38,  1.09s/it]"
     ]
    },
    {
     "name": "stdout",
     "output_type": "stream",
     "text": [
      "params:[-4.30024086e-02  7.89541660e+01]\n",
      "validate rmse : 0.0023205157060800555 \n",
      " validate mae : 0.001796392928462295 \n",
      "\n",
      "    test rmse : 0.005339742518755549 \n",
      " test mae : 0.004848211838883858\n",
      "(('sa', 2), ('sa', 1), ('sa', 1), ('sa', 1))\n"
     ]
    },
    {
     "name": "stderr",
     "output_type": "stream",
     "text": [
      "\r",
      " 17%|█▋        | 217/1296 [22:30<18:38,  1.04s/it]"
     ]
    },
    {
     "name": "stdout",
     "output_type": "stream",
     "text": [
      "params:[-8.20154989e-02  1.61944420e+02]\n",
      "validate rmse : 0.006237250622424434 \n",
      " validate mae : 0.005922957244247811 \n",
      "\n",
      "    test rmse : 0.005587766287521828 \n",
      " test mae : 0.004666265436136015\n",
      "(('sa', 2), ('sa', 1), ('sa', 1), ('sa', 2))\n"
     ]
    },
    {
     "name": "stderr",
     "output_type": "stream",
     "text": [
      "\r",
      " 17%|█▋        | 218/1296 [22:31<17:01,  1.06it/s]"
     ]
    },
    {
     "name": "stdout",
     "output_type": "stream",
     "text": [
      "params:[-8.20153697e-02  1.61944166e+02]\n",
      "validate rmse : 0.006237247571263668 \n",
      " validate mae : 0.00592295439587885 \n",
      "\n",
      "    test rmse : 0.005587753871648413 \n",
      " test mae : 0.004666255437682656\n",
      "(('sa', 2), ('sa', 1), ('sa', 1), ('sal', 1))\n"
     ]
    },
    {
     "name": "stderr",
     "output_type": "stream",
     "text": [
      "\r",
      " 17%|█▋        | 219/1296 [22:33<22:56,  1.28s/it]"
     ]
    },
    {
     "name": "stdout",
     "output_type": "stream",
     "text": [
      "params:[-1.08288943e-01  2.13811007e+02]\n",
      "validate rmse : 0.00388315765602748 \n",
      " validate mae : 0.003410651503917006 \n",
      "\n",
      "    test rmse : 0.014880981753944502 \n",
      " test mae : 0.014758806556321292\n",
      "(('sa', 2), ('sa', 1), ('sa', 1), ('sal', 2))\n",
      "params:[-1.42788663e+06  2.80397443e+09]\n"
     ]
    },
    {
     "name": "stderr",
     "output_type": "stream",
     "text": [
      "\r",
      " 17%|█▋        | 220/1296 [22:43<1:07:10,  3.75s/it]"
     ]
    },
    {
     "name": "stdout",
     "output_type": "stream",
     "text": [
      "validate rmse : 0.016342933701250336 \n",
      " validate mae : 0.01609441458254867 \n",
      "\n",
      "    test rmse : 0.0191195783148416 \n",
      " test mae : 0.018690224991059677\n",
      "(('sa', 2), ('sa', 1), ('sa', 1), ('box_cox', 1))\n"
     ]
    },
    {
     "name": "stderr",
     "output_type": "stream",
     "text": [
      "\r",
      " 17%|█▋        | 221/1296 [22:43<50:42,  2.83s/it]  "
     ]
    },
    {
     "name": "stdout",
     "output_type": "stream",
     "text": [
      "params:[-8.61786861e-02  1.69067267e+02]\n",
      "validate rmse : 0.0048161012970332154 \n",
      " validate mae : 0.004447026857865006 \n",
      "\n",
      "    test rmse : 0.0036430835993237274 \n",
      " test mae : 0.0032575976714558363\n",
      "(('sa', 2), ('sa', 1), ('sa', 1), ('box_cox', 2))\n"
     ]
    },
    {
     "name": "stderr",
     "output_type": "stream",
     "text": [
      "\r",
      " 17%|█▋        | 222/1296 [22:44<39:24,  2.20s/it]"
     ]
    },
    {
     "name": "stdout",
     "output_type": "stream",
     "text": [
      "params:[-8.41240070e-02  1.63879344e+02]\n",
      "validate rmse : 0.006846431336206095 \n",
      " validate mae : 0.006618768135133033 \n",
      "\n",
      "    test rmse : 0.0032910777758955335 \n",
      " test mae : 0.002908175648080467\n",
      "(('sa', 2), ('sa', 1), ('sa', 2), ('sa', 1))\n"
     ]
    },
    {
     "name": "stderr",
     "output_type": "stream",
     "text": [
      "\r",
      " 17%|█▋        | 223/1296 [22:45<31:36,  1.77s/it]"
     ]
    },
    {
     "name": "stdout",
     "output_type": "stream",
     "text": [
      "params:[-8.20155139e-02  1.61944448e+02]\n",
      "validate rmse : 0.0062372396881645465 \n",
      " validate mae : 0.005922945629340375 \n",
      "\n",
      "    test rmse : 0.005587764518780304 \n",
      " test mae : 0.004666262919942599\n",
      "(('sa', 2), ('sa', 1), ('sa', 2), ('sa', 2))\n"
     ]
    },
    {
     "name": "stderr",
     "output_type": "stream",
     "text": [
      "\r",
      " 17%|█▋        | 224/1296 [22:46<26:02,  1.46s/it]"
     ]
    },
    {
     "name": "stdout",
     "output_type": "stream",
     "text": [
      "params:[-8.20154609e-02  1.61944347e+02]\n",
      "validate rmse : 0.006237260119449431 \n",
      " validate mae : 0.005922967415733239 \n",
      "\n",
      "    test rmse : 0.005587765230379792 \n",
      " test mae : 0.004666265602454193\n",
      "(('sa', 2), ('sa', 1), ('sa', 2), ('sal', 1))\n"
     ]
    },
    {
     "name": "stderr",
     "output_type": "stream",
     "text": [
      "\r",
      " 17%|█▋        | 225/1296 [22:49<33:50,  1.90s/it]"
     ]
    },
    {
     "name": "stdout",
     "output_type": "stream",
     "text": [
      "params:[-1.08298941e-01  2.13841112e+02]\n",
      "validate rmse : 0.003774635518969417 \n",
      " validate mae : 0.0033281863196114154 \n",
      "\n",
      "    test rmse : 0.014563705666517256 \n",
      " test mae : 0.014440780988498951\n",
      "(('sa', 2), ('sa', 1), ('sa', 2), ('sal', 2))\n",
      "params:[-1.00223411e-01  1.97813376e+02]\n"
     ]
    },
    {
     "name": "stderr",
     "output_type": "stream",
     "text": [
      "\r",
      " 17%|█▋        | 226/1296 [23:00<1:25:56,  4.82s/it]"
     ]
    },
    {
     "name": "stdout",
     "output_type": "stream",
     "text": [
      "validate rmse : 0.0027666130360534938 \n",
      " validate mae : 0.0022136029591046263 \n",
      "\n",
      "    test rmse : 0.0044831516518539114 \n",
      " test mae : 0.0038567554837089036\n",
      "(('sa', 2), ('sa', 1), ('sa', 2), ('box_cox', 1))\n"
     ]
    },
    {
     "name": "stderr",
     "output_type": "stream",
     "text": [
      "\r",
      " 18%|█▊        | 227/1296 [23:01<1:04:14,  3.61s/it]"
     ]
    },
    {
     "name": "stdout",
     "output_type": "stream",
     "text": [
      "params:[-8.61787563e-02  1.69067405e+02]\n",
      "validate rmse : 0.004816081844680812 \n",
      " validate mae : 0.00444700632061829 \n",
      "\n",
      "    test rmse : 0.0036430578874880886 \n",
      " test mae : 0.003257577341370166\n",
      "(('sa', 2), ('sa', 1), ('sa', 2), ('box_cox', 2))\n"
     ]
    },
    {
     "name": "stderr",
     "output_type": "stream",
     "text": [
      "\r",
      " 18%|█▊        | 228/1296 [23:02<48:58,  2.75s/it]  "
     ]
    },
    {
     "name": "stdout",
     "output_type": "stream",
     "text": [
      "params:[-8.41240513e-02  1.63879431e+02]\n",
      "validate rmse : 0.006846391996389248 \n",
      " validate mae : 0.0066187274378883 \n",
      "\n",
      "    test rmse : 0.0032910367938903053 \n",
      " test mae : 0.002908147054039182\n",
      "(('sa', 2), ('sa', 1), ('sal', 1), ('sa', 1))\n"
     ]
    },
    {
     "name": "stderr",
     "output_type": "stream",
     "text": [
      "\r",
      " 18%|█▊        | 229/1296 [23:04<44:48,  2.52s/it]"
     ]
    },
    {
     "name": "stdout",
     "output_type": "stream",
     "text": [
      "params:[-1.08312171e-01  2.13897244e+02]\n",
      "validate rmse : 0.00405646725309464 \n",
      " validate mae : 0.003536847051330957 \n",
      "\n",
      "    test rmse : 0.015320910382236224 \n",
      " test mae : 0.01519963345045298\n",
      "(('sa', 2), ('sa', 1), ('sal', 1), ('sa', 2))\n"
     ]
    },
    {
     "name": "stderr",
     "output_type": "stream",
     "text": [
      "\r",
      " 18%|█▊        | 230/1296 [23:06<42:13,  2.38s/it]"
     ]
    },
    {
     "name": "stdout",
     "output_type": "stream",
     "text": [
      "params:[-1.08303485e-01  2.13876336e+02]\n",
      "validate rmse : 0.004088600945899578 \n",
      " validate mae : 0.003560762673215538 \n",
      "\n",
      "    test rmse : 0.015414028664342504 \n",
      " test mae : 0.015292786740890582\n",
      "(('sa', 2), ('sa', 1), ('sal', 1), ('sal', 1))\n"
     ]
    },
    {
     "name": "stderr",
     "output_type": "stream",
     "text": [
      "\r",
      " 18%|█▊        | 231/1296 [23:10<49:35,  2.79s/it]"
     ]
    },
    {
     "name": "stdout",
     "output_type": "stream",
     "text": [
      "params:[-1.06452982e-01  2.10065571e+02]\n",
      "validate rmse : 0.004216965807745426 \n",
      " validate mae : 0.00364938623629431 \n",
      "\n",
      "    test rmse : 0.015778985689626577 \n",
      " test mae : 0.01565667686890885\n",
      "(('sa', 2), ('sa', 1), ('sal', 1), ('sal', 2))\n"
     ]
    },
    {
     "name": "stderr",
     "output_type": "stream",
     "text": [
      "\r",
      " 18%|█▊        | 232/1296 [23:17<1:15:24,  4.25s/it]"
     ]
    },
    {
     "name": "stdout",
     "output_type": "stream",
     "text": [
      "params:[-1.08705185e-01  2.14594250e+02]\n",
      "validate rmse : 0.006042728338101868 \n",
      " validate mae : 0.005141814302882491 \n",
      "\n",
      "    test rmse : 0.024981401330576723 \n",
      " test mae : 0.02462077375468583\n",
      "(('sa', 2), ('sa', 1), ('sal', 1), ('box_cox', 1))\n"
     ]
    },
    {
     "name": "stderr",
     "output_type": "stream",
     "text": [
      "\r",
      " 18%|█▊        | 233/1296 [23:19<1:01:19,  3.46s/it]"
     ]
    },
    {
     "name": "stdout",
     "output_type": "stream",
     "text": [
      "params:[-1.06017127e-01  2.08428139e+02]\n",
      "validate rmse : 0.002138342957090675 \n",
      " validate mae : 0.001752192742933284 \n",
      "\n",
      "    test rmse : 0.008204383103054696 \n",
      " test mae : 0.007970211584638195\n",
      "(('sa', 2), ('sa', 1), ('sal', 1), ('box_cox', 2))\n"
     ]
    },
    {
     "name": "stderr",
     "output_type": "stream",
     "text": [
      "\r",
      " 18%|█▊        | 234/1296 [23:21<52:30,  2.97s/it]  "
     ]
    },
    {
     "name": "stdout",
     "output_type": "stream",
     "text": [
      "params:[-1.08420816e-01  2.12049059e+02]\n",
      "validate rmse : 0.00260277843357006 \n",
      " validate mae : 0.0018622551203273743 \n",
      "\n",
      "    test rmse : 0.011543726444008216 \n",
      " test mae : 0.011378240133878932\n",
      "(('sa', 2), ('sa', 1), ('sal', 2), ('sa', 1))\n"
     ]
    },
    {
     "name": "stderr",
     "output_type": "stream",
     "text": [
      "\r",
      " 18%|█▊        | 235/1296 [23:47<2:55:38,  9.93s/it]"
     ]
    },
    {
     "name": "stdout",
     "output_type": "stream",
     "text": [
      "params:[-8.20183017e-02  1.61950033e+02]\n",
      "validate rmse : 0.006237447112047624 \n",
      " validate mae : 0.00592316249070486 \n",
      "\n",
      "    test rmse : 0.005587840319058859 \n",
      " test mae : 0.0046663464511648555\n",
      "(('sa', 2), ('sa', 1), ('sal', 2), ('sa', 2))\n"
     ]
    },
    {
     "name": "stderr",
     "output_type": "stream",
     "text": [
      "\r",
      " 18%|█▊        | 236/1296 [23:56<2:49:54,  9.62s/it]"
     ]
    },
    {
     "name": "stdout",
     "output_type": "stream",
     "text": [
      "params:[-8.69760513e-02  1.71148502e+02]\n",
      "validate rmse : 0.006495569555682777 \n",
      " validate mae : 0.006256435010676321 \n",
      "\n",
      "    test rmse : 0.0028100771282670344 \n",
      " test mae : 0.0025272929671248828\n",
      "(('sa', 2), ('sa', 1), ('sal', 2), ('sal', 1))\n",
      "params:[-1.09248545e-01  2.15783540e+02]\n"
     ]
    },
    {
     "data": {
      "image/png": "[encoded data removed]",
      "text/plain": [
       "<Figure size 432x288 with 1 Axes>"
      ]
     },
     "metadata": {
      "needs_background": "light"
     },
     "output_type": "display_data"
    },
    {
     "name": "stderr",
     "output_type": "stream",
     "text": [
      "\r",
      " 18%|█▊        | 237/1296 [24:02<2:34:18,  8.74s/it]"
     ]
    },
    {
     "name": "stdout",
     "output_type": "stream",
     "text": [
      "validate rmse : 0.0019844063723188136 \n",
      " validate mae : 0.001723714068022111 \n",
      "\n",
      "    test rmse : 0.0055188244275419275 \n",
      " test mae : 0.0050154722925927365\n",
      "(('sa', 2), ('sa', 1), ('sal', 2), ('sal', 2))\n",
      "params:[-1.01374467e-01  2.00150739e+02]\n"
     ]
    },
    {
     "name": "stderr",
     "output_type": "stream",
     "text": [
      "\r",
      " 18%|█▊        | 238/1296 [24:11<2:35:52,  8.84s/it]"
     ]
    },
    {
     "name": "stdout",
     "output_type": "stream",
     "text": [
      "validate rmse : 0.002556492848071551 \n",
      " validate mae : 0.0018817488240296823 \n",
      "\n",
      "    test rmse : 0.003555385430139264 \n",
      " test mae : 0.0027647647535897174\n",
      "(('sa', 2), ('sa', 1), ('sal', 2), ('box_cox', 1))\n"
     ]
    },
    {
     "name": "stderr",
     "output_type": "stream",
     "text": [
      "\r",
      " 18%|█▊        | 239/1296 [24:17<2:17:34,  7.81s/it]"
     ]
    },
    {
     "name": "stdout",
     "output_type": "stream",
     "text": [
      "params:[ 1.54597821e-02 -2.75735450e+01]\n",
      "validate rmse : 0.0755101473913971 \n",
      " validate mae : 0.07497582050770611 \n",
      "\n",
      "    test rmse : 0.08974875792086638 \n",
      " test mae : 0.08956674202728619\n",
      "(('sa', 2), ('sa', 1), ('sal', 2), ('box_cox', 2))\n"
     ]
    },
    {
     "name": "stderr",
     "output_type": "stream",
     "text": [
      "\r",
      " 19%|█▊        | 240/1296 [24:33<3:01:56, 10.34s/it]"
     ]
    },
    {
     "name": "stdout",
     "output_type": "stream",
     "text": [
      "params:[ 2.58484367e-02 -4.63820112e+01]\n",
      "validate rmse : 0.09555812959426892 \n",
      " validate mae : 0.09544117450690584 \n",
      "\n",
      "    test rmse : 0.10117438800764679 \n",
      " test mae : 0.10107460983177478\n",
      "(('sa', 2), ('sa', 1), ('box_cox', 1), ('sa', 1))\n"
     ]
    },
    {
     "name": "stderr",
     "output_type": "stream",
     "text": [
      "\r",
      " 19%|█▊        | 241/1296 [24:34<2:10:16,  7.41s/it]"
     ]
    },
    {
     "name": "stdout",
     "output_type": "stream",
     "text": [
      "params:[-8.08699702e-02  1.58934844e+02]\n",
      "validate rmse : 0.007277061694337862 \n",
      " validate mae : 0.007063016213126736 \n",
      "\n",
      "    test rmse : 0.003612655753573689 \n",
      " test mae : 0.003126067545331548\n",
      "(('sa', 2), ('sa', 1), ('box_cox', 1), ('sa', 2))\n"
     ]
    },
    {
     "name": "stderr",
     "output_type": "stream",
     "text": [
      "\r",
      " 19%|█▊        | 242/1296 [24:34<1:35:08,  5.42s/it]"
     ]
    },
    {
     "name": "stdout",
     "output_type": "stream",
     "text": [
      "params:[-8.08698541e-02  1.58934615e+02]\n",
      "validate rmse : 0.007277107203962096 \n",
      " validate mae : 0.007063063109817366 \n",
      "\n",
      "    test rmse : 0.0036127093333891483 \n",
      " test mae : 0.0031261192073256078\n",
      "(('sa', 2), ('sa', 1), ('box_cox', 1), ('sal', 1))\n"
     ]
    },
    {
     "name": "stderr",
     "output_type": "stream",
     "text": [
      "\r",
      " 19%|█▉        | 243/1296 [24:38<1:26:11,  4.91s/it]"
     ]
    },
    {
     "name": "stdout",
     "output_type": "stream",
     "text": [
      "params:[-1.08807124e-01  2.14861181e+02]\n",
      "validate rmse : 0.002169716501647219 \n",
      " validate mae : 0.001930477701389845 \n",
      "\n",
      "    test rmse : 0.008392806273483443 \n",
      " test mae : 0.008124775082393525\n",
      "(('sa', 2), ('sa', 1), ('box_cox', 1), ('sal', 2))\n"
     ]
    },
    {
     "name": "stderr",
     "output_type": "stream",
     "text": [
      "\r",
      " 19%|█▉        | 244/1296 [24:46<1:42:48,  5.86s/it]"
     ]
    },
    {
     "name": "stdout",
     "output_type": "stream",
     "text": [
      "params:[-1.36960408e-01  2.73196247e+02]\n",
      "validate rmse : 0.011398171639823486 \n",
      " validate mae : 0.010881982518619668 \n",
      "\n",
      "    test rmse : 0.025753061650525415 \n",
      " test mae : 0.02565849759057866\n",
      "(('sa', 2), ('sa', 1), ('box_cox', 1), ('box_cox', 1))\n"
     ]
    },
    {
     "name": "stderr",
     "output_type": "stream",
     "text": [
      "\r",
      " 19%|█▉        | 245/1296 [24:47<1:14:41,  4.26s/it]"
     ]
    },
    {
     "name": "stdout",
     "output_type": "stream",
     "text": [
      "params:[-8.76725017e-02  1.70806603e+02]\n",
      "validate rmse : 0.005137567079857863 \n",
      " validate mae : 0.004818928584374236 \n",
      "\n",
      "    test rmse : 0.0024669429413589484 \n",
      " test mae : 0.0018176926496096138\n",
      "(('sa', 2), ('sa', 1), ('box_cox', 1), ('box_cox', 2))\n"
     ]
    },
    {
     "name": "stderr",
     "output_type": "stream",
     "text": [
      "\r",
      " 19%|█▉        | 246/1296 [24:47<55:43,  3.18s/it]  "
     ]
    },
    {
     "name": "stdout",
     "output_type": "stream",
     "text": [
      "params:[-8.12040450e-02  1.56960914e+02]\n",
      "validate rmse : 0.0039757437622488945 \n",
      " validate mae : 0.0035415680319482606 \n",
      "\n",
      "    test rmse : 0.0033113352811127285 \n",
      " test mae : 0.002648901122683674\n",
      "(('sa', 2), ('sa', 1), ('box_cox', 2), ('sa', 1))\n"
     ]
    },
    {
     "name": "stderr",
     "output_type": "stream",
     "text": [
      "\r",
      " 19%|█▉        | 247/1296 [24:48<41:43,  2.39s/it]"
     ]
    },
    {
     "name": "stdout",
     "output_type": "stream",
     "text": [
      "params:[-7.26523273e-02  1.41954355e+02]\n",
      "validate rmse : 0.006108183840399644 \n",
      " validate mae : 0.0058513321936649 \n",
      "\n",
      "    test rmse : 0.0028997363097443057 \n",
      " test mae : 0.0026135203423541292\n",
      "(('sa', 2), ('sa', 1), ('box_cox', 2), ('sa', 2))\n"
     ]
    },
    {
     "name": "stderr",
     "output_type": "stream",
     "text": [
      "\r",
      " 19%|█▉        | 248/1296 [24:49<33:57,  1.94s/it]"
     ]
    },
    {
     "name": "stdout",
     "output_type": "stream",
     "text": [
      "params:[-7.26523688e-02  1.41954438e+02]\n",
      "validate rmse : 0.006108160444646054 \n",
      " validate mae : 0.005851307766818482 \n",
      "\n",
      "    test rmse : 0.0028997198379986395 \n",
      " test mae : 0.0026135055094057835\n",
      "(('sa', 2), ('sa', 1), ('box_cox', 2), ('sal', 1))\n"
     ]
    },
    {
     "name": "stderr",
     "output_type": "stream",
     "text": [
      "\r",
      " 19%|█▉        | 249/1296 [24:50<28:54,  1.66s/it]"
     ]
    },
    {
     "name": "stdout",
     "output_type": "stream",
     "text": [
      "params:[-1.01180314e-01  1.99877989e+02]\n",
      "validate rmse : 0.006596399700819914 \n",
      " validate mae : 0.006359325531202288 \n",
      "\n",
      "    test rmse : 0.0028554059094445905 \n",
      " test mae : 0.002566893632247983\n",
      "(('sa', 2), ('sa', 1), ('box_cox', 2), ('sal', 2))\n",
      "params:[-2.32838436e+04  4.50038300e+07]\n"
     ]
    },
    {
     "name": "stderr",
     "output_type": "stream",
     "text": [
      "\r",
      " 19%|█▉        | 250/1296 [24:55<47:00,  2.70s/it]"
     ]
    },
    {
     "name": "stdout",
     "output_type": "stream",
     "text": [
      "validate rmse : 0.012772822873008637 \n",
      " validate mae : 0.0126401638922957 \n",
      "\n",
      "    test rmse : 0.010268870661521311 \n",
      " test mae : 0.009865035985015936\n",
      "(('sa', 2), ('sa', 1), ('box_cox', 2), ('box_cox', 1))\n"
     ]
    },
    {
     "name": "stderr",
     "output_type": "stream",
     "text": [
      "\r",
      " 19%|█▉        | 251/1296 [24:56<36:34,  2.10s/it]"
     ]
    },
    {
     "name": "stdout",
     "output_type": "stream",
     "text": [
      "params:[-7.94788884e-02  1.53602642e+02]\n",
      "validate rmse : 0.005172071008366971 \n",
      " validate mae : 0.004863686301467365 \n",
      "\n",
      "    test rmse : 0.002445972066538693 \n",
      " test mae : 0.0020053488815602832\n",
      "(('sa', 2), ('sa', 1), ('box_cox', 2), ('box_cox', 2))\n"
     ]
    },
    {
     "name": "stderr",
     "output_type": "stream",
     "text": [
      "\r",
      " 19%|█▉        | 252/1296 [24:56<29:39,  1.70s/it]"
     ]
    },
    {
     "name": "stdout",
     "output_type": "stream",
     "text": [
      "params:[-6.99778463e-02  1.33816326e+02]\n",
      "validate rmse : 0.004090132558019545 \n",
      " validate mae : 0.0036846726710031063 \n",
      "\n",
      "    test rmse : 0.0029595928607475115 \n",
      " test mae : 0.0022291738208424067\n",
      "(('sa', 2), ('sa', 2), ('sa', 1), ('sa', 1))\n"
     ]
    },
    {
     "name": "stderr",
     "output_type": "stream",
     "text": [
      "\r",
      " 20%|█▉        | 253/1296 [24:57<23:56,  1.38s/it]"
     ]
    },
    {
     "name": "stdout",
     "output_type": "stream",
     "text": [
      "params:[-8.20155254e-02  1.61944471e+02]\n",
      "validate rmse : 0.00623724254739538 \n",
      " validate mae : 0.005922948622694856 \n",
      "\n",
      "    test rmse : 0.005587766296141778 \n",
      " test mae : 0.004666264603904909\n",
      "(('sa', 2), ('sa', 2), ('sa', 1), ('sa', 2))\n"
     ]
    },
    {
     "name": "stderr",
     "output_type": "stream",
     "text": [
      "\r",
      " 20%|█▉        | 254/1296 [24:58<21:03,  1.21s/it]"
     ]
    },
    {
     "name": "stdout",
     "output_type": "stream",
     "text": [
      "params:[-8.20155269e-02  1.61944475e+02]\n",
      "validate rmse : 0.006237248080045045 \n",
      " validate mae : 0.00592295447589158 \n",
      "\n",
      "    test rmse : 0.005587767888754281 \n",
      " test mae : 0.00466626642229398\n",
      "(('sa', 2), ('sa', 2), ('sa', 1), ('sal', 1))\n"
     ]
    },
    {
     "name": "stderr",
     "output_type": "stream",
     "text": [
      "\r",
      " 20%|█▉        | 255/1296 [25:00<24:02,  1.39s/it]"
     ]
    },
    {
     "name": "stdout",
     "output_type": "stream",
     "text": [
      "params:[-1.08323520e-01  2.13869514e+02]\n",
      "validate rmse : 0.003976080337717028 \n",
      " validate mae : 0.0034803661310286805 \n",
      "\n",
      "    test rmse : 0.015147427866523074 \n",
      " test mae : 0.015025643394247362\n",
      "(('sa', 2), ('sa', 2), ('sa', 1), ('sal', 2))\n",
      "params:[-7.69827023e+00  1.51215610e+04]\n"
     ]
    },
    {
     "name": "stderr",
     "output_type": "stream",
     "text": [
      "\r",
      " 20%|█▉        | 256/1296 [25:09<1:02:45,  3.62s/it]"
     ]
    },
    {
     "name": "stdout",
     "output_type": "stream",
     "text": [
      "validate rmse : 0.0031110748246264562 \n",
      " validate mae : 0.0027744383367290515 \n",
      "\n",
      "    test rmse : 0.005299167766513455 \n",
      " test mae : 0.004909134524531087\n",
      "(('sa', 2), ('sa', 2), ('sa', 1), ('box_cox', 1))\n"
     ]
    },
    {
     "name": "stderr",
     "output_type": "stream",
     "text": [
      "\r",
      " 20%|█▉        | 257/1296 [25:09<47:28,  2.74s/it]  "
     ]
    },
    {
     "name": "stdout",
     "output_type": "stream",
     "text": [
      "params:[-8.61787103e-02  1.69067315e+02]\n",
      "validate rmse : 0.004816091293458237 \n",
      " validate mae : 0.004447016306313516 \n",
      "\n",
      "    test rmse : 0.003643070077503768 \n",
      " test mae : 0.003257586976410796\n",
      "(('sa', 2), ('sa', 2), ('sa', 1), ('box_cox', 2))\n"
     ]
    },
    {
     "name": "stderr",
     "output_type": "stream",
     "text": [
      "\r",
      " 20%|█▉        | 258/1296 [25:10<36:25,  2.11s/it]"
     ]
    },
    {
     "name": "stdout",
     "output_type": "stream",
     "text": [
      "params:[-8.41239622e-02  1.63879256e+02]\n",
      "validate rmse : 0.006846459193078188 \n",
      " validate mae : 0.006618796954742513 \n",
      "\n",
      "    test rmse : 0.0032911045087074477 \n",
      " test mae : 0.0029081941876642403\n",
      "(('sa', 2), ('sa', 2), ('sa', 2), ('sa', 1))\n"
     ]
    },
    {
     "name": "stderr",
     "output_type": "stream",
     "text": [
      "\r",
      " 20%|█▉        | 259/1296 [25:11<29:31,  1.71s/it]"
     ]
    },
    {
     "name": "stdout",
     "output_type": "stream",
     "text": [
      "params:[-8.20155191e-02  1.61944459e+02]\n",
      "validate rmse : 0.0062372463954195575 \n",
      " validate mae : 0.00592295271146448 \n",
      "\n",
      "    test rmse : 0.00558776689663116 \n",
      " test mae : 0.004666265471596959\n",
      "(('sa', 2), ('sa', 2), ('sa', 2), ('sa', 2))\n"
     ]
    },
    {
     "name": "stderr",
     "output_type": "stream",
     "text": [
      "\r",
      " 20%|██        | 260/1296 [25:12<25:39,  1.49s/it]"
     ]
    },
    {
     "name": "stdout",
     "output_type": "stream",
     "text": [
      "params:[-8.20155136e-02  1.61944448e+02]\n",
      "validate rmse : 0.006237244577743249 \n",
      " validate mae : 0.005922950805628423 \n",
      "\n",
      "    test rmse : 0.00558776582906083 \n",
      " test mae : 0.004666264450839124\n",
      "(('sa', 2), ('sa', 2), ('sa', 2), ('sal', 1))\n"
     ]
    },
    {
     "name": "stderr",
     "output_type": "stream",
     "text": [
      "\r",
      " 20%|██        | 261/1296 [25:14<28:37,  1.66s/it]"
     ]
    },
    {
     "name": "stdout",
     "output_type": "stream",
     "text": [
      "params:[-1.08286204e-01  2.13802665e+02]\n",
      "validate rmse : 0.003904150830495407 \n",
      " validate mae : 0.003426462352893769 \n",
      "\n",
      "    test rmse : 0.014941457763067247 \n",
      " test mae : 0.014819390259201112\n",
      "(('sa', 2), ('sa', 2), ('sa', 2), ('sal', 2))\n",
      "params:[-1.07217235e-01  2.11640087e+02]\n"
     ]
    },
    {
     "name": "stderr",
     "output_type": "stream",
     "text": [
      "\r",
      " 20%|██        | 262/1296 [25:24<1:10:47,  4.11s/it]"
     ]
    },
    {
     "name": "stdout",
     "output_type": "stream",
     "text": [
      "validate rmse : 0.0027389688616205007 \n",
      " validate mae : 0.002210192898388657 \n",
      "\n",
      "    test rmse : 0.005077108213506622 \n",
      " test mae : 0.004587465189801644\n",
      "(('sa', 2), ('sa', 2), ('sa', 2), ('box_cox', 1))\n"
     ]
    },
    {
     "name": "stderr",
     "output_type": "stream",
     "text": [
      "\r",
      " 20%|██        | 263/1296 [25:24<53:08,  3.09s/it]  "
     ]
    },
    {
     "name": "stdout",
     "output_type": "stream",
     "text": [
      "params:[-8.61787054e-02  1.69067305e+02]\n",
      "validate rmse : 0.0048160964145765196 \n",
      " validate mae : 0.004447021684017707 \n",
      "\n",
      "    test rmse : 0.0036430777692029216 \n",
      " test mae : 0.003257593069008893\n",
      "(('sa', 2), ('sa', 2), ('sa', 2), ('box_cox', 2))\n"
     ]
    },
    {
     "name": "stderr",
     "output_type": "stream",
     "text": [
      "\r",
      " 20%|██        | 264/1296 [25:25<41:16,  2.40s/it]"
     ]
    },
    {
     "name": "stdout",
     "output_type": "stream",
     "text": [
      "params:[-8.41239335e-02  1.63879199e+02]\n",
      "validate rmse : 0.0068464587133079124 \n",
      " validate mae : 0.006618796459288455 \n",
      "\n",
      "    test rmse : 0.003291103806857139 \n",
      " test mae : 0.0029081936859709262\n",
      "(('sa', 2), ('sa', 2), ('sal', 1), ('sa', 1))\n"
     ]
    },
    {
     "name": "stderr",
     "output_type": "stream",
     "text": [
      "\r",
      " 20%|██        | 265/1296 [25:28<46:49,  2.73s/it]"
     ]
    },
    {
     "name": "stdout",
     "output_type": "stream",
     "text": [
      "params:[-1.08253439e-01  2.13764496e+02]\n",
      "validate rmse : 0.004188281689586437 \n",
      " validate mae : 0.0036343988480066957 \n",
      "\n",
      "    test rmse : 0.01569938622989734 \n",
      " test mae : 0.015578104429405647\n",
      "(('sa', 2), ('sa', 2), ('sal', 1), ('sa', 2))\n"
     ]
    },
    {
     "name": "stderr",
     "output_type": "stream",
     "text": [
      "\r",
      " 21%|██        | 266/1296 [25:31<43:40,  2.54s/it]"
     ]
    },
    {
     "name": "stdout",
     "output_type": "stream",
     "text": [
      "params:[-1.08310645e-01  2.13893571e+02]\n",
      "validate rmse : 0.004061935714047716 \n",
      " validate mae : 0.0035409123457405705 \n",
      "\n",
      "    test rmse : 0.015336598922739007 \n",
      " test mae : 0.015215331213353575\n",
      "(('sa', 2), ('sa', 2), ('sal', 1), ('sal', 1))\n"
     ]
    },
    {
     "name": "stderr",
     "output_type": "stream",
     "text": [
      "\r",
      " 21%|██        | 267/1296 [25:33<40:37,  2.37s/it]"
     ]
    },
    {
     "name": "stdout",
     "output_type": "stream",
     "text": [
      "params:[-1.06422246e-01  2.10005623e+02]\n",
      "validate rmse : 0.0041716648526678455 \n",
      " validate mae : 0.003615810767859745 \n",
      "\n",
      "    test rmse : 0.015647456257270192 \n",
      " test mae : 0.015525250296405394\n",
      "(('sa', 2), ('sa', 2), ('sal', 1), ('sal', 2))\n"
     ]
    },
    {
     "name": "stderr",
     "output_type": "stream",
     "text": [
      "\r",
      " 21%|██        | 268/1296 [25:48<1:46:52,  6.24s/it]"
     ]
    },
    {
     "name": "stdout",
     "output_type": "stream",
     "text": [
      "params:[-1.13444125e-01  2.23709736e+02]\n",
      "validate rmse : 0.009660068149973201 \n",
      " validate mae : 0.008657169266735478 \n",
      "\n",
      "    test rmse : 0.027989478889270444 \n",
      " test mae : 0.027803354779238447\n",
      "(('sa', 2), ('sa', 2), ('sal', 1), ('box_cox', 1))\n"
     ]
    },
    {
     "name": "stderr",
     "output_type": "stream",
     "text": [
      "\r",
      " 21%|██        | 269/1296 [25:50<1:25:53,  5.02s/it]"
     ]
    },
    {
     "name": "stdout",
     "output_type": "stream",
     "text": [
      "params:[-1.06285570e-01  2.08981405e+02]\n",
      "validate rmse : 0.0021258449574044136 \n",
      " validate mae : 0.0017477294711842656 \n",
      "\n",
      "    test rmse : 0.008031763081487304 \n",
      " test mae : 0.007786485443524512\n",
      "(('sa', 2), ('sa', 2), ('sal', 1), ('box_cox', 2))\n"
     ]
    },
    {
     "name": "stderr",
     "output_type": "stream",
     "text": [
      "\r",
      " 21%|██        | 270/1296 [25:53<1:16:29,  4.47s/it]"
     ]
    },
    {
     "name": "stdout",
     "output_type": "stream",
     "text": [
      "params:[-1.09027667e-01  2.13234692e+02]\n",
      "validate rmse : 0.002579897200067875 \n",
      " validate mae : 0.002008386748790051 \n",
      "\n",
      "    test rmse : 0.012214218129560474 \n",
      " test mae : 0.012054426955450694\n",
      "(('sa', 2), ('sa', 2), ('sal', 2), ('sa', 1))\n",
      "params:[-1.07185878e-01  2.11532029e+02]\n"
     ]
    },
    {
     "name": "stderr",
     "output_type": "stream",
     "text": [
      "\r",
      " 21%|██        | 271/1296 [26:05<1:52:20,  6.58s/it]"
     ]
    },
    {
     "name": "stdout",
     "output_type": "stream",
     "text": [
      "validate rmse : 0.002363537373084404 \n",
      " validate mae : 0.001828410079763956 \n",
      "\n",
      "    test rmse : 0.00681702064918961 \n",
      " test mae : 0.006513889109304592\n",
      "(('sa', 2), ('sa', 2), ('sal', 2), ('sa', 2))\n"
     ]
    },
    {
     "name": "stderr",
     "output_type": "stream",
     "text": [
      "\r",
      " 21%|██        | 272/1296 [26:15<2:12:16,  7.75s/it]"
     ]
    },
    {
     "name": "stdout",
     "output_type": "stream",
     "text": [
      "params:[-1.07840218e-01  2.12986123e+02]\n",
      "validate rmse : 0.002102928017424506 \n",
      " validate mae : 0.0017601793620458145 \n",
      "\n",
      "    test rmse : 0.0053028456757361255 \n",
      " test mae : 0.004785017268651326\n",
      "(('sa', 2), ('sa', 2), ('sal', 2), ('sal', 1))\n",
      "params:[-1.07307866e-01  2.11908365e+02]\n"
     ]
    },
    {
     "data": {
      "image/png": "[encoded data removed]",
      "text/plain": [
       "<Figure size 432x288 with 1 Axes>"
      ]
     },
     "metadata": {
      "needs_background": "light"
     },
     "output_type": "display_data"
    },
    {
     "name": "stderr",
     "output_type": "stream",
     "text": [
      "\r",
      " 21%|██        | 273/1296 [26:24<2:18:31,  8.12s/it]"
     ]
    },
    {
     "name": "stdout",
     "output_type": "stream",
     "text": [
      "validate rmse : 0.001890909248809615 \n",
      " validate mae : 0.0016828810921123269 \n",
      "\n",
      "    test rmse : 0.005457425308193001 \n",
      " test mae : 0.00488711171557496\n",
      "(('sa', 2), ('sa', 2), ('sal', 2), ('sal', 2))\n"
     ]
    },
    {
     "name": "stderr",
     "output_type": "stream",
     "text": [
      "\r",
      " 21%|██        | 274/1296 [26:34<2:29:35,  8.78s/it]"
     ]
    },
    {
     "name": "stdout",
     "output_type": "stream",
     "text": [
      "params:[-3.34789507e+00  6.58237118e+03]\n",
      "validate rmse : 0.002293424381383303 \n",
      " validate mae : 0.0020277797814959825 \n",
      "\n",
      "    test rmse : 0.004935602546573637 \n",
      " test mae : 0.004630967815851638\n",
      "(('sa', 2), ('sa', 2), ('sal', 2), ('box_cox', 1))\n"
     ]
    },
    {
     "name": "stderr",
     "output_type": "stream",
     "text": [
      "\r",
      " 21%|██        | 275/1296 [26:56<3:31:50, 12.45s/it]"
     ]
    },
    {
     "name": "stdout",
     "output_type": "stream",
     "text": [
      "params:[-1.06657343e-01  2.09750549e+02]\n",
      "validate rmse : 0.004511436589989389 \n",
      " validate mae : 0.004146307825480704 \n",
      "\n",
      "    test rmse : 0.0029413695227199377 \n",
      " test mae : 0.002287300041712035\n",
      "(('sa', 2), ('sa', 2), ('sal', 2), ('box_cox', 2))\n"
     ]
    },
    {
     "name": "stderr",
     "output_type": "stream",
     "text": [
      "\r",
      " 21%|██▏       | 276/1296 [27:06<3:19:13, 11.72s/it]"
     ]
    },
    {
     "name": "stdout",
     "output_type": "stream",
     "text": [
      "params:[-1.04733504e-01  2.04757175e+02]\n",
      "validate rmse : 0.004421816111644623 \n",
      " validate mae : 0.004042417722902917 \n",
      "\n",
      "    test rmse : 0.0029731341154485363 \n",
      " test mae : 0.002311637105960908\n",
      "(('sa', 2), ('sa', 2), ('box_cox', 1), ('sa', 1))\n"
     ]
    },
    {
     "name": "stderr",
     "output_type": "stream",
     "text": [
      "\r",
      " 21%|██▏       | 277/1296 [27:06<2:23:07,  8.43s/it]"
     ]
    },
    {
     "name": "stdout",
     "output_type": "stream",
     "text": [
      "params:[-8.08699132e-02  1.58934731e+02]\n",
      "validate rmse : 0.007277091565508815 \n",
      " validate mae : 0.007063046994954152 \n",
      "\n",
      "    test rmse : 0.0036126899713917887 \n",
      " test mae : 0.0031261006037612443\n",
      "(('sa', 2), ('sa', 2), ('box_cox', 1), ('sa', 2))\n"
     ]
    },
    {
     "name": "stderr",
     "output_type": "stream",
     "text": [
      "\r",
      " 21%|██▏       | 278/1296 [27:07<1:43:47,  6.12s/it]"
     ]
    },
    {
     "name": "stdout",
     "output_type": "stream",
     "text": [
      "params:[-8.08699259e-02  1.58934758e+02]\n",
      "validate rmse : 0.0072770722181005245 \n",
      " validate mae : 0.007063027053460945 \n",
      "\n",
      "    test rmse : 0.0036126733344033638 \n",
      " test mae : 0.0031260841273757895\n",
      "(('sa', 2), ('sa', 2), ('box_cox', 1), ('sal', 1))\n"
     ]
    },
    {
     "name": "stderr",
     "output_type": "stream",
     "text": [
      "\r",
      " 22%|██▏       | 279/1296 [27:11<1:30:53,  5.36s/it]"
     ]
    },
    {
     "name": "stdout",
     "output_type": "stream",
     "text": [
      "params:[-1.08805355e-01  2.14857601e+02]\n",
      "validate rmse : 0.0021703334479124766 \n",
      " validate mae : 0.0019307715999981006 \n",
      "\n",
      "    test rmse : 0.008395835343668716 \n",
      " test mae : 0.00812797855453665\n",
      "(('sa', 2), ('sa', 2), ('box_cox', 1), ('sal', 2))\n",
      "params:[-6.98593380e+10  1.37199498e+14]\n"
     ]
    },
    {
     "name": "stderr",
     "output_type": "stream",
     "text": [
      "\r",
      " 22%|██▏       | 280/1296 [27:19<1:45:02,  6.20s/it]"
     ]
    },
    {
     "name": "stdout",
     "output_type": "stream",
     "text": [
      "validate rmse : 0.012999547944433322 \n",
      " validate mae : 0.01174981623966687 \n",
      "\n",
      "    test rmse : 0.018225636355636808 \n",
      " test mae : 0.01776251223708827\n",
      "(('sa', 2), ('sa', 2), ('box_cox', 1), ('box_cox', 1))\n"
     ]
    },
    {
     "name": "stderr",
     "output_type": "stream",
     "text": [
      "\r",
      " 22%|██▏       | 281/1296 [27:19<1:16:34,  4.53s/it]"
     ]
    },
    {
     "name": "stdout",
     "output_type": "stream",
     "text": [
      "params:[-8.76725229e-02  1.70806644e+02]\n",
      "validate rmse : 0.0051375452189614725 \n",
      " validate mae : 0.00481890506091741 \n",
      "\n",
      "    test rmse : 0.002466951310060686 \n",
      " test mae : 0.0018176856728634966\n",
      "(('sa', 2), ('sa', 2), ('box_cox', 1), ('box_cox', 2))\n"
     ]
    },
    {
     "name": "stderr",
     "output_type": "stream",
     "text": [
      "\r",
      " 22%|██▏       | 282/1296 [27:20<57:26,  3.40s/it]  "
     ]
    },
    {
     "name": "stdout",
     "output_type": "stream",
     "text": [
      "params:[-8.1203952e-02  1.5696073e+02]\n",
      "validate rmse : 0.003975759989187564 \n",
      " validate mae : 0.003541586588601181 \n",
      "\n",
      "    test rmse : 0.0033113169366875634 \n",
      " test mae : 0.0026488824173198605\n",
      "(('sa', 2), ('sa', 2), ('box_cox', 2), ('sa', 1))\n"
     ]
    },
    {
     "name": "stderr",
     "output_type": "stream",
     "text": [
      "\r",
      " 22%|██▏       | 283/1296 [27:21<43:38,  2.59s/it]"
     ]
    },
    {
     "name": "stdout",
     "output_type": "stream",
     "text": [
      "params:[-7.26523947e-02  1.41954487e+02]\n",
      "validate rmse : 0.006108138104774179 \n",
      " validate mae : 0.005851284445462485 \n",
      "\n",
      "    test rmse : 0.0028997028063010365 \n",
      " test mae : 0.00261349016025042\n",
      "(('sa', 2), ('sa', 2), ('box_cox', 2), ('sa', 2))\n"
     ]
    },
    {
     "name": "stderr",
     "output_type": "stream",
     "text": [
      "\r",
      " 22%|██▏       | 284/1296 [27:22<34:48,  2.06s/it]"
     ]
    },
    {
     "name": "stdout",
     "output_type": "stream",
     "text": [
      "params:[-7.26523727e-02  1.41954444e+02]\n",
      "validate rmse : 0.006108152613963612 \n",
      " validate mae : 0.005851299594365038 \n",
      "\n",
      "    test rmse : 0.0028997127724396505 \n",
      " test mae : 0.002613499132769176\n",
      "(('sa', 2), ('sa', 2), ('box_cox', 2), ('sal', 1))\n"
     ]
    },
    {
     "name": "stderr",
     "output_type": "stream",
     "text": [
      "\r",
      " 22%|██▏       | 285/1296 [27:23<30:28,  1.81s/it]"
     ]
    },
    {
     "name": "stdout",
     "output_type": "stream",
     "text": [
      "params:[-1.01181241e-01  1.99879689e+02]\n",
      "validate rmse : 0.006595485651195689 \n",
      " validate mae : 0.0063583755601221625 \n",
      "\n",
      "    test rmse : 0.002854687300081991 \n",
      " test mae : 0.0025662798022251638\n",
      "(('sa', 2), ('sa', 2), ('box_cox', 2), ('sal', 2))\n"
     ]
    },
    {
     "name": "stderr",
     "output_type": "stream",
     "text": [
      "\r",
      " 22%|██▏       | 286/1296 [27:27<39:38,  2.36s/it]"
     ]
    },
    {
     "name": "stdout",
     "output_type": "stream",
     "text": [
      "params:[-1.12029464e-01  2.21201428e+02]\n",
      "validate rmse : 0.002516213683843554 \n",
      " validate mae : 0.002236894480747447 \n",
      "\n",
      "    test rmse : 0.011313801813134544 \n",
      " test mae : 0.011162446888384374\n",
      "(('sa', 2), ('sa', 2), ('box_cox', 2), ('box_cox', 1))\n"
     ]
    },
    {
     "name": "stderr",
     "output_type": "stream",
     "text": [
      "\r",
      " 22%|██▏       | 287/1296 [27:27<31:20,  1.86s/it]"
     ]
    },
    {
     "name": "stdout",
     "output_type": "stream",
     "text": [
      "params:[-7.94787978e-02  1.53602464e+02]\n",
      "validate rmse : 0.005172102676745328 \n",
      " validate mae : 0.004863720137763011 \n",
      "\n",
      "    test rmse : 0.002445970739667148 \n",
      " test mae : 0.0020053587741970446\n",
      "(('sa', 2), ('sa', 2), ('box_cox', 2), ('box_cox', 2))\n"
     ]
    },
    {
     "name": "stderr",
     "output_type": "stream",
     "text": [
      "\r",
      " 22%|██▏       | 288/1296 [27:28<25:32,  1.52s/it]"
     ]
    },
    {
     "name": "stdout",
     "output_type": "stream",
     "text": [
      "params:[-6.99776177e-02  1.33815870e+02]\n",
      "validate rmse : 0.004090087822970243 \n",
      " validate mae : 0.003684622751099887 \n",
      "\n",
      "    test rmse : 0.0029596277176568847 \n",
      " test mae : 0.002229216654982808\n",
      "(('sa', 2), ('sal', 1), ('sa', 1), ('sa', 1))\n"
     ]
    },
    {
     "name": "stderr",
     "output_type": "stream",
     "text": [
      "\r",
      " 22%|██▏       | 289/1296 [27:30<28:39,  1.71s/it]"
     ]
    },
    {
     "name": "stdout",
     "output_type": "stream",
     "text": [
      "params:[-1.08324170e-01  2.13923428e+02]\n",
      "validate rmse : 0.004039190819596066 \n",
      " validate mae : 0.0035239875618378164 \n",
      "\n",
      "    test rmse : 0.015271068849414949 \n",
      " test mae : 0.015149760650394802\n",
      "(('sa', 2), ('sal', 1), ('sa', 1), ('sa', 2))\n"
     ]
    },
    {
     "name": "stderr",
     "output_type": "stream",
     "text": [
      "\r",
      " 22%|██▏       | 290/1296 [27:32<30:58,  1.85s/it]"
     ]
    },
    {
     "name": "stdout",
     "output_type": "stream",
     "text": [
      "params:[-1.08360479e-01  2.14003016e+02]\n",
      "validate rmse : 0.0039854977674830755 \n",
      " validate mae : 0.0034839669069180695 \n",
      "\n",
      "    test rmse : 0.015117145311825526 \n",
      " test mae : 0.014995680173901417\n",
      "(('sa', 2), ('sal', 1), ('sa', 1), ('sal', 1))\n"
     ]
    },
    {
     "name": "stderr",
     "output_type": "stream",
     "text": [
      "\r",
      " 22%|██▏       | 291/1296 [27:34<30:24,  1.82s/it]"
     ]
    },
    {
     "name": "stdout",
     "output_type": "stream",
     "text": [
      "params:[-1.06412270e-01  2.09986028e+02]\n",
      "validate rmse : 0.004164091614415412 \n",
      " validate mae : 0.0036103121604575644 \n",
      "\n",
      "    test rmse : 0.015627530662519595 \n",
      " test mae : 0.015505316937413274\n",
      "(('sa', 2), ('sal', 1), ('sa', 1), ('sal', 2))\n"
     ]
    },
    {
     "name": "stderr",
     "output_type": "stream",
     "text": [
      "\r",
      " 23%|██▎       | 292/1296 [27:40<53:47,  3.21s/it]"
     ]
    },
    {
     "name": "stdout",
     "output_type": "stream",
     "text": [
      "params:[-9.33405239e-02  1.84114920e+02]\n",
      "validate rmse : 0.0028756051707890164 \n",
      " validate mae : 0.0026335541906676824 \n",
      "\n",
      "    test rmse : 0.013417132446066985 \n",
      " test mae : 0.013275898145240142\n",
      "(('sa', 2), ('sal', 1), ('sa', 1), ('box_cox', 1))\n"
     ]
    },
    {
     "name": "stderr",
     "output_type": "stream",
     "text": [
      "\r",
      " 23%|██▎       | 293/1296 [27:42<47:21,  2.83s/it]"
     ]
    },
    {
     "name": "stdout",
     "output_type": "stream",
     "text": [
      "params:[-1.06171531e-01  2.08786485e+02]\n",
      "validate rmse : 0.002136026791951785 \n",
      " validate mae : 0.0017814201837096724 \n",
      "\n",
      "    test rmse : 0.008491376322852602 \n",
      " test mae : 0.008269509678626928\n",
      "(('sa', 2), ('sal', 1), ('sa', 1), ('box_cox', 2))\n"
     ]
    },
    {
     "name": "stderr",
     "output_type": "stream",
     "text": [
      "\r",
      " 23%|██▎       | 294/1296 [27:44<42:01,  2.52s/it]"
     ]
    },
    {
     "name": "stdout",
     "output_type": "stream",
     "text": [
      "params:[-1.08647513e-01  2.12536793e+02]\n",
      "validate rmse : 0.0025839870376533035 \n",
      " validate mae : 0.0019787719947129134 \n",
      "\n",
      "    test rmse : 0.012030352913926921 \n",
      " test mae : 0.011870187750714054\n",
      "(('sa', 2), ('sal', 1), ('sa', 2), ('sa', 1))\n"
     ]
    },
    {
     "name": "stderr",
     "output_type": "stream",
     "text": [
      "\r",
      " 23%|██▎       | 295/1296 [27:46<38:55,  2.33s/it]"
     ]
    },
    {
     "name": "stdout",
     "output_type": "stream",
     "text": [
      "params:[-1.08229018e-01  2.13713851e+02]\n",
      "validate rmse : 0.004199565814233424 \n",
      " validate mae : 0.0036427482464631844 \n",
      "\n",
      "    test rmse : 0.015733243976591985 \n",
      " test mae : 0.01561191892180768\n",
      "(('sa', 2), ('sal', 1), ('sa', 2), ('sa', 2))\n"
     ]
    },
    {
     "name": "stderr",
     "output_type": "stream",
     "text": [
      "\r",
      " 23%|██▎       | 296/1296 [27:48<36:46,  2.21s/it]"
     ]
    },
    {
     "name": "stdout",
     "output_type": "stream",
     "text": [
      "params:[-1.08369539e-01  2.14025104e+02]\n",
      "validate rmse : 0.003950628441961558 \n",
      " validate mae : 0.00345773237029661 \n",
      "\n",
      "    test rmse : 0.015014323402368614 \n",
      " test mae : 0.014892731953834825\n",
      "(('sa', 2), ('sal', 1), ('sa', 2), ('sal', 1))\n"
     ]
    },
    {
     "name": "stderr",
     "output_type": "stream",
     "text": [
      "\r",
      " 23%|██▎       | 297/1296 [27:50<37:00,  2.22s/it]"
     ]
    },
    {
     "name": "stdout",
     "output_type": "stream",
     "text": [
      "params:[-1.06309903e-01  2.09785543e+02]\n",
      "validate rmse : 0.004050097516828936 \n",
      " validate mae : 0.003526230715432716 \n",
      "\n",
      "    test rmse : 0.015315169086282642 \n",
      " test mae : 0.015192766608906613\n",
      "(('sa', 2), ('sal', 1), ('sa', 2), ('sal', 2))\n"
     ]
    },
    {
     "name": "stderr",
     "output_type": "stream",
     "text": [
      "\r",
      " 23%|██▎       | 298/1296 [28:04<1:32:09,  5.54s/it]"
     ]
    },
    {
     "name": "stdout",
     "output_type": "stream",
     "text": [
      "params:[-1.08599675e-01  2.14388916e+02]\n",
      "validate rmse : 0.005747640634026253 \n",
      " validate mae : 0.004929998352222941 \n",
      "\n",
      "    test rmse : 0.02399695963156616 \n",
      " test mae : 0.02366158226082733\n",
      "(('sa', 2), ('sal', 1), ('sa', 2), ('box_cox', 1))\n"
     ]
    },
    {
     "name": "stderr",
     "output_type": "stream",
     "text": [
      "\r",
      " 23%|██▎       | 299/1296 [28:06<1:14:12,  4.47s/it]"
     ]
    },
    {
     "name": "stdout",
     "output_type": "stream",
     "text": [
      "params:[-1.06040586e-01  2.08508679e+02]\n",
      "validate rmse : 0.0021452070588413104 \n",
      " validate mae : 0.0017790128197086824 \n",
      "\n",
      "    test rmse : 0.008555247647179378 \n",
      " test mae : 0.008337409419515083\n",
      "(('sa', 2), ('sal', 1), ('sa', 2), ('box_cox', 2))\n"
     ]
    },
    {
     "name": "stderr",
     "output_type": "stream",
     "text": [
      "\r",
      " 23%|██▎       | 300/1296 [28:07<1:00:33,  3.65s/it]"
     ]
    },
    {
     "name": "stdout",
     "output_type": "stream",
     "text": [
      "params:[ 3.62781256e-02 -6.96266837e+01]\n",
      "validate rmse : 0.03715179964725202 \n",
      " validate mae : 0.03612345665478694 \n",
      "\n",
      "    test rmse : 0.05624143562785231 \n",
      " test mae : 0.05573262828606499\n",
      "(('sa', 2), ('sal', 1), ('sal', 1), ('sa', 1))\n"
     ]
    },
    {
     "name": "stderr",
     "output_type": "stream",
     "text": [
      "\r",
      " 23%|██▎       | 301/1296 [28:11<59:07,  3.56s/it]  "
     ]
    },
    {
     "name": "stdout",
     "output_type": "stream",
     "text": [
      "params:[-1.06041247e-01  2.09257494e+02]\n",
      "validate rmse : 0.004122375746920999 \n",
      " validate mae : 0.0035785989416593144 \n",
      "\n",
      "    test rmse : 0.015497359064180996 \n",
      " test mae : 0.015375243099970218\n",
      "(('sa', 2), ('sal', 1), ('sal', 1), ('sa', 2))\n"
     ]
    },
    {
     "name": "stderr",
     "output_type": "stream",
     "text": [
      "\r",
      " 23%|██▎       | 302/1296 [28:13<53:11,  3.21s/it]"
     ]
    },
    {
     "name": "stdout",
     "output_type": "stream",
     "text": [
      "params:[-1.06045984e-01  2.09266458e+02]\n",
      "validate rmse : 0.004139935107023081 \n",
      " validate mae : 0.0035920693018826728 \n",
      "\n",
      "    test rmse : 0.015555825791286015 \n",
      " test mae : 0.015433621372159787\n",
      "(('sa', 2), ('sal', 1), ('sal', 1), ('sal', 1))\n"
     ]
    },
    {
     "name": "stderr",
     "output_type": "stream",
     "text": [
      "\r",
      " 23%|██▎       | 303/1296 [28:15<49:15,  2.98s/it]"
     ]
    },
    {
     "name": "stdout",
     "output_type": "stream",
     "text": [
      "params:[-1.0807760e-01  2.1327951e+02]\n",
      "validate rmse : 0.0050765208376536974 \n",
      " validate mae : 0.004258758588938173 \n",
      "\n",
      "    test rmse : 0.017693358702216114 \n",
      " test mae : 0.01757204705921259\n",
      "(('sa', 2), ('sal', 1), ('sal', 1), ('sal', 2))\n"
     ]
    },
    {
     "name": "stderr",
     "output_type": "stream",
     "text": [
      "\r",
      " 23%|██▎       | 304/1296 [28:28<1:34:38,  5.72s/it]"
     ]
    },
    {
     "name": "stdout",
     "output_type": "stream",
     "text": [
      "params:[-1.09289483e-01  2.15738061e+02]\n",
      "validate rmse : 0.008001538274416485 \n",
      " validate mae : 0.006550427339278532 \n",
      "\n",
      "    test rmse : 0.03200653767639852 \n",
      " test mae : 0.031426450267270756\n",
      "(('sa', 2), ('sal', 1), ('sal', 1), ('box_cox', 1))\n"
     ]
    },
    {
     "name": "stderr",
     "output_type": "stream",
     "text": [
      "\r",
      " 24%|██▎       | 305/1296 [28:30<1:16:58,  4.66s/it]"
     ]
    },
    {
     "name": "stdout",
     "output_type": "stream",
     "text": [
      "params:[-1.05089615e-01  2.06431637e+02]\n",
      "validate rmse : 0.0026891168689800516 \n",
      " validate mae : 0.002430230070054206 \n",
      "\n",
      "    test rmse : 0.01185670813660337 \n",
      " test mae : 0.011710721726582404\n",
      "(('sa', 2), ('sal', 1), ('sal', 1), ('box_cox', 2))\n"
     ]
    },
    {
     "name": "stderr",
     "output_type": "stream",
     "text": [
      "\r",
      " 24%|██▎       | 306/1296 [28:33<1:08:08,  4.13s/it]"
     ]
    },
    {
     "name": "stdout",
     "output_type": "stream",
     "text": [
      "params:[-1.04902405e-01  2.04989655e+02]\n",
      "validate rmse : 0.0028961067731644212 \n",
      " validate mae : 0.002630990764377335 \n",
      "\n",
      "    test rmse : 0.013961675258390606 \n",
      " test mae : 0.013810563966143817\n",
      "(('sa', 2), ('sal', 1), ('sal', 2), ('sa', 1))\n"
     ]
    },
    {
     "name": "stderr",
     "output_type": "stream",
     "text": [
      "\r",
      " 24%|██▎       | 307/1296 [28:44<1:42:04,  6.19s/it]"
     ]
    },
    {
     "name": "stdout",
     "output_type": "stream",
     "text": [
      "params:[-1.41270762e-01  2.79049299e+02]\n",
      "validate rmse : 0.02614672483048579 \n",
      " validate mae : 0.02467652973628356 \n",
      "\n",
      "    test rmse : 0.05930232138249113 \n",
      " test mae : 0.05882014023861292\n",
      "(('sa', 2), ('sal', 1), ('sal', 2), ('sa', 2))\n"
     ]
    },
    {
     "name": "stderr",
     "output_type": "stream",
     "text": [
      "\r",
      " 24%|██▍       | 308/1296 [28:51<1:46:20,  6.46s/it]"
     ]
    },
    {
     "name": "stdout",
     "output_type": "stream",
     "text": [
      "params:[-1.10594009e-01  2.18371365e+02]\n",
      "validate rmse : 0.0028478937643276895 \n",
      " validate mae : 0.002454847695195685 \n",
      "\n",
      "    test rmse : 0.01481281072302883 \n",
      " test mae : 0.014618778850138054\n",
      "(('sa', 2), ('sal', 1), ('sal', 2), ('sal', 1))\n"
     ]
    },
    {
     "name": "stderr",
     "output_type": "stream",
     "text": [
      "\r",
      " 24%|██▍       | 309/1296 [28:55<1:34:11,  5.73s/it]"
     ]
    },
    {
     "name": "stdout",
     "output_type": "stream",
     "text": [
      "params:[-1.02209578e-01  2.01661591e+02]\n",
      "validate rmse : 0.002342488592595006 \n",
      " validate mae : 0.0020292176595926104 \n",
      "\n",
      "    test rmse : 0.010080698405941058 \n",
      " test mae : 0.009901865339390886\n",
      "(('sa', 2), ('sal', 1), ('sal', 2), ('sal', 2))\n"
     ]
    },
    {
     "name": "stderr",
     "output_type": "stream",
     "text": [
      "\r",
      " 24%|██▍       | 310/1296 [29:07<2:07:02,  7.73s/it]"
     ]
    },
    {
     "name": "stdout",
     "output_type": "stream",
     "text": [
      "params:[-1.08317515e-01  2.13996797e+02]\n",
      "validate rmse : 0.004864053651309189 \n",
      " validate mae : 0.004189294072072676 \n",
      "\n",
      "    test rmse : 0.01861460016343557 \n",
      " test mae : 0.01845363886080168\n",
      "(('sa', 2), ('sal', 1), ('sal', 2), ('box_cox', 1))\n"
     ]
    },
    {
     "name": "stderr",
     "output_type": "stream",
     "text": [
      "\r",
      " 24%|██▍       | 311/1296 [29:14<2:01:59,  7.43s/it]"
     ]
    },
    {
     "name": "stdout",
     "output_type": "stream",
     "text": [
      "params:[-1.07021009e-01  2.10357876e+02]\n",
      "validate rmse : 0.004220327248330424 \n",
      " validate mae : 0.003471359381156764 \n",
      "\n",
      "    test rmse : 0.013078723727692294 \n",
      " test mae : 0.012729549933523931\n",
      "(('sa', 2), ('sal', 1), ('sal', 2), ('box_cox', 2))\n"
     ]
    },
    {
     "name": "stderr",
     "output_type": "stream",
     "text": [
      "\r",
      " 24%|██▍       | 312/1296 [29:17<1:41:24,  6.18s/it]"
     ]
    },
    {
     "name": "stdout",
     "output_type": "stream",
     "text": [
      "params:[ 5.23114001e-02 -1.00794430e+02]\n",
      "validate rmse : 0.0864169572877677 \n",
      " validate mae : 0.08607630124977005 \n",
      "\n",
      "    test rmse : 0.09610787173521075 \n",
      " test mae : 0.09597901844454129\n",
      "(('sa', 2), ('sal', 1), ('box_cox', 1), ('sa', 1))\n"
     ]
    },
    {
     "name": "stderr",
     "output_type": "stream",
     "text": [
      "\r",
      " 24%|██▍       | 313/1296 [29:20<1:22:23,  5.03s/it]"
     ]
    },
    {
     "name": "stdout",
     "output_type": "stream",
     "text": [
      "params:[-9.65181340e-02  1.90080442e+02]\n",
      "validate rmse : 0.002673949025207954 \n",
      " validate mae : 0.0019334355026105557 \n",
      "\n",
      "    test rmse : 0.010680612581028561 \n",
      " test mae : 0.010510117764948673\n",
      "(('sa', 2), ('sal', 1), ('box_cox', 1), ('sa', 2))\n"
     ]
    },
    {
     "name": "stderr",
     "output_type": "stream",
     "text": [
      "\r",
      " 24%|██▍       | 314/1296 [29:21<1:07:13,  4.11s/it]"
     ]
    },
    {
     "name": "stdout",
     "output_type": "stream",
     "text": [
      "params:[-9.61993175e-02  1.89432686e+02]\n",
      "validate rmse : 0.002671082267909671 \n",
      " validate mae : 0.0019231798606706826 \n",
      "\n",
      "    test rmse : 0.010777027831115085 \n",
      " test mae : 0.010607105795493815\n",
      "(('sa', 2), ('sal', 1), ('box_cox', 1), ('sal', 1))\n"
     ]
    },
    {
     "name": "stderr",
     "output_type": "stream",
     "text": [
      "\r",
      " 24%|██▍       | 315/1296 [29:24<57:30,  3.52s/it]  "
     ]
    },
    {
     "name": "stdout",
     "output_type": "stream",
     "text": [
      "params:[-1.13627558e-01  2.24303184e+02]\n",
      "validate rmse : 0.007992798384116926 \n",
      " validate mae : 0.006957074839541356 \n",
      "\n",
      "    test rmse : 0.025287146737208322 \n",
      " test mae : 0.025098703409958543\n",
      "(('sa', 2), ('sal', 1), ('box_cox', 1), ('sal', 2))\n"
     ]
    },
    {
     "name": "stderr",
     "output_type": "stream",
     "text": [
      "\r",
      " 24%|██▍       | 316/1296 [29:32<1:22:32,  5.05s/it]"
     ]
    },
    {
     "name": "stdout",
     "output_type": "stream",
     "text": [
      "params:[-1.11652683e-01  2.20367996e+02]\n",
      "validate rmse : 0.003042552621827913 \n",
      " validate mae : 0.002794217645422374 \n",
      "\n",
      "    test rmse : 0.013879751963240603 \n",
      " test mae : 0.013741146200320683\n",
      "(('sa', 2), ('sal', 1), ('box_cox', 1), ('box_cox', 1))\n"
     ]
    },
    {
     "name": "stderr",
     "output_type": "stream",
     "text": [
      "\r",
      " 24%|██▍       | 317/1296 [29:34<1:06:46,  4.09s/it]"
     ]
    },
    {
     "name": "stdout",
     "output_type": "stream",
     "text": [
      "params:[-1.08521679e-01  2.12235184e+02]\n",
      "validate rmse : 0.004538405486127522 \n",
      " validate mae : 0.0038585468449060917 \n",
      "\n",
      "    test rmse : 0.01641606848247588 \n",
      " test mae : 0.01629396009715352\n",
      "(('sa', 2), ('sal', 1), ('box_cox', 1), ('box_cox', 2))\n"
     ]
    },
    {
     "name": "stderr",
     "output_type": "stream",
     "text": [
      "\r",
      " 25%|██▍       | 318/1296 [29:36<56:56,  3.49s/it]  "
     ]
    },
    {
     "name": "stdout",
     "output_type": "stream",
     "text": [
      "params:[-1.01544612e-01  1.97321876e+02]\n",
      "validate rmse : 0.00899165157288302 \n",
      " validate mae : 0.008155451444030543 \n",
      "\n",
      "    test rmse : 0.02582750182918643 \n",
      " test mae : 0.025661326703821947\n",
      "(('sa', 2), ('sal', 1), ('box_cox', 2), ('sa', 1))\n"
     ]
    },
    {
     "name": "stderr",
     "output_type": "stream",
     "text": [
      "\r",
      " 25%|██▍       | 319/1296 [29:38<49:16,  3.03s/it]"
     ]
    },
    {
     "name": "stdout",
     "output_type": "stream",
     "text": [
      "params:[-8.92013713e-02  1.74910213e+02]\n",
      "validate rmse : 0.004770103598748693 \n",
      " validate mae : 0.004027834745826468 \n",
      "\n",
      "    test rmse : 0.017545141302758173 \n",
      " test mae : 0.01741464001215783\n",
      "(('sa', 2), ('sal', 1), ('box_cox', 2), ('sa', 2))\n"
     ]
    },
    {
     "name": "stderr",
     "output_type": "stream",
     "text": [
      "\r",
      " 25%|██▍       | 320/1296 [29:40<45:14,  2.78s/it]"
     ]
    },
    {
     "name": "stdout",
     "output_type": "stream",
     "text": [
      "params:[-8.92451317e-02  1.74997598e+02]\n",
      "validate rmse : 0.004793164969576397 \n",
      " validate mae : 0.00404209904529929 \n",
      "\n",
      "    test rmse : 0.017586452888044137 \n",
      " test mae : 0.01745598881766074\n",
      "(('sa', 2), ('sal', 1), ('box_cox', 2), ('sal', 1))\n"
     ]
    },
    {
     "name": "stderr",
     "output_type": "stream",
     "text": [
      "\r",
      " 25%|██▍       | 321/1296 [29:43<42:32,  2.62s/it]"
     ]
    },
    {
     "name": "stdout",
     "output_type": "stream",
     "text": [
      "params:[-1.13653601e-01  2.24379676e+02]\n",
      "validate rmse : 0.006113033181860451 \n",
      " validate mae : 0.005172950519531451 \n",
      "\n",
      "    test rmse : 0.020151614990841386 \n",
      " test mae : 0.02001533445004098\n",
      "(('sa', 2), ('sal', 1), ('box_cox', 2), ('sal', 2))\n"
     ]
    },
    {
     "name": "stderr",
     "output_type": "stream",
     "text": [
      "\r",
      " 25%|██▍       | 322/1296 [29:48<57:59,  3.57s/it]"
     ]
    },
    {
     "name": "stdout",
     "output_type": "stream",
     "text": [
      "params:[-5.69150549e+07  1.11644996e+11]\n",
      "validate rmse : 0.012461102583099721 \n",
      " validate mae : 0.011381751433057728 \n",
      "\n",
      "    test rmse : 0.019723801424406835 \n",
      " test mae : 0.019279414678518375\n",
      "(('sa', 2), ('sal', 1), ('box_cox', 2), ('box_cox', 1))\n"
     ]
    },
    {
     "name": "stderr",
     "output_type": "stream",
     "text": [
      "\r",
      " 25%|██▍       | 323/1296 [29:50<48:33,  2.99s/it]"
     ]
    },
    {
     "name": "stdout",
     "output_type": "stream",
     "text": [
      "params:[-1.02071765e-01  1.98358623e+02]\n",
      "validate rmse : 0.00780201370063852 \n",
      " validate mae : 0.00698012833728609 \n",
      "\n",
      "    test rmse : 0.023331262528361797 \n",
      " test mae : 0.023182818013254416\n",
      "(('sa', 2), ('sal', 1), ('box_cox', 2), ('box_cox', 2))\n"
     ]
    },
    {
     "name": "stderr",
     "output_type": "stream",
     "text": [
      "\r",
      " 25%|██▌       | 324/1296 [29:52<43:03,  2.66s/it]"
     ]
    },
    {
     "name": "stdout",
     "output_type": "stream",
     "text": [
      "params:[-8.77963465e-02  1.69132053e+02]\n",
      "validate rmse : 0.011717931265034077 \n",
      " validate mae : 0.010994149964296552 \n",
      "\n",
      "    test rmse : 0.029824517955334903 \n",
      " test mae : 0.029651015557544815\n",
      "(('sa', 2), ('sal', 2), ('sa', 1), ('sa', 1))\n"
     ]
    },
    {
     "name": "stderr",
     "output_type": "stream",
     "text": [
      "\r",
      " 25%|██▌       | 325/1296 [30:11<2:01:09,  7.49s/it]"
     ]
    },
    {
     "name": "stdout",
     "output_type": "stream",
     "text": [
      "params:[-1.03727131e-01  2.05018946e+02]\n",
      "validate rmse : 0.005626812675277889 \n",
      " validate mae : 0.005347451284089584 \n",
      "\n",
      "    test rmse : 0.0023327149153283665 \n",
      " test mae : 0.0018402948430902408\n",
      "(('sa', 2), ('sal', 2), ('sa', 1), ('sa', 2))\n"
     ]
    },
    {
     "name": "stderr",
     "output_type": "stream",
     "text": [
      "\r",
      " 25%|██▌       | 326/1296 [30:31<3:02:01, 11.26s/it]"
     ]
    },
    {
     "name": "stdout",
     "output_type": "stream",
     "text": [
      "params:[-1.05457950e-01  2.08177749e+02]\n",
      "validate rmse : 0.003420442245645771 \n",
      " validate mae : 0.0028912474505622715 \n",
      "\n",
      "    test rmse : 0.004233758941056698 \n",
      " test mae : 0.0036259116029395805\n",
      "(('sa', 2), ('sal', 2), ('sa', 1), ('sal', 1))\n",
      "params:[-1.09841189e-01  2.16955622e+02]\n"
     ]
    },
    {
     "data": {
      "image/png": "[encoded data removed]",
      "text/plain": [
       "<Figure size 432x288 with 1 Axes>"
      ]
     },
     "metadata": {
      "needs_background": "light"
     },
     "output_type": "display_data"
    },
    {
     "name": "stderr",
     "output_type": "stream",
     "text": [
      "\r",
      " 25%|██▌       | 327/1296 [31:16<5:46:56, 21.48s/it]"
     ]
    },
    {
     "name": "stdout",
     "output_type": "stream",
     "text": [
      "validate rmse : 0.0019463140612194737 \n",
      " validate mae : 0.0017086137690329026 \n",
      "\n",
      "    test rmse : 0.005741815022214652 \n",
      " test mae : 0.005266286562767147\n",
      "(('sa', 2), ('sal', 2), ('sa', 1), ('sal', 2))\n",
      "params:[99.00000082 -1.        ]\n"
     ]
    },
    {
     "name": "stderr",
     "output_type": "stream",
     "text": [
      "\r",
      " 25%|██▌       | 328/1296 [31:32<5:17:54, 19.71s/it]"
     ]
    },
    {
     "name": "stdout",
     "output_type": "stream",
     "text": [
      "validate rmse : 0.09715425214448323 \n",
      " validate mae : 0.09709968538140852 \n",
      "\n",
      "    test rmse : 0.10144006588608032 \n",
      " test mae : 0.10134366165544126\n",
      "(('sa', 2), ('sal', 2), ('sa', 1), ('box_cox', 1))\n"
     ]
    },
    {
     "name": "stderr",
     "output_type": "stream",
     "text": [
      "\r",
      " 25%|██▌       | 329/1296 [31:49<5:07:13, 19.06s/it]"
     ]
    },
    {
     "name": "stdout",
     "output_type": "stream",
     "text": [
      "params:[-8.26276472e-02  1.62550318e+02]\n",
      "validate rmse : 0.005492613625542712 \n",
      " validate mae : 0.00491821572463208 \n",
      "\n",
      "    test rmse : 0.0077356000015262275 \n",
      " test mae : 0.006654732051716203\n",
      "(('sa', 2), ('sal', 2), ('sa', 1), ('box_cox', 2))\n"
     ]
    },
    {
     "name": "stderr",
     "output_type": "stream",
     "text": [
      "\r",
      " 25%|██▌       | 330/1296 [32:10<5:13:19, 19.46s/it]"
     ]
    },
    {
     "name": "stdout",
     "output_type": "stream",
     "text": [
      "params:[-1.05851907e-01  2.07112581e+02]\n",
      "validate rmse : 0.004718373854500759 \n",
      " validate mae : 0.00437281227075721 \n",
      "\n",
      "    test rmse : 0.002626768524733548 \n",
      " test mae : 0.0018592983470327926\n",
      "(('sa', 2), ('sal', 2), ('sa', 2), ('sa', 1))\n"
     ]
    },
    {
     "name": "stderr",
     "output_type": "stream",
     "text": [
      "\r",
      " 26%|██▌       | 331/1296 [32:13<3:57:30, 14.77s/it]"
     ]
    },
    {
     "name": "stdout",
     "output_type": "stream",
     "text": [
      "params:[-1.08136888e-01  2.13328180e+02]\n",
      "validate rmse : 0.00513375557714602 \n",
      " validate mae : 0.004319465129426413 \n",
      "\n",
      "    test rmse : 0.017007556691217368 \n",
      " test mae : 0.016895651283073514\n",
      "(('sa', 2), ('sal', 2), ('sa', 2), ('sa', 2))\n"
     ]
    },
    {
     "name": "stderr",
     "output_type": "stream",
     "text": [
      "\r",
      " 26%|██▌       | 332/1296 [32:18<3:07:37, 11.68s/it]"
     ]
    },
    {
     "name": "stdout",
     "output_type": "stream",
     "text": [
      "params:[-5.24215532e+00  1.04085401e+04]\n",
      "validate rmse : 0.18297957418569788 \n",
      " validate mae : 0.18292591602166922 \n",
      "\n",
      "    test rmse : 0.19824886078284806 \n",
      " test mae : 0.19823937404119585\n",
      "(('sa', 2), ('sal', 2), ('sa', 2), ('sal', 1))\n",
      "params:[-1.08982199e-01  2.15254430e+02]\n"
     ]
    },
    {
     "data": {
      "image/png": "[encoded data removed]",
      "text/plain": [
       "<Figure size 432x288 with 1 Axes>"
      ]
     },
     "metadata": {
      "needs_background": "light"
     },
     "output_type": "display_data"
    },
    {
     "name": "stderr",
     "output_type": "stream",
     "text": [
      "\r",
      " 26%|██▌       | 333/1296 [32:30<3:07:22, 11.67s/it]"
     ]
    },
    {
     "name": "stdout",
     "output_type": "stream",
     "text": [
      "validate rmse : 0.0019896188256157774 \n",
      " validate mae : 0.001725612117688993 \n",
      "\n",
      "    test rmse : 0.005445479221945385 \n",
      " test mae : 0.004928476443615433\n",
      "(('sa', 2), ('sal', 2), ('sa', 2), ('sal', 2))\n"
     ]
    },
    {
     "name": "stderr",
     "output_type": "stream",
     "text": [
      "\r",
      " 26%|██▌       | 334/1296 [32:57<4:21:32, 16.31s/it]"
     ]
    },
    {
     "name": "stdout",
     "output_type": "stream",
     "text": [
      "params:[-1.09227624e-01  2.15542250e+02]\n",
      "validate rmse : 0.008683374736869956 \n",
      " validate mae : 0.0077502098682364195 \n",
      "\n",
      "    test rmse : 0.023566073807460855 \n",
      " test mae : 0.02345889370871131\n",
      "(('sa', 2), ('sal', 2), ('sa', 2), ('box_cox', 1))\n"
     ]
    },
    {
     "name": "stderr",
     "output_type": "stream",
     "text": [
      "\r",
      " 26%|██▌       | 335/1296 [33:21<4:58:46, 18.65s/it]"
     ]
    },
    {
     "name": "stdout",
     "output_type": "stream",
     "text": [
      "params:[-1.04944554e-01  2.06275485e+02]\n",
      "validate rmse : 0.005351260167107357 \n",
      " validate mae : 0.0050537425837743856 \n",
      "\n",
      "    test rmse : 0.002392118640013213 \n",
      " test mae : 0.0019038842724101604\n",
      "(('sa', 2), ('sal', 2), ('sa', 2), ('box_cox', 2))\n",
      "params:[-1.08283598e-01  2.11830577e+02]\n"
     ]
    },
    {
     "name": "stderr",
     "output_type": "stream",
     "text": [
      "\r",
      " 26%|██▌       | 336/1296 [33:44<5:21:13, 20.08s/it]"
     ]
    },
    {
     "name": "stdout",
     "output_type": "stream",
     "text": [
      "validate rmse : 0.0031349781617229463 \n",
      " validate mae : 0.002799669953363012 \n",
      "\n",
      "    test rmse : 0.01280003088692615 \n",
      " test mae : 0.012663625799194963\n",
      "(('sa', 2), ('sal', 2), ('sal', 1), ('sa', 1))\n",
      "params:[-1.09557065e-01  2.16373287e+02]\n"
     ]
    },
    {
     "data": {
      "image/png": "[encoded data removed]",
      "text/plain": [
       "<Figure size 432x288 with 1 Axes>"
      ]
     },
     "metadata": {
      "needs_background": "light"
     },
     "output_type": "display_data"
    },
    {
     "name": "stderr",
     "output_type": "stream",
     "text": [
      "\r",
      " 26%|██▌       | 337/1296 [34:05<5:23:34, 20.24s/it]"
     ]
    },
    {
     "name": "stdout",
     "output_type": "stream",
     "text": [
      "validate rmse : 0.001920382415785984 \n",
      " validate mae : 0.0016891396466487882 \n",
      "\n",
      "    test rmse : 0.006378463901314155 \n",
      " test mae : 0.005980755809540582\n",
      "(('sa', 2), ('sal', 2), ('sal', 1), ('sa', 2))\n"
     ]
    },
    {
     "name": "stderr",
     "output_type": "stream",
     "text": [
      "\r",
      " 26%|██▌       | 338/1296 [34:49<7:17:55, 27.43s/it]"
     ]
    },
    {
     "name": "stdout",
     "output_type": "stream",
     "text": [
      "params:[-1.12834811e-01  2.22833195e+02]\n",
      "validate rmse : 0.005112799195849458 \n",
      " validate mae : 0.0043052677149136255 \n",
      "\n",
      "    test rmse : 0.016026947183832397 \n",
      " test mae : 0.015918968033856472\n",
      "(('sa', 2), ('sal', 2), ('sal', 1), ('sal', 1))\n"
     ]
    },
    {
     "name": "stderr",
     "output_type": "stream",
     "text": [
      "\r",
      " 26%|██▌       | 339/1296 [34:57<5:46:14, 21.71s/it]"
     ]
    },
    {
     "name": "stdout",
     "output_type": "stream",
     "text": [
      "params:[-1.04844593e-01  2.06944687e+02]\n",
      "validate rmse : 0.0022219122275642478 \n",
      " validate mae : 0.001957666992427752 \n",
      "\n",
      "    test rmse : 0.007685784267456917 \n",
      " test mae : 0.007329185005815356\n",
      "(('sa', 2), ('sal', 2), ('sal', 1), ('sal', 2))\n"
     ]
    },
    {
     "name": "stderr",
     "output_type": "stream",
     "text": [
      "\r",
      " 26%|██▌       | 340/1296 [35:11<5:07:42, 19.31s/it]"
     ]
    },
    {
     "name": "stdout",
     "output_type": "stream",
     "text": [
      "params:[-1.10343395e-01  2.17902696e+02]\n",
      "validate rmse : 0.004803668847245848 \n",
      " validate mae : 0.004148751841108986 \n",
      "\n",
      "    test rmse : 0.01911460580366586 \n",
      " test mae : 0.018925426541857093\n",
      "(('sa', 2), ('sal', 2), ('sal', 1), ('box_cox', 1))\n"
     ]
    },
    {
     "name": "stderr",
     "output_type": "stream",
     "text": [
      "\r",
      " 26%|██▋       | 341/1296 [35:35<5:29:50, 20.72s/it]"
     ]
    },
    {
     "name": "stdout",
     "output_type": "stream",
     "text": [
      "params:[-1.05513770e-01  2.07248666e+02]\n",
      "validate rmse : 0.0031660771498118155 \n",
      " validate mae : 0.0028549283075286164 \n",
      "\n",
      "    test rmse : 0.01315279021109313 \n",
      " test mae : 0.013019566540682984\n",
      "(('sa', 2), ('sal', 2), ('sal', 1), ('box_cox', 2))\n"
     ]
    },
    {
     "name": "stderr",
     "output_type": "stream",
     "text": [
      "\r",
      " 26%|██▋       | 342/1296 [35:43<4:27:36, 16.83s/it]"
     ]
    },
    {
     "name": "stdout",
     "output_type": "stream",
     "text": [
      "params:[-1.05488096e-01  2.06168060e+02]\n",
      "validate rmse : 0.0025505778978865776 \n",
      " validate mae : 0.0021026663675935897 \n",
      "\n",
      "    test rmse : 0.01205289808198514 \n",
      " test mae : 0.011899039058420947\n",
      "(('sa', 2), ('sal', 2), ('sal', 2), ('sa', 1))\n",
      "params:[-1.10413897e-01  2.17976232e+02]\n"
     ]
    },
    {
     "name": "stderr",
     "output_type": "stream",
     "text": [
      "\r",
      " 26%|██▋       | 343/1296 [36:02<4:36:16, 17.39s/it]"
     ]
    },
    {
     "name": "stdout",
     "output_type": "stream",
     "text": [
      "validate rmse : 0.003619759942070665 \n",
      " validate mae : 0.0026328070434447465 \n",
      "\n",
      "    test rmse : 0.006888717811978431 \n",
      " test mae : 0.0055357661056359975\n",
      "(('sa', 2), ('sal', 2), ('sal', 2), ('sa', 2))\n"
     ]
    },
    {
     "name": "stderr",
     "output_type": "stream",
     "text": [
      "\r",
      " 27%|██▋       | 344/1296 [36:11<3:55:52, 14.87s/it]"
     ]
    },
    {
     "name": "stdout",
     "output_type": "stream",
     "text": [
      "params:[-7.83708511e-02  1.53858662e+02]\n",
      "validate rmse : 0.004263868413824606 \n",
      " validate mae : 0.0038732772491915763 \n",
      "\n",
      "    test rmse : 0.002757910029911625 \n",
      " test mae : 0.001974976285046916\n",
      "(('sa', 2), ('sal', 2), ('sal', 2), ('sal', 1))\n"
     ]
    },
    {
     "name": "stderr",
     "output_type": "stream",
     "text": [
      "\r",
      " 27%|██▋       | 345/1296 [36:17<3:17:12, 12.44s/it]"
     ]
    },
    {
     "name": "stdout",
     "output_type": "stream",
     "text": [
      "params:[-1.09714559e-01  2.16566581e+02]\n",
      "validate rmse : 0.002830834115660452 \n",
      " validate mae : 0.0025849530118002007 \n",
      "\n",
      "    test rmse : 0.013289800634259004 \n",
      " test mae : 0.013147769328882805\n",
      "(('sa', 2), ('sal', 2), ('sal', 2), ('sal', 2))\n"
     ]
    },
    {
     "name": "stderr",
     "output_type": "stream",
     "text": [
      "\r",
      " 27%|██▋       | 346/1296 [36:35<3:40:52, 13.95s/it]"
     ]
    },
    {
     "name": "stdout",
     "output_type": "stream",
     "text": [
      "params:[-1.10409094e-01  2.18000783e+02]\n",
      "validate rmse : 0.002322795621960799 \n",
      " validate mae : 0.002002472771850355 \n",
      "\n",
      "    test rmse : 0.1539409491861926 \n",
      " test mae : 0.0858114175437461\n",
      "(('sa', 2), ('sal', 2), ('sal', 2), ('box_cox', 1))\n"
     ]
    },
    {
     "name": "stderr",
     "output_type": "stream",
     "text": [
      "\r",
      " 27%|██▋       | 347/1296 [36:48<3:38:16, 13.80s/it]"
     ]
    },
    {
     "name": "stdout",
     "output_type": "stream",
     "text": [
      "params:[-1.05140006e-01  2.06622325e+02]\n",
      "validate rmse : 0.004391245287835494 \n",
      " validate mae : 0.003890835544049263 \n",
      "\n",
      "    test rmse : 0.005502131242642886 \n",
      " test mae : 0.0051737335487154834\n",
      "(('sa', 2), ('sal', 2), ('sal', 2), ('box_cox', 2))\n",
      "params:[-1.10791478e-01  2.16811182e+02]\n"
     ]
    },
    {
     "data": {
      "image/png": "[encoded data removed]",
      "text/plain": [
       "<Figure size 432x288 with 1 Axes>"
      ]
     },
     "metadata": {
      "needs_background": "light"
     },
     "output_type": "display_data"
    },
    {
     "name": "stderr",
     "output_type": "stream",
     "text": [
      "\r",
      " 27%|██▋       | 348/1296 [37:05<3:50:56, 14.62s/it]"
     ]
    },
    {
     "name": "stdout",
     "output_type": "stream",
     "text": [
      "validate rmse : 0.0019110469017198533 \n",
      " validate mae : 0.001760509046817674 \n",
      "\n",
      "    test rmse : 0.006120107698948195 \n",
      " test mae : 0.005585830267773297\n",
      "(('sa', 2), ('sal', 2), ('box_cox', 1), ('sa', 1))\n"
     ]
    },
    {
     "name": "stderr",
     "output_type": "stream",
     "text": [
      "\r",
      " 27%|██▋       | 349/1296 [37:25<4:15:30, 16.19s/it]"
     ]
    },
    {
     "name": "stdout",
     "output_type": "stream",
     "text": [
      "params:[-9.89301879e-02  1.94796757e+02]\n",
      "validate rmse : 0.0036589476653871972 \n",
      " validate mae : 0.003390048150028274 \n",
      "\n",
      "    test rmse : 0.017236201072159944 \n",
      " test mae : 0.017053105473990526\n",
      "(('sa', 2), ('sal', 2), ('box_cox', 1), ('sa', 2))\n"
     ]
    },
    {
     "name": "stderr",
     "output_type": "stream",
     "text": [
      "\r",
      " 27%|██▋       | 350/1296 [37:35<3:47:31, 14.43s/it]"
     ]
    },
    {
     "name": "stdout",
     "output_type": "stream",
     "text": [
      "params:[-1.01672381e-01  2.00384162e+02]\n",
      "validate rmse : 0.0027171295209399093 \n",
      " validate mae : 0.0021647826827687344 \n",
      "\n",
      "    test rmse : 0.004562149065903361 \n",
      " test mae : 0.0039480249430137015\n",
      "(('sa', 2), ('sal', 2), ('box_cox', 1), ('sal', 1))\n"
     ]
    },
    {
     "name": "stderr",
     "output_type": "stream",
     "text": [
      "\r",
      " 27%|██▋       | 351/1296 [37:55<4:16:11, 16.27s/it]"
     ]
    },
    {
     "name": "stdout",
     "output_type": "stream",
     "text": [
      "params:[-9.28183710e-01  2.23173514e+03]\n",
      "validate rmse : 0.03636102205529453 \n",
      " validate mae : 0.03494021061175641 \n",
      "\n",
      "    test rmse : 0.0848540635391647 \n",
      " test mae : 0.08366224498173794\n",
      "(('sa', 2), ('sal', 2), ('box_cox', 1), ('sal', 2))\n",
      "params:[-1.22316194e+02  2.35115537e+05]\n"
     ]
    },
    {
     "name": "stderr",
     "output_type": "stream",
     "text": [
      "\r",
      " 27%|██▋       | 352/1296 [38:19<4:51:32, 18.53s/it]"
     ]
    },
    {
     "name": "stdout",
     "output_type": "stream",
     "text": [
      "validate rmse : 0.017461102873425113 \n",
      " validate mae : 0.017281969943931746 \n",
      "\n",
      "    test rmse : 0.018798271978000995 \n",
      " test mae : 0.01843025933710985\n",
      "(('sa', 2), ('sal', 2), ('box_cox', 1), ('box_cox', 1))\n"
     ]
    },
    {
     "name": "stderr",
     "output_type": "stream",
     "text": [
      "\r",
      " 27%|██▋       | 353/1296 [38:49<5:44:25, 21.92s/it]"
     ]
    },
    {
     "name": "stdout",
     "output_type": "stream",
     "text": [
      "params:[-1.06277148e-01  2.07933004e+02]\n",
      "validate rmse : 0.0039559796086565974 \n",
      " validate mae : 0.0035310157940422826 \n",
      "\n",
      "    test rmse : 0.0032778210512279084 \n",
      " test mae : 0.002620445268849616\n",
      "(('sa', 2), ('sal', 2), ('box_cox', 1), ('box_cox', 2))\n"
     ]
    },
    {
     "name": "stderr",
     "output_type": "stream",
     "text": [
      "\r",
      " 27%|██▋       | 354/1296 [38:53<4:17:58, 16.43s/it]"
     ]
    },
    {
     "name": "stdout",
     "output_type": "stream",
     "text": [
      "params:[-5.35135563e-02  1.07397718e+02]\n",
      "validate rmse : 0.2368576693348969 \n",
      " validate mae : 0.23495043118670172 \n",
      "\n",
      "    test rmse : 0.16938722461713146 \n",
      " test mae : 0.16930124752454115\n",
      "(('sa', 2), ('sal', 2), ('box_cox', 2), ('sa', 1))\n"
     ]
    },
    {
     "name": "stderr",
     "output_type": "stream",
     "text": [
      "\r",
      " 27%|██▋       | 355/1296 [39:04<3:53:29, 14.89s/it]"
     ]
    },
    {
     "name": "stdout",
     "output_type": "stream",
     "text": [
      "params:[-9.08833007e-02  1.78223585e+02]\n",
      "validate rmse : 0.007319734292507089 \n",
      " validate mae : 0.006393313971034348 \n",
      "\n",
      "    test rmse : 0.0237030312667464 \n",
      " test mae : 0.02351670293607793\n",
      "(('sa', 2), ('sal', 2), ('box_cox', 2), ('sa', 2))\n",
      "params:[-9.16980680e-02  1.79831847e+02]\n"
     ]
    },
    {
     "name": "stderr",
     "output_type": "stream",
     "text": [
      "\r",
      " 27%|██▋       | 356/1296 [39:21<4:03:24, 15.54s/it]"
     ]
    },
    {
     "name": "stdout",
     "output_type": "stream",
     "text": [
      "validate rmse : 0.008448536578490286 \n",
      " validate mae : 0.007548122850201138 \n",
      "\n",
      "    test rmse : 0.025933765732330787 \n",
      " test mae : 0.025730617368674363\n",
      "(('sa', 2), ('sal', 2), ('box_cox', 2), ('sal', 1))\n"
     ]
    },
    {
     "name": "stderr",
     "output_type": "stream",
     "text": [
      "\r",
      " 28%|██▊       | 357/1296 [39:27<3:15:46, 12.51s/it]"
     ]
    },
    {
     "name": "stdout",
     "output_type": "stream",
     "text": [
      "params:[-1.11320473e-01  2.19775798e+02]\n",
      "validate rmse : 0.004277304554263116 \n",
      " validate mae : 0.0036320480705112424 \n",
      "\n",
      "    test rmse : 0.015411633683402341 \n",
      " test mae : 0.015290487649759028\n",
      "(('sa', 2), ('sal', 2), ('box_cox', 2), ('sal', 2))\n",
      "params:[ 5.91596843e+10 -1.14405311e+14]\n"
     ]
    },
    {
     "name": "stderr",
     "output_type": "stream",
     "text": [
      "\r",
      " 28%|██▊       | 358/1296 [39:38<3:11:18, 12.24s/it]"
     ]
    },
    {
     "name": "stdout",
     "output_type": "stream",
     "text": [
      "validate rmse : 0.06137734244431964 \n",
      " validate mae : 0.06109586122547401 \n",
      "\n",
      "    test rmse : 0.07446451828995172 \n",
      " test mae : 0.07419870358954175\n",
      "(('sa', 2), ('sal', 2), ('box_cox', 2), ('box_cox', 1))\n"
     ]
    },
    {
     "name": "stderr",
     "output_type": "stream",
     "text": [
      "\r",
      " 28%|██▊       | 359/1296 [39:46<2:51:17, 10.97s/it]"
     ]
    },
    {
     "name": "stdout",
     "output_type": "stream",
     "text": [
      "params:[-1.00220948e-01  1.94817276e+02]\n",
      "validate rmse : 0.002024388949068718 \n",
      " validate mae : 0.0018002634082385307 \n",
      "\n",
      "    test rmse : 0.007934037198420143 \n",
      " test mae : 0.007639827624231091\n",
      "(('sa', 2), ('sal', 2), ('box_cox', 2), ('box_cox', 2))\n"
     ]
    },
    {
     "name": "stderr",
     "output_type": "stream",
     "text": [
      "\r",
      " 28%|██▊       | 360/1296 [39:59<3:01:06, 11.61s/it]"
     ]
    },
    {
     "name": "stdout",
     "output_type": "stream",
     "text": [
      "params:[-6.77095169e-02  1.35815802e+02]\n",
      "validate rmse : 0.18825602149146053 \n",
      " validate mae : 0.18823214454109108 \n",
      "\n",
      "    test rmse : 0.18453214668142975 \n",
      " test mae : 0.1844804394212145\n",
      "(('sa', 2), ('box_cox', 1), ('sa', 1), ('sa', 1))\n"
     ]
    },
    {
     "name": "stderr",
     "output_type": "stream",
     "text": [
      "\r",
      " 28%|██▊       | 361/1296 [40:00<2:09:22,  8.30s/it]"
     ]
    },
    {
     "name": "stdout",
     "output_type": "stream",
     "text": [
      "params:[-8.08699048e-02  1.58934715e+02]\n",
      "validate rmse : 0.007277087132091395 \n",
      " validate mae : 0.007063042426624434 \n",
      "\n",
      "    test rmse : 0.0036126844483684714 \n",
      " test mae : 0.0031260953004617737\n",
      "(('sa', 2), ('box_cox', 1), ('sa', 1), ('sa', 2))\n"
     ]
    },
    {
     "name": "stderr",
     "output_type": "stream",
     "text": [
      "\r",
      " 28%|██▊       | 362/1296 [40:01<1:33:48,  6.03s/it]"
     ]
    },
    {
     "name": "stdout",
     "output_type": "stream",
     "text": [
      "params:[-8.08698192e-02  1.58934546e+02]\n",
      "validate rmse : 0.007277118907047569 \n",
      " validate mae : 0.007063075171321078 \n",
      "\n",
      "    test rmse : 0.0036127202821326907 \n",
      " test mae : 0.003126129963170251\n",
      "(('sa', 2), ('box_cox', 1), ('sa', 1), ('sal', 1))\n"
     ]
    },
    {
     "name": "stderr",
     "output_type": "stream",
     "text": [
      "\r",
      " 28%|██▊       | 363/1296 [40:04<1:22:10,  5.29s/it]"
     ]
    },
    {
     "name": "stdout",
     "output_type": "stream",
     "text": [
      "params:[-1.08788759e-01  2.14824046e+02]\n",
      "validate rmse : 0.0021723945118574768 \n",
      " validate mae : 0.0019317479499540793 \n",
      "\n",
      "    test rmse : 0.008406089128869141 \n",
      " test mae : 0.008138825555982178\n",
      "(('sa', 2), ('box_cox', 1), ('sa', 1), ('sal', 2))\n",
      "params:[-3.81900741e+06  7.50137789e+09]\n"
     ]
    },
    {
     "name": "stderr",
     "output_type": "stream",
     "text": [
      "\r",
      " 28%|██▊       | 364/1296 [40:13<1:40:47,  6.49s/it]"
     ]
    },
    {
     "name": "stdout",
     "output_type": "stream",
     "text": [
      "validate rmse : 0.013985410937727144 \n",
      " validate mae : 0.01366955451384448 \n",
      "\n",
      "    test rmse : 0.017245790998308592 \n",
      " test mae : 0.0167408963797477\n",
      "(('sa', 2), ('box_cox', 1), ('sa', 1), ('box_cox', 1))\n"
     ]
    },
    {
     "name": "stderr",
     "output_type": "stream",
     "text": [
      "\r",
      " 28%|██▊       | 365/1296 [40:14<1:12:52,  4.70s/it]"
     ]
    },
    {
     "name": "stdout",
     "output_type": "stream",
     "text": [
      "params:[-8.39227696e-02  1.63799078e+02]\n",
      "validate rmse : 0.004264569305771086 \n",
      " validate mae : 0.0038707873231253187 \n",
      "\n",
      "    test rmse : 0.0029269695760474617 \n",
      " test mae : 0.002200944776274547\n",
      "(('sa', 2), ('box_cox', 1), ('sa', 1), ('box_cox', 2))\n"
     ]
    },
    {
     "name": "stderr",
     "output_type": "stream",
     "text": [
      "\r",
      " 28%|██▊       | 366/1296 [40:14<53:29,  3.45s/it]  "
     ]
    },
    {
     "name": "stdout",
     "output_type": "stream",
     "text": [
      "params:[-8.04434613e-02  1.55936960e+02]\n",
      "validate rmse : 0.004491642957266555 \n",
      " validate mae : 0.004123777211950492 \n",
      "\n",
      "    test rmse : 0.002726408882931778 \n",
      " test mae : 0.0019441329630297305\n",
      "(('sa', 2), ('box_cox', 1), ('sa', 2), ('sa', 1))\n"
     ]
    },
    {
     "name": "stderr",
     "output_type": "stream",
     "text": [
      "\r",
      " 28%|██▊       | 367/1296 [40:15<40:10,  2.59s/it]"
     ]
    },
    {
     "name": "stdout",
     "output_type": "stream",
     "text": [
      "params:[-8.08699634e-02  1.58934831e+02]\n",
      "validate rmse : 0.007277062553132059 \n",
      " validate mae : 0.0070630170956858486 \n",
      "\n",
      "    test rmse : 0.0036126594549060922 \n",
      " test mae : 0.003126070921959232\n",
      "(('sa', 2), ('box_cox', 1), ('sa', 2), ('sa', 2))\n"
     ]
    },
    {
     "name": "stderr",
     "output_type": "stream",
     "text": [
      "\r",
      " 28%|██▊       | 368/1296 [40:16<31:51,  2.06s/it]"
     ]
    },
    {
     "name": "stdout",
     "output_type": "stream",
     "text": [
      "params:[-8.08699703e-02  1.58934844e+02]\n",
      "validate rmse : 0.007277059466703734 \n",
      " validate mae : 0.007063013918604917 \n",
      "\n",
      "    test rmse : 0.003612652207428954 \n",
      " test mae : 0.0031260641940520006\n",
      "(('sa', 2), ('box_cox', 1), ('sa', 2), ('sal', 1))\n"
     ]
    },
    {
     "name": "stderr",
     "output_type": "stream",
     "text": [
      "\r",
      " 28%|██▊       | 369/1296 [40:19<37:08,  2.40s/it]"
     ]
    },
    {
     "name": "stdout",
     "output_type": "stream",
     "text": [
      "params:[-1.08791975e-01  2.14830467e+02]\n",
      "validate rmse : 0.0021715414507887934 \n",
      " validate mae : 0.0019313452167984532 \n",
      "\n",
      "    test rmse : 0.008401781377965985 \n",
      " test mae : 0.008134266507461966\n",
      "(('sa', 2), ('box_cox', 1), ('sa', 2), ('sal', 2))\n",
      "params:[-1.65741445e+03  3.29449161e+06]\n"
     ]
    },
    {
     "name": "stderr",
     "output_type": "stream",
     "text": [
      "\r",
      " 29%|██▊       | 370/1296 [40:30<1:17:28,  5.02s/it]"
     ]
    },
    {
     "name": "stdout",
     "output_type": "stream",
     "text": [
      "validate rmse : 0.06360783496587957 \n",
      " validate mae : 0.06357685660437021 \n",
      "\n",
      "    test rmse : 0.06490264814013469 \n",
      " test mae : 0.0648205500865492\n",
      "(('sa', 2), ('box_cox', 1), ('sa', 2), ('box_cox', 1))\n"
     ]
    },
    {
     "name": "stderr",
     "output_type": "stream",
     "text": [
      "\r",
      " 29%|██▊       | 371/1296 [40:31<57:10,  3.71s/it]  "
     ]
    },
    {
     "name": "stdout",
     "output_type": "stream",
     "text": [
      "params:[-8.39221575e-02  1.63797870e+02]\n",
      "validate rmse : 0.0042648692467847265 \n",
      " validate mae : 0.0038711221828390185 \n",
      "\n",
      "    test rmse : 0.002926703528539166 \n",
      " test mae : 0.0022006087993044566\n",
      "(('sa', 2), ('box_cox', 1), ('sa', 2), ('box_cox', 2))\n"
     ]
    },
    {
     "name": "stderr",
     "output_type": "stream",
     "text": [
      "\r",
      " 29%|██▊       | 372/1296 [40:31<42:31,  2.76s/it]"
     ]
    },
    {
     "name": "stdout",
     "output_type": "stream",
     "text": [
      "params:[-8.04447097e-02  1.55939417e+02]\n",
      "validate rmse : 0.004490774986813682 \n",
      " validate mae : 0.004122821880802109 \n",
      "\n",
      "    test rmse : 0.00272701635718039 \n",
      " test mae : 0.0019446695160321714\n",
      "(('sa', 2), ('box_cox', 1), ('sal', 1), ('sa', 1))\n"
     ]
    },
    {
     "name": "stderr",
     "output_type": "stream",
     "text": [
      "\r",
      " 29%|██▉       | 373/1296 [40:34<40:51,  2.66s/it]"
     ]
    },
    {
     "name": "stdout",
     "output_type": "stream",
     "text": [
      "params:[-1.08959138e-01  2.15189699e+02]\n",
      "validate rmse : 0.0022169808307096733 \n",
      " validate mae : 0.0019518516104283948 \n",
      "\n",
      "    test rmse : 0.008602419958508516 \n",
      " test mae : 0.008345602004095768\n",
      "(('sa', 2), ('box_cox', 1), ('sal', 1), ('sa', 2))\n"
     ]
    },
    {
     "name": "stderr",
     "output_type": "stream",
     "text": [
      "\r",
      " 29%|██▉       | 374/1296 [40:37<44:23,  2.89s/it]"
     ]
    },
    {
     "name": "stdout",
     "output_type": "stream",
     "text": [
      "params:[-1.08943756e-01  2.15155639e+02]\n",
      "validate rmse : 0.0022275633936351485 \n",
      " validate mae : 0.001956497314784605 \n",
      "\n",
      "    test rmse : 0.008648284028867703 \n",
      " test mae : 0.008393837588224864\n",
      "(('sa', 2), ('box_cox', 1), ('sal', 1), ('sal', 1))\n"
     ]
    },
    {
     "name": "stderr",
     "output_type": "stream",
     "text": [
      "\r",
      " 29%|██▉       | 375/1296 [40:41<47:49,  3.12s/it]"
     ]
    },
    {
     "name": "stdout",
     "output_type": "stream",
     "text": [
      "params:[-1.07231430e-01  2.11670101e+02]\n",
      "validate rmse : 0.00212310465764043 \n",
      " validate mae : 0.0019014565826808597 \n",
      "\n",
      "    test rmse : 0.008340471845938871 \n",
      " test mae : 0.008076668144005603\n",
      "(('sa', 2), ('box_cox', 1), ('sal', 1), ('sal', 2))\n"
     ]
    },
    {
     "name": "stderr",
     "output_type": "stream",
     "text": [
      "\r",
      " 29%|██▉       | 376/1296 [40:50<1:15:13,  4.91s/it]"
     ]
    },
    {
     "name": "stdout",
     "output_type": "stream",
     "text": [
      "params:[-1.10417407e-01  2.18021911e+02]\n",
      "validate rmse : 0.005343773764737613 \n",
      " validate mae : 0.004615086786598098 \n",
      "\n",
      "    test rmse : 0.02117359116965792 \n",
      " test mae : 0.020960743138361763\n",
      "(('sa', 2), ('box_cox', 1), ('sal', 1), ('box_cox', 1))\n"
     ]
    },
    {
     "name": "stderr",
     "output_type": "stream",
     "text": [
      "\r",
      " 29%|██▉       | 377/1296 [40:52<1:03:21,  4.14s/it]"
     ]
    },
    {
     "name": "stdout",
     "output_type": "stream",
     "text": [
      "params:[-8.75971816e+00  1.70898081e+04]\n",
      "validate rmse : 0.0020248900003148685 \n",
      " validate mae : 0.001797973761393179 \n",
      "\n",
      "    test rmse : 0.007742760427130103 \n",
      " test mae : 0.007427335433369249\n",
      "(('sa', 2), ('box_cox', 1), ('sal', 1), ('box_cox', 2))\n"
     ]
    },
    {
     "name": "stderr",
     "output_type": "stream",
     "text": [
      "\r",
      " 29%|██▉       | 378/1296 [40:56<1:00:06,  3.93s/it]"
     ]
    },
    {
     "name": "stdout",
     "output_type": "stream",
     "text": [
      "params:[-1.08658702e-01  2.12575435e+02]\n",
      "validate rmse : 0.0027037475390279783 \n",
      " validate mae : 0.0021754411192463313 \n",
      "\n",
      "    test rmse : 0.006098007897496495 \n",
      " test mae : 0.005747852188386963\n",
      "(('sa', 2), ('box_cox', 1), ('sal', 2), ('sa', 1))\n"
     ]
    },
    {
     "name": "stderr",
     "output_type": "stream",
     "text": [
      "\r",
      " 29%|██▉       | 379/1296 [41:00<1:01:00,  3.99s/it]"
     ]
    },
    {
     "name": "stdout",
     "output_type": "stream",
     "text": [
      "params:[-8.07836940e-02  1.58760365e+02]\n",
      "validate rmse : 0.007287004485710713 \n",
      " validate mae : 0.007073269642213775 \n",
      "\n",
      "    test rmse : 0.003616766247128964 \n",
      " test mae : 0.0031305850598001245\n",
      "(('sa', 2), ('box_cox', 1), ('sal', 2), ('sa', 2))\n"
     ]
    },
    {
     "name": "stderr",
     "output_type": "stream",
     "text": [
      "\r",
      " 29%|██▉       | 380/1296 [41:08<1:21:34,  5.34s/it]"
     ]
    },
    {
     "name": "stdout",
     "output_type": "stream",
     "text": [
      "params:[-7.84344045e-02  1.53994427e+02]\n",
      "validate rmse : 0.007535676715341204 \n",
      " validate mae : 0.007329404740843363 \n",
      "\n",
      "    test rmse : 0.0036958318777737045 \n",
      " test mae : 0.0032207971863099016\n",
      "(('sa', 2), ('box_cox', 1), ('sal', 2), ('sal', 1))\n"
     ]
    },
    {
     "name": "stderr",
     "output_type": "stream",
     "text": [
      "\r",
      " 29%|██▉       | 381/1296 [41:11<1:07:50,  4.45s/it]"
     ]
    },
    {
     "name": "stdout",
     "output_type": "stream",
     "text": [
      "params:[-1.08960952e-01  2.15119020e+02]\n",
      "validate rmse : 0.00222234585575845 \n",
      " validate mae : 0.0017939341210504325 \n",
      "\n",
      "    test rmse : 0.007247230348305226 \n",
      " test mae : 0.006961454254800207\n",
      "(('sa', 2), ('box_cox', 1), ('sal', 2), ('sal', 2))\n"
     ]
    },
    {
     "name": "stderr",
     "output_type": "stream",
     "text": [
      "\r",
      " 29%|██▉       | 382/1296 [41:14<1:00:26,  3.97s/it]"
     ]
    },
    {
     "name": "stdout",
     "output_type": "stream",
     "text": [
      "params:[-1.02344187e-01  2.02177511e+02]\n",
      "validate rmse : 0.0030675807511739224 \n",
      " validate mae : 0.002485410320509065 \n",
      "\n",
      "    test rmse : 0.0032315417969817238 \n",
      " test mae : 0.0024037016895631764\n",
      "(('sa', 2), ('box_cox', 1), ('sal', 2), ('box_cox', 1))\n"
     ]
    },
    {
     "name": "stderr",
     "output_type": "stream",
     "text": [
      "\r",
      " 30%|██▉       | 383/1296 [41:18<1:01:14,  4.02s/it]"
     ]
    },
    {
     "name": "stdout",
     "output_type": "stream",
     "text": [
      "params:[-1.36039689e-02  3.07336912e+01]\n",
      "validate rmse : 0.18958356109399702 \n",
      " validate mae : 0.18933053318171258 \n",
      "\n",
      "    test rmse : 0.16926153595400883 \n",
      " test mae : 0.16925142573033142\n",
      "(('sa', 2), ('box_cox', 1), ('sal', 2), ('box_cox', 2))\n"
     ]
    },
    {
     "name": "stderr",
     "output_type": "stream",
     "text": [
      "\r",
      " 30%|██▉       | 384/1296 [41:24<1:11:19,  4.69s/it]"
     ]
    },
    {
     "name": "stdout",
     "output_type": "stream",
     "text": [
      "params:[ 1.79722140e-02 -3.09122213e+01]\n",
      "validate rmse : 0.08099348936306383 \n",
      " validate mae : 0.0780744717594863 \n",
      "\n",
      "    test rmse : 0.1032565846459925 \n",
      " test mae : 0.10314703159124686\n",
      "(('sa', 2), ('box_cox', 1), ('box_cox', 1), ('sa', 1))\n"
     ]
    },
    {
     "name": "stderr",
     "output_type": "stream",
     "text": [
      "\r",
      " 30%|██▉       | 385/1296 [41:25<52:21,  3.45s/it]  "
     ]
    },
    {
     "name": "stdout",
     "output_type": "stream",
     "text": [
      "params:[-7.56688867e-02  1.47922405e+02]\n",
      "validate rmse : 0.00450649207224652 \n",
      " validate mae : 0.004141358864560708 \n",
      "\n",
      "    test rmse : 0.0026946726517775837 \n",
      " test mae : 0.0019140113469809847\n",
      "(('sa', 2), ('box_cox', 1), ('box_cox', 1), ('sa', 2))\n"
     ]
    },
    {
     "name": "stderr",
     "output_type": "stream",
     "text": [
      "\r",
      " 30%|██▉       | 386/1296 [41:25<39:13,  2.59s/it]"
     ]
    },
    {
     "name": "stdout",
     "output_type": "stream",
     "text": [
      "params:[-7.56689975e-02  1.47922620e+02]\n",
      "validate rmse : 0.004506476206363796 \n",
      " validate mae : 0.004141341499847545 \n",
      "\n",
      "    test rmse : 0.0026946820038930407 \n",
      " test mae : 0.0019140201307801966\n",
      "(('sa', 2), ('box_cox', 1), ('box_cox', 1), ('sal', 1))\n",
      "params:[-2.13879645e+06  4.27338311e+09]\n"
     ]
    },
    {
     "name": "stderr",
     "output_type": "stream",
     "text": [
      "\r",
      " 30%|██▉       | 387/1296 [41:26<31:47,  2.10s/it]"
     ]
    },
    {
     "name": "stdout",
     "output_type": "stream",
     "text": [
      "validate rmse : 2.0082672029925304 \n",
      " validate mae : 2.0081144364099157 \n",
      "\n",
      "    test rmse : 2.0730737979851135 \n",
      " test mae : 2.073046420727232\n",
      "(('sa', 2), ('box_cox', 1), ('box_cox', 1), ('sal', 2))\n"
     ]
    },
    {
     "name": "stderr",
     "output_type": "stream",
     "text": [
      "\r",
      " 30%|██▉       | 388/1296 [41:28<30:36,  2.02s/it]"
     ]
    },
    {
     "name": "stdout",
     "output_type": "stream",
     "text": [
      "params:[-1.09965523e-01  2.17150934e+02]\n",
      "validate rmse : 0.0023242751498169594 \n",
      " validate mae : 0.0017987009189401168 \n",
      "\n",
      "    test rmse : 0.005387706156110146 \n",
      " test mae : 0.004890885149519452\n",
      "(('sa', 2), ('box_cox', 1), ('box_cox', 1), ('box_cox', 1))\n"
     ]
    },
    {
     "name": "stderr",
     "output_type": "stream",
     "text": [
      "\r",
      " 30%|███       | 389/1296 [41:29<24:14,  1.60s/it]"
     ]
    },
    {
     "name": "stdout",
     "output_type": "stream",
     "text": [
      "params:[-8.18003237e-02  1.58096068e+02]\n",
      "validate rmse : 0.003155072429753385 \n",
      " validate mae : 0.002575331776876133 \n",
      "\n",
      "    test rmse : 0.004301300270179366 \n",
      " test mae : 0.0036657523079447396\n",
      "(('sa', 2), ('box_cox', 1), ('box_cox', 1), ('box_cox', 2))\n"
     ]
    },
    {
     "name": "stderr",
     "output_type": "stream",
     "text": [
      "\r",
      " 30%|███       | 390/1296 [41:29<19:26,  1.29s/it]"
     ]
    },
    {
     "name": "stdout",
     "output_type": "stream",
     "text": [
      "params:[-7.13696275e-02  1.36484569e+02]\n",
      "validate rmse : 0.002242937423804572 \n",
      " validate mae : 0.0017914701334423339 \n",
      "\n",
      "    test rmse : 0.005896187172128856 \n",
      " test mae : 0.005477733161758099\n",
      "(('sa', 2), ('box_cox', 1), ('box_cox', 2), ('sa', 1))\n"
     ]
    },
    {
     "name": "stderr",
     "output_type": "stream",
     "text": [
      "\r",
      " 30%|███       | 391/1296 [41:30<16:01,  1.06s/it]"
     ]
    },
    {
     "name": "stdout",
     "output_type": "stream",
     "text": [
      "params:[-6.88937970e-02  1.34247453e+02]\n",
      "validate rmse : 0.0056596758565480125 \n",
      " validate mae : 0.005379263346112392 \n",
      "\n",
      "    test rmse : 0.0025134985770459747 \n",
      " test mae : 0.0021524712550838082\n",
      "(('sa', 2), ('box_cox', 1), ('box_cox', 2), ('sa', 2))\n"
     ]
    },
    {
     "name": "stderr",
     "output_type": "stream",
     "text": [
      "\r",
      " 30%|███       | 392/1296 [41:30<13:51,  1.09it/s]"
     ]
    },
    {
     "name": "stdout",
     "output_type": "stream",
     "text": [
      "params:[-6.88940723e-02  1.34247989e+02]\n",
      "validate rmse : 0.005659327958286248 \n",
      " validate mae : 0.005378896140963386 \n",
      "\n",
      "    test rmse : 0.002513386863040559 \n",
      " test mae : 0.0021522408925901165\n",
      "(('sa', 2), ('box_cox', 1), ('box_cox', 2), ('sal', 1))\n"
     ]
    },
    {
     "name": "stderr",
     "output_type": "stream",
     "text": [
      "\r",
      " 30%|███       | 393/1296 [41:31<13:29,  1.12it/s]"
     ]
    },
    {
     "name": "stdout",
     "output_type": "stream",
     "text": [
      "params:[-9.94198566e-02  1.96501056e+02]\n",
      "validate rmse : 0.004401468733353043 \n",
      " validate mae : 0.003993847312222405 \n",
      "\n",
      "    test rmse : 0.0033821222554583333 \n",
      " test mae : 0.003035029430932023\n",
      "(('sa', 2), ('box_cox', 1), ('box_cox', 2), ('sal', 2))\n",
      "params:[-3.86517742e+09  7.58796232e+12]\n"
     ]
    },
    {
     "name": "stderr",
     "output_type": "stream",
     "text": [
      "\r",
      " 30%|███       | 394/1296 [41:34<22:04,  1.47s/it]"
     ]
    },
    {
     "name": "stdout",
     "output_type": "stream",
     "text": [
      "validate rmse : 0.013589694967780912 \n",
      " validate mae : 0.012263650635607125 \n",
      "\n",
      "    test rmse : 0.019096336318610057 \n",
      " test mae : 0.01867982579173722\n",
      "(('sa', 2), ('box_cox', 1), ('box_cox', 2), ('box_cox', 1))\n"
     ]
    },
    {
     "name": "stderr",
     "output_type": "stream",
     "text": [
      "\r",
      " 30%|███       | 395/1296 [41:34<18:03,  1.20s/it]"
     ]
    },
    {
     "name": "stdout",
     "output_type": "stream",
     "text": [
      "params:[-7.04011353e-02  1.34586620e+02]\n",
      "validate rmse : 0.0026134294107059627 \n",
      " validate mae : 0.0020767813640303295 \n",
      "\n",
      "    test rmse : 0.005159534736199468 \n",
      " test mae : 0.004662656111887554\n",
      "(('sa', 2), ('box_cox', 1), ('box_cox', 2), ('box_cox', 2))\n"
     ]
    },
    {
     "name": "stderr",
     "output_type": "stream",
     "text": [
      "\r",
      " 31%|███       | 396/1296 [41:35<15:15,  1.02s/it]"
     ]
    },
    {
     "name": "stdout",
     "output_type": "stream",
     "text": [
      "params:[-5.75872522e-02  1.08413119e+02]\n",
      "validate rmse : 0.0020546670865709354 \n",
      " validate mae : 0.0017361850816966268 \n",
      "\n",
      "    test rmse : 0.006481820920383195 \n",
      " test mae : 0.006113975298453375\n",
      "(('sa', 2), ('box_cox', 2), ('sa', 1), ('sa', 1))\n"
     ]
    },
    {
     "name": "stderr",
     "output_type": "stream",
     "text": [
      "\r",
      " 31%|███       | 397/1296 [41:36<13:20,  1.12it/s]"
     ]
    },
    {
     "name": "stdout",
     "output_type": "stream",
     "text": [
      "params:[-7.26522997e-02  1.41954305e+02]\n",
      "validate rmse : 0.006108212366656213 \n",
      " validate mae : 0.0058513619695382225 \n",
      "\n",
      "    test rmse : 0.002899758390802084 \n",
      " test mae : 0.0026135402441312444\n",
      "(('sa', 2), ('box_cox', 2), ('sa', 1), ('sa', 2))\n"
     ]
    },
    {
     "name": "stderr",
     "output_type": "stream",
     "text": [
      "\r",
      " 31%|███       | 398/1296 [41:36<12:37,  1.18it/s]"
     ]
    },
    {
     "name": "stdout",
     "output_type": "stream",
     "text": [
      "params:[-7.26525088e-02  1.41954714e+02]\n",
      "validate rmse : 0.006108179718023215 \n",
      " validate mae : 0.005851327882648555 \n",
      "\n",
      "    test rmse : 0.0028997353618413404 \n",
      " test mae : 0.0026135195064071115\n",
      "(('sa', 2), ('box_cox', 2), ('sa', 1), ('sal', 1))\n"
     ]
    },
    {
     "name": "stderr",
     "output_type": "stream",
     "text": [
      "\r",
      " 31%|███       | 399/1296 [41:37<13:44,  1.09it/s]"
     ]
    },
    {
     "name": "stdout",
     "output_type": "stream",
     "text": [
      "params:[-1.01178512e-01  1.99874376e+02]\n",
      "validate rmse : 0.006595356562361835 \n",
      " validate mae : 0.006358241478439081 \n",
      "\n",
      "    test rmse : 0.002854586169392459 \n",
      " test mae : 0.002566193336422543\n",
      "(('sa', 2), ('box_cox', 2), ('sa', 1), ('sal', 2))\n"
     ]
    },
    {
     "name": "stderr",
     "output_type": "stream",
     "text": [
      "\r",
      " 31%|███       | 400/1296 [41:46<46:52,  3.14s/it]"
     ]
    },
    {
     "name": "stdout",
     "output_type": "stream",
     "text": [
      "params:[-1.10977784e-01  2.19108136e+02]\n",
      "validate rmse : 0.0021774468626163334 \n",
      " validate mae : 0.0018794042864455432 \n",
      "\n",
      "    test rmse : 0.009607947693403698 \n",
      " test mae : 0.00942122411708227\n",
      "(('sa', 2), ('box_cox', 2), ('sa', 1), ('box_cox', 1))\n"
     ]
    },
    {
     "name": "stderr",
     "output_type": "stream",
     "text": [
      "\r",
      " 31%|███       | 401/1296 [41:46<35:19,  2.37s/it]"
     ]
    },
    {
     "name": "stdout",
     "output_type": "stream",
     "text": [
      "params:[-7.28820178e-02  1.41427647e+02]\n",
      "validate rmse : 0.006415045579618373 \n",
      " validate mae : 0.006170916694242468 \n",
      "\n",
      "    test rmse : 0.0031313261685790494 \n",
      " test mae : 0.0028038807101951058\n",
      "(('sa', 2), ('box_cox', 2), ('sa', 1), ('box_cox', 2))\n"
     ]
    },
    {
     "name": "stderr",
     "output_type": "stream",
     "text": [
      "\r",
      " 31%|███       | 402/1296 [41:47<27:20,  1.83s/it]"
     ]
    },
    {
     "name": "stdout",
     "output_type": "stream",
     "text": [
      "params:[-7.26129569e-02  1.39875282e+02]\n",
      "validate rmse : 0.006087577958233697 \n",
      " validate mae : 0.005829818004454416 \n",
      "\n",
      "    test rmse : 0.002885498171928749 \n",
      " test mae : 0.0026006104616226955\n",
      "(('sa', 2), ('box_cox', 2), ('sa', 2), ('sa', 1))\n"
     ]
    },
    {
     "name": "stderr",
     "output_type": "stream",
     "text": [
      "\r",
      " 31%|███       | 403/1296 [41:48<21:51,  1.47s/it]"
     ]
    },
    {
     "name": "stdout",
     "output_type": "stream",
     "text": [
      "params:[-7.26524031e-02  1.41954507e+02]\n",
      "validate rmse : 0.006108124352342113 \n",
      " validate mae : 0.005851270084532507 \n",
      "\n",
      "    test rmse : 0.0028996929932361072 \n",
      " test mae : 0.002613481322152072\n",
      "(('sa', 2), ('box_cox', 2), ('sa', 2), ('sa', 2))\n"
     ]
    },
    {
     "name": "stderr",
     "output_type": "stream",
     "text": [
      "\r",
      " 31%|███       | 404/1296 [41:48<18:38,  1.25s/it]"
     ]
    },
    {
     "name": "stdout",
     "output_type": "stream",
     "text": [
      "params:[-7.26528988e-02  1.41955476e+02]\n",
      "validate rmse : 0.00610772839789812 \n",
      " validate mae : 0.00585085670764999 \n",
      "\n",
      "    test rmse : 0.0028994128587899004 \n",
      " test mae : 0.0026132290038598277\n",
      "(('sa', 2), ('box_cox', 2), ('sa', 2), ('sal', 1))\n"
     ]
    },
    {
     "name": "stderr",
     "output_type": "stream",
     "text": [
      "\r",
      " 31%|███▏      | 405/1296 [41:49<17:34,  1.18s/it]"
     ]
    },
    {
     "name": "stdout",
     "output_type": "stream",
     "text": [
      "params:[-1.01178067e-01  1.99873520e+02]\n",
      "validate rmse : 0.006595533924601675 \n",
      " validate mae : 0.0063584257173761915 \n",
      "\n",
      "    test rmse : 0.0028547213766804405 \n",
      " test mae : 0.0025663088075841833\n",
      "(('sa', 2), ('box_cox', 2), ('sa', 2), ('sal', 2))\n"
     ]
    },
    {
     "name": "stderr",
     "output_type": "stream",
     "text": [
      "\r",
      " 31%|███▏      | 406/1296 [42:08<1:34:17,  6.36s/it]"
     ]
    },
    {
     "name": "stdout",
     "output_type": "stream",
     "text": [
      "params:[-1.10912136e-01  2.18976709e+02]\n",
      "validate rmse : 0.002191956882290544 \n",
      " validate mae : 0.00188787617956891 \n",
      "\n",
      "    test rmse : 0.00972240579309017 \n",
      " test mae : 0.009539075889486113\n",
      "(('sa', 2), ('box_cox', 2), ('sa', 2), ('box_cox', 1))\n"
     ]
    },
    {
     "name": "stderr",
     "output_type": "stream",
     "text": [
      "\r",
      " 31%|███▏      | 407/1296 [42:08<1:08:30,  4.62s/it]"
     ]
    },
    {
     "name": "stdout",
     "output_type": "stream",
     "text": [
      "params:[-7.28815884e-02  1.41426796e+02]\n",
      "validate rmse : 0.006415189036865005 \n",
      " validate mae : 0.006171065725214182 \n",
      "\n",
      "    test rmse : 0.00313146700423333 \n",
      " test mae : 0.0028039887505259503\n",
      "(('sa', 2), ('box_cox', 2), ('sa', 2), ('box_cox', 2))\n"
     ]
    },
    {
     "name": "stderr",
     "output_type": "stream",
     "text": [
      "\r",
      " 31%|███▏      | 408/1296 [42:09<51:14,  3.46s/it]  "
     ]
    },
    {
     "name": "stdout",
     "output_type": "stream",
     "text": [
      "params:[-7.26128783e-02  1.39875128e+02]\n",
      "validate rmse : 0.006087674678500654 \n",
      " validate mae : 0.0058299190157063575 \n",
      "\n",
      "    test rmse : 0.002885568768202594 \n",
      " test mae : 0.0026006749506430654\n",
      "(('sa', 2), ('box_cox', 2), ('sal', 1), ('sa', 1))\n"
     ]
    },
    {
     "name": "stderr",
     "output_type": "stream",
     "text": [
      "\r",
      " 32%|███▏      | 409/1296 [42:10<40:21,  2.73s/it]"
     ]
    },
    {
     "name": "stdout",
     "output_type": "stream",
     "text": [
      "params:[-9.96816673e-02  1.96953020e+02]\n",
      "validate rmse : 0.006150320172514488 \n",
      " validate mae : 0.005893998566463872 \n",
      "\n",
      "    test rmse : 0.0025639858175795483 \n",
      " test mae : 0.002270615939030932\n",
      "(('sa', 2), ('box_cox', 2), ('sal', 1), ('sa', 2))\n"
     ]
    },
    {
     "name": "stderr",
     "output_type": "stream",
     "text": [
      "\r",
      " 32%|███▏      | 410/1296 [42:11<32:00,  2.17s/it]"
     ]
    },
    {
     "name": "stdout",
     "output_type": "stream",
     "text": [
      "params:[-1.03703947e-01  2.05777233e+02]\n",
      "validate rmse : 0.008480689005116504 \n",
      " validate mae : 0.008171982682623499 \n",
      "\n",
      "    test rmse : 0.01706299674961865 \n",
      " test mae : 0.016949068116437028\n",
      "(('sa', 2), ('box_cox', 2), ('sal', 1), ('sal', 1))\n"
     ]
    },
    {
     "name": "stderr",
     "output_type": "stream",
     "text": [
      "\r",
      " 32%|███▏      | 411/1296 [42:12<27:42,  1.88s/it]"
     ]
    },
    {
     "name": "stdout",
     "output_type": "stream",
     "text": [
      "params:[-1.10194743e-01  2.17577442e+02]\n",
      "validate rmse : 0.002166239851811797 \n",
      " validate mae : 0.0017479166190259101 \n",
      "\n",
      "    test rmse : 0.008236009467933859 \n",
      " test mae : 0.008001976712303285\n",
      "(('sa', 2), ('box_cox', 2), ('sal', 1), ('sal', 2))\n"
     ]
    },
    {
     "name": "stderr",
     "output_type": "stream",
     "text": [
      "\r",
      " 32%|███▏      | 412/1296 [42:21<1:00:12,  4.09s/it]"
     ]
    },
    {
     "name": "stdout",
     "output_type": "stream",
     "text": [
      "params:[-1.08691386e-01  2.14319900e+02]\n",
      "validate rmse : 0.0025540015209136193 \n",
      " validate mae : 0.0022356292602579314 \n",
      "\n",
      "    test rmse : 0.010338576836017344 \n",
      " test mae : 0.010156321916195263\n",
      "(('sa', 2), ('box_cox', 2), ('sal', 1), ('box_cox', 1))\n"
     ]
    },
    {
     "name": "stderr",
     "output_type": "stream",
     "text": [
      "\r",
      " 32%|███▏      | 413/1296 [42:23<47:03,  3.20s/it]  "
     ]
    },
    {
     "name": "stdout",
     "output_type": "stream",
     "text": [
      "params:[-1.00289744e-01  1.97156002e+02]\n",
      "validate rmse : 0.007177223490190441 \n",
      " validate mae : 0.00696079802339269 \n",
      "\n",
      "    test rmse : 0.003499005354518506 \n",
      " test mae : 0.0030385861178915713\n",
      "(('sa', 2), ('box_cox', 2), ('sal', 1), ('box_cox', 2))\n"
     ]
    },
    {
     "name": "stderr",
     "output_type": "stream",
     "text": [
      "\r",
      " 32%|███▏      | 414/1296 [42:24<37:48,  2.57s/it]"
     ]
    },
    {
     "name": "stdout",
     "output_type": "stream",
     "text": [
      "params:[-1.00078777e-01  1.95691628e+02]\n",
      "validate rmse : 0.006035045748560965 \n",
      " validate mae : 0.00577554421338093 \n",
      "\n",
      "    test rmse : 0.0027131167025360218 \n",
      " test mae : 0.002432963180013859\n",
      "(('sa', 2), ('box_cox', 2), ('sal', 2), ('sa', 1))\n"
     ]
    },
    {
     "name": "stderr",
     "output_type": "stream",
     "text": [
      "\r",
      " 32%|███▏      | 415/1296 [42:30<53:13,  3.62s/it]"
     ]
    },
    {
     "name": "stdout",
     "output_type": "stream",
     "text": [
      "params:[-3.04484526e-02  5.62064122e+01]\n",
      "validate rmse : 0.02367050696814534 \n",
      " validate mae : 0.02341949903215037 \n",
      "\n",
      "    test rmse : 0.03786552733704177 \n",
      " test mae : 0.03780827188183527\n",
      "(('sa', 2), ('box_cox', 2), ('sal', 2), ('sa', 2))\n"
     ]
    },
    {
     "name": "stderr",
     "output_type": "stream",
     "text": [
      "\r",
      " 32%|███▏      | 416/1296 [42:34<57:57,  3.95s/it]"
     ]
    },
    {
     "name": "stdout",
     "output_type": "stream",
     "text": [
      "params:[-8.76331754e-02  1.72931234e+02]\n",
      "validate rmse : 0.007865759699788455 \n",
      " validate mae : 0.007641491661319301 \n",
      "\n",
      "    test rmse : 0.006056224968642564 \n",
      " test mae : 0.0052725030341540325\n",
      "(('sa', 2), ('box_cox', 2), ('sal', 2), ('sal', 1))\n",
      "params:[-1. -1.]\n"
     ]
    },
    {
     "name": "stderr",
     "output_type": "stream",
     "text": [
      "\r",
      " 32%|███▏      | 417/1296 [42:40<1:03:21,  4.32s/it]"
     ]
    },
    {
     "name": "stdout",
     "output_type": "stream",
     "text": [
      "validate rmse : 0.02247216623155496 \n",
      " validate mae : 0.017594718443698806 \n",
      "\n",
      "    test rmse : 0.09109194552670273 \n",
      " test mae : 0.0881814829707139\n",
      "(('sa', 2), ('box_cox', 2), ('sal', 2), ('sal', 2))\n"
     ]
    },
    {
     "name": "stderr",
     "output_type": "stream",
     "text": [
      "\r",
      " 32%|███▏      | 418/1296 [42:54<1:47:34,  7.35s/it]"
     ]
    },
    {
     "name": "stdout",
     "output_type": "stream",
     "text": [
      "params:[-1.10200153e-01  2.17621775e+02]\n",
      "validate rmse : 0.002367200881212169 \n",
      " validate mae : 0.0018295638045170862 \n",
      "\n",
      "    test rmse : 0.007292445937390461 \n",
      " test mae : 0.007025966862154133\n",
      "(('sa', 2), ('box_cox', 2), ('sal', 2), ('box_cox', 1))\n"
     ]
    },
    {
     "name": "stderr",
     "output_type": "stream",
     "text": [
      "\r",
      " 32%|███▏      | 419/1296 [42:56<1:22:51,  5.67s/it]"
     ]
    },
    {
     "name": "stdout",
     "output_type": "stream",
     "text": [
      "params:[-8.89767179e-04  4.06629193e+00]\n",
      "validate rmse : 0.04780169711120799 \n",
      " validate mae : 0.04774728877544971 \n",
      "\n",
      "    test rmse : 0.05949538352664634 \n",
      " test mae : 0.042367327754645405\n",
      "(('sa', 2), ('box_cox', 2), ('sal', 2), ('box_cox', 2))\n"
     ]
    },
    {
     "name": "stderr",
     "output_type": "stream",
     "text": [
      "\r",
      " 32%|███▏      | 420/1296 [43:05<1:37:35,  6.68s/it]"
     ]
    },
    {
     "name": "stdout",
     "output_type": "stream",
     "text": [
      "params:[-1.09650484e-01  2.14576817e+02]\n",
      "validate rmse : 0.00264067300541197 \n",
      " validate mae : 0.002109750541533597 \n",
      "\n",
      "    test rmse : 0.006705090661236345 \n",
      " test mae : 0.006414018796091393\n",
      "(('sa', 2), ('box_cox', 2), ('box_cox', 1), ('sa', 1))\n"
     ]
    },
    {
     "name": "stderr",
     "output_type": "stream",
     "text": [
      "\r",
      " 32%|███▏      | 421/1296 [43:05<1:10:41,  4.85s/it]"
     ]
    },
    {
     "name": "stdout",
     "output_type": "stream",
     "text": [
      "params:[-6.66734452e-02  1.29817035e+02]\n",
      "validate rmse : 0.006405292970088499 \n",
      " validate mae : 0.006160435522273082 \n",
      "\n",
      "    test rmse : 0.00318821539530405 \n",
      " test mae : 0.002849716179488878\n",
      "(('sa', 2), ('box_cox', 2), ('box_cox', 1), ('sa', 2))\n"
     ]
    },
    {
     "name": "stderr",
     "output_type": "stream",
     "text": [
      "\r",
      " 33%|███▎      | 422/1296 [43:06<52:25,  3.60s/it]  "
     ]
    },
    {
     "name": "stdout",
     "output_type": "stream",
     "text": [
      "params:[-6.66734132e-02  1.29816973e+02]\n",
      "validate rmse : 0.006405337209604002 \n",
      " validate mae : 0.006160481470977443 \n",
      "\n",
      "    test rmse : 0.003188256275457051 \n",
      " test mae : 0.0028497468119409097\n",
      "(('sa', 2), ('box_cox', 2), ('box_cox', 1), ('sal', 1))\n"
     ]
    },
    {
     "name": "stderr",
     "output_type": "stream",
     "text": [
      "\r",
      " 33%|███▎      | 423/1296 [43:07<40:02,  2.75s/it]"
     ]
    },
    {
     "name": "stdout",
     "output_type": "stream",
     "text": [
      "params:[-9.63633702e-02  1.90498558e+02]\n",
      "validate rmse : 0.0057420873862025785 \n",
      " validate mae : 0.005404927707992109 \n",
      "\n",
      "    test rmse : 0.004956379531319739 \n",
      " test mae : 0.004124849700946743\n",
      "(('sa', 2), ('box_cox', 2), ('box_cox', 1), ('sal', 2))\n"
     ]
    },
    {
     "name": "stderr",
     "output_type": "stream",
     "text": [
      "\r",
      " 33%|███▎      | 424/1296 [43:13<54:30,  3.75s/it]"
     ]
    },
    {
     "name": "stdout",
     "output_type": "stream",
     "text": [
      "params:[-1.10004943e-01  2.17157005e+02]\n",
      "validate rmse : 0.0021062008412597185 \n",
      " validate mae : 0.0018414694813208843 \n",
      "\n",
      "    test rmse : 0.009082531435574281 \n",
      " test mae : 0.008876827773990483\n",
      "(('sa', 2), ('box_cox', 2), ('box_cox', 1), ('box_cox', 1))\n"
     ]
    },
    {
     "name": "stderr",
     "output_type": "stream",
     "text": [
      "\r",
      " 33%|███▎      | 425/1296 [43:14<40:43,  2.81s/it]"
     ]
    },
    {
     "name": "stdout",
     "output_type": "stream",
     "text": [
      "params:[-6.95409933e-02  1.32934271e+02]\n",
      "validate rmse : 0.0037756557780875364 \n",
      " validate mae : 0.003329207291658797 \n",
      "\n",
      "    test rmse : 0.003240643059619744 \n",
      " test mae : 0.002550002730247382\n",
      "(('sa', 2), ('box_cox', 2), ('box_cox', 1), ('box_cox', 2))\n"
     ]
    },
    {
     "name": "stderr",
     "output_type": "stream",
     "text": [
      "\r",
      " 33%|███▎      | 426/1296 [43:14<31:16,  2.16s/it]"
     ]
    },
    {
     "name": "stdout",
     "output_type": "stream",
     "text": [
      "params:[-5.70328955e-02  1.07355266e+02]\n",
      "validate rmse : 0.0029606496312156497 \n",
      " validate mae : 0.002387743085969083 \n",
      "\n",
      "    test rmse : 0.00424259551858647 \n",
      " test mae : 0.003568727136271682\n",
      "(('sa', 2), ('box_cox', 2), ('box_cox', 2), ('sa', 1))\n"
     ]
    },
    {
     "name": "stderr",
     "output_type": "stream",
     "text": [
      "\r",
      " 33%|███▎      | 427/1296 [43:15<24:33,  1.70s/it]"
     ]
    },
    {
     "name": "stdout",
     "output_type": "stream",
     "text": [
      "params:[-6.45638484e-02  1.25688437e+02]\n",
      "validate rmse : 0.007928988970147991 \n",
      " validate mae : 0.007728654906466181 \n",
      "\n",
      "    test rmse : 0.004878091760375094 \n",
      " test mae : 0.004224692186429814\n",
      "(('sa', 2), ('box_cox', 2), ('box_cox', 2), ('sa', 2))\n"
     ]
    },
    {
     "name": "stderr",
     "output_type": "stream",
     "text": [
      "\r",
      " 33%|███▎      | 428/1296 [43:16<20:18,  1.40s/it]"
     ]
    },
    {
     "name": "stdout",
     "output_type": "stream",
     "text": [
      "params:[-6.45639656e-02  1.25688670e+02]\n",
      "validate rmse : 0.007928904359448569 \n",
      " validate mae : 0.007728568485374732 \n",
      "\n",
      "    test rmse : 0.004877983865729485 \n",
      " test mae : 0.004224601699887797\n",
      "(('sa', 2), ('box_cox', 2), ('box_cox', 2), ('sal', 1))\n"
     ]
    },
    {
     "name": "stderr",
     "output_type": "stream",
     "text": [
      "\r",
      " 33%|███▎      | 429/1296 [43:17<19:20,  1.34s/it]"
     ]
    },
    {
     "name": "stdout",
     "output_type": "stream",
     "text": [
      "params:[-9.38052670e-02  1.85472776e+02]\n",
      "validate rmse : 0.005518018326089926 \n",
      " validate mae : 0.005141324136800661 \n",
      "\n",
      "    test rmse : 0.005469191611402862 \n",
      " test mae : 0.004504713620903588\n",
      "(('sa', 2), ('box_cox', 2), ('box_cox', 2), ('sal', 2))\n",
      "params:[-1.05212441e-01  2.07537799e+02]\n"
     ]
    },
    {
     "data": {
      "image/png": "[encoded data removed]",
      "text/plain": [
       "<Figure size 432x288 with 1 Axes>"
      ]
     },
     "metadata": {
      "needs_background": "light"
     },
     "output_type": "display_data"
    },
    {
     "name": "stderr",
     "output_type": "stream",
     "text": [
      "\r",
      " 33%|███▎      | 430/1296 [43:25<50:40,  3.51s/it]"
     ]
    },
    {
     "name": "stdout",
     "output_type": "stream",
     "text": [
      "validate rmse : 0.0019585798937796304 \n",
      " validate mae : 0.0017585552830489762 \n",
      "\n",
      "    test rmse : 0.007892764835689152 \n",
      " test mae : 0.00761848520768663\n",
      "(('sa', 2), ('box_cox', 2), ('box_cox', 2), ('box_cox', 1))\n"
     ]
    },
    {
     "name": "stderr",
     "output_type": "stream",
     "text": [
      "\r",
      " 33%|███▎      | 431/1296 [43:26<37:37,  2.61s/it]"
     ]
    },
    {
     "name": "stdout",
     "output_type": "stream",
     "text": [
      "params:[-5.55393540e-02  1.04399416e+02]\n",
      "validate rmse : 0.002891489794098293 \n",
      " validate mae : 0.0023270168251817236 \n",
      "\n",
      "    test rmse : 0.004353295512826536 \n",
      " test mae : 0.0037041986769160706\n",
      "(('sa', 2), ('box_cox', 2), ('box_cox', 2), ('box_cox', 2))\n"
     ]
    },
    {
     "name": "stderr",
     "output_type": "stream",
     "text": [
      "\r",
      " 33%|███▎      | 432/1296 [43:27<29:49,  2.07s/it]"
     ]
    },
    {
     "name": "stdout",
     "output_type": "stream",
     "text": [
      "params:[-4.30017685e-02  7.89529030e+01]\n",
      "validate rmse : 0.0023207908623890544 \n",
      " validate mae : 0.0017964517318459217 \n",
      "\n",
      "    test rmse : 0.0053391927593708245 \n",
      " test mae : 0.004847596574401013\n",
      "(('sal', 1), ('sa', 1), ('sa', 1), ('sa', 1))\n"
     ]
    },
    {
     "name": "stderr",
     "output_type": "stream",
     "text": [
      "\r",
      " 33%|███▎      | 433/1296 [43:29<29:38,  2.06s/it]"
     ]
    },
    {
     "name": "stdout",
     "output_type": "stream",
     "text": [
      "params:[-1.08455256e-01  2.14205215e+02]\n",
      "validate rmse : 0.0038974529115126115 \n",
      " validate mae : 0.0034178689854536654 \n",
      "\n",
      "    test rmse : 0.014861940704503631 \n",
      " test mae : 0.014740061876984059\n",
      "(('sal', 1), ('sa', 1), ('sa', 1), ('sa', 2))\n"
     ]
    },
    {
     "name": "stderr",
     "output_type": "stream",
     "text": [
      "\r",
      " 33%|███▎      | 434/1296 [43:30<27:57,  1.95s/it]"
     ]
    },
    {
     "name": "stdout",
     "output_type": "stream",
     "text": [
      "params:[-1.08353171e-01  2.13988121e+02]\n",
      "validate rmse : 0.003984721034358137 \n",
      " validate mae : 0.0034833004124878203 \n",
      "\n",
      "    test rmse : 0.015113413920875188 \n",
      " test mae : 0.014991955467072196\n",
      "(('sal', 1), ('sa', 1), ('sa', 1), ('sal', 1))\n"
     ]
    },
    {
     "name": "stderr",
     "output_type": "stream",
     "text": [
      "\r",
      " 34%|███▎      | 435/1296 [43:32<27:09,  1.89s/it]"
     ]
    },
    {
     "name": "stdout",
     "output_type": "stream",
     "text": [
      "params:[-1.06531061e-01  2.10218764e+02]\n",
      "validate rmse : 0.004296046188257134 \n",
      " validate mae : 0.0037069735988279973 \n",
      "\n",
      "    test rmse : 0.015992164087940307 \n",
      " test mae : 0.015869776392858807\n",
      "(('sal', 1), ('sa', 1), ('sa', 1), ('sal', 2))\n"
     ]
    },
    {
     "name": "stderr",
     "output_type": "stream",
     "text": [
      "\r",
      " 34%|███▎      | 436/1296 [43:39<50:05,  3.50s/it]"
     ]
    },
    {
     "name": "stdout",
     "output_type": "stream",
     "text": [
      "params:[-1.11422366e-01  2.20359897e+02]\n",
      "validate rmse : 0.003360763977327821 \n",
      " validate mae : 0.00295933778753994 \n",
      "\n",
      "    test rmse : 0.012572409976502646 \n",
      " test mae : 0.01243376849832284\n",
      "(('sal', 1), ('sa', 1), ('sa', 1), ('box_cox', 1))\n"
     ]
    },
    {
     "name": "stderr",
     "output_type": "stream",
     "text": [
      "\r",
      " 34%|███▎      | 437/1296 [43:41<40:36,  2.84s/it]"
     ]
    },
    {
     "name": "stdout",
     "output_type": "stream",
     "text": [
      "params:[-1.06172801e-01  2.08797590e+02]\n",
      "validate rmse : 0.0021280146437577564 \n",
      " validate mae : 0.0017899688142910225 \n",
      "\n",
      "    test rmse : 0.008491149948870309 \n",
      " test mae : 0.008267575809551049\n",
      "(('sal', 1), ('sa', 1), ('sa', 1), ('box_cox', 2))\n"
     ]
    },
    {
     "name": "stderr",
     "output_type": "stream",
     "text": [
      "\r",
      " 34%|███▍      | 438/1296 [43:42<33:52,  2.37s/it]"
     ]
    },
    {
     "name": "stdout",
     "output_type": "stream",
     "text": [
      "params:[-1.08536740e-01  2.12304399e+02]\n",
      "validate rmse : 0.002605050426031077 \n",
      " validate mae : 0.0020604033958642348 \n",
      "\n",
      "    test rmse : 0.012276837756836117 \n",
      " test mae : 0.01211780171283905\n",
      "(('sal', 1), ('sa', 1), ('sa', 2), ('sa', 1))\n"
     ]
    },
    {
     "name": "stderr",
     "output_type": "stream",
     "text": [
      "\r",
      " 34%|███▍      | 439/1296 [43:44<31:06,  2.18s/it]"
     ]
    },
    {
     "name": "stdout",
     "output_type": "stream",
     "text": [
      "params:[-1.08216641e-01  2.13680753e+02]\n",
      "validate rmse : 0.004280230400383912 \n",
      " validate mae : 0.003701880314536554 \n",
      "\n",
      "    test rmse : 0.015961916210922782 \n",
      " test mae : 0.015840383824734388\n",
      "(('sal', 1), ('sa', 1), ('sa', 2), ('sa', 2))\n"
     ]
    },
    {
     "name": "stderr",
     "output_type": "stream",
     "text": [
      "\r",
      " 34%|███▍      | 440/1296 [43:45<29:41,  2.08s/it]"
     ]
    },
    {
     "name": "stdout",
     "output_type": "stream",
     "text": [
      "params:[-1.08282226e-01  2.13828924e+02]\n",
      "validate rmse : 0.004129416609900788 \n",
      " validate mae : 0.0035909889863664896 \n",
      "\n",
      "    test rmse : 0.015531265735352505 \n",
      " test mae : 0.01541003368563028\n",
      "(('sal', 1), ('sa', 1), ('sa', 2), ('sal', 1))\n"
     ]
    },
    {
     "name": "stderr",
     "output_type": "stream",
     "text": [
      "\r",
      " 34%|███▍      | 441/1296 [43:49<34:29,  2.42s/it]"
     ]
    },
    {
     "name": "stdout",
     "output_type": "stream",
     "text": [
      "params:[-1.06279850e-01  2.09726611e+02]\n",
      "validate rmse : 0.004020840826522079 \n",
      " validate mae : 0.003504653113695736 \n",
      "\n",
      "    test rmse : 0.015236712929774632 \n",
      " test mae : 0.01511420461955551\n",
      "(('sal', 1), ('sa', 1), ('sa', 2), ('sal', 2))\n"
     ]
    },
    {
     "name": "stderr",
     "output_type": "stream",
     "text": [
      "\r",
      " 34%|███▍      | 442/1296 [44:08<1:46:49,  7.51s/it]"
     ]
    },
    {
     "name": "stdout",
     "output_type": "stream",
     "text": [
      "params:[-1.12066239e-01  2.21221899e+02]\n",
      "validate rmse : 0.003201060004198386 \n",
      " validate mae : 0.0029525989593704844 \n",
      "\n",
      "    test rmse : 0.015456408817028987 \n",
      " test mae : 0.015295530255009801\n",
      "(('sal', 1), ('sa', 1), ('sa', 2), ('box_cox', 1))\n"
     ]
    },
    {
     "name": "stderr",
     "output_type": "stream",
     "text": [
      "\r",
      " 34%|███▍      | 443/1296 [44:10<1:23:11,  5.85s/it]"
     ]
    },
    {
     "name": "stdout",
     "output_type": "stream",
     "text": [
      "params:[-1.06096811e-01  2.08629955e+02]\n",
      "validate rmse : 0.0021407030180478795 \n",
      " validate mae : 0.001775958262610265 \n",
      "\n",
      "    test rmse : 0.00848240533216566 \n",
      " test mae : 0.008261053800577567\n",
      "(('sal', 1), ('sa', 1), ('sa', 2), ('box_cox', 2))\n"
     ]
    },
    {
     "name": "stderr",
     "output_type": "stream",
     "text": [
      "\r",
      " 34%|███▍      | 444/1296 [44:12<1:05:09,  4.59s/it]"
     ]
    },
    {
     "name": "stdout",
     "output_type": "stream",
     "text": [
      "params:[-1.08414419e-01  2.12064287e+02]\n",
      "validate rmse : 0.002604080680935762 \n",
      " validate mae : 0.002012922200263128 \n",
      "\n",
      "    test rmse : 0.012150016637859902 \n",
      " test mae : 0.011989744378730202\n",
      "(('sal', 1), ('sa', 1), ('sal', 1), ('sa', 1))\n"
     ]
    },
    {
     "name": "stderr",
     "output_type": "stream",
     "text": [
      "\r",
      " 34%|███▍      | 445/1296 [44:14<53:48,  3.79s/it]  "
     ]
    },
    {
     "name": "stdout",
     "output_type": "stream",
     "text": [
      "params:[-1.05948666e-01  2.09075934e+02]\n",
      "validate rmse : 0.004044496737465942 \n",
      " validate mae : 0.003521196154747092 \n",
      "\n",
      "    test rmse : 0.015286208301610408 \n",
      " test mae : 0.01516388835752351\n",
      "(('sal', 1), ('sa', 1), ('sal', 1), ('sa', 2))\n"
     ]
    },
    {
     "name": "stderr",
     "output_type": "stream",
     "text": [
      "\r",
      " 34%|███▍      | 446/1296 [44:15<44:18,  3.13s/it]"
     ]
    },
    {
     "name": "stdout",
     "output_type": "stream",
     "text": [
      "params:[-1.06323978e-01  2.09811347e+02]\n",
      "validate rmse : 0.004395241024510393 \n",
      " validate mae : 0.0037785280915493746 \n",
      "\n",
      "    test rmse : 0.01625716319058483 \n",
      " test mae : 0.016134509676676602\n",
      "(('sal', 1), ('sa', 1), ('sal', 1), ('sal', 1))\n"
     ]
    },
    {
     "name": "stderr",
     "output_type": "stream",
     "text": [
      "\r",
      " 34%|███▍      | 447/1296 [44:17<38:49,  2.74s/it]"
     ]
    },
    {
     "name": "stdout",
     "output_type": "stream",
     "text": [
      "params:[-1.08056481e-01  2.13232548e+02]\n",
      "validate rmse : 0.005254817295431143 \n",
      " validate mae : 0.0044063837531495165 \n",
      "\n",
      "    test rmse : 0.018242387268278117 \n",
      " test mae : 0.018117770265277906\n",
      "(('sal', 1), ('sa', 1), ('sal', 1), ('sal', 2))\n"
     ]
    },
    {
     "name": "stderr",
     "output_type": "stream",
     "text": [
      "\r",
      " 35%|███▍      | 448/1296 [44:26<1:05:43,  4.65s/it]"
     ]
    },
    {
     "name": "stdout",
     "output_type": "stream",
     "text": [
      "params:[-1.10622656e-01  2.18426220e+02]\n",
      "validate rmse : 0.00285062893930781 \n",
      " validate mae : 0.0024768564864070175 \n",
      "\n",
      "    test rmse : 0.014782709377725595 \n",
      " test mae : 0.014592851270524025\n",
      "(('sal', 1), ('sa', 1), ('sal', 1), ('box_cox', 1))\n"
     ]
    },
    {
     "name": "stderr",
     "output_type": "stream",
     "text": [
      "\r",
      " 35%|███▍      | 449/1296 [44:29<56:06,  3.97s/it]  "
     ]
    },
    {
     "name": "stdout",
     "output_type": "stream",
     "text": [
      "params:[-1.04892388e-01  2.06044294e+02]\n",
      "validate rmse : 0.0025711567790142496 \n",
      " validate mae : 0.002305561180720137 \n",
      "\n",
      "    test rmse : 0.011400896590645297 \n",
      " test mae : 0.01124913763877336\n",
      "(('sal', 1), ('sa', 1), ('sal', 1), ('box_cox', 2))\n"
     ]
    },
    {
     "name": "stderr",
     "output_type": "stream",
     "text": [
      "\r",
      " 35%|███▍      | 450/1296 [44:30<46:32,  3.30s/it]"
     ]
    },
    {
     "name": "stdout",
     "output_type": "stream",
     "text": [
      "params:[-1.04558385e-01  2.04315589e+02]\n",
      "validate rmse : 0.0026865595600994207 \n",
      " validate mae : 0.0023343212931565627 \n",
      "\n",
      "    test rmse : 0.01289965303540068 \n",
      " test mae : 0.012748284758212781\n",
      "(('sal', 1), ('sa', 1), ('sal', 2), ('sa', 1))\n"
     ]
    },
    {
     "name": "stderr",
     "output_type": "stream",
     "text": [
      "\r",
      " 35%|███▍      | 451/1296 [44:53<2:09:02,  9.16s/it]"
     ]
    },
    {
     "name": "stdout",
     "output_type": "stream",
     "text": [
      "params:[-1.08350857e-01  2.13880351e+02]\n",
      "validate rmse : 0.006023721987972415 \n",
      " validate mae : 0.005126936980640547 \n",
      "\n",
      "    test rmse : 0.02494481665803501 \n",
      " test mae : 0.02458416220788643\n",
      "(('sal', 1), ('sa', 1), ('sal', 2), ('sa', 2))\n"
     ]
    },
    {
     "name": "stderr",
     "output_type": "stream",
     "text": [
      "\r",
      " 35%|███▍      | 452/1296 [45:02<2:06:51,  9.02s/it]"
     ]
    },
    {
     "name": "stdout",
     "output_type": "stream",
     "text": [
      "params:[-1.10603085e-01  2.18388691e+02]\n",
      "validate rmse : 0.0028508666861484936 \n",
      " validate mae : 0.0024623643415532686 \n",
      "\n",
      "    test rmse : 0.01483315187920748 \n",
      " test mae : 0.01463913359743728\n",
      "(('sal', 1), ('sa', 1), ('sal', 2), ('sal', 1))\n",
      "params:[-1.10331523e-01  2.17850894e+02]\n"
     ]
    },
    {
     "name": "stderr",
     "output_type": "stream",
     "text": [
      "\r",
      " 35%|███▍      | 453/1296 [45:12<2:10:15,  9.27s/it]"
     ]
    },
    {
     "name": "stdout",
     "output_type": "stream",
     "text": [
      "validate rmse : 0.0028129630256625337 \n",
      " validate mae : 0.002376306254730509 \n",
      "\n",
      "    test rmse : 0.014551383685223896 \n",
      " test mae : 0.014357872354564807\n",
      "(('sal', 1), ('sa', 1), ('sal', 2), ('sal', 2))\n",
      "params:[-4.40314167e+03  8.73870949e+06]\n"
     ]
    },
    {
     "name": "stderr",
     "output_type": "stream",
     "text": [
      "\r",
      " 35%|███▌      | 454/1296 [45:17<1:52:25,  8.01s/it]"
     ]
    },
    {
     "name": "stdout",
     "output_type": "stream",
     "text": [
      "validate rmse : 0.006074754898643739 \n",
      " validate mae : 0.0058066536937487635 \n",
      "\n",
      "    test rmse : 0.009627631985288258 \n",
      " test mae : 0.00922737114971641\n",
      "(('sal', 1), ('sa', 1), ('sal', 2), ('box_cox', 1))\n"
     ]
    },
    {
     "name": "stderr",
     "output_type": "stream",
     "text": [
      "\r",
      " 35%|███▌      | 455/1296 [45:22<1:41:16,  7.23s/it]"
     ]
    },
    {
     "name": "stdout",
     "output_type": "stream",
     "text": [
      "params:[-1.01297816e-01  1.99315193e+02]\n",
      "validate rmse : 0.002832487988287344 \n",
      " validate mae : 0.0022644223545478953 \n",
      "\n",
      "    test rmse : 0.0043147850774147255 \n",
      " test mae : 0.003602652190956318\n",
      "(('sal', 1), ('sa', 1), ('sal', 2), ('box_cox', 2))\n"
     ]
    },
    {
     "name": "stderr",
     "output_type": "stream",
     "text": [
      "\r",
      " 35%|███▌      | 456/1296 [45:34<1:58:39,  8.48s/it]"
     ]
    },
    {
     "name": "stdout",
     "output_type": "stream",
     "text": [
      "params:[-1.07259609e-01  2.09643246e+02]\n",
      "validate rmse : 0.003664544975356253 \n",
      " validate mae : 0.003343032638732935 \n",
      "\n",
      "    test rmse : 0.016050454067952278 \n",
      " test mae : 0.015905292753569885\n",
      "(('sal', 1), ('sa', 1), ('box_cox', 1), ('sa', 1))\n"
     ]
    },
    {
     "name": "stderr",
     "output_type": "stream",
     "text": [
      "\r",
      " 35%|███▌      | 457/1296 [45:35<1:29:29,  6.40s/it]"
     ]
    },
    {
     "name": "stdout",
     "output_type": "stream",
     "text": [
      "params:[-9.73947107e-02  1.91815457e+02]\n",
      "validate rmse : 0.002585480550968844 \n",
      " validate mae : 0.0019150725922387518 \n",
      "\n",
      "    test rmse : 0.011537994632614871 \n",
      " test mae : 0.01137663542677941\n",
      "(('sal', 1), ('sa', 1), ('box_cox', 1), ('sa', 2))\n"
     ]
    },
    {
     "name": "stderr",
     "output_type": "stream",
     "text": [
      "\r",
      " 35%|███▌      | 458/1296 [45:37<1:09:22,  4.97s/it]"
     ]
    },
    {
     "name": "stdout",
     "output_type": "stream",
     "text": [
      "params:[-9.62795281e-02  1.89560614e+02]\n",
      "validate rmse : 0.0026067664149182043 \n",
      " validate mae : 0.0019138351865037953 \n",
      "\n",
      "    test rmse : 0.011641867024944576 \n",
      " test mae : 0.0114792700976266\n",
      "(('sal', 1), ('sa', 1), ('box_cox', 1), ('sal', 1))\n"
     ]
    },
    {
     "name": "stderr",
     "output_type": "stream",
     "text": [
      "\r",
      " 35%|███▌      | 459/1296 [45:38<55:19,  3.97s/it]  "
     ]
    },
    {
     "name": "stdout",
     "output_type": "stream",
     "text": [
      "params:[-1.13744322e-01  2.24532464e+02]\n",
      "validate rmse : 0.008108679275569198 \n",
      " validate mae : 0.007070536942596398 \n",
      "\n",
      "    test rmse : 0.025576752066650808 \n",
      " test mae : 0.02538455328135744\n",
      "(('sal', 1), ('sa', 1), ('box_cox', 1), ('sal', 2))\n"
     ]
    },
    {
     "name": "stderr",
     "output_type": "stream",
     "text": [
      "\r",
      " 35%|███▌      | 460/1296 [45:43<56:27,  4.05s/it]"
     ]
    },
    {
     "name": "stdout",
     "output_type": "stream",
     "text": [
      "params:[-7.79877831e+05  1.52958115e+09]\n",
      "validate rmse : 0.012063618992243917 \n",
      " validate mae : 0.01105597818268908 \n",
      "\n",
      "    test rmse : 0.019105728551636315 \n",
      " test mae : 0.018644638600637586\n",
      "(('sal', 1), ('sa', 1), ('box_cox', 1), ('box_cox', 1))\n"
     ]
    },
    {
     "name": "stderr",
     "output_type": "stream",
     "text": [
      "\r",
      " 36%|███▌      | 461/1296 [45:44<44:50,  3.22s/it]"
     ]
    },
    {
     "name": "stdout",
     "output_type": "stream",
     "text": [
      "params:[-1.07785340e-01  2.10770252e+02]\n",
      "validate rmse : 0.0049251605958056666 \n",
      " validate mae : 0.004135797377385481 \n",
      "\n",
      "    test rmse : 0.017612069547778633 \n",
      " test mae : 0.017483640949720748\n",
      "(('sal', 1), ('sa', 1), ('box_cox', 1), ('box_cox', 2))\n"
     ]
    },
    {
     "name": "stderr",
     "output_type": "stream",
     "text": [
      "\r",
      " 36%|███▌      | 462/1296 [45:45<36:58,  2.66s/it]"
     ]
    },
    {
     "name": "stdout",
     "output_type": "stream",
     "text": [
      "params:[-1.01213880e-01  1.96706935e+02]\n",
      "validate rmse : 0.008291569379413059 \n",
      " validate mae : 0.00742894159163577 \n",
      "\n",
      "    test rmse : 0.024696967657527588 \n",
      " test mae : 0.024533122888130622\n",
      "(('sal', 1), ('sa', 1), ('box_cox', 2), ('sa', 1))\n"
     ]
    },
    {
     "name": "stderr",
     "output_type": "stream",
     "text": [
      "\r",
      " 36%|███▌      | 463/1296 [45:47<32:07,  2.31s/it]"
     ]
    },
    {
     "name": "stdout",
     "output_type": "stream",
     "text": [
      "params:[-8.93794138e-02  1.75246320e+02]\n",
      "validate rmse : 0.005176966106751102 \n",
      " validate mae : 0.00435481508211089 \n",
      "\n",
      "    test rmse : 0.018279220370853323 \n",
      " test mae : 0.01814883816264017\n",
      "(('sal', 1), ('sa', 1), ('box_cox', 2), ('sa', 2))\n"
     ]
    },
    {
     "name": "stderr",
     "output_type": "stream",
     "text": [
      "\r",
      " 36%|███▌      | 464/1296 [45:49<29:48,  2.15s/it]"
     ]
    },
    {
     "name": "stdout",
     "output_type": "stream",
     "text": [
      "params:[-9.03865856e-02  1.77217134e+02]\n",
      "validate rmse : 0.006540841322634686 \n",
      " validate mae : 0.0057154282852648385 \n",
      "\n",
      "    test rmse : 0.02059490697286331 \n",
      " test mae : 0.020464074797920707\n",
      "(('sal', 1), ('sa', 1), ('box_cox', 2), ('sal', 1))\n"
     ]
    },
    {
     "name": "stderr",
     "output_type": "stream",
     "text": [
      "\r",
      " 36%|███▌      | 465/1296 [45:50<27:19,  1.97s/it]"
     ]
    },
    {
     "name": "stdout",
     "output_type": "stream",
     "text": [
      "params:[-1.13486510e-01  2.24051272e+02]\n",
      "validate rmse : 0.005937761523309947 \n",
      " validate mae : 0.004990186469815856 \n",
      "\n",
      "    test rmse : 0.019832818918559092 \n",
      " test mae : 0.01969641462622368\n",
      "(('sal', 1), ('sa', 1), ('box_cox', 2), ('sal', 2))\n"
     ]
    },
    {
     "name": "stderr",
     "output_type": "stream",
     "text": [
      "\r",
      " 36%|███▌      | 466/1296 [46:07<1:30:39,  6.55s/it]"
     ]
    },
    {
     "name": "stdout",
     "output_type": "stream",
     "text": [
      "params:[-1.10331166e-01  2.17806367e+02]\n",
      "validate rmse : 0.0031829193040824625 \n",
      " validate mae : 0.0027725373922255375 \n",
      "\n",
      "    test rmse : 0.01230589068056785 \n",
      " test mae : 0.012165220143998253\n",
      "(('sal', 1), ('sa', 1), ('box_cox', 2), ('box_cox', 1))\n"
     ]
    },
    {
     "name": "stderr",
     "output_type": "stream",
     "text": [
      "\r",
      " 36%|███▌      | 467/1296 [46:09<1:09:04,  5.00s/it]"
     ]
    },
    {
     "name": "stdout",
     "output_type": "stream",
     "text": [
      "params:[-1.02124762e-01  1.98478773e+02]\n",
      "validate rmse : 0.008794702665568028 \n",
      " validate mae : 0.008020103859636344 \n",
      "\n",
      "    test rmse : 0.02490584610280307 \n",
      " test mae : 0.024754050964632252\n",
      "(('sal', 1), ('sa', 1), ('box_cox', 2), ('box_cox', 2))\n"
     ]
    },
    {
     "name": "stderr",
     "output_type": "stream",
     "text": [
      "\r",
      " 36%|███▌      | 468/1296 [46:11<56:23,  4.09s/it]  "
     ]
    },
    {
     "name": "stdout",
     "output_type": "stream",
     "text": [
      "params:[-8.88592212e-02  1.71301860e+02]\n",
      "validate rmse : 0.012055352573563164 \n",
      " validate mae : 0.011355725648537679 \n",
      "\n",
      "    test rmse : 0.030062356565350012 \n",
      " test mae : 0.029895309641691847\n",
      "(('sal', 1), ('sa', 2), ('sa', 1), ('sa', 1))\n"
     ]
    },
    {
     "name": "stderr",
     "output_type": "stream",
     "text": [
      "\r",
      " 36%|███▌      | 469/1296 [46:12<46:46,  3.39s/it]"
     ]
    },
    {
     "name": "stdout",
     "output_type": "stream",
     "text": [
      "params:[-1.08206533e-01  2.13658405e+02]\n",
      "validate rmse : 0.004298508940240546 \n",
      " validate mae : 0.003715170981633431 \n",
      "\n",
      "    test rmse : 0.01601248899135051 \n",
      " test mae : 0.015890902874379942\n",
      "(('sal', 1), ('sa', 2), ('sa', 1), ('sa', 2))\n"
     ]
    },
    {
     "name": "stderr",
     "output_type": "stream",
     "text": [
      "\r",
      " 36%|███▋      | 470/1296 [46:14<37:57,  2.76s/it]"
     ]
    },
    {
     "name": "stdout",
     "output_type": "stream",
     "text": [
      "params:[-1.08189530e-01  2.13629804e+02]\n",
      "validate rmse : 0.004236441390877212 \n",
      " validate mae : 0.003669696093583514 \n",
      "\n",
      "    test rmse : 0.015836597479080897 \n",
      " test mae : 0.015715200408125712\n",
      "(('sal', 1), ('sa', 2), ('sa', 1), ('sal', 1))\n"
     ]
    },
    {
     "name": "stderr",
     "output_type": "stream",
     "text": [
      "\r",
      " 36%|███▋      | 471/1296 [46:15<32:50,  2.39s/it]"
     ]
    },
    {
     "name": "stdout",
     "output_type": "stream",
     "text": [
      "params:[-1.06586634e-01  2.10327553e+02]\n",
      "validate rmse : 0.004362324829072691 \n",
      " validate mae : 0.0037553430656636195 \n",
      "\n",
      "    test rmse : 0.01617765557739245 \n",
      " test mae : 0.016055006458795533\n",
      "(('sal', 1), ('sa', 2), ('sa', 1), ('sal', 2))\n"
     ]
    },
    {
     "name": "stderr",
     "output_type": "stream",
     "text": [
      "\r",
      " 36%|███▋      | 472/1296 [46:22<49:24,  3.60s/it]"
     ]
    },
    {
     "name": "stdout",
     "output_type": "stream",
     "text": [
      "params:[-2.32095334e+02  4.54725822e+05]\n",
      "validate rmse : 0.004078237230997818 \n",
      " validate mae : 0.0036112273343250584 \n",
      "\n",
      "    test rmse : 0.0024191691549851316 \n",
      " test mae : 0.0020156041555276943\n",
      "(('sal', 1), ('sa', 2), ('sa', 1), ('box_cox', 1))\n"
     ]
    },
    {
     "name": "stderr",
     "output_type": "stream",
     "text": [
      "\r",
      " 36%|███▋      | 473/1296 [46:24<45:26,  3.31s/it]"
     ]
    },
    {
     "name": "stdout",
     "output_type": "stream",
     "text": [
      "params:[-1.06513626e-01  2.09476419e+02]\n",
      "validate rmse : 0.0021456616740120633 \n",
      " validate mae : 0.0018434741323713477 \n",
      "\n",
      "    test rmse : 0.008958242523435573 \n",
      " test mae : 0.008750603227035561\n",
      "(('sal', 1), ('sa', 2), ('sa', 1), ('box_cox', 2))\n"
     ]
    },
    {
     "name": "stderr",
     "output_type": "stream",
     "text": [
      "\r",
      " 37%|███▋      | 474/1296 [46:26<39:55,  2.91s/it]"
     ]
    },
    {
     "name": "stdout",
     "output_type": "stream",
     "text": [
      "params:[-1.09926246e-01  2.15045359e+02]\n",
      "validate rmse : 0.00281035162363721 \n",
      " validate mae : 0.0025396149711237365 \n",
      "\n",
      "    test rmse : 0.013657324258113996 \n",
      " test mae : 0.013507818110381348\n",
      "(('sal', 1), ('sa', 2), ('sa', 2), ('sa', 1))\n"
     ]
    },
    {
     "name": "stderr",
     "output_type": "stream",
     "text": [
      "\r",
      " 37%|███▋      | 475/1296 [46:28<34:40,  2.53s/it]"
     ]
    },
    {
     "name": "stdout",
     "output_type": "stream",
     "text": [
      "params:[-1.08291803e-01  2.13857500e+02]\n",
      "validate rmse : 0.00404343811043802 \n",
      " validate mae : 0.0035272457226215464 \n",
      "\n",
      "    test rmse : 0.015285809403648393 \n",
      " test mae : 0.015164486569404454\n",
      "(('sal', 1), ('sa', 2), ('sa', 2), ('sa', 2))\n"
     ]
    },
    {
     "name": "stderr",
     "output_type": "stream",
     "text": [
      "\r",
      " 37%|███▋      | 476/1296 [46:30<34:08,  2.50s/it]"
     ]
    },
    {
     "name": "stdout",
     "output_type": "stream",
     "text": [
      "params:[-1.08391804e-01  2.14070409e+02]\n",
      "validate rmse : 0.003951029060578865 \n",
      " validate mae : 0.0034581588968400395 \n",
      "\n",
      "    test rmse : 0.015017621901410507 \n",
      " test mae : 0.014896018688023862\n",
      "(('sal', 1), ('sa', 2), ('sa', 2), ('sal', 1))\n"
     ]
    },
    {
     "name": "stderr",
     "output_type": "stream",
     "text": [
      "\r",
      " 37%|███▋      | 477/1296 [46:33<33:00,  2.42s/it]"
     ]
    },
    {
     "name": "stdout",
     "output_type": "stream",
     "text": [
      "params:[-1.06511609e-01  2.10180551e+02]\n",
      "validate rmse : 0.004278315693067884 \n",
      " validate mae : 0.0036941994517100197 \n",
      "\n",
      "    test rmse : 0.015946931796711795 \n",
      " test mae : 0.01582453478632421\n",
      "(('sal', 1), ('sa', 2), ('sa', 2), ('sal', 2))\n"
     ]
    },
    {
     "name": "stderr",
     "output_type": "stream",
     "text": [
      "\r",
      " 37%|███▋      | 478/1296 [46:55<1:53:16,  8.31s/it]"
     ]
    },
    {
     "name": "stdout",
     "output_type": "stream",
     "text": [
      "params:[-1.08825219e-01  2.14834830e+02]\n",
      "validate rmse : 0.00632704034883561 \n",
      " validate mae : 0.005352482067100138 \n",
      "\n",
      "    test rmse : 0.026081574877296846 \n",
      " test mae : 0.02568581168257446\n",
      "(('sal', 1), ('sa', 2), ('sa', 2), ('box_cox', 1))\n"
     ]
    },
    {
     "name": "stderr",
     "output_type": "stream",
     "text": [
      "\r",
      " 37%|███▋      | 479/1296 [46:57<1:29:16,  6.56s/it]"
     ]
    },
    {
     "name": "stdout",
     "output_type": "stream",
     "text": [
      "params:[-1.06100002e-01  2.08637604e+02]\n",
      "validate rmse : 0.0021399039924210523 \n",
      " validate mae : 0.0017747886975264646 \n",
      "\n",
      "    test rmse : 0.008463301911266449 \n",
      " test mae : 0.008241075793667582\n",
      "(('sal', 1), ('sa', 2), ('sa', 2), ('box_cox', 2))\n"
     ]
    },
    {
     "name": "stderr",
     "output_type": "stream",
     "text": [
      "\r",
      " 37%|███▋      | 480/1296 [46:59<1:10:47,  5.21s/it]"
     ]
    },
    {
     "name": "stdout",
     "output_type": "stream",
     "text": [
      "params:[-1.08686420e-01  2.12632077e+02]\n",
      "validate rmse : 0.0025710303192979654 \n",
      " validate mae : 0.0018945799088491183 \n",
      "\n",
      "    test rmse : 0.011668694065755584 \n",
      " test mae : 0.011506243882229372\n",
      "(('sal', 1), ('sa', 2), ('sal', 1), ('sa', 1))\n"
     ]
    },
    {
     "name": "stderr",
     "output_type": "stream",
     "text": [
      "\r",
      " 37%|███▋      | 481/1296 [47:01<57:15,  4.22s/it]  "
     ]
    },
    {
     "name": "stdout",
     "output_type": "stream",
     "text": [
      "params:[-1.05907258e-01  2.08994916e+02]\n",
      "validate rmse : 0.004004000391461367 \n",
      " validate mae : 0.003491047144862484 \n",
      "\n",
      "    test rmse : 0.015173285617512303 \n",
      " test mae : 0.015050835658112192\n",
      "(('sal', 1), ('sa', 2), ('sal', 1), ('sa', 2))\n"
     ]
    },
    {
     "name": "stderr",
     "output_type": "stream",
     "text": [
      "\r",
      " 37%|███▋      | 482/1296 [47:03<48:46,  3.60s/it]"
     ]
    },
    {
     "name": "stdout",
     "output_type": "stream",
     "text": [
      "params:[-1.06235031e-01  2.09636984e+02]\n",
      "validate rmse : 0.004313403938165564 \n",
      " validate mae : 0.0037192131645402255 \n",
      "\n",
      "    test rmse : 0.016035794567941086 \n",
      " test mae : 0.015913377042305558\n",
      "(('sal', 1), ('sa', 2), ('sal', 1), ('sal', 1))\n"
     ]
    },
    {
     "name": "stderr",
     "output_type": "stream",
     "text": [
      "\r",
      " 37%|███▋      | 483/1296 [47:05<42:07,  3.11s/it]"
     ]
    },
    {
     "name": "stdout",
     "output_type": "stream",
     "text": [
      "params:[-1.08051938e-01  2.13221963e+02]\n",
      "validate rmse : 0.00531476754222897 \n",
      " validate mae : 0.004455795786196247 \n",
      "\n",
      "    test rmse : 0.01843233016567416 \n",
      " test mae : 0.018306297218290402\n",
      "(('sal', 1), ('sa', 2), ('sal', 1), ('sal', 2))\n",
      "params:[-6.17614286e+05  1.22787165e+09]\n"
     ]
    },
    {
     "name": "stderr",
     "output_type": "stream",
     "text": [
      "\r",
      " 37%|███▋      | 484/1296 [47:14<1:05:17,  4.82s/it]"
     ]
    },
    {
     "name": "stdout",
     "output_type": "stream",
     "text": [
      "validate rmse : 0.61768063938571 \n",
      " validate mae : 0.6175150084361635 \n",
      "\n",
      "    test rmse : 0.6651252749224723 \n",
      " test mae : 0.6650621252429552\n",
      "(('sal', 1), ('sa', 2), ('sal', 1), ('box_cox', 1))\n"
     ]
    },
    {
     "name": "stderr",
     "output_type": "stream",
     "text": [
      "\r",
      " 37%|███▋      | 485/1296 [47:16<52:44,  3.90s/it]  "
     ]
    },
    {
     "name": "stdout",
     "output_type": "stream",
     "text": [
      "params:[-1.05167780e-01  2.06584318e+02]\n",
      "validate rmse : 0.002750493527537714 \n",
      " validate mae : 0.0024915825969330824 \n",
      "\n",
      "    test rmse : 0.012079829064456746 \n",
      " test mae : 0.011936262176195327\n",
      "(('sal', 1), ('sa', 2), ('sal', 1), ('box_cox', 2))\n"
     ]
    },
    {
     "name": "stderr",
     "output_type": "stream",
     "text": [
      "\r",
      " 38%|███▊      | 486/1296 [47:18<46:27,  3.44s/it]"
     ]
    },
    {
     "name": "stdout",
     "output_type": "stream",
     "text": [
      "params:[-1.04713648e-01  2.04619503e+02]\n",
      "validate rmse : 0.002780546253447162 \n",
      " validate mae : 0.0024780307982660565 \n",
      "\n",
      "    test rmse : 0.01342205038055251 \n",
      " test mae : 0.013271017842574605\n",
      "(('sal', 1), ('sa', 2), ('sal', 2), ('sa', 1))\n"
     ]
    },
    {
     "name": "stderr",
     "output_type": "stream",
     "text": [
      "\r",
      " 38%|███▊      | 487/1296 [47:25<1:00:46,  4.51s/it]"
     ]
    },
    {
     "name": "stdout",
     "output_type": "stream",
     "text": [
      "params:[-1.21380867e-01  2.39475305e+02]\n",
      "validate rmse : 0.017041348934998802 \n",
      " validate mae : 0.015524942893362623 \n",
      "\n",
      "    test rmse : 0.047994200920972604 \n",
      " test mae : 0.0474636288352504\n",
      "(('sal', 1), ('sa', 2), ('sal', 2), ('sa', 2))\n"
     ]
    },
    {
     "name": "stderr",
     "output_type": "stream",
     "text": [
      "\r",
      " 38%|███▊      | 488/1296 [47:32<1:10:13,  5.21s/it]"
     ]
    },
    {
     "name": "stdout",
     "output_type": "stream",
     "text": [
      "params:[-1.08606786e-01  2.14404181e+02]\n",
      "validate rmse : 0.006240023250181302 \n",
      " validate mae : 0.005287855043022459 \n",
      "\n",
      "    test rmse : 0.025739282207374654 \n",
      " test mae : 0.02535486789537688\n",
      "(('sal', 1), ('sa', 2), ('sal', 2), ('sal', 1))\n"
     ]
    },
    {
     "name": "stderr",
     "output_type": "stream",
     "text": [
      "\r",
      " 38%|███▊      | 489/1296 [47:44<1:36:17,  7.16s/it]"
     ]
    },
    {
     "name": "stdout",
     "output_type": "stream",
     "text": [
      "params:[-1.10326788e-01  2.17841658e+02]\n",
      "validate rmse : 0.002809819106139735 \n",
      " validate mae : 0.0023706796581585738 \n",
      "\n",
      "    test rmse : 0.014529474793837463 \n",
      " test mae : 0.014336105401452482\n",
      "(('sal', 1), ('sa', 2), ('sal', 2), ('sal', 2))\n"
     ]
    },
    {
     "name": "stderr",
     "output_type": "stream",
     "text": [
      "\r",
      " 38%|███▊      | 490/1296 [47:50<1:33:25,  6.95s/it]"
     ]
    },
    {
     "name": "stdout",
     "output_type": "stream",
     "text": [
      "params:[-1.09027034e+01  2.13960065e+04]\n",
      "validate rmse : 0.002851847874523924 \n",
      " validate mae : 0.0024943091716127202 \n",
      "\n",
      "    test rmse : 0.0058554106244846455 \n",
      " test mae : 0.005442371905932366\n",
      "(('sal', 1), ('sa', 2), ('sal', 2), ('box_cox', 1))\n"
     ]
    },
    {
     "name": "stderr",
     "output_type": "stream",
     "text": [
      "\r",
      " 38%|███▊      | 491/1296 [47:58<1:36:53,  7.22s/it]"
     ]
    },
    {
     "name": "stdout",
     "output_type": "stream",
     "text": [
      "params:[-1.05502417e-01  2.07417859e+02]\n",
      "validate rmse : 0.0024406844740729903 \n",
      " validate mae : 0.0018774142010483624 \n",
      "\n",
      "    test rmse : 0.008080827768987409 \n",
      " test mae : 0.00786081244398848\n",
      "(('sal', 1), ('sa', 2), ('sal', 2), ('box_cox', 2))\n"
     ]
    },
    {
     "name": "stderr",
     "output_type": "stream",
     "text": [
      "\r",
      " 38%|███▊      | 492/1296 [48:06<1:41:44,  7.59s/it]"
     ]
    },
    {
     "name": "stdout",
     "output_type": "stream",
     "text": [
      "params:[-1.07524978e-01  2.10297959e+02]\n",
      "validate rmse : 0.003715390390524456 \n",
      " validate mae : 0.0031321711381899924 \n",
      "\n",
      "    test rmse : 0.021309201440743327 \n",
      " test mae : 0.020819939088653847\n",
      "(('sal', 1), ('sa', 2), ('box_cox', 1), ('sa', 1))\n"
     ]
    },
    {
     "name": "stderr",
     "output_type": "stream",
     "text": [
      "\r",
      " 38%|███▊      | 493/1296 [48:08<1:16:49,  5.74s/it]"
     ]
    },
    {
     "name": "stdout",
     "output_type": "stream",
     "text": [
      "params:[-9.62800767e-02  1.89561773e+02]\n",
      "validate rmse : 0.0026066680207033604 \n",
      " validate mae : 0.0019135796703703331 \n",
      "\n",
      "    test rmse : 0.011638982217737645 \n",
      " test mae : 0.01147637565121001\n",
      "(('sal', 1), ('sa', 2), ('box_cox', 1), ('sa', 2))\n"
     ]
    },
    {
     "name": "stderr",
     "output_type": "stream",
     "text": [
      "\r",
      " 38%|███▊      | 494/1296 [48:11<1:04:26,  4.82s/it]"
     ]
    },
    {
     "name": "stdout",
     "output_type": "stream",
     "text": [
      "params:[-9.72579016e-02  1.91541815e+02]\n",
      "validate rmse : 0.002588699622018621 \n",
      " validate mae : 0.0019052756262642626 \n",
      "\n",
      "    test rmse : 0.011462808128675887 \n",
      " test mae : 0.011300644800901606\n",
      "(('sal', 1), ('sa', 2), ('box_cox', 1), ('sal', 1))\n"
     ]
    },
    {
     "name": "stderr",
     "output_type": "stream",
     "text": [
      "\r",
      " 38%|███▊      | 495/1296 [48:13<53:39,  4.02s/it]  "
     ]
    },
    {
     "name": "stdout",
     "output_type": "stream",
     "text": [
      "params:[-1.13453474e-01  2.23955567e+02]\n",
      "validate rmse : 0.0078666192909391 \n",
      " validate mae : 0.006843077341711147 \n",
      "\n",
      "    test rmse : 0.024832185123069464 \n",
      " test mae : 0.02465238448552363\n",
      "(('sal', 1), ('sa', 2), ('box_cox', 1), ('sal', 2))\n",
      "params:[-8.36966351e+10  1.64401788e+14]\n"
     ]
    },
    {
     "name": "stderr",
     "output_type": "stream",
     "text": [
      "\r",
      " 38%|███▊      | 496/1296 [48:20<1:05:17,  4.90s/it]"
     ]
    },
    {
     "name": "stdout",
     "output_type": "stream",
     "text": [
      "validate rmse : 0.012844346600487432 \n",
      " validate mae : 0.01166789168486406 \n",
      "\n",
      "    test rmse : 0.01802471377717766 \n",
      " test mae : 0.017544083227269296\n",
      "(('sal', 1), ('sa', 2), ('box_cox', 1), ('box_cox', 1))\n"
     ]
    },
    {
     "name": "stderr",
     "output_type": "stream",
     "text": [
      "\r",
      " 38%|███▊      | 497/1296 [48:22<54:04,  4.06s/it]  "
     ]
    },
    {
     "name": "stdout",
     "output_type": "stream",
     "text": [
      "params:[-1.08112964e-01  2.11432463e+02]\n",
      "validate rmse : 0.004928468163573912 \n",
      " validate mae : 0.004136081361694537 \n",
      "\n",
      "    test rmse : 0.017517424124052695 \n",
      " test mae : 0.017390906708185376\n",
      "(('sal', 1), ('sa', 2), ('box_cox', 1), ('box_cox', 2))\n"
     ]
    },
    {
     "name": "stderr",
     "output_type": "stream",
     "text": [
      "\r",
      " 38%|███▊      | 498/1296 [48:23<44:10,  3.32s/it]"
     ]
    },
    {
     "name": "stdout",
     "output_type": "stream",
     "text": [
      "params:[-1.02527891e-01  1.99257334e+02]\n",
      "validate rmse : 0.011702273953477973 \n",
      " validate mae : 0.010917886990924105 \n",
      "\n",
      "    test rmse : 0.03041049580909412 \n",
      " test mae : 0.030222783994249762\n",
      "(('sal', 1), ('sa', 2), ('box_cox', 2), ('sa', 1))\n"
     ]
    },
    {
     "name": "stderr",
     "output_type": "stream",
     "text": [
      "\r",
      " 39%|███▊      | 499/1296 [48:25<37:12,  2.80s/it]"
     ]
    },
    {
     "name": "stdout",
     "output_type": "stream",
     "text": [
      "params:[-9.00640026e-02  1.76645708e+02]\n",
      "validate rmse : 0.004917293892520484 \n",
      " validate mae : 0.0041366190901489085 \n",
      "\n",
      "    test rmse : 0.01761463995762662 \n",
      " test mae : 0.017487809394643016\n",
      "(('sal', 1), ('sa', 2), ('box_cox', 2), ('sa', 2))\n"
     ]
    },
    {
     "name": "stderr",
     "output_type": "stream",
     "text": [
      "\r",
      " 39%|███▊      | 500/1296 [48:26<31:46,  2.40s/it]"
     ]
    },
    {
     "name": "stdout",
     "output_type": "stream",
     "text": [
      "params:[-8.92662461e-02  1.75021596e+02]\n",
      "validate rmse : 0.005101807174996414 \n",
      " validate mae : 0.0042900086521817605 \n",
      "\n",
      "    test rmse : 0.018164853023585517 \n",
      " test mae : 0.018034081826496722\n",
      "(('sal', 1), ('sa', 2), ('box_cox', 2), ('sal', 1))\n"
     ]
    },
    {
     "name": "stderr",
     "output_type": "stream",
     "text": [
      "\r",
      " 39%|███▊      | 501/1296 [48:28<29:24,  2.22s/it]"
     ]
    },
    {
     "name": "stdout",
     "output_type": "stream",
     "text": [
      "params:[-1.13589469e-01  2.24253935e+02]\n",
      "validate rmse : 0.006018622202089396 \n",
      " validate mae : 0.005078669699647658 \n",
      "\n",
      "    test rmse : 0.019926158124265153 \n",
      " test mae : 0.019791127004739034\n",
      "(('sal', 1), ('sa', 2), ('box_cox', 2), ('sal', 2))\n"
     ]
    },
    {
     "name": "stderr",
     "output_type": "stream",
     "text": [
      "\r",
      " 39%|███▊      | 502/1296 [48:36<50:49,  3.84s/it]"
     ]
    },
    {
     "name": "stdout",
     "output_type": "stream",
     "text": [
      "params:[-1.10626983e-01  2.18436439e+02]\n",
      "validate rmse : 0.002475919312003112 \n",
      " validate mae : 0.001995028244890653 \n",
      "\n",
      "    test rmse : 0.011684107277009801 \n",
      " test mae : 0.01152899545227152\n",
      "(('sal', 1), ('sa', 2), ('box_cox', 2), ('box_cox', 1))\n"
     ]
    },
    {
     "name": "stderr",
     "output_type": "stream",
     "text": [
      "\r",
      " 39%|███▉      | 503/1296 [48:38<42:42,  3.23s/it]"
     ]
    },
    {
     "name": "stdout",
     "output_type": "stream",
     "text": [
      "params:[-1.03164585e-01  2.00604142e+02]\n",
      "validate rmse : 0.007650163851548711 \n",
      " validate mae : 0.006838662491901353 \n",
      "\n",
      "    test rmse : 0.022874306668015827 \n",
      " test mae : 0.022731692676628147\n",
      "(('sal', 1), ('sa', 2), ('box_cox', 2), ('box_cox', 2))\n"
     ]
    },
    {
     "name": "stderr",
     "output_type": "stream",
     "text": [
      "\r",
      " 39%|███▉      | 504/1296 [48:40<37:39,  2.85s/it]"
     ]
    },
    {
     "name": "stdout",
     "output_type": "stream",
     "text": [
      "params:[-8.90583348e-02  1.71711460e+02]\n",
      "validate rmse : 0.011863831845294966 \n",
      " validate mae : 0.011158660937604172 \n",
      "\n",
      "    test rmse : 0.029776233701431048 \n",
      " test mae : 0.029610211744045677\n",
      "(('sal', 1), ('sal', 1), ('sa', 1), ('sa', 1))\n"
     ]
    },
    {
     "name": "stderr",
     "output_type": "stream",
     "text": [
      "\r",
      " 39%|███▉      | 505/1296 [48:41<33:47,  2.56s/it]"
     ]
    },
    {
     "name": "stdout",
     "output_type": "stream",
     "text": [
      "params:[-1.06197387e-01  2.09563205e+02]\n",
      "validate rmse : 0.004274503323860193 \n",
      " validate mae : 0.003690553474586074 \n",
      "\n",
      "    test rmse : 0.01592288354680336 \n",
      " test mae : 0.01580063939824399\n",
      "(('sal', 1), ('sal', 1), ('sa', 1), ('sa', 2))\n"
     ]
    },
    {
     "name": "stderr",
     "output_type": "stream",
     "text": [
      "\r",
      " 39%|███▉      | 506/1296 [48:44<33:24,  2.54s/it]"
     ]
    },
    {
     "name": "stdout",
     "output_type": "stream",
     "text": [
      "params:[-1.06333508e-01  2.09829453e+02]\n",
      "validate rmse : 0.004420053593256616 \n",
      " validate mae : 0.003796846406884713 \n",
      "\n",
      "    test rmse : 0.016331505834693626 \n",
      " test mae : 0.016208652852110348\n",
      "(('sal', 1), ('sal', 1), ('sa', 1), ('sal', 1))\n"
     ]
    },
    {
     "name": "stderr",
     "output_type": "stream",
     "text": [
      "\r",
      " 39%|███▉      | 507/1296 [48:45<29:07,  2.21s/it]"
     ]
    },
    {
     "name": "stdout",
     "output_type": "stream",
     "text": [
      "params:[-1.08022857e-01  2.13161894e+02]\n",
      "validate rmse : 0.005377533399789732 \n",
      " validate mae : 0.004507602978029284 \n",
      "\n",
      "    test rmse : 0.018614666932272712 \n",
      " test mae : 0.018487495815223322\n",
      "(('sal', 1), ('sal', 1), ('sa', 1), ('sal', 2))\n"
     ]
    },
    {
     "name": "stderr",
     "output_type": "stream",
     "text": [
      "\r",
      " 39%|███▉      | 508/1296 [48:53<49:29,  3.77s/it]"
     ]
    },
    {
     "name": "stdout",
     "output_type": "stream",
     "text": [
      "params:[-1.05337206e-01  2.07910223e+02]\n",
      "validate rmse : 0.0045639670837607565 \n",
      " validate mae : 0.0038941061863074617 \n",
      "\n",
      "    test rmse : 0.016574868410925165 \n",
      " test mae : 0.01645335611169562\n",
      "(('sal', 1), ('sal', 1), ('sa', 1), ('box_cox', 1))\n"
     ]
    },
    {
     "name": "stderr",
     "output_type": "stream",
     "text": [
      "\r",
      " 39%|███▉      | 509/1296 [48:55<41:44,  3.18s/it]"
     ]
    },
    {
     "name": "stdout",
     "output_type": "stream",
     "text": [
      "params:[-1.04329651e-01  2.04942120e+02]\n",
      "validate rmse : 0.0024550054255407304 \n",
      " validate mae : 0.002170945088561344 \n",
      "\n",
      "    test rmse : 0.010943948504879357 \n",
      " test mae : 0.010785264258720772\n",
      "(('sal', 1), ('sal', 1), ('sa', 1), ('box_cox', 2))\n"
     ]
    },
    {
     "name": "stderr",
     "output_type": "stream",
     "text": [
      "\r",
      " 39%|███▉      | 510/1296 [48:56<35:20,  2.70s/it]"
     ]
    },
    {
     "name": "stdout",
     "output_type": "stream",
     "text": [
      "params:[-1.04743185e-01  2.04679439e+02]\n",
      "validate rmse : 0.002928445162997515 \n",
      " validate mae : 0.00266804844025309 \n",
      "\n",
      "    test rmse : 0.01412598941961119 \n",
      " test mae : 0.01397394010976498\n",
      "(('sal', 1), ('sal', 1), ('sa', 2), ('sa', 1))\n"
     ]
    },
    {
     "name": "stderr",
     "output_type": "stream",
     "text": [
      "\r",
      " 39%|███▉      | 511/1296 [48:58<31:22,  2.40s/it]"
     ]
    },
    {
     "name": "stdout",
     "output_type": "stream",
     "text": [
      "params:[-1.06077804e-01  2.09329059e+02]\n",
      "validate rmse : 0.0041600284815534495 \n",
      " validate mae : 0.0036064961468173823 \n",
      "\n",
      "    test rmse : 0.015604080781711358 \n",
      " test mae : 0.01548196882573464\n",
      "(('sal', 1), ('sal', 1), ('sa', 2), ('sa', 2))\n"
     ]
    },
    {
     "name": "stderr",
     "output_type": "stream",
     "text": [
      "\r",
      " 40%|███▉      | 512/1296 [49:00<31:14,  2.39s/it]"
     ]
    },
    {
     "name": "stdout",
     "output_type": "stream",
     "text": [
      "params:[-1.05983733e-01  2.09144705e+02]\n",
      "validate rmse : 0.004073685130797841 \n",
      " validate mae : 0.003542766258588102 \n",
      "\n",
      "    test rmse : 0.015365838427336624 \n",
      " test mae : 0.015243604334349129\n",
      "(('sal', 1), ('sal', 1), ('sa', 2), ('sal', 1))\n"
     ]
    },
    {
     "name": "stderr",
     "output_type": "stream",
     "text": [
      "\r",
      " 40%|███▉      | 513/1296 [49:03<32:12,  2.47s/it]"
     ]
    },
    {
     "name": "stdout",
     "output_type": "stream",
     "text": [
      "params:[-1.08074932e-01  2.13273128e+02]\n",
      "validate rmse : 0.005141767007807174 \n",
      " validate mae : 0.004312873651378565 \n",
      "\n",
      "    test rmse : 0.01789151514564438 \n",
      " test mae : 0.017769165893764472\n",
      "(('sal', 1), ('sal', 1), ('sa', 2), ('sal', 2))\n"
     ]
    },
    {
     "name": "stderr",
     "output_type": "stream",
     "text": [
      "\r",
      " 40%|███▉      | 514/1296 [49:40<2:46:07, 12.75s/it]"
     ]
    },
    {
     "name": "stdout",
     "output_type": "stream",
     "text": [
      "params:[-1.09215851e-01  2.15396845e+02]\n",
      "validate rmse : 0.007513120353913008 \n",
      " validate mae : 0.00652069066031077 \n",
      "\n",
      "    test rmse : 0.023702290260660775 \n",
      " test mae : 0.023540194715782052\n",
      "(('sal', 1), ('sal', 1), ('sa', 2), ('box_cox', 1))\n"
     ]
    },
    {
     "name": "stderr",
     "output_type": "stream",
     "text": [
      "\r",
      " 40%|███▉      | 515/1296 [49:41<2:02:17,  9.40s/it]"
     ]
    },
    {
     "name": "stdout",
     "output_type": "stream",
     "text": [
      "params:[-1.04877811e-01  2.06016951e+02]\n",
      "validate rmse : 0.0027292728471699948 \n",
      " validate mae : 0.0024711869261522168 \n",
      "\n",
      "    test rmse : 0.012027228694131276 \n",
      " test mae : 0.011883040395858361\n",
      "(('sal', 1), ('sal', 1), ('sa', 2), ('box_cox', 2))\n"
     ]
    },
    {
     "name": "stderr",
     "output_type": "stream",
     "text": [
      "\r",
      " 40%|███▉      | 516/1296 [49:43<1:31:04,  7.01s/it]"
     ]
    },
    {
     "name": "stdout",
     "output_type": "stream",
     "text": [
      "params:[-1.04704610e-01  2.04603732e+02]\n",
      "validate rmse : 0.002909202980494772 \n",
      " validate mae : 0.00264406017036655 \n",
      "\n",
      "    test rmse : 0.014048914524300755 \n",
      " test mae : 0.013896779016270138\n",
      "(('sal', 1), ('sal', 1), ('sal', 1), ('sa', 1))\n"
     ]
    },
    {
     "name": "stderr",
     "output_type": "stream",
     "text": [
      "\r",
      " 40%|███▉      | 517/1296 [49:44<1:10:54,  5.46s/it]"
     ]
    },
    {
     "name": "stdout",
     "output_type": "stream",
     "text": [
      "params:[-1.08084702e-01  2.13291334e+02]\n",
      "validate rmse : 0.005261562389143033 \n",
      " validate mae : 0.004412200450590383 \n",
      "\n",
      "    test rmse : 0.018251020202302095 \n",
      " test mae : 0.018126457889810575\n",
      "(('sal', 1), ('sal', 1), ('sal', 1), ('sa', 2))\n"
     ]
    },
    {
     "name": "stderr",
     "output_type": "stream",
     "text": [
      "\r",
      " 40%|███▉      | 518/1296 [49:46<56:58,  4.39s/it]  "
     ]
    },
    {
     "name": "stdout",
     "output_type": "stream",
     "text": [
      "params:[-1.08072169e-01  2.13263828e+02]\n",
      "validate rmse : 0.005348252594766473 \n",
      " validate mae : 0.004483607499798029 \n",
      "\n",
      "    test rmse : 0.018524566361919428 \n",
      " test mae : 0.018397964401726984\n",
      "(('sal', 1), ('sal', 1), ('sal', 1), ('sal', 1))\n"
     ]
    },
    {
     "name": "stderr",
     "output_type": "stream",
     "text": [
      "\r",
      " 40%|████      | 519/1296 [49:48<46:18,  3.58s/it]"
     ]
    },
    {
     "name": "stdout",
     "output_type": "stream",
     "text": [
      "params:[-1.07599248e-01  2.12326811e+02]\n",
      "validate rmse : 0.004745259410275172 \n",
      " validate mae : 0.004001660921034695 \n",
      "\n",
      "    test rmse : 0.0167326630136682 \n",
      " test mae : 0.016614594735757982\n",
      "(('sal', 1), ('sal', 1), ('sal', 1), ('sal', 2))\n"
     ]
    },
    {
     "name": "stderr",
     "output_type": "stream",
     "text": [
      "\r",
      " 40%|████      | 520/1296 [49:58<1:11:12,  5.51s/it]"
     ]
    },
    {
     "name": "stdout",
     "output_type": "stream",
     "text": [
      "params:[-1.10621715e-01  2.18424620e+02]\n",
      "validate rmse : 0.002814810388169118 \n",
      " validate mae : 0.0024356295359500213 \n",
      "\n",
      "    test rmse : 0.014496964267592904 \n",
      " test mae : 0.014313239382466068\n",
      "(('sal', 1), ('sal', 1), ('sal', 1), ('box_cox', 1))\n"
     ]
    },
    {
     "name": "stderr",
     "output_type": "stream",
     "text": [
      "\r",
      " 40%|████      | 521/1296 [50:00<57:52,  4.48s/it]  "
     ]
    },
    {
     "name": "stdout",
     "output_type": "stream",
     "text": [
      "params:[-1.06668154e-01  2.09558549e+02]\n",
      "validate rmse : 0.0031858829456569595 \n",
      " validate mae : 0.002872273446911342 \n",
      "\n",
      "    test rmse : 0.013230470840534898 \n",
      " test mae : 0.013097658737880094\n",
      "(('sal', 1), ('sal', 1), ('sal', 1), ('box_cox', 2))\n"
     ]
    },
    {
     "name": "stderr",
     "output_type": "stream",
     "text": [
      "\r",
      " 40%|████      | 522/1296 [50:02<49:26,  3.83s/it]"
     ]
    },
    {
     "name": "stdout",
     "output_type": "stream",
     "text": [
      "params:[-1.06811404e-01  2.08745735e+02]\n",
      "validate rmse : 0.004137360573086328 \n",
      " validate mae : 0.003719305689058907 \n",
      "\n",
      "    test rmse : 0.017332562615233818 \n",
      " test mae : 0.01718238254230924\n",
      "(('sal', 1), ('sal', 1), ('sal', 2), ('sa', 1))\n",
      "params:[-1.27806785e-01  2.52170547e+02]\n"
     ]
    },
    {
     "name": "stderr",
     "output_type": "stream",
     "text": [
      "\r",
      " 40%|████      | 523/1296 [50:08<57:27,  4.46s/it]"
     ]
    },
    {
     "name": "stdout",
     "output_type": "stream",
     "text": [
      "validate rmse : 0.021268328496208123 \n",
      " validate mae : 0.020211745734398007 \n",
      "\n",
      "    test rmse : 0.0496124332082889 \n",
      " test mae : 0.049228236719900474\n",
      "(('sal', 1), ('sal', 1), ('sal', 2), ('sa', 2))\n"
     ]
    },
    {
     "name": "stderr",
     "output_type": "stream",
     "text": [
      "\r",
      " 40%|████      | 524/1296 [50:18<1:17:54,  6.06s/it]"
     ]
    },
    {
     "name": "stdout",
     "output_type": "stream",
     "text": [
      "params:[-1.05041790e-01  2.07218024e+02]\n",
      "validate rmse : 0.00400176781246186 \n",
      " validate mae : 0.003479563268501137 \n",
      "\n",
      "    test rmse : 0.015094017306752767 \n",
      " test mae : 0.014971031742823743\n",
      "(('sal', 1), ('sal', 1), ('sal', 2), ('sal', 1))\n"
     ]
    },
    {
     "name": "stderr",
     "output_type": "stream",
     "text": [
      "\r",
      " 41%|████      | 525/1296 [50:26<1:22:52,  6.45s/it]"
     ]
    },
    {
     "name": "stdout",
     "output_type": "stream",
     "text": [
      "params:[-1.07890807e-01  2.12926321e+02]\n",
      "validate rmse : 0.004829007483957515 \n",
      " validate mae : 0.004076749301500946 \n",
      "\n",
      "    test rmse : 0.017184120842745083 \n",
      " test mae : 0.017062461043183885\n",
      "(('sal', 1), ('sal', 1), ('sal', 2), ('sal', 2))\n"
     ]
    },
    {
     "name": "stderr",
     "output_type": "stream",
     "text": [
      "\r",
      " 41%|████      | 526/1296 [50:33<1:25:44,  6.68s/it]"
     ]
    },
    {
     "name": "stdout",
     "output_type": "stream",
     "text": [
      "params:[-1.09480598e-01  2.16178953e+02]\n",
      "validate rmse : 0.0023211113031326946 \n",
      " validate mae : 0.0017930454703380236 \n",
      "\n",
      "    test rmse : 0.0073774303232261446 \n",
      " test mae : 0.0071155025183875\n",
      "(('sal', 1), ('sal', 1), ('sal', 2), ('box_cox', 1))\n"
     ]
    },
    {
     "name": "stderr",
     "output_type": "stream",
     "text": [
      "\r",
      " 41%|████      | 527/1296 [50:48<1:59:12,  9.30s/it]"
     ]
    },
    {
     "name": "stdout",
     "output_type": "stream",
     "text": [
      "params:[-1.06891876e-01  2.10063154e+02]\n",
      "validate rmse : 0.0027947362214836725 \n",
      " validate mae : 0.00252671037921209 \n",
      "\n",
      "    test rmse : 0.01199660157303257 \n",
      " test mae : 0.011852376371090764\n",
      "(('sal', 1), ('sal', 1), ('sal', 2), ('box_cox', 2))\n"
     ]
    },
    {
     "name": "stderr",
     "output_type": "stream",
     "text": [
      "\r",
      " 41%|████      | 528/1296 [50:57<1:56:30,  9.10s/it]"
     ]
    },
    {
     "name": "stdout",
     "output_type": "stream",
     "text": [
      "params:[ 2.22610000e-02 -4.08969872e+01]\n",
      "validate rmse : 0.07749317309708267 \n",
      " validate mae : 0.077193878066351 \n",
      "\n",
      "    test rmse : 0.08886231922951147 \n",
      " test mae : 0.08866550119409766\n",
      "(('sal', 1), ('sal', 1), ('box_cox', 1), ('sa', 1))\n"
     ]
    },
    {
     "name": "stderr",
     "output_type": "stream",
     "text": [
      "\r",
      " 41%|████      | 529/1296 [50:59<1:28:02,  6.89s/it]"
     ]
    },
    {
     "name": "stdout",
     "output_type": "stream",
     "text": [
      "params:[-9.65023396e-02  1.89848747e+02]\n",
      "validate rmse : 0.003586225674722581 \n",
      " validate mae : 0.0032880529373106038 \n",
      "\n",
      "    test rmse : 0.015767254978477422 \n",
      " test mae : 0.015624298945005773\n",
      "(('sal', 1), ('sal', 1), ('box_cox', 1), ('sa', 2))\n"
     ]
    },
    {
     "name": "stderr",
     "output_type": "stream",
     "text": [
      "\r",
      " 41%|████      | 530/1296 [51:01<1:09:55,  5.48s/it]"
     ]
    },
    {
     "name": "stdout",
     "output_type": "stream",
     "text": [
      "params:[-9.62861274e-02  1.89425015e+02]\n",
      "validate rmse : 0.0033404256418073566 \n",
      " validate mae : 0.003080643612918004 \n",
      "\n",
      "    test rmse : 0.01502804592129161 \n",
      " test mae : 0.014886926358431557\n",
      "(('sal', 1), ('sal', 1), ('box_cox', 1), ('sal', 1))\n"
     ]
    },
    {
     "name": "stderr",
     "output_type": "stream",
     "text": [
      "\r",
      " 41%|████      | 531/1296 [51:03<55:48,  4.38s/it]  "
     ]
    },
    {
     "name": "stdout",
     "output_type": "stream",
     "text": [
      "params:[-1.14963124e-01  2.26932398e+02]\n",
      "validate rmse : 0.009011834895426132 \n",
      " validate mae : 0.007965135523408837 \n",
      "\n",
      "    test rmse : 0.027440915322701667 \n",
      " test mae : 0.02723654815581821\n",
      "(('sal', 1), ('sal', 1), ('box_cox', 1), ('sal', 2))\n"
     ]
    },
    {
     "name": "stderr",
     "output_type": "stream",
     "text": [
      "\r",
      " 41%|████      | 532/1296 [51:29<2:21:54, 11.14s/it]"
     ]
    },
    {
     "name": "stdout",
     "output_type": "stream",
     "text": [
      "params:[-1.09366681e-01  2.15895723e+02]\n",
      "validate rmse : 0.003431637316230757 \n",
      " validate mae : 0.0029588814555316684 \n",
      "\n",
      "    test rmse : 0.012644184333518467 \n",
      " test mae : 0.0125069825044651\n",
      "(('sal', 1), ('sal', 1), ('box_cox', 1), ('box_cox', 1))\n",
      "params:[-1.05281801e-01  2.05704018e+02]\n"
     ]
    },
    {
     "name": "stderr",
     "output_type": "stream",
     "text": [
      "\r",
      " 41%|████      | 533/1296 [51:32<1:47:02,  8.42s/it]"
     ]
    },
    {
     "name": "stdout",
     "output_type": "stream",
     "text": [
      "validate rmse : 0.004084773179607581 \n",
      " validate mae : 0.0036587514699478857 \n",
      "\n",
      "    test rmse : 0.017118289475811788 \n",
      " test mae : 0.016971594526065246\n",
      "(('sal', 1), ('sal', 1), ('box_cox', 1), ('box_cox', 2))\n"
     ]
    },
    {
     "name": "stderr",
     "output_type": "stream",
     "text": [
      "\r",
      " 41%|████      | 534/1296 [51:35<1:27:29,  6.89s/it]"
     ]
    },
    {
     "name": "stdout",
     "output_type": "stream",
     "text": [
      "params:[-9.82052326e-02  1.90629396e+02]\n",
      "validate rmse : 0.008852484221479082 \n",
      " validate mae : 0.008025247337214766 \n",
      "\n",
      "    test rmse : 0.02538949643222084 \n",
      " test mae : 0.0252304094906472\n",
      "(('sal', 1), ('sal', 1), ('box_cox', 2), ('sa', 1))\n"
     ]
    },
    {
     "name": "stderr",
     "output_type": "stream",
     "text": [
      "\r",
      " 41%|████▏     | 535/1296 [51:37<1:07:34,  5.33s/it]"
     ]
    },
    {
     "name": "stdout",
     "output_type": "stream",
     "text": [
      "params:[-8.71608823e-02  1.70763462e+02]\n",
      "validate rmse : 0.004994196880983292 \n",
      " validate mae : 0.004199509789044593 \n",
      "\n",
      "    test rmse : 0.01779060161031264 \n",
      " test mae : 0.017663724697668155\n",
      "(('sal', 1), ('sal', 1), ('box_cox', 2), ('sa', 2))\n"
     ]
    },
    {
     "name": "stderr",
     "output_type": "stream",
     "text": [
      "\r",
      " 41%|████▏     | 536/1296 [51:38<54:21,  4.29s/it]  "
     ]
    },
    {
     "name": "stdout",
     "output_type": "stream",
     "text": [
      "params:[-8.73964745e-02  1.71224604e+02]\n",
      "validate rmse : 0.0054631352777308505 \n",
      " validate mae : 0.004591973651525012 \n",
      "\n",
      "    test rmse : 0.018884850923655418 \n",
      " test mae : 0.01875341818339307\n",
      "(('sal', 1), ('sal', 1), ('box_cox', 2), ('sal', 1))\n"
     ]
    },
    {
     "name": "stderr",
     "output_type": "stream",
     "text": [
      "\r",
      " 41%|████▏     | 537/1296 [51:41<46:30,  3.68s/it]"
     ]
    },
    {
     "name": "stdout",
     "output_type": "stream",
     "text": [
      "params:[-1.13542842e-01  2.24171469e+02]\n",
      "validate rmse : 0.00567386604411455 \n",
      " validate mae : 0.004759621828297831 \n",
      "\n",
      "    test rmse : 0.019241283699414177 \n",
      " test mae : 0.01910902363610567\n",
      "(('sal', 1), ('sal', 1), ('box_cox', 2), ('sal', 2))\n"
     ]
    },
    {
     "name": "stderr",
     "output_type": "stream",
     "text": [
      "\r",
      " 42%|████▏     | 538/1296 [51:54<1:21:50,  6.48s/it]"
     ]
    },
    {
     "name": "stdout",
     "output_type": "stream",
     "text": [
      "params:[-2.13658512e+04  4.19033955e+07]\n",
      "validate rmse : 0.011135053435286531 \n",
      " validate mae : 0.01015714725686122 \n",
      "\n",
      "    test rmse : 0.01852244787787537 \n",
      " test mae : 0.017978810015329815\n",
      "(('sal', 1), ('sal', 1), ('box_cox', 2), ('box_cox', 1))\n"
     ]
    },
    {
     "name": "stderr",
     "output_type": "stream",
     "text": [
      "\r",
      " 42%|████▏     | 539/1296 [51:56<1:04:26,  5.11s/it]"
     ]
    },
    {
     "name": "stdout",
     "output_type": "stream",
     "text": [
      "params:[-9.82465797e-02  1.90708366e+02]\n",
      "validate rmse : 0.008600570739621094 \n",
      " validate mae : 0.007795278235049655 \n",
      "\n",
      "    test rmse : 0.0247547855656682 \n",
      " test mae : 0.02460098975885311\n",
      "(('sal', 1), ('sal', 1), ('box_cox', 2), ('box_cox', 2))\n"
     ]
    },
    {
     "name": "stderr",
     "output_type": "stream",
     "text": [
      "\r",
      " 42%|████▏     | 540/1296 [51:57<50:30,  4.01s/it]  "
     ]
    },
    {
     "name": "stdout",
     "output_type": "stream",
     "text": [
      "params:[-8.53750258e-02  1.64270177e+02]\n",
      "validate rmse : 0.0124932342167651 \n",
      " validate mae : 0.011752301667845863 \n",
      "\n",
      "    test rmse : 0.03136027466773401 \n",
      " test mae : 0.03117462102179615\n",
      "(('sal', 1), ('sal', 2), ('sa', 1), ('sa', 1))\n"
     ]
    },
    {
     "name": "stderr",
     "output_type": "stream",
     "text": [
      "\r",
      " 42%|████▏     | 541/1296 [52:01<51:53,  4.12s/it]"
     ]
    },
    {
     "name": "stdout",
     "output_type": "stream",
     "text": [
      "params:[-1.08824848e-01  2.14061238e+02]\n",
      "validate rmse : 0.014926562624470202 \n",
      " validate mae : 0.014006085102699887 \n",
      "\n",
      "    test rmse : 0.038263226597033566 \n",
      " test mae : 0.037958907109313926\n",
      "(('sal', 1), ('sal', 2), ('sa', 1), ('sa', 2))\n"
     ]
    },
    {
     "name": "stderr",
     "output_type": "stream",
     "text": [
      "\r",
      " 42%|████▏     | 542/1296 [52:08<1:01:33,  4.90s/it]"
     ]
    },
    {
     "name": "stdout",
     "output_type": "stream",
     "text": [
      "params:[-1.18407359e-01  2.33509217e+02]\n",
      "validate rmse : 0.012628868340410625 \n",
      " validate mae : 0.011537705933439918 \n",
      "\n",
      "    test rmse : 0.034948884273261795 \n",
      " test mae : 0.03467210314861207\n",
      "(('sal', 1), ('sal', 2), ('sa', 1), ('sal', 1))\n"
     ]
    },
    {
     "name": "stderr",
     "output_type": "stream",
     "text": [
      "\r",
      " 42%|████▏     | 543/1296 [52:22<1:35:19,  7.60s/it]"
     ]
    },
    {
     "name": "stdout",
     "output_type": "stream",
     "text": [
      "params:[-1.10323811e-01  2.17835144e+02]\n",
      "validate rmse : 0.0028155670213398827 \n",
      " validate mae : 0.0023814643948859094 \n",
      "\n",
      "    test rmse : 0.014567789470364705 \n",
      " test mae : 0.014374285756957598\n",
      "(('sal', 1), ('sal', 2), ('sa', 1), ('sal', 2))\n",
      "params:[-8.25433939e+06  1.64105179e+10]\n"
     ]
    },
    {
     "name": "stderr",
     "output_type": "stream",
     "text": [
      "\r",
      " 42%|████▏     | 544/1296 [52:34<1:51:55,  8.93s/it]"
     ]
    },
    {
     "name": "stdout",
     "output_type": "stream",
     "text": [
      "validate rmse : 0.9523076381929066 \n",
      " validate mae : 0.9500548933544809 \n",
      "\n",
      "    test rmse : 1.1802562534584815 \n",
      " test mae : 1.178670111644206\n",
      "(('sal', 1), ('sal', 2), ('sa', 1), ('box_cox', 1))\n"
     ]
    },
    {
     "name": "stderr",
     "output_type": "stream",
     "text": [
      "\r",
      " 42%|████▏     | 545/1296 [52:42<1:48:46,  8.69s/it]"
     ]
    },
    {
     "name": "stdout",
     "output_type": "stream",
     "text": [
      "params:[-1.02634779e-01  2.01549224e+02]\n",
      "validate rmse : 0.0021608017740886148 \n",
      " validate mae : 0.0018403637217041882 \n",
      "\n",
      "    test rmse : 0.00919829533363053 \n",
      " test mae : 0.009002823518080223\n",
      "(('sal', 1), ('sal', 2), ('sa', 1), ('box_cox', 2))\n"
     ]
    },
    {
     "name": "stderr",
     "output_type": "stream",
     "text": [
      "\r",
      " 42%|████▏     | 546/1296 [52:57<2:10:53, 10.47s/it]"
     ]
    },
    {
     "name": "stdout",
     "output_type": "stream",
     "text": [
      "params:[-1.08429183e-01  2.11940268e+02]\n",
      "validate rmse : 0.0050098197057010015 \n",
      " validate mae : 0.004347991439663567 \n",
      "\n",
      "    test rmse : 0.019477881017777924 \n",
      " test mae : 0.01931664045243181\n",
      "(('sal', 1), ('sal', 2), ('sa', 2), ('sa', 1))\n"
     ]
    },
    {
     "name": "stderr",
     "output_type": "stream",
     "text": [
      "\r",
      " 42%|████▏     | 547/1296 [53:02<1:50:44,  8.87s/it]"
     ]
    },
    {
     "name": "stdout",
     "output_type": "stream",
     "text": [
      "params:[-1.06581649e-01  2.10346327e+02]\n",
      "validate rmse : 0.003788030637336905 \n",
      " validate mae : 0.00330530960026641 \n",
      "\n",
      "    test rmse : 0.01423499676871584 \n",
      " test mae : 0.014110933098082923\n",
      "(('sal', 1), ('sal', 2), ('sa', 2), ('sa', 2))\n"
     ]
    },
    {
     "name": "stderr",
     "output_type": "stream",
     "text": [
      "\r",
      " 42%|████▏     | 548/1296 [53:13<1:58:22,  9.50s/it]"
     ]
    },
    {
     "name": "stdout",
     "output_type": "stream",
     "text": [
      "params:[-1.10263662e-01  2.17775225e+02]\n",
      "validate rmse : 0.003008981048777617 \n",
      " validate mae : 0.0026805397656274954 \n",
      "\n",
      "    test rmse : 0.012240090747246312 \n",
      " test mae : 0.01209807941341\n",
      "(('sal', 1), ('sal', 2), ('sa', 2), ('sal', 1))\n"
     ]
    },
    {
     "name": "stderr",
     "output_type": "stream",
     "text": [
      "\r",
      " 42%|████▏     | 549/1296 [53:20<1:48:50,  8.74s/it]"
     ]
    },
    {
     "name": "stdout",
     "output_type": "stream",
     "text": [
      "params:[-1.06784606e-01  2.10683514e+02]\n",
      "validate rmse : 0.005187214220361082 \n",
      " validate mae : 0.00434541543060712 \n",
      "\n",
      "    test rmse : 0.018433734201878337 \n",
      " test mae : 0.018301241448256445\n",
      "(('sal', 1), ('sal', 2), ('sa', 2), ('sal', 2))\n",
      "params:[-7.8165355e+05  1.5356856e+09]\n"
     ]
    },
    {
     "name": "stderr",
     "output_type": "stream",
     "text": [
      "\r",
      " 42%|████▏     | 550/1296 [53:33<2:04:27, 10.01s/it]"
     ]
    },
    {
     "name": "stdout",
     "output_type": "stream",
     "text": [
      "validate rmse : 0.013349246653920357 \n",
      " validate mae : 0.012161239075710099 \n",
      "\n",
      "    test rmse : 0.01858711528997187 \n",
      " test mae : 0.01812592228333302\n",
      "(('sal', 1), ('sal', 2), ('sa', 2), ('box_cox', 1))\n"
     ]
    },
    {
     "name": "stderr",
     "output_type": "stream",
     "text": [
      "\r",
      " 43%|████▎     | 551/1296 [53:53<2:42:13, 13.07s/it]"
     ]
    },
    {
     "name": "stdout",
     "output_type": "stream",
     "text": [
      "params:[-1.06186313e-01  2.08823351e+02]\n",
      "validate rmse : 0.0029905066297807306 \n",
      " validate mae : 0.002439426713463771 \n",
      "\n",
      "    test rmse : 0.005348031196440789 \n",
      " test mae : 0.004963710450881648\n",
      "(('sal', 1), ('sal', 2), ('sa', 2), ('box_cox', 2))\n"
     ]
    },
    {
     "name": "stderr",
     "output_type": "stream",
     "text": [
      "\r",
      " 43%|████▎     | 552/1296 [54:01<2:21:27, 11.41s/it]"
     ]
    },
    {
     "name": "stdout",
     "output_type": "stream",
     "text": [
      "params:[-1.09088529e-01  2.13419591e+02]\n",
      "validate rmse : 0.002748850632055416 \n",
      " validate mae : 0.002090355704407794 \n",
      "\n",
      "    test rmse : 0.009919705354035847 \n",
      " test mae : 0.009733789314459876\n",
      "(('sal', 1), ('sal', 2), ('sal', 1), ('sa', 1))\n"
     ]
    },
    {
     "name": "stderr",
     "output_type": "stream",
     "text": [
      "\r",
      " 43%|████▎     | 553/1296 [54:08<2:06:35, 10.22s/it]"
     ]
    },
    {
     "name": "stdout",
     "output_type": "stream",
     "text": [
      "params:[-1.22782663e-01  2.42555594e+02]\n",
      "validate rmse : 0.012631250684095076 \n",
      " validate mae : 0.011477645303851638 \n",
      "\n",
      "    test rmse : 0.03434451939158331 \n",
      " test mae : 0.03410258254187475\n",
      "(('sal', 1), ('sal', 2), ('sal', 1), ('sa', 2))\n"
     ]
    },
    {
     "name": "stderr",
     "output_type": "stream",
     "text": [
      "\r",
      " 43%|████▎     | 554/1296 [54:13<1:47:21,  8.68s/it]"
     ]
    },
    {
     "name": "stdout",
     "output_type": "stream",
     "text": [
      "params:[-1.04712965e-01  2.06698597e+02]\n",
      "validate rmse : 0.002423089481668236 \n",
      " validate mae : 0.002125575718087802 \n",
      "\n",
      "    test rmse : 0.010247531190613354 \n",
      " test mae : 0.010071176861219028\n",
      "(('sal', 1), ('sal', 2), ('sal', 1), ('sal', 1))\n"
     ]
    },
    {
     "name": "stderr",
     "output_type": "stream",
     "text": [
      "\r",
      " 43%|████▎     | 555/1296 [54:23<1:52:33,  9.11s/it]"
     ]
    },
    {
     "name": "stdout",
     "output_type": "stream",
     "text": [
      "params:[-1.10347269e-01  2.17881664e+02]\n",
      "validate rmse : 0.0028078632350062483 \n",
      " validate mae : 0.0023762769276545865 \n",
      "\n",
      "    test rmse : 0.014517404576831408 \n",
      " test mae : 0.014325060948308417\n",
      "(('sal', 1), ('sal', 2), ('sal', 1), ('sal', 2))\n"
     ]
    },
    {
     "name": "stderr",
     "output_type": "stream",
     "text": [
      "\r",
      " 43%|████▎     | 556/1296 [54:36<2:07:07, 10.31s/it]"
     ]
    },
    {
     "name": "stdout",
     "output_type": "stream",
     "text": [
      "params:[-1.11011630e-01  2.19187324e+02]\n",
      "validate rmse : 0.003859046411088624 \n",
      " validate mae : 0.0033892981941956884 \n",
      "\n",
      "    test rmse : 0.015209811800718658 \n",
      " test mae : 0.015079374844842687\n",
      "(('sal', 1), ('sal', 2), ('sal', 1), ('box_cox', 1))\n"
     ]
    },
    {
     "name": "stderr",
     "output_type": "stream",
     "text": [
      "\r",
      " 43%|████▎     | 557/1296 [54:40<1:41:40,  8.25s/it]"
     ]
    },
    {
     "name": "stdout",
     "output_type": "stream",
     "text": [
      "params:[-1.01798846e-01  1.99783700e+02]\n",
      "validate rmse : 0.004116578328944591 \n",
      " validate mae : 0.0037112137446344722 \n",
      "\n",
      "    test rmse : 0.016726267650649416 \n",
      " test mae : 0.016606825130694437\n",
      "(('sal', 1), ('sal', 2), ('sal', 1), ('box_cox', 2))\n"
     ]
    },
    {
     "name": "stderr",
     "output_type": "stream",
     "text": [
      "\r",
      " 43%|████▎     | 558/1296 [54:46<1:35:14,  7.74s/it]"
     ]
    },
    {
     "name": "stdout",
     "output_type": "stream",
     "text": [
      "params:[-1.06372230e-01  2.07908068e+02]\n",
      "validate rmse : 0.003031555569861822 \n",
      " validate mae : 0.002792546557516163 \n",
      "\n",
      "    test rmse : 0.014429049682899526 \n",
      " test mae : 0.01427970307101221\n",
      "(('sal', 1), ('sal', 2), ('sal', 2), ('sa', 1))\n"
     ]
    },
    {
     "name": "stderr",
     "output_type": "stream",
     "text": [
      "\r",
      " 43%|████▎     | 559/1296 [55:05<2:14:16, 10.93s/it]"
     ]
    },
    {
     "name": "stdout",
     "output_type": "stream",
     "text": [
      "params:[-1.10913741e-01  2.18936279e+02]\n",
      "validate rmse : 0.0022626019808055973 \n",
      " validate mae : 0.0019391842819570673 \n",
      "\n",
      "    test rmse : 0.009417108738651734 \n",
      " test mae : 0.009210782519954604\n",
      "(('sal', 1), ('sal', 2), ('sal', 2), ('sa', 2))\n"
     ]
    },
    {
     "name": "stderr",
     "output_type": "stream",
     "text": [
      "\r",
      " 43%|████▎     | 560/1296 [55:13<2:05:40, 10.25s/it]"
     ]
    },
    {
     "name": "stdout",
     "output_type": "stream",
     "text": [
      "params:[-1.50094182e-01  2.95214694e+02]\n",
      "validate rmse : 849878684.8150119 \n",
      " validate mae : 342610310.65767854 \n",
      "\n",
      "    test rmse : 463798915748513.8 \n",
      " test mae : 223226692694121.0\n",
      "(('sal', 1), ('sal', 2), ('sal', 2), ('sal', 1))\n"
     ]
    },
    {
     "name": "stderr",
     "output_type": "stream",
     "text": [
      "\r",
      " 43%|████▎     | 561/1296 [55:26<2:14:11, 10.95s/it]"
     ]
    },
    {
     "name": "stdout",
     "output_type": "stream",
     "text": [
      "params:[-1.10252188e-01  2.17692042e+02]\n",
      "validate rmse : 0.003075987854885353 \n",
      " validate mae : 0.002767458393882891 \n",
      "\n",
      "    test rmse : 0.012980597529418117 \n",
      " test mae : 0.012843802248584942\n",
      "(('sal', 1), ('sal', 2), ('sal', 2), ('sal', 2))\n",
      "params:[-4.92130591e+01  9.64251672e+04]\n"
     ]
    },
    {
     "name": "stderr",
     "output_type": "stream",
     "text": [
      "\r",
      " 43%|████▎     | 562/1296 [55:37<2:13:15, 10.89s/it]"
     ]
    },
    {
     "name": "stdout",
     "output_type": "stream",
     "text": [
      "validate rmse : 0.009800510616027727 \n",
      " validate mae : 0.009168074913539036 \n",
      "\n",
      "    test rmse : 0.01995429013291166 \n",
      " test mae : 0.01985996789557481\n",
      "(('sal', 1), ('sal', 2), ('sal', 2), ('box_cox', 1))\n"
     ]
    },
    {
     "name": "stderr",
     "output_type": "stream",
     "text": [
      "\r",
      " 43%|████▎     | 563/1296 [55:48<2:14:51, 11.04s/it]"
     ]
    },
    {
     "name": "stdout",
     "output_type": "stream",
     "text": [
      "params:[ 5.45082591e-03 -6.97641288e+00]\n",
      "validate rmse : 0.25434030452382234 \n",
      " validate mae : 0.22796943886467466 \n",
      "\n",
      "    test rmse : 0.26476461194833817 \n",
      " test mae : 0.26374593969072496\n",
      "(('sal', 1), ('sal', 2), ('sal', 2), ('box_cox', 2))\n"
     ]
    },
    {
     "name": "stderr",
     "output_type": "stream",
     "text": [
      "\r",
      " 44%|████▎     | 564/1296 [56:04<2:33:25, 12.58s/it]"
     ]
    },
    {
     "name": "stdout",
     "output_type": "stream",
     "text": [
      "params:[-1.07845592e-01  2.10939548e+02]\n",
      "validate rmse : 0.0030851122074633096 \n",
      " validate mae : 0.0021595652667151404 \n",
      "\n",
      "    test rmse : 0.014948914689486706 \n",
      " test mae : 0.014671179461294426\n",
      "(('sal', 1), ('sal', 2), ('box_cox', 1), ('sa', 1))\n"
     ]
    },
    {
     "name": "stderr",
     "output_type": "stream",
     "text": [
      "\r",
      " 44%|████▎     | 565/1296 [56:17<2:34:19, 12.67s/it]"
     ]
    },
    {
     "name": "stdout",
     "output_type": "stream",
     "text": [
      "params:[-1.02128839e-01  2.01132400e+02]\n",
      "validate rmse : 0.0032783177151405143 \n",
      " validate mae : 0.003022012098471103 \n",
      "\n",
      "    test rmse : 0.015646168713717604 \n",
      " test mae : 0.015481393351276296\n",
      "(('sal', 1), ('sal', 2), ('box_cox', 1), ('sa', 2))\n"
     ]
    },
    {
     "name": "stderr",
     "output_type": "stream",
     "text": [
      "\r",
      " 44%|████▎     | 566/1296 [56:30<2:33:48, 12.64s/it]"
     ]
    },
    {
     "name": "stdout",
     "output_type": "stream",
     "text": [
      "params:[-9.85239045e-02  1.94098836e+02]\n",
      "validate rmse : 0.002763764527477296 \n",
      " validate mae : 0.0020853589711501063 \n",
      "\n",
      "    test rmse : 0.010248118383275356 \n",
      " test mae : 0.010062112618116422\n",
      "(('sal', 1), ('sal', 2), ('box_cox', 1), ('sal', 1))\n"
     ]
    },
    {
     "name": "stderr",
     "output_type": "stream",
     "text": [
      "\r",
      " 44%|████▍     | 567/1296 [56:43<2:36:24, 12.87s/it]"
     ]
    },
    {
     "name": "stdout",
     "output_type": "stream",
     "text": [
      "params:[-1.10131103e-01  2.17475512e+02]\n",
      "validate rmse : 0.002760631850844154 \n",
      " validate mae : 0.0020238543901362443 \n",
      "\n",
      "    test rmse : 0.013492235203121601 \n",
      " test mae : 0.01329552218149775\n",
      "(('sal', 1), ('sal', 2), ('box_cox', 1), ('sal', 2))\n"
     ]
    },
    {
     "name": "stderr",
     "output_type": "stream",
     "text": [
      "\r",
      " 44%|████▍     | 568/1296 [56:54<2:27:43, 12.18s/it]"
     ]
    },
    {
     "name": "stdout",
     "output_type": "stream",
     "text": [
      "params:[-1.10960600e-01  2.19114611e+02]\n",
      "validate rmse : 0.0026169143110042117 \n",
      " validate mae : 0.0021229900799760487 \n",
      "\n",
      "    test rmse : 0.01270852402358617 \n",
      " test mae : 0.012547209554659489\n",
      "(('sal', 1), ('sal', 2), ('box_cox', 1), ('box_cox', 1))\n"
     ]
    },
    {
     "name": "stderr",
     "output_type": "stream",
     "text": [
      "\r",
      " 44%|████▍     | 569/1296 [57:11<2:44:58, 13.61s/it]"
     ]
    },
    {
     "name": "stdout",
     "output_type": "stream",
     "text": [
      "params:[ 8.86482327e-03 -1.36143675e+01]\n",
      "validate rmse : 0.10957264500564053 \n",
      " validate mae : 0.10947254085478884 \n",
      "\n",
      "    test rmse : 0.11836866552827856 \n",
      " test mae : 0.11824664394145841\n",
      "(('sal', 1), ('sal', 2), ('box_cox', 1), ('box_cox', 2))\n"
     ]
    },
    {
     "name": "stderr",
     "output_type": "stream",
     "text": [
      "\r",
      " 44%|████▍     | 570/1296 [57:14<2:07:19, 10.52s/it]"
     ]
    },
    {
     "name": "stdout",
     "output_type": "stream",
     "text": [
      "params:[-9.32107899e-02  1.80205201e+02]\n",
      "validate rmse : 0.01262977074656826 \n",
      " validate mae : 0.011690010226869456 \n",
      "\n",
      "    test rmse : 0.03398002131623153 \n",
      " test mae : 0.033720858849648185\n",
      "(('sal', 1), ('sal', 2), ('box_cox', 2), ('sa', 1))\n"
     ]
    },
    {
     "name": "stderr",
     "output_type": "stream",
     "text": [
      "\r",
      " 44%|████▍     | 571/1296 [57:22<1:56:32,  9.64s/it]"
     ]
    },
    {
     "name": "stdout",
     "output_type": "stream",
     "text": [
      "params:[-9.36257254e-02  1.83749489e+02]\n",
      "validate rmse : 0.007511101962478228 \n",
      " validate mae : 0.006695916015841209 \n",
      "\n",
      "    test rmse : 0.022580260659271944 \n",
      " test mae : 0.022440068361866017\n",
      "(('sal', 1), ('sal', 2), ('box_cox', 2), ('sa', 2))\n"
     ]
    },
    {
     "name": "stderr",
     "output_type": "stream",
     "text": [
      "\r",
      " 44%|████▍     | 572/1296 [57:33<2:03:27, 10.23s/it]"
     ]
    },
    {
     "name": "stdout",
     "output_type": "stream",
     "text": [
      "params:[-9.29610159e-02  1.82549244e+02]\n",
      "validate rmse : 0.0038665952812603236 \n",
      " validate mae : 0.0034325746084940306 \n",
      "\n",
      "    test rmse : 0.01654178431399585 \n",
      " test mae : 0.016388292160616602\n",
      "(('sal', 1), ('sal', 2), ('box_cox', 2), ('sal', 1))\n"
     ]
    },
    {
     "name": "stderr",
     "output_type": "stream",
     "text": [
      "\r",
      " 44%|████▍     | 573/1296 [57:39<1:46:49,  8.86s/it]"
     ]
    },
    {
     "name": "stdout",
     "output_type": "stream",
     "text": [
      "params:[-1.14801752e-01  2.26623310e+02]\n",
      "validate rmse : 0.007537730157647462 \n",
      " validate mae : 0.006605612612211399 \n",
      "\n",
      "    test rmse : 0.023197584139191943 \n",
      " test mae : 0.02304713696052179\n",
      "(('sal', 1), ('sal', 2), ('box_cox', 2), ('sal', 2))\n",
      "params:[-7.67839655e+08  1.56457635e+12]\n"
     ]
    },
    {
     "name": "stderr",
     "output_type": "stream",
     "text": [
      "\r",
      " 44%|████▍     | 574/1296 [57:45<1:35:27,  7.93s/it]"
     ]
    },
    {
     "name": "stdout",
     "output_type": "stream",
     "text": [
      "validate rmse : 0.040628180616994386 \n",
      " validate mae : 0.04049696187670637 \n",
      "\n",
      "    test rmse : 0.016331170225581 \n",
      " test mae : 0.014500583704938393\n",
      "(('sal', 1), ('sal', 2), ('box_cox', 2), ('box_cox', 1))\n"
     ]
    },
    {
     "name": "stderr",
     "output_type": "stream",
     "text": [
      "\r",
      " 44%|████▍     | 575/1296 [57:47<1:15:23,  6.27s/it]"
     ]
    },
    {
     "name": "stdout",
     "output_type": "stream",
     "text": [
      "params:[ 1.38187381e-02 -2.45000887e+01]\n",
      "validate rmse : 0.06822529540418182 \n",
      " validate mae : 0.06770723414457516 \n",
      "\n",
      "    test rmse : 0.08281902672625174 \n",
      " test mae : 0.0826665649532238\n",
      "(('sal', 1), ('sal', 2), ('box_cox', 2), ('box_cox', 2))\n"
     ]
    },
    {
     "name": "stderr",
     "output_type": "stream",
     "text": [
      "\r",
      " 44%|████▍     | 576/1296 [57:51<1:05:17,  5.44s/it]"
     ]
    },
    {
     "name": "stdout",
     "output_type": "stream",
     "text": [
      "params:[ 4.77032862e-02 -9.24173622e+01]\n",
      "validate rmse : 0.07344159365684962 \n",
      " validate mae : 0.07304904413554357 \n",
      "\n",
      "    test rmse : 0.08606138716467569 \n",
      " test mae : 0.08583992649823942\n",
      "(('sal', 1), ('box_cox', 1), ('sa', 1), ('sa', 1))\n"
     ]
    },
    {
     "name": "stderr",
     "output_type": "stream",
     "text": [
      "\r",
      " 45%|████▍     | 577/1296 [57:52<50:26,  4.21s/it]  "
     ]
    },
    {
     "name": "stdout",
     "output_type": "stream",
     "text": [
      "params:[-9.61759683e-02  1.89386154e+02]\n",
      "validate rmse : 0.002673046119998386 \n",
      " validate mae : 0.0019272172034339968 \n",
      "\n",
      "    test rmse : 0.010750761875637522 \n",
      " test mae : 0.010580643951686028\n",
      "(('sal', 1), ('box_cox', 1), ('sa', 1), ('sa', 2))\n"
     ]
    },
    {
     "name": "stderr",
     "output_type": "stream",
     "text": [
      "\r",
      " 45%|████▍     | 578/1296 [57:54<41:51,  3.50s/it]"
     ]
    },
    {
     "name": "stdout",
     "output_type": "stream",
     "text": [
      "params:[-9.64534382e-02  1.89949682e+02]\n",
      "validate rmse : 0.0026752614078211323 \n",
      " validate mae : 0.0019349561499668083 \n",
      "\n",
      "    test rmse : 0.010678020554262988 \n",
      " test mae : 0.010507459989912454\n",
      "(('sal', 1), ('box_cox', 1), ('sa', 1), ('sal', 1))\n"
     ]
    },
    {
     "name": "stderr",
     "output_type": "stream",
     "text": [
      "\r",
      " 45%|████▍     | 579/1296 [57:55<33:30,  2.80s/it]"
     ]
    },
    {
     "name": "stdout",
     "output_type": "stream",
     "text": [
      "params:[-1.13333897e-01  2.23721260e+02]\n",
      "validate rmse : 0.007675151393323939 \n",
      " validate mae : 0.006661937016021825 \n",
      "\n",
      "    test rmse : 0.024233237997932706 \n",
      " test mae : 0.02406371730506949\n",
      "(('sal', 1), ('box_cox', 1), ('sa', 1), ('sal', 2))\n",
      "params:[-1. -1.]\n"
     ]
    },
    {
     "name": "stderr",
     "output_type": "stream",
     "text": [
      "\r",
      " 45%|████▍     | 580/1296 [58:02<48:45,  4.09s/it]"
     ]
    },
    {
     "name": "stdout",
     "output_type": "stream",
     "text": [
      "validate rmse : 0.06013408823601395 \n",
      " validate mae : 0.06004590265015702 \n",
      "\n",
      "    test rmse : 0.06444067146321672 \n",
      " test mae : 0.06428882747983537\n",
      "(('sal', 1), ('box_cox', 1), ('sa', 1), ('box_cox', 1))\n"
     ]
    },
    {
     "name": "stderr",
     "output_type": "stream",
     "text": [
      "\r",
      " 45%|████▍     | 581/1296 [58:03<39:08,  3.28s/it]"
     ]
    },
    {
     "name": "stdout",
     "output_type": "stream",
     "text": [
      "params:[-9.69500650e-02  1.89846069e+02]\n",
      "validate rmse : 0.002916695453489789 \n",
      " validate mae : 0.0026625105343386474 \n",
      "\n",
      "    test rmse : 0.014011826173579489 \n",
      " test mae : 0.013862018846317607\n",
      "(('sal', 1), ('box_cox', 1), ('sa', 1), ('box_cox', 2))\n"
     ]
    },
    {
     "name": "stderr",
     "output_type": "stream",
     "text": [
      "\r",
      " 45%|████▍     | 582/1296 [58:05<33:16,  2.80s/it]"
     ]
    },
    {
     "name": "stdout",
     "output_type": "stream",
     "text": [
      "params:[-9.41174169e-02  1.83281467e+02]\n",
      "validate rmse : 0.0026538631681878406 \n",
      " validate mae : 0.00233248867026701 \n",
      "\n",
      "    test rmse : 0.012774893849949665 \n",
      " test mae : 0.012625292959920388\n",
      "(('sal', 1), ('box_cox', 1), ('sa', 2), ('sa', 1))\n"
     ]
    },
    {
     "name": "stderr",
     "output_type": "stream",
     "text": [
      "\r",
      " 45%|████▍     | 583/1296 [58:06<27:42,  2.33s/it]"
     ]
    },
    {
     "name": "stdout",
     "output_type": "stream",
     "text": [
      "params:[-9.59310751e-02  1.88868368e+02]\n",
      "validate rmse : 0.0026298639794545674 \n",
      " validate mae : 0.0018840244135994444 \n",
      "\n",
      "    test rmse : 0.01141975242080345 \n",
      " test mae : 0.01125461758424238\n",
      "(('sal', 1), ('box_cox', 1), ('sa', 2), ('sa', 2))\n"
     ]
    },
    {
     "name": "stderr",
     "output_type": "stream",
     "text": [
      "\r",
      " 45%|████▌     | 584/1296 [58:10<31:33,  2.66s/it]"
     ]
    },
    {
     "name": "stdout",
     "output_type": "stream",
     "text": [
      "params:[-9.59807397e-02  1.88968142e+02]\n",
      "validate rmse : 0.0026273222615149573 \n",
      " validate mae : 0.0018859530050042705 \n",
      "\n",
      "    test rmse : 0.011428172270285874 \n",
      " test mae : 0.011263263468218451\n",
      "(('sal', 1), ('box_cox', 1), ('sa', 2), ('sal', 1))\n"
     ]
    },
    {
     "name": "stderr",
     "output_type": "stream",
     "text": [
      "\r",
      " 45%|████▌     | 585/1296 [58:12<30:50,  2.60s/it]"
     ]
    },
    {
     "name": "stdout",
     "output_type": "stream",
     "text": [
      "params:[-1.13860499e-01  2.24763553e+02]\n",
      "validate rmse : 0.008223129623547447 \n",
      " validate mae : 0.007175506409863427 \n",
      "\n",
      "    test rmse : 0.025957666064134795 \n",
      " test mae : 0.02575852468454481\n",
      "(('sal', 1), ('box_cox', 1), ('sa', 2), ('sal', 2))\n"
     ]
    },
    {
     "name": "stderr",
     "output_type": "stream",
     "text": [
      "\r",
      " 45%|████▌     | 586/1296 [58:25<1:06:38,  5.63s/it]"
     ]
    },
    {
     "name": "stdout",
     "output_type": "stream",
     "text": [
      "params:[-1.13022832e-01  2.23234879e+02]\n",
      "validate rmse : 0.0027054576214519304 \n",
      " validate mae : 0.0024388938614185057 \n",
      "\n",
      "    test rmse : 0.013049610546905364 \n",
      " test mae : 0.012903829192067654\n",
      "(('sal', 1), ('box_cox', 1), ('sa', 2), ('box_cox', 1))\n"
     ]
    },
    {
     "name": "stderr",
     "output_type": "stream",
     "text": [
      "\r",
      " 45%|████▌     | 587/1296 [58:27<55:48,  4.72s/it]  "
     ]
    },
    {
     "name": "stdout",
     "output_type": "stream",
     "text": [
      "params:[-9.64290410e-02  1.88888277e+02]\n",
      "validate rmse : 0.0026303843267517397 \n",
      " validate mae : 0.0018551390672932916 \n",
      "\n",
      "    test rmse : 0.011040586967805698 \n",
      " test mae : 0.010873770988572003\n",
      "(('sal', 1), ('box_cox', 1), ('sa', 2), ('box_cox', 2))\n"
     ]
    },
    {
     "name": "stderr",
     "output_type": "stream",
     "text": [
      "\r",
      " 45%|████▌     | 588/1296 [58:30<49:21,  4.18s/it]"
     ]
    },
    {
     "name": "stdout",
     "output_type": "stream",
     "text": [
      "params:[-9.41037067e-02  1.83258794e+02]\n",
      "validate rmse : 0.002644899289862697 \n",
      " validate mae : 0.002323892851115311 \n",
      "\n",
      "    test rmse : 0.012722033779301952 \n",
      " test mae : 0.012572658454639769\n",
      "(('sal', 1), ('box_cox', 1), ('sal', 1), ('sa', 1))\n"
     ]
    },
    {
     "name": "stderr",
     "output_type": "stream",
     "text": [
      "\r",
      " 45%|████▌     | 589/1296 [58:32<41:55,  3.56s/it]"
     ]
    },
    {
     "name": "stdout",
     "output_type": "stream",
     "text": [
      "params:[-1.14745833e-01  2.26522901e+02]\n",
      "validate rmse : 0.008174259781463165 \n",
      " validate mae : 0.007132478020524857 \n",
      "\n",
      "    test rmse : 0.02578795424589189 \n",
      " test mae : 0.025591793332569297\n",
      "(('sal', 1), ('box_cox', 1), ('sal', 1), ('sa', 2))\n"
     ]
    },
    {
     "name": "stderr",
     "output_type": "stream",
     "text": [
      "\r",
      " 46%|████▌     | 590/1296 [58:35<39:10,  3.33s/it]"
     ]
    },
    {
     "name": "stdout",
     "output_type": "stream",
     "text": [
      "params:[-1.14696913e-01  2.26426274e+02]\n",
      "validate rmse : 0.008129162186913971 \n",
      " validate mae : 0.007089736004450191 \n",
      "\n",
      "    test rmse : 0.02565675556846237 \n",
      " test mae : 0.02546270539788546\n",
      "(('sal', 1), ('box_cox', 1), ('sal', 1), ('sal', 1))\n"
     ]
    },
    {
     "name": "stderr",
     "output_type": "stream",
     "text": [
      "\r",
      " 46%|████▌     | 591/1296 [58:40<45:34,  3.88s/it]"
     ]
    },
    {
     "name": "stdout",
     "output_type": "stream",
     "text": [
      "params:[-1.08202804e-01  2.13541455e+02]\n",
      "validate rmse : 0.004625683335988261 \n",
      " validate mae : 0.003960887546560444 \n",
      "\n",
      "    test rmse : 0.017309379232230915 \n",
      " test mae : 0.017175511023052082\n",
      "(('sal', 1), ('box_cox', 1), ('sal', 1), ('sal', 2))\n",
      "params:[-1.09402066e-01  2.16011149e+02]\n"
     ]
    },
    {
     "name": "stderr",
     "output_type": "stream",
     "text": [
      "\r",
      " 46%|████▌     | 592/1296 [58:49<1:00:55,  5.19s/it]"
     ]
    },
    {
     "name": "stdout",
     "output_type": "stream",
     "text": [
      "validate rmse : 0.003103997517594522 \n",
      " validate mae : 0.0028061530432444137 \n",
      "\n",
      "    test rmse : 0.013357142750658569 \n",
      " test mae : 0.013218753433928988\n",
      "(('sal', 1), ('box_cox', 1), ('sal', 1), ('box_cox', 1))\n"
     ]
    },
    {
     "name": "stderr",
     "output_type": "stream",
     "text": [
      "\r",
      " 46%|████▌     | 593/1296 [58:52<52:57,  4.52s/it]  "
     ]
    },
    {
     "name": "stdout",
     "output_type": "stream",
     "text": [
      "params:[-1.12380026e-01  2.20955267e+02]\n",
      "validate rmse : 0.004005251996192921 \n",
      " validate mae : 0.0035359220945032116 \n",
      "\n",
      "    test rmse : 0.016055333740872823 \n",
      " test mae : 0.015919938132351236\n",
      "(('sal', 1), ('box_cox', 1), ('sal', 1), ('box_cox', 2))\n"
     ]
    },
    {
     "name": "stderr",
     "output_type": "stream",
     "text": [
      "\r",
      " 46%|████▌     | 594/1296 [58:56<53:24,  4.56s/it]"
     ]
    },
    {
     "name": "stdout",
     "output_type": "stream",
     "text": [
      "params:[-1.13208347e-01  2.21508181e+02]\n",
      "validate rmse : 0.0049716195747142285 \n",
      " validate mae : 0.004329254614037099 \n",
      "\n",
      "    test rmse : 0.019868157872581286 \n",
      " test mae : 0.01969060120722224\n",
      "(('sal', 1), ('box_cox', 1), ('sal', 2), ('sa', 1))\n"
     ]
    },
    {
     "name": "stderr",
     "output_type": "stream",
     "text": [
      "\r",
      " 46%|████▌     | 595/1296 [59:20<1:59:26, 10.22s/it]"
     ]
    },
    {
     "name": "stdout",
     "output_type": "stream",
     "text": [
      "params:[-1.00312009e-01  1.97713833e+02]\n",
      "validate rmse : 0.0025508170659255757 \n",
      " validate mae : 0.0018384558260203996 \n",
      "\n",
      "    test rmse : 0.010693081508509259 \n",
      " test mae : 0.010526262613192477\n",
      "(('sal', 1), ('box_cox', 1), ('sal', 2), ('sa', 2))\n"
     ]
    },
    {
     "name": "stderr",
     "output_type": "stream",
     "text": [
      "\r",
      " 46%|████▌     | 596/1296 [59:27<1:48:09,  9.27s/it]"
     ]
    },
    {
     "name": "stdout",
     "output_type": "stream",
     "text": [
      "params:[-9.60316729e-02  1.89083554e+02]\n",
      "validate rmse : 0.0026476005020320366 \n",
      " validate mae : 0.0018720255288686546 \n",
      "\n",
      "    test rmse : 0.011064707962725387 \n",
      " test mae : 0.01089714195259754\n",
      "(('sal', 1), ('box_cox', 1), ('sal', 2), ('sal', 1))\n"
     ]
    },
    {
     "name": "stderr",
     "output_type": "stream",
     "text": [
      "\r",
      " 46%|████▌     | 597/1296 [59:38<1:55:39,  9.93s/it]"
     ]
    },
    {
     "name": "stdout",
     "output_type": "stream",
     "text": [
      "params:[-1.11767017e-01  2.20719181e+02]\n",
      "validate rmse : 0.002308229338715089 \n",
      " validate mae : 0.0018761230968751819 \n",
      "\n",
      "    test rmse : 0.010322435369220423 \n",
      " test mae : 0.010155504661474123\n",
      "(('sal', 1), ('box_cox', 1), ('sal', 2), ('sal', 2))\n"
     ]
    },
    {
     "name": "stderr",
     "output_type": "stream",
     "text": [
      "\r",
      " 46%|████▌     | 598/1296 [59:45<1:43:05,  8.86s/it]"
     ]
    },
    {
     "name": "stdout",
     "output_type": "stream",
     "text": [
      "params:[-1.21658013e-01  2.40188880e+02]\n",
      "validate rmse : 0.015630279570697205 \n",
      " validate mae : 0.014137304297524642 \n",
      "\n",
      "    test rmse : 0.04633508953215696 \n",
      " test mae : 0.045743274542470104\n",
      "(('sal', 1), ('box_cox', 1), ('sal', 2), ('box_cox', 1))\n"
     ]
    },
    {
     "name": "stderr",
     "output_type": "stream",
     "text": [
      "\r",
      " 46%|████▌     | 599/1296 [1:00:05<2:22:58, 12.31s/it]"
     ]
    },
    {
     "name": "stdout",
     "output_type": "stream",
     "text": [
      "params:[-1.11537252e-01  2.19210786e+02]\n",
      "validate rmse : 0.002528249055736659 \n",
      " validate mae : 0.002130692190746341 \n",
      "\n",
      "    test rmse : 0.012141055910800471 \n",
      " test mae : 0.011987675356549774\n",
      "(('sal', 1), ('box_cox', 1), ('sal', 2), ('box_cox', 2))\n"
     ]
    },
    {
     "name": "stderr",
     "output_type": "stream",
     "text": [
      "\r",
      " 46%|████▋     | 600/1296 [1:00:08<1:50:20,  9.51s/it]"
     ]
    },
    {
     "name": "stdout",
     "output_type": "stream",
     "text": [
      "params:[-8.94969957e-03  2.31824353e+01]\n",
      "validate rmse : 0.19917666921294608 \n",
      " validate mae : 0.17602383684353354 \n",
      "\n",
      "    test rmse : 2.269462791797435 \n",
      " test mae : 1.7962101324706838\n",
      "(('sal', 1), ('box_cox', 1), ('box_cox', 1), ('sa', 1))\n"
     ]
    },
    {
     "name": "stderr",
     "output_type": "stream",
     "text": [
      "\r",
      " 46%|████▋     | 601/1296 [1:00:11<1:26:33,  7.47s/it]"
     ]
    },
    {
     "name": "stdout",
     "output_type": "stream",
     "text": [
      "params:[-9.13571528e-02  1.79178262e+02]\n",
      "validate rmse : 0.007262839665510253 \n",
      " validate mae : 0.006427738532195082 \n",
      "\n",
      "    test rmse : 0.022166160716577153 \n",
      " test mae : 0.022027573268679285\n",
      "(('sal', 1), ('box_cox', 1), ('box_cox', 1), ('sa', 2))\n"
     ]
    },
    {
     "name": "stderr",
     "output_type": "stream",
     "text": [
      "\r",
      " 46%|████▋     | 602/1296 [1:00:14<1:10:43,  6.11s/it]"
     ]
    },
    {
     "name": "stdout",
     "output_type": "stream",
     "text": [
      "params:[-9.11715821e-02  1.78820736e+02]\n",
      "validate rmse : 0.006849226210816709 \n",
      " validate mae : 0.005992673443095529 \n",
      "\n",
      "    test rmse : 0.021444066382125468 \n",
      " test mae : 0.02130732602721683\n",
      "(('sal', 1), ('box_cox', 1), ('box_cox', 1), ('sal', 1))\n"
     ]
    },
    {
     "name": "stderr",
     "output_type": "stream",
     "text": [
      "\r",
      " 47%|████▋     | 603/1296 [1:00:16<57:25,  4.97s/it]  "
     ]
    },
    {
     "name": "stdout",
     "output_type": "stream",
     "text": [
      "params:[-1.15382017e-01  2.27777041e+02]\n",
      "validate rmse : 0.00802601448042818 \n",
      " validate mae : 0.007073187032532985 \n",
      "\n",
      "    test rmse : 0.024375675975794778 \n",
      " test mae : 0.024215763470716994\n",
      "(('sal', 1), ('box_cox', 1), ('box_cox', 1), ('sal', 2))\n"
     ]
    },
    {
     "name": "stderr",
     "output_type": "stream",
     "text": [
      "\r",
      " 47%|████▋     | 604/1296 [1:00:22<59:39,  5.17s/it]"
     ]
    },
    {
     "name": "stdout",
     "output_type": "stream",
     "text": [
      "params:[-1. -1.]\n",
      "validate rmse : 0.025675838799593554 \n",
      " validate mae : 0.021429856531613844 \n",
      "\n",
      "    test rmse : 0.08197108910955213 \n",
      " test mae : 0.0791232476476843\n",
      "(('sal', 1), ('box_cox', 1), ('box_cox', 1), ('box_cox', 1))\n"
     ]
    },
    {
     "name": "stderr",
     "output_type": "stream",
     "text": [
      "\r",
      " 47%|████▋     | 605/1296 [1:00:24<48:37,  4.22s/it]"
     ]
    },
    {
     "name": "stdout",
     "output_type": "stream",
     "text": [
      "params:[-1.01505781e-01  1.97217729e+02]\n",
      "validate rmse : 0.010015100410012912 \n",
      " validate mae : 0.009196621948994578 \n",
      "\n",
      "    test rmse : 0.02767579776765318 \n",
      " test mae : 0.027498601035494705\n",
      "(('sal', 1), ('box_cox', 1), ('box_cox', 1), ('box_cox', 2))\n",
      "params:[-8.79716762e-02  1.69464476e+02]\n"
     ]
    },
    {
     "name": "stderr",
     "output_type": "stream",
     "text": [
      "\r",
      " 47%|████▋     | 606/1296 [1:00:26<42:26,  3.69s/it]"
     ]
    },
    {
     "name": "stdout",
     "output_type": "stream",
     "text": [
      "validate rmse : 0.014095341979211602 \n",
      " validate mae : 0.013329428635838803 \n",
      "\n",
      "    test rmse : 0.03443227617196536 \n",
      " test mae : 0.034221533826109006\n",
      "(('sal', 1), ('box_cox', 1), ('box_cox', 2), ('sa', 1))\n",
      "params:[-8.11018106e-02  1.58410219e+02]\n"
     ]
    },
    {
     "name": "stderr",
     "output_type": "stream",
     "text": [
      "\r",
      " 47%|████▋     | 607/1296 [1:00:30<44:26,  3.87s/it]"
     ]
    },
    {
     "name": "stdout",
     "output_type": "stream",
     "text": [
      "validate rmse : 0.00724478179482172 \n",
      " validate mae : 0.00642524703596027 \n",
      "\n",
      "    test rmse : 0.02204490421284075 \n",
      " test mae : 0.02190755263080196\n",
      "(('sal', 1), ('box_cox', 1), ('box_cox', 2), ('sa', 2))\n"
     ]
    },
    {
     "name": "stderr",
     "output_type": "stream",
     "text": [
      "\r",
      " 47%|████▋     | 608/1296 [1:00:32<38:07,  3.32s/it]"
     ]
    },
    {
     "name": "stdout",
     "output_type": "stream",
     "text": [
      "params:[-8.10332556e-02  1.58269747e+02]\n",
      "validate rmse : 0.007310941495537384 \n",
      " validate mae : 0.00649235586717747 \n",
      "\n",
      "    test rmse : 0.02217972918954437 \n",
      " test mae : 0.02204163708797111\n",
      "(('sal', 1), ('box_cox', 1), ('box_cox', 2), ('sal', 1))\n"
     ]
    },
    {
     "name": "stderr",
     "output_type": "stream",
     "text": [
      "\r",
      " 47%|████▋     | 609/1296 [1:00:34<33:44,  2.95s/it]"
     ]
    },
    {
     "name": "stdout",
     "output_type": "stream",
     "text": [
      "params:[-1.12053691e-01  2.21273032e+02]\n",
      "validate rmse : 0.003980981731986357 \n",
      " validate mae : 0.0034805755568992507 \n",
      "\n",
      "    test rmse : 0.015404662775659663 \n",
      " test mae : 0.01527782203237387\n",
      "(('sal', 1), ('box_cox', 1), ('box_cox', 2), ('sal', 2))\n"
     ]
    },
    {
     "name": "stderr",
     "output_type": "stream",
     "text": [
      "\r",
      " 47%|████▋     | 610/1296 [1:00:59<1:47:41,  9.42s/it]"
     ]
    },
    {
     "name": "stdout",
     "output_type": "stream",
     "text": [
      "params:[-1.65765248e-01  3.26800357e+02]\n",
      "validate rmse : 0.02413909631590694 \n",
      " validate mae : 0.02223415748598791 \n",
      "\n",
      "    test rmse : 0.06554297615837319 \n",
      " test mae : 0.06469033840979015\n",
      "(('sal', 1), ('box_cox', 1), ('box_cox', 2), ('box_cox', 1))\n"
     ]
    },
    {
     "name": "stderr",
     "output_type": "stream",
     "text": [
      "\r",
      " 47%|████▋     | 611/1296 [1:01:01<1:23:10,  7.28s/it]"
     ]
    },
    {
     "name": "stdout",
     "output_type": "stream",
     "text": [
      "params:[-8.69101936e-02  1.67359048e+02]\n",
      "validate rmse : 0.01378444530065504 \n",
      " validate mae : 0.013026151045141614 \n",
      "\n",
      "    test rmse : 0.03384036751676697 \n",
      " test mae : 0.033633878364515084\n",
      "(('sal', 1), ('box_cox', 1), ('box_cox', 2), ('box_cox', 2))\n"
     ]
    },
    {
     "name": "stderr",
     "output_type": "stream",
     "text": [
      "\r",
      " 47%|████▋     | 612/1296 [1:01:05<1:09:48,  6.12s/it]"
     ]
    },
    {
     "name": "stdout",
     "output_type": "stream",
     "text": [
      "params:[-7.15644142e-02  1.36178085e+02]\n",
      "validate rmse : 0.01685746917157011 \n",
      " validate mae : 0.016103537315947745 \n",
      "\n",
      "    test rmse : 0.03891469141638532 \n",
      " test mae : 0.03867916079899892\n",
      "(('sal', 1), ('box_cox', 2), ('sa', 1), ('sa', 1))\n"
     ]
    },
    {
     "name": "stderr",
     "output_type": "stream",
     "text": [
      "\r",
      " 47%|████▋     | 613/1296 [1:01:07<57:05,  5.02s/it]  "
     ]
    },
    {
     "name": "stdout",
     "output_type": "stream",
     "text": [
      "params:[-8.90128774e-02  1.74527320e+02]\n",
      "validate rmse : 0.004803397588723495 \n",
      " validate mae : 0.004053168355392782 \n",
      "\n",
      "    test rmse : 0.01765479671187915 \n",
      " test mae : 0.01752343435083299\n",
      "(('sal', 1), ('box_cox', 2), ('sa', 1), ('sa', 2))\n"
     ]
    },
    {
     "name": "stderr",
     "output_type": "stream",
     "text": [
      "\r",
      " 47%|████▋     | 614/1296 [1:01:09<47:28,  4.18s/it]"
     ]
    },
    {
     "name": "stdout",
     "output_type": "stream",
     "text": [
      "params:[-8.90643220e-02  1.74613248e+02]\n",
      "validate rmse : 0.005149704967904696 \n",
      " validate mae : 0.004328594438469736 \n",
      "\n",
      "    test rmse : 0.018322422821633134 \n",
      " test mae : 0.018190430522852862\n",
      "(('sal', 1), ('box_cox', 2), ('sa', 1), ('sal', 1))\n",
      "params:[-1.13523449e-01  2.24126187e+02]\n"
     ]
    },
    {
     "name": "stderr",
     "output_type": "stream",
     "text": [
      "\r",
      " 47%|████▋     | 615/1296 [1:01:13<45:07,  3.98s/it]"
     ]
    },
    {
     "name": "stdout",
     "output_type": "stream",
     "text": [
      "validate rmse : 0.005965841782706529 \n",
      " validate mae : 0.005013127032151157 \n",
      "\n",
      "    test rmse : 0.019949320380289716 \n",
      " test mae : 0.019811547296558603\n",
      "(('sal', 1), ('box_cox', 2), ('sa', 1), ('sal', 2))\n"
     ]
    },
    {
     "name": "stderr",
     "output_type": "stream",
     "text": [
      "\r",
      " 48%|████▊     | 616/1296 [1:01:24<1:10:33,  6.23s/it]"
     ]
    },
    {
     "name": "stdout",
     "output_type": "stream",
     "text": [
      "params:[-1.10683991e-01  2.18545458e+02]\n",
      "validate rmse : 0.002398160809984235 \n",
      " validate mae : 0.0019256429953123893 \n",
      "\n",
      "    test rmse : 0.011055366334852655 \n",
      " test mae : 0.010898707331644783\n",
      "(('sal', 1), ('box_cox', 2), ('sa', 1), ('box_cox', 1))\n"
     ]
    },
    {
     "name": "stderr",
     "output_type": "stream",
     "text": [
      "\r",
      " 48%|████▊     | 617/1296 [1:01:29<1:03:57,  5.65s/it]"
     ]
    },
    {
     "name": "stdout",
     "output_type": "stream",
     "text": [
      "params:[-8.9541161e-02  1.7457943e+02]\n",
      "validate rmse : 0.00516112640959492 \n",
      " validate mae : 0.004341840349702387 \n",
      "\n",
      "    test rmse : 0.018207191917498432 \n",
      " test mae : 0.0180778121560921\n",
      "(('sal', 1), ('box_cox', 2), ('sa', 1), ('box_cox', 2))\n"
     ]
    },
    {
     "name": "stderr",
     "output_type": "stream",
     "text": [
      "\r",
      " 48%|████▊     | 618/1296 [1:01:31<51:05,  4.52s/it]  "
     ]
    },
    {
     "name": "stdout",
     "output_type": "stream",
     "text": [
      "params:[-8.71939987e-02  1.68907082e+02]\n",
      "validate rmse : 0.006826837475608047 \n",
      " validate mae : 0.006030488547712792 \n",
      "\n",
      "    test rmse : 0.020972246118745912 \n",
      " test mae : 0.02084289168218834\n",
      "(('sal', 1), ('box_cox', 2), ('sa', 2), ('sa', 1))\n"
     ]
    },
    {
     "name": "stderr",
     "output_type": "stream",
     "text": [
      "\r",
      " 48%|████▊     | 619/1296 [1:01:33<42:50,  3.80s/it]"
     ]
    },
    {
     "name": "stdout",
     "output_type": "stream",
     "text": [
      "params:[-8.90004162e-02  1.74502204e+02]\n",
      "validate rmse : 0.004799813083070381 \n",
      " validate mae : 0.004050843696035418 \n",
      "\n",
      "    test rmse : 0.01764770163800615 \n",
      " test mae : 0.01751634325549618\n",
      "(('sal', 1), ('box_cox', 2), ('sa', 2), ('sa', 2))\n"
     ]
    },
    {
     "name": "stderr",
     "output_type": "stream",
     "text": [
      "\r",
      " 48%|████▊     | 620/1296 [1:01:35<39:21,  3.49s/it]"
     ]
    },
    {
     "name": "stdout",
     "output_type": "stream",
     "text": [
      "params:[-9.03757267e-02  1.77258609e+02]\n",
      "validate rmse : 0.005329941612703958 \n",
      " validate mae : 0.004486733743815728 \n",
      "\n",
      "    test rmse : 0.018416409825824584 \n",
      " test mae : 0.018288878675782497\n",
      "(('sal', 1), ('box_cox', 2), ('sa', 2), ('sal', 1))\n"
     ]
    },
    {
     "name": "stderr",
     "output_type": "stream",
     "text": [
      "\r",
      " 48%|████▊     | 621/1296 [1:01:38<35:11,  3.13s/it]"
     ]
    },
    {
     "name": "stdout",
     "output_type": "stream",
     "text": [
      "params:[-1.13519932e-01  2.24117977e+02]\n",
      "validate rmse : 0.005987517085813541 \n",
      " validate mae : 0.00503449953198152 \n",
      "\n",
      "    test rmse : 0.020013772968145514 \n",
      " test mae : 0.019875318961881223\n",
      "(('sal', 1), ('box_cox', 2), ('sa', 2), ('sal', 2))\n"
     ]
    },
    {
     "name": "stderr",
     "output_type": "stream",
     "text": [
      "\r",
      " 48%|████▊     | 622/1296 [1:01:42<38:19,  3.41s/it]"
     ]
    },
    {
     "name": "stdout",
     "output_type": "stream",
     "text": [
      "params:[-1.10575021e-01  2.18334746e+02]\n",
      "validate rmse : 0.002479273463495461 \n",
      " validate mae : 0.0019805588094900317 \n",
      "\n",
      "    test rmse : 0.011703702373727325 \n",
      " test mae : 0.011547785219743525\n",
      "(('sal', 1), ('box_cox', 2), ('sa', 2), ('box_cox', 1))\n"
     ]
    },
    {
     "name": "stderr",
     "output_type": "stream",
     "text": [
      "\r",
      " 48%|████▊     | 623/1296 [1:01:44<32:43,  2.92s/it]"
     ]
    },
    {
     "name": "stdout",
     "output_type": "stream",
     "text": [
      "params:[-8.91008664e-02  1.73722170e+02]\n",
      "validate rmse : 0.004003329691882559 \n",
      " validate mae : 0.0035386842078911867 \n",
      "\n",
      "    test rmse : 0.01617710190955706 \n",
      " test mae : 0.01604328635162778\n",
      "(('sal', 1), ('box_cox', 2), ('sa', 2), ('box_cox', 2))\n"
     ]
    },
    {
     "name": "stderr",
     "output_type": "stream",
     "text": [
      "\r",
      " 48%|████▊     | 624/1296 [1:01:46<30:17,  2.70s/it]"
     ]
    },
    {
     "name": "stdout",
     "output_type": "stream",
     "text": [
      "params:[-8.72007708e-02  1.68952837e+02]\n",
      "validate rmse : 0.005804548484258342 \n",
      " validate mae : 0.004936179962337861 \n",
      "\n",
      "    test rmse : 0.01921612749509691 \n",
      " test mae : 0.019088677515850087\n",
      "(('sal', 1), ('box_cox', 2), ('sal', 1), ('sa', 1))\n"
     ]
    },
    {
     "name": "stderr",
     "output_type": "stream",
     "text": [
      "\r",
      " 48%|████▊     | 625/1296 [1:01:48<27:40,  2.47s/it]"
     ]
    },
    {
     "name": "stdout",
     "output_type": "stream",
     "text": [
      "params:[-1.14245970e-01  2.25550684e+02]\n",
      "validate rmse : 0.0058811595818162934 \n",
      " validate mae : 0.004929781372096344 \n",
      "\n",
      "    test rmse : 0.01976762614832676 \n",
      " test mae : 0.019630514979229196\n",
      "(('sal', 1), ('box_cox', 2), ('sal', 1), ('sa', 2))\n"
     ]
    },
    {
     "name": "stderr",
     "output_type": "stream",
     "text": [
      "\r",
      " 48%|████▊     | 626/1296 [1:01:51<29:37,  2.65s/it]"
     ]
    },
    {
     "name": "stdout",
     "output_type": "stream",
     "text": [
      "params:[-1.14414305e-01  2.25878288e+02]\n",
      "validate rmse : 0.005973087794405062 \n",
      " validate mae : 0.005030006862057239 \n",
      "\n",
      "    test rmse : 0.019843557999206438 \n",
      " test mae : 0.01970862169682046\n",
      "(('sal', 1), ('box_cox', 2), ('sal', 1), ('sal', 1))\n"
     ]
    },
    {
     "name": "stderr",
     "output_type": "stream",
     "text": [
      "\r",
      " 48%|████▊     | 627/1296 [1:01:53<27:59,  2.51s/it]"
     ]
    },
    {
     "name": "stdout",
     "output_type": "stream",
     "text": [
      "params:[-1.09759834e-01  2.16699196e+02]\n",
      "validate rmse : 0.002577356266603676 \n",
      " validate mae : 0.0021260852564896466 \n",
      "\n",
      "    test rmse : 0.012558893646524412 \n",
      " test mae : 0.012401724883707317\n",
      "(('sal', 1), ('box_cox', 2), ('sal', 1), ('sal', 2))\n"
     ]
    },
    {
     "name": "stderr",
     "output_type": "stream",
     "text": [
      "\r",
      " 48%|████▊     | 628/1296 [1:02:02<48:44,  4.38s/it]"
     ]
    },
    {
     "name": "stdout",
     "output_type": "stream",
     "text": [
      "params:[-1.02400241e-01  2.01528282e+02]\n",
      "validate rmse : 0.002294886539203955 \n",
      " validate mae : 0.001773496376208193 \n",
      "\n",
      "    test rmse : 0.009528192135546412 \n",
      " test mae : 0.009346691057850168\n",
      "(('sal', 1), ('box_cox', 2), ('sal', 1), ('box_cox', 1))\n"
     ]
    },
    {
     "name": "stderr",
     "output_type": "stream",
     "text": [
      "\r",
      " 49%|████▊     | 629/1296 [1:02:04<41:42,  3.75s/it]"
     ]
    },
    {
     "name": "stdout",
     "output_type": "stream",
     "text": [
      "params:[-1.12348965e-01  2.20941549e+02]\n",
      "validate rmse : 0.002828067958962917 \n",
      " validate mae : 0.002132639462643265 \n",
      "\n",
      "    test rmse : 0.009987079001833975 \n",
      " test mae : 0.009805866339248416\n",
      "(('sal', 1), ('box_cox', 2), ('sal', 1), ('box_cox', 2))\n"
     ]
    },
    {
     "name": "stderr",
     "output_type": "stream",
     "text": [
      "\r",
      " 49%|████▊     | 630/1296 [1:02:06<35:48,  3.23s/it]"
     ]
    },
    {
     "name": "stdout",
     "output_type": "stream",
     "text": [
      "params:[-1.12692454e-01  2.20552763e+02]\n",
      "validate rmse : 0.0030431648327913694 \n",
      " validate mae : 0.0028067644449895146 \n",
      "\n",
      "    test rmse : 0.01443083288563888 \n",
      " test mae : 0.014282404321325413\n",
      "(('sal', 1), ('box_cox', 2), ('sal', 2), ('sa', 1))\n"
     ]
    }
   ],
   "source": [
    "result = grid_search(cwgp_regression, x_train, y_train, {\"c\":4,\"n\":[1,2],\"transformations\":[\"sa\",\"sal\",\"box_cox\"]},\n",
    "                    x_val=x_val,y_val=y_val,\n",
    "                    x_test=x_test,y_test=y_test\n",
    "                    )"
   ]
  },
  {
   "cell_type": "code",
   "execution_count": null,
   "metadata": {},
   "outputs": [],
   "source": [
    "sa1sa1sa1bc2(-8.39185469e-02  1.63633232e+02)"
   ]
  }
 ],
 "metadata": {
  "kernelspec": {
   "display_name": "Python 3",
   "language": "python",
   "name": "python3"
  },
  "language_info": {
   "codemirror_mode": {
    "name": "ipython",
    "version": 3
   },
   "file_extension": ".py",
   "mimetype": "text/x-python",
   "name": "python",
   "nbconvert_exporter": "python",
   "pygments_lexer": "ipython3",
   "version": "3.6.9"
  }
 },
 "nbformat": 4,
 "nbformat_minor": 4
}
