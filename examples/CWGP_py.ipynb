{
 "cells": [
  {
   "cell_type": "code",
   "execution_count": 1,
   "metadata": {},
   "outputs": [],
   "source": [
    "import seaborn as sns\n",
    "import matplotlib.pyplot as plt\n",
    "from autograd import elementwise_grad, grad\n",
    "import autograd.numpy as np\n",
    "import scipy\n",
    "from scipy.optimize import minimize\n",
    "import copy"
   ]
  },
  {
   "cell_type": "code",
   "execution_count": 2,
   "metadata": {},
   "outputs": [],
   "source": [
    "n = 3\n",
    "gamma = 2"
   ]
  },
  {
   "cell_type": "code",
   "execution_count": 3,
   "metadata": {},
   "outputs": [],
   "source": [
    "num = 100\n",
    "# betas = np.random.beta(5,1,size=num)\n",
    "betas = np.random.exponential(scale=5,size=num)\n",
    "# betas = np.concatenate((np.random.exponential(scale=2,size=num),np.random.normal(6,1,size=num)))\n",
    "# betas = np.random.choice(betas,num)"
   ]
  },
  {
   "cell_type": "code",
   "execution_count": 4,
   "metadata": {},
   "outputs": [
    {
     "data": {
      "text/plain": [
       "<matplotlib.axes._subplots.AxesSubplot at 0x7fcf33dcbf98>"
      ]
     },
     "execution_count": 4,
     "metadata": {},
     "output_type": "execute_result"
    },
    {
     "data": {
      "image/png": "[encoded data removed]",
      "text/plain": [
       "<Figure size 432x288 with 1 Axes>"
      ]
     },
     "metadata": {
      "needs_background": "light"
     },
     "output_type": "display_data"
    }
   ],
   "source": [
    "sns.distplot(betas)"
   ]
  },
  {
   "cell_type": "code",
   "execution_count": 5,
   "metadata": {},
   "outputs": [],
   "source": [
    "def sal(par,y):\n",
    "    assert len(par)>=4, \"not enough params\"\n",
    "    return par[0]+par[1]*np.sinh(par[2]*np.arcsinh(y) + par[3])"
   ]
  },
  {
   "cell_type": "code",
   "execution_count": 6,
   "metadata": {},
   "outputs": [],
   "source": [
    "d_sal = elementwise_grad(sal,1)"
   ]
  },
  {
   "cell_type": "code",
   "execution_count": 7,
   "metadata": {},
   "outputs": [],
   "source": [
    "def sal_comp(par,y,n):\n",
    "    assert len(par)>=4*n, \"not enough params\"\n",
    "    comp = copy.deepcopy(y)\n",
    "    for i in range(0,n):\n",
    "        comp = sal(par[4*i:],comp)\n",
    "    return comp"
   ]
  },
  {
   "cell_type": "code",
   "execution_count": 8,
   "metadata": {},
   "outputs": [],
   "source": [
    "def d_sal_comp(par,y,n):\n",
    "    assert len(par)>=4*n, \"not enough params\"\n",
    "    comp = copy.deepcopy(y)\n",
    "    d_comp = 1\n",
    "    for i in range(0,n):\n",
    "        d_comp *= d_sal(par[4*i:],comp)\n",
    "        comp = sal(par[4*i:],comp)\n",
    "    return d_comp"
   ]
  },
  {
   "cell_type": "code",
   "execution_count": 9,
   "metadata": {},
   "outputs": [],
   "source": [
    "# http://stackoverflow.com/questions/45599524/partial-derivative-using-autograd"
   ]
  },
  {
   "cell_type": "code",
   "execution_count": 10,
   "metadata": {},
   "outputs": [],
   "source": [
    "def cov_kernel(gamma,x):\n",
    "    return np.exp(-gamma*(np.abs(x)))"
   ]
  },
  {
   "cell_type": "code",
   "execution_count": 11,
   "metadata": {},
   "outputs": [
    {
     "name": "stdout",
     "output_type": "stream",
     "text": [
      "(100, 1) (1, 100)\n"
     ]
    }
   ],
   "source": [
    "par = np.random.rand(4*n)\n",
    "phi_y = sal_comp(par,betas,n)\n",
    "phi_y = phi_y[np.newaxis].reshape(-1,1)\n",
    "t_phi_y = np.transpose(phi_y)\n",
    "\n",
    "print(phi_y.shape,t_phi_y.shape)"
   ]
  },
  {
   "cell_type": "code",
   "execution_count": 12,
   "metadata": {},
   "outputs": [],
   "source": [
    "def nllf(par):\n",
    "    phi_y = sal_comp(par,betas,n)\n",
    "    phi_y = phi_y[np.newaxis].reshape(-1,1)\n",
    "    t_phi_y = np.transpose(phi_y)\n",
    "    \n",
    "    cov_xx = cov_kernel(gamma,np.log(np.exp(phi_y) @ np.exp(-(t_phi_y))))\n",
    "    gaussian_params = 0.5 * (t_phi_y) @ np.linalg.inv(cov_xx) @ phi_y\n",
    "    \n",
    "    chain_d_sal = d_sal_comp(par,betas,n)\n",
    "    \n",
    "    return  0.5 * np.log(np.linalg.det(cov_xx)) + gaussian_params - sum(np.log(chain_d_sal))"
   ]
  },
  {
   "cell_type": "code",
   "execution_count": 13,
   "metadata": {},
   "outputs": [
    {
     "name": "stderr",
     "output_type": "stream",
     "text": [
      "/home/chen/work/venv/lib/python3.6/site-packages/autograd/tracer.py:48: RuntimeWarning: divide by zero encountered in log\n",
      "  return f_raw(*args, **kwargs)\n"
     ]
    },
    {
     "data": {
      "text/plain": [
       "array([[-inf]])"
      ]
     },
     "execution_count": 13,
     "metadata": {},
     "output_type": "execute_result"
    }
   ],
   "source": [
    "nllf(np.random.rand(4*n))"
   ]
  },
  {
   "cell_type": "code",
   "execution_count": 14,
   "metadata": {
    "scrolled": true
   },
   "outputs": [
    {
     "name": "stderr",
     "output_type": "stream",
     "text": [
      "/home/chen/work/venv/lib/python3.6/site-packages/scipy/optimize/optimize.py:697: RuntimeWarning: invalid value encountered in subtract\n",
      "  df = (f(*((xk + d,) + args)) - f0) / d[k]\n",
      "/home/chen/work/venv/lib/python3.6/site-packages/numpy/linalg/linalg.py:2116: RuntimeWarning: invalid value encountered in det\n",
      "  r = _umath_linalg.det(a, signature=signature)\n",
      "/home/chen/work/venv/lib/python3.6/site-packages/autograd/tracer.py:48: RuntimeWarning: overflow encountered in exp\n",
      "  return f_raw(*args, **kwargs)\n",
      "/home/chen/work/venv/lib/python3.6/site-packages/ipykernel_launcher.py:6: RuntimeWarning: invalid value encountered in matmul\n",
      "  \n",
      "/home/chen/work/venv/lib/python3.6/site-packages/autograd/tracer.py:48: RuntimeWarning: overflow encountered in sinh\n",
      "  return f_raw(*args, **kwargs)\n",
      "/home/chen/work/venv/lib/python3.6/site-packages/autograd/tracer.py:48: RuntimeWarning: overflow encountered in cosh\n",
      "  return f_raw(*args, **kwargs)\n",
      "/home/chen/work/venv/lib/python3.6/site-packages/autograd/numpy/numpy_vjps.py:35: RuntimeWarning: overflow encountered in multiply\n",
      "  lambda ans, x, y : unbroadcast_f(y, lambda g: x * g))\n",
      "/home/chen/work/venv/lib/python3.6/site-packages/autograd/numpy/numpy_vjps.py:91: RuntimeWarning: overflow encountered in square\n",
      "  defvjp(anp.arcsinh, lambda ans, x : lambda g: g / anp.sqrt(x**2 + 1))\n",
      "/home/chen/work/venv/lib/python3.6/site-packages/autograd/numpy/numpy_vjps.py:91: RuntimeWarning: invalid value encountered in true_divide\n",
      "  defvjp(anp.arcsinh, lambda ans, x : lambda g: g / anp.sqrt(x**2 + 1))\n",
      "/home/chen/work/venv/lib/python3.6/site-packages/ipykernel_launcher.py:6: RuntimeWarning: overflow encountered in multiply\n",
      "  \n",
      "/home/chen/work/venv/lib/python3.6/site-packages/ipykernel_launcher.py:3: RuntimeWarning: overflow encountered in multiply\n",
      "  This is separate from the ipykernel package so we can avoid doing imports until\n",
      "/home/chen/work/venv/lib/python3.6/site-packages/autograd/tracer.py:48: RuntimeWarning: overflow encountered in multiply\n",
      "  return f_raw(*args, **kwargs)\n",
      "/home/chen/work/venv/lib/python3.6/site-packages/autograd/numpy/numpy_vjps.py:88: RuntimeWarning: overflow encountered in multiply\n",
      "  defvjp(anp.sinh,   lambda ans, x : lambda g: g * anp.cosh(x))\n"
     ]
    }
   ],
   "source": [
    "res = minimize(nllf, np.random.rand(4*n), method='L-BFGS-B')\n",
    "while res.success == False:\n",
    "    try:\n",
    "        res = minimize(nllf, np.random.rand(4*n), method='L-BFGS-B')\n",
    "#         rand = np.random.uniform(low=-5, high=5, size=(4*n, 1))\n",
    "#         res = minimize(nllf, rand , method='L-BFGS-B')\n",
    "#         print(rand)\n",
    "    except:\n",
    "        pass"
   ]
  },
  {
   "cell_type": "code",
   "execution_count": 15,
   "metadata": {},
   "outputs": [
    {
     "data": {
      "text/plain": [
       "      fun: array([[-4.80540956]])\n",
       " hess_inv: <12x12 LbfgsInvHessProduct with dtype=float64>\n",
       "      jac: array([-8.95283847e-05, -5.54223334e-05, -5.63730396e-02, -3.78577170e-03,\n",
       "        0.00000000e+00,  1.57740487e-04, -2.15678142e-02, -1.87583282e-04,\n",
       "       -4.26325641e-03, -1.12962084e-02, -2.18849902e+02, -3.62268793e-01])\n",
       "  message: b'CONVERGENCE: REL_REDUCTION_OF_F_<=_FACTR*EPSMCH'\n",
       "     nfev: 4771\n",
       "      nit: 242\n",
       "   status: 0\n",
       "  success: True\n",
       "        x: array([-1.15708616e+01,  1.44727398e+01,  3.32696827e+00,  7.63014850e+00,\n",
       "       -1.19215766e+01,  1.31284126e+01,  1.05385434e+01,  4.11078047e+00,\n",
       "       -3.95684835e+01,  3.27453134e+01,  1.03422481e-03,  8.31145494e-01])"
      ]
     },
     "execution_count": 15,
     "metadata": {},
     "output_type": "execute_result"
    }
   ],
   "source": [
    "res"
   ]
  },
  {
   "cell_type": "code",
   "execution_count": 16,
   "metadata": {},
   "outputs": [
    {
     "data": {
      "text/plain": [
       "array([-1.15708616e+01,  1.44727398e+01,  3.32696827e+00,  7.63014850e+00,\n",
       "       -1.19215766e+01,  1.31284126e+01,  1.05385434e+01,  4.11078047e+00,\n",
       "       -3.95684835e+01,  3.27453134e+01,  1.03422481e-03,  8.31145494e-01])"
      ]
     },
     "execution_count": 16,
     "metadata": {},
     "output_type": "execute_result"
    }
   ],
   "source": [
    "res.x"
   ]
  },
  {
   "cell_type": "code",
   "execution_count": 17,
   "metadata": {},
   "outputs": [],
   "source": [
    "transformed_betas = sal_comp(res.x,betas,n)"
   ]
  },
  {
   "cell_type": "code",
   "execution_count": 18,
   "metadata": {},
   "outputs": [
    {
     "data": {
      "text/plain": [
       "<matplotlib.axes._subplots.AxesSubplot at 0x7fcf317bc358>"
      ]
     },
     "execution_count": 18,
     "metadata": {},
     "output_type": "execute_result"
    },
    {
     "data": {
      "image/png": "[encoded data removed]",
      "text/plain": [
       "<Figure size 432x288 with 1 Axes>"
      ]
     },
     "metadata": {
      "needs_background": "light"
     },
     "output_type": "display_data"
    }
   ],
   "source": [
    "sns.distplot(transformed_betas)"
   ]
  }
 ],
 "metadata": {
  "kernelspec": {
   "display_name": "Python 3",
   "language": "python",
   "name": "python3"
  },
  "language_info": {
   "codemirror_mode": {
    "name": "ipython",
    "version": 3
   },
   "file_extension": ".py",
   "mimetype": "text/x-python",
   "name": "python",
   "nbconvert_exporter": "python",
   "pygments_lexer": "ipython3",
   "version": "3.6.9"
  }
 },
 "nbformat": 4,
 "nbformat_minor": 4
}
