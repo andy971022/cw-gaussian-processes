{
 "cells": [
  {
   "cell_type": "code",
   "execution_count": 1,
   "metadata": {},
   "outputs": [
    {
     "name": "stderr",
     "output_type": "stream",
     "text": [
      "Warning message:\n",
      "“package ‘Deriv’ was built under R version 3.6.3”"
     ]
    }
   ],
   "source": [
    "library(Deriv)"
   ]
  },
  {
   "cell_type": "code",
   "execution_count": 2,
   "metadata": {},
   "outputs": [],
   "source": [
    "set.seed(2021)"
   ]
  },
  {
   "cell_type": "code",
   "execution_count": 3,
   "metadata": {},
   "outputs": [],
   "source": [
    "n <- 100\n",
    "betas <- matrix(rbeta(n,5,2))"
   ]
  },
  {
   "cell_type": "code",
   "execution_count": 4,
   "metadata": {},
   "outputs": [
    {
     "data": {
      "text/html": [
       "<ol class=list-inline>\n",
       "\t<li>0.738380190283766</li>\n",
       "\t<li>0.58951334445223</li>\n",
       "\t<li>0.638610545717967</li>\n",
       "\t<li>0.636055231836783</li>\n",
       "\t<li>0.958235950603937</li>\n",
       "</ol>\n"
      ],
      "text/latex": [
       "\\begin{enumerate*}\n",
       "\\item 0.738380190283766\n",
       "\\item 0.58951334445223\n",
       "\\item 0.638610545717967\n",
       "\\item 0.636055231836783\n",
       "\\item 0.958235950603937\n",
       "\\end{enumerate*}\n"
      ],
      "text/markdown": [
       "1. 0.738380190283766\n",
       "2. 0.58951334445223\n",
       "3. 0.638610545717967\n",
       "4. 0.636055231836783\n",
       "5. 0.958235950603937\n",
       "\n",
       "\n"
      ],
      "text/plain": [
       "[1] 0.7383802 0.5895133 0.6386105 0.6360552 0.9582360"
      ]
     },
     "metadata": {},
     "output_type": "display_data"
    }
   ],
   "source": [
    "betas[1:5]"
   ]
  },
  {
   "cell_type": "code",
   "execution_count": 5,
   "metadata": {},
   "outputs": [
    {
     "data": {
      "image/png": "[encoded data removed]",
      "text/plain": [
       "Plot with title “Histogram of betas”"
      ]
     },
     "metadata": {},
     "output_type": "display_data"
    }
   ],
   "source": [
    "hist(betas)"
   ]
  },
  {
   "cell_type": "code",
   "execution_count": 6,
   "metadata": {},
   "outputs": [
    {
     "data": {
      "text/html": [
       "<ol class=list-inline>\n",
       "\t<li>100</li>\n",
       "\t<li>1</li>\n",
       "</ol>\n"
      ],
      "text/latex": [
       "\\begin{enumerate*}\n",
       "\\item 100\n",
       "\\item 1\n",
       "\\end{enumerate*}\n"
      ],
      "text/markdown": [
       "1. 100\n",
       "2. 1\n",
       "\n",
       "\n"
      ],
      "text/plain": [
       "[1] 100   1"
      ]
     },
     "metadata": {},
     "output_type": "display_data"
    }
   ],
   "source": [
    "dim(betas)"
   ]
  },
  {
   "cell_type": "code",
   "execution_count": 7,
   "metadata": {},
   "outputs": [],
   "source": [
    "sal <- function(a,b,c,d,y){\n",
    "    a + b*sinh(c*asinh(y) + d)\n",
    "    }\n",
    "# sal = expression(a + b*sinh(c*asinh(y)+d))"
   ]
  },
  {
   "cell_type": "code",
   "execution_count": 8,
   "metadata": {},
   "outputs": [],
   "source": [
    "cov_kernel <- function(gamma,x){\n",
    "    exp(-gamma*abs(x))\n",
    "}"
   ]
  },
  {
   "cell_type": "code",
   "execution_count": 9,
   "metadata": {},
   "outputs": [],
   "source": [
    "drule[[\"asinh\"]] <- alist(x=1/sqrt(x^2+1))\n",
    "\n",
    "d_sal = Deriv(sal,\"y\")"
   ]
  },
  {
   "cell_type": "code",
   "execution_count": 10,
   "metadata": {},
   "outputs": [],
   "source": [
    "# negative log likelihood function\n",
    "# https://stackoverflow.com/questions/20479315/optim-function-argument-missing\n",
    "# x = phi_y\n",
    "# https://upura.hatenablog.com/entry/2018/01/22/003429\n",
    "# https://en.wikipedia.org/wiki/Sample_mean_and_covariance\n",
    "# REML https://stats.stackexchange.com/questions/214676/restricted-maximum-likelihood-reml-estimate-of-variance-component\n",
    "nllf <- function(v){\n",
    "    a <- v[1]\n",
    "    b <- v[2]\n",
    "    c <- v[3]\n",
    "    d <- v[4]\n",
    "    gamma <- v[5]\n",
    "    \n",
    "    phi_y <- sal(a,b,c,d,betas)\n",
    "    mu_x <- 0\n",
    "    cov_xx <- cov_kernel(1,log(exp((phi_y-mu_x)) %*% exp(-t(phi_y-mu_x))))\n",
    "    gaussian_params <- 0.5* t(phi_y-mu_x) %*% solve(cov_xx) %*% (phi_y-mu_x)\n",
    "    \n",
    "    return(0.5*log(det(cov_xx)) + gaussian_params - sum(log(d_sal(a,b,c,d,betas))))\n",
    "    }\n"
   ]
  },
  {
   "cell_type": "code",
   "execution_count": 11,
   "metadata": {},
   "outputs": [
    {
     "data": {
      "text/html": [
       "<pre class=language-r><code>function (a, b, c, d, y) \n",
       "b * c * cosh(c * asinh(y) + d)/sqrt(1 + y^2)</code></pre>"
      ],
      "text/latex": [
       "\\begin{minted}{r}\n",
       "function (a, b, c, d, y) \n",
       "b * c * cosh(c * asinh(y) + d)/sqrt(1 + y\\textasciicircum{}2)\n",
       "\\end{minted}"
      ],
      "text/markdown": [
       "```r\n",
       "function (a, b, c, d, y) \n",
       "b * c * cosh(c * asinh(y) + d)/sqrt(1 + y^2)\n",
       "```"
      ],
      "text/plain": [
       "function (a, b, c, d, y) \n",
       "b * c * cosh(c * asinh(y) + d)/sqrt(1 + y^2)"
      ]
     },
     "metadata": {},
     "output_type": "display_data"
    }
   ],
   "source": [
    "d_sal"
   ]
  },
  {
   "cell_type": "code",
   "execution_count": 12,
   "metadata": {},
   "outputs": [
    {
     "data": {
      "text/html": [
       "<ol class=list-inline>\n",
       "\t<li>7.12994063692167</li>\n",
       "\t<li>1.30665462650359</li>\n",
       "\t<li>9.29202320659533</li>\n",
       "\t<li>4.0923765853513</li>\n",
       "\t<li>5.80231428216211</li>\n",
       "</ol>\n"
      ],
      "text/latex": [
       "\\begin{enumerate*}\n",
       "\\item 7.12994063692167\n",
       "\\item 1.30665462650359\n",
       "\\item 9.29202320659533\n",
       "\\item 4.0923765853513\n",
       "\\item 5.80231428216211\n",
       "\\end{enumerate*}\n"
      ],
      "text/markdown": [
       "1. 7.12994063692167\n",
       "2. 1.30665462650359\n",
       "3. 9.29202320659533\n",
       "4. 4.0923765853513\n",
       "5. 5.80231428216211\n",
       "\n",
       "\n"
      ],
      "text/plain": [
       "[1] 7.129941 1.306655 9.292023 4.092377 5.802314"
      ]
     },
     "metadata": {},
     "output_type": "display_data"
    }
   ],
   "source": [
    "runif(5,min=1,max=10)"
   ]
  },
  {
   "cell_type": "code",
   "execution_count": 13,
   "metadata": {},
   "outputs": [],
   "source": [
    "#log likelihood\n",
    "# L = -1/2log|C|-1/2(y-\\mu)C^{-1}(y-\\mu)+\\sum log \\partial \\phi(yi)/\\partial yi - N/2 log2\\pi"
   ]
  },
  {
   "cell_type": "code",
   "execution_count": 15,
   "metadata": {},
   "outputs": [
    {
     "data": {
      "text/html": [
       "<dl>\n",
       "\t<dt>$par</dt>\n",
       "\t\t<dd><ol class=list-inline>\n",
       "\t<li>-4.8929236049143</li>\n",
       "\t<li>0.0918149890052426</li>\n",
       "\t<li>4.18574567550943</li>\n",
       "\t<li>1.62864788359957</li>\n",
       "\t<li>1</li>\n",
       "</ol>\n",
       "</dd>\n",
       "\t<dt>$value</dt>\n",
       "\t\t<dd>-365.356882599242</dd>\n",
       "\t<dt>$counts</dt>\n",
       "\t\t<dd><dl class=dl-horizontal>\n",
       "\t<dt>function</dt>\n",
       "\t\t<dd>136</dd>\n",
       "\t<dt>gradient</dt>\n",
       "\t\t<dd>136</dd>\n",
       "</dl>\n",
       "</dd>\n",
       "\t<dt>$convergence</dt>\n",
       "\t\t<dd>0</dd>\n",
       "\t<dt>$message</dt>\n",
       "\t\t<dd>'CONVERGENCE: REL_REDUCTION_OF_F &lt;= FACTR*EPSMCH'</dd>\n",
       "</dl>\n"
      ],
      "text/latex": [
       "\\begin{description}\n",
       "\\item[\\$par] \\begin{enumerate*}\n",
       "\\item -4.8929236049143\n",
       "\\item 0.0918149890052426\n",
       "\\item 4.18574567550943\n",
       "\\item 1.62864788359957\n",
       "\\item 1\n",
       "\\end{enumerate*}\n",
       "\n",
       "\\item[\\$value] -365.356882599242\n",
       "\\item[\\$counts] \\begin{description*}\n",
       "\\item[function] 136\n",
       "\\item[gradient] 136\n",
       "\\end{description*}\n",
       "\n",
       "\\item[\\$convergence] 0\n",
       "\\item[\\$message] 'CONVERGENCE: REL\\_REDUCTION\\_OF\\_F <= FACTR*EPSMCH'\n",
       "\\end{description}\n"
      ],
      "text/markdown": [
       "$par\n",
       ":   1. -4.8929236049143\n",
       "2. 0.0918149890052426\n",
       "3. 4.18574567550943\n",
       "4. 1.62864788359957\n",
       "5. 1\n",
       "\n",
       "\n",
       "\n",
       "$value\n",
       ":   -365.356882599242\n",
       "$counts\n",
       ":   function\n",
       ":   136gradient\n",
       ":   136\n",
       "\n",
       "\n",
       "$convergence\n",
       ":   0\n",
       "$message\n",
       ":   'CONVERGENCE: REL_REDUCTION_OF_F &lt;= FACTR*EPSMCH'\n",
       "\n",
       "\n"
      ],
      "text/plain": [
       "$par\n",
       "[1] -4.89292360  0.09181499  4.18574568  1.62864788  1.00000000\n",
       "\n",
       "$value\n",
       "[1] -365.3569\n",
       "\n",
       "$counts\n",
       "function gradient \n",
       "     136      136 \n",
       "\n",
       "$convergence\n",
       "[1] 0\n",
       "\n",
       "$message\n",
       "[1] \"CONVERGENCE: REL_REDUCTION_OF_F <= FACTR*EPSMCH\"\n"
      ]
     },
     "metadata": {},
     "output_type": "display_data"
    }
   ],
   "source": [
    "o = optim(par=c(0.6,0.7,0.5,0.2,1),fn=nllf,method=\"L-BFGS-B\")\n",
    "o"
   ]
  },
  {
   "cell_type": "code",
   "execution_count": 16,
   "metadata": {},
   "outputs": [],
   "source": [
    "par = o$par"
   ]
  },
  {
   "cell_type": "code",
   "execution_count": 17,
   "metadata": {},
   "outputs": [
    {
     "data": {
      "image/png": "[encoded data removed]",
      "text/plain": [
       "Plot with title “Histogram of sal(par[1], par[2], par[3], par[4], betas)”"
      ]
     },
     "metadata": {},
     "output_type": "display_data"
    }
   ],
   "source": [
    "hist(sal(par[1],par[2],par[3],par[4],betas))"
   ]
  }
 ],
 "metadata": {
  "kernelspec": {
   "display_name": "R",
   "language": "R",
   "name": "ir"
  },
  "language_info": {
   "codemirror_mode": "r",
   "file_extension": ".r",
   "mimetype": "text/x-r-source",
   "name": "R",
   "pygments_lexer": "r",
   "version": "3.6.1"
  }
 },
 "nbformat": 4,
 "nbformat_minor": 4
}
