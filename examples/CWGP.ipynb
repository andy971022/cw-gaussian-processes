{
 "cells": [
  {
   "cell_type": "code",
   "execution_count": 1,
   "metadata": {},
   "outputs": [
    {
     "name": "stderr",
     "output_type": "stream",
     "text": [
      "Warning message:\n",
      "“package ‘Deriv’ was built under R version 3.6.3”"
     ]
    }
   ],
   "source": [
    "library(Deriv)"
   ]
  },
  {
   "cell_type": "code",
   "execution_count": 2,
   "metadata": {},
   "outputs": [],
   "source": [
    "n <- 100\n",
    "betas <- rbeta(n,5,1)"
   ]
  },
  {
   "cell_type": "code",
   "execution_count": 3,
   "metadata": {},
   "outputs": [
    {
     "data": {
      "text/html": [
       "<ol class=list-inline>\n",
       "\t<li>0.837521462738386</li>\n",
       "\t<li>0.963687926220211</li>\n",
       "\t<li>0.746668170015014</li>\n",
       "\t<li>0.607735762471903</li>\n",
       "\t<li>0.85410098292777</li>\n",
       "</ol>\n"
      ],
      "text/latex": [
       "\\begin{enumerate*}\n",
       "\\item 0.837521462738386\n",
       "\\item 0.963687926220211\n",
       "\\item 0.746668170015014\n",
       "\\item 0.607735762471903\n",
       "\\item 0.85410098292777\n",
       "\\end{enumerate*}\n"
      ],
      "text/markdown": [
       "1. 0.837521462738386\n",
       "2. 0.963687926220211\n",
       "3. 0.746668170015014\n",
       "4. 0.607735762471903\n",
       "5. 0.85410098292777\n",
       "\n",
       "\n"
      ],
      "text/plain": [
       "[1] 0.8375215 0.9636879 0.7466682 0.6077358 0.8541010"
      ]
     },
     "metadata": {},
     "output_type": "display_data"
    }
   ],
   "source": [
    "betas[1:5]"
   ]
  },
  {
   "cell_type": "code",
   "execution_count": 4,
   "metadata": {},
   "outputs": [
    {
     "data": {
      "image/png": "[encoded data removed]",
      "text/plain": [
       "Plot with title “Histogram of betas”"
      ]
     },
     "metadata": {},
     "output_type": "display_data"
    }
   ],
   "source": [
    "hist(betas)"
   ]
  },
  {
   "cell_type": "code",
   "execution_count": 5,
   "metadata": {},
   "outputs": [],
   "source": [
    "sal <- function(aa,bb,cc,dd,a,b,c,d,y){\n",
    "    aa + bb*sinh(cc*asinh(a + b*sinh(c*asinh(y)+d))+dd)\n",
    "    }\n",
    "# sal = expression(a + b*sinh(c*asinh(y)+d))\n",
    "drule[[\"asinh\"]] <- alist(x=1/sqrt(x^2+1))\n",
    "\n",
    "d_sal = Deriv(sal,\"y\")\n",
    "\n",
    "# negative log likelihood function\n",
    "# https://stackoverflow.com/questions/20479315/optim-function-argument-missing\n",
    "# Optimize mean and covariance too!!!\n",
    "nllf <- function(v){\n",
    "    a <- v[5]\n",
    "    b <- v[6]\n",
    "    c <- v[7]\n",
    "    d <- v[8]\n",
    "    aa <- v[1] \n",
    "    bb <- v[2]\n",
    "    cc <- v[3]\n",
    "    dd <- v[4]\n",
    "    return(-sum(log(d_sal(aa,bb,cc,dd,a,b,c,d,betas))))\n",
    "    }\n"
   ]
  },
  {
   "cell_type": "code",
   "execution_count": 6,
   "metadata": {},
   "outputs": [
    {
     "data": {
      "text/html": [
       "<pre class=language-r><code>function (aa, bb, cc, dd, a, b, c, d, y) \n",
       "{\n",
       "<span style=white-space:pre-wrap>    .e3 &lt;- c * asinh(y) + d</span>\n",
       "<span style=white-space:pre-wrap>    .e4 &lt;- a + b * sinh(.e3)</span>\n",
       "<span style=white-space:pre-wrap>    b * bb * c * cc * cosh(.e3) * cosh(cc * asinh(.e4) + dd)/(sqrt(.e4^2 + </span>\n",
       "<span style=white-space:pre-wrap>        1) * sqrt(1 + y^2))</span>\n",
       "}</code></pre>"
      ],
      "text/latex": [
       "\\begin{minted}{r}\n",
       "function (aa, bb, cc, dd, a, b, c, d, y) \n",
       "\\{\n",
       "    .e3 <- c * asinh(y) + d\n",
       "    .e4 <- a + b * sinh(.e3)\n",
       "    b * bb * c * cc * cosh(.e3) * cosh(cc * asinh(.e4) + dd)/(sqrt(.e4\\textasciicircum{}2 + \n",
       "        1) * sqrt(1 + y\\textasciicircum{}2))\n",
       "\\}\n",
       "\\end{minted}"
      ],
      "text/markdown": [
       "```r\n",
       "function (aa, bb, cc, dd, a, b, c, d, y) \n",
       "{\n",
       "    .e3 <- c * asinh(y) + d\n",
       "    .e4 <- a + b * sinh(.e3)\n",
       "    b * bb * c * cc * cosh(.e3) * cosh(cc * asinh(.e4) + dd)/(sqrt(.e4^2 + \n",
       "        1) * sqrt(1 + y^2))\n",
       "}\n",
       "```"
      ],
      "text/plain": [
       "function (aa, bb, cc, dd, a, b, c, d, y) \n",
       "{\n",
       "    .e3 <- c * asinh(y) + d\n",
       "    .e4 <- a + b * sinh(.e3)\n",
       "    b * bb * c * cc * cosh(.e3) * cosh(cc * asinh(.e4) + dd)/(sqrt(.e4^2 + \n",
       "        1) * sqrt(1 + y^2))\n",
       "}"
      ]
     },
     "metadata": {},
     "output_type": "display_data"
    }
   ],
   "source": [
    "d_sal"
   ]
  },
  {
   "cell_type": "code",
   "execution_count": 7,
   "metadata": {},
   "outputs": [],
   "source": [
    "#log likelihood\n",
    "# L = -1/2log|C|-1/2(y-\\mu)C^{-1}(y-\\mu)+\\sum log \\partial \\phi(yi)/\\partial yi - N/2 log2\\pi"
   ]
  },
  {
   "cell_type": "code",
   "execution_count": 72,
   "metadata": {},
   "outputs": [
    {
     "name": "stderr",
     "output_type": "stream",
     "text": [
      "Warning message in log(d_sal(aa, bb, cc, dd, a, b, c, d, betas)):\n",
      "“NaNs produced”"
     ]
    },
    {
     "ename": "ERROR",
     "evalue": "Error in optim(par = c(runif(1, -1, 1), runif(1, -1, 1), runif(1, -1, : function cannot be evaluated at initial parameters\n",
     "output_type": "error",
     "traceback": [
      "Error in optim(par = c(runif(1, -1, 1), runif(1, -1, 1), runif(1, -1, : function cannot be evaluated at initial parameters\nTraceback:\n",
      "1. optim(par = c(runif(1, -1, 1), runif(1, -1, 1), runif(1, -1, \n .     1), runif(1, -1, 1), runif(1, -1, 1), runif(1, -1, 1), runif(1, \n .     -1, 1), runif(1, -1, 1)), fn = nllf)"
     ]
    }
   ],
   "source": [
    "o = optim(par=c(runif(1,-1,1),\n",
    "                runif(1,-1,1),\n",
    "                runif(1,-1,1),\n",
    "                runif(1,-1,1),\n",
    "                runif(1,-1,1),\n",
    "                runif(1,-1,1),\n",
    "                runif(1,-1,1),\n",
    "                runif(1,-1,1)\n",
    "               ),fn=nllf)\n",
    "o"
   ]
  },
  {
   "cell_type": "code",
   "execution_count": 9,
   "metadata": {},
   "outputs": [],
   "source": [
    "par = o$par"
   ]
  },
  {
   "cell_type": "code",
   "execution_count": 10,
   "metadata": {},
   "outputs": [
    {
     "data": {
      "image/png": "[encoded data removed]",
      "text/plain": [
       "Plot with title “Histogram of sal(par[1], par[2], par[3], par[4], par[5], par[6], par[7], par[8], betas)”"
      ]
     },
     "metadata": {},
     "output_type": "display_data"
    }
   ],
   "source": [
    "hist(sal(par[1],par[2],par[3],par[4],par[5],par[6],par[7],par[8],betas))"
   ]
  }
 ],
 "metadata": {
  "kernelspec": {
   "display_name": "R",
   "language": "R",
   "name": "ir"
  },
  "language_info": {
   "codemirror_mode": "r",
   "file_extension": ".r",
   "mimetype": "text/x-r-source",
   "name": "R",
   "pygments_lexer": "r",
   "version": "3.6.1"
  }
 },
 "nbformat": 4,
 "nbformat_minor": 4
}
