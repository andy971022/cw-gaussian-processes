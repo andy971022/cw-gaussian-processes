{
 "cells": [
  {
   "cell_type": "code",
   "execution_count": 1,
   "metadata": {},
   "outputs": [],
   "source": [
    "import itertools\n",
    "from cwgp.grid_search import grid_search\n",
    "import pandas as pd\n",
    "import numpy as np\n",
    "import seaborn as sns\n",
    "import matplotlib.pyplot as plt\n",
    "import copy\n",
    "import GPy\n",
    "from sklearn.metrics import mean_absolute_error, mean_squared_error\n",
    "import os\n",
    "import scipy"
   ]
  },
  {
   "cell_type": "code",
   "execution_count": 2,
   "metadata": {},
   "outputs": [],
   "source": [
    "def poly(x, *par):\n",
    "    return np.polyval(par,x)"
   ]
  },
  {
   "cell_type": "code",
   "execution_count": 3,
   "metadata": {},
   "outputs": [],
   "source": [
    "def cwgp_regression(x, y, cwgp_model):\n",
    "    kernel = GPy.kern.Matern32(1)\n",
    "\n",
    "    ratio = 0.9\n",
    "    length = len(rate)\n",
    "    train = int(ratio*length)\n",
    "    train_up, train_low = train, train-train\n",
    "\n",
    "    res = scipy.optimize.curve_fit(poly,  np.ravel(x[train_low:train_up]), np.ravel(y[train_low:train_up]), p0=(-1,-1))\n",
    "    par = res[0]\n",
    "    mf = GPy.core.Mapping(1,1)\n",
    "    mf.f = lambda x: poly(x, *par)\n",
    "    mf.update_gradients = lambda a,b: None\n",
    "\n",
    "\n",
    "    model = GPy.models.GPRegression(x[train_low:train_up], y[train_low:train_up], mean_function=mf, kernel=kernel)\n",
    "    model.optimize()\n",
    "\n",
    "    domain_discrete = np.arange(1940,2031).reshape(-1,1)\n",
    "    y_res = model.predict(x)\n",
    "    y_all = model.predict(domain_discrete)\n",
    "    y_pred= y_res[0]\n",
    "    y_mean,y_var = y_all[0],y_all[1]\n",
    "    y_top, y_bot = y_mean + 1.96*np.sqrt(y_var), y_mean - 1.96*np.sqrt(y_var)\n",
    "\n",
    "    for cwgp in cwgp_model[::-1]:\n",
    "        y_pred = cwgp.phi.inv_comp_phi(cwgp.phi.res.x, y_pred)\n",
    "        y_mean, y_var = cwgp.phi.inv_comp_phi(cwgp.phi.res.x, y_mean), cwgp.phi.inv_comp_phi(cwgp.phi.res.x, y_var)\n",
    "        y_top, y_bot = cwgp.phi.inv_comp_phi(cwgp.phi.res.x, y_top), cwgp.phi.inv_comp_phi(cwgp.phi.res.x, y_bot)\n",
    "        y = cwgp.phi.inv_comp_phi(cwgp.phi.res.x, y)\n",
    "\n",
    "\n",
    "    rmse = mean_squared_error(y[train_up:], y_pred[train_up:], squared=False)\n",
    "    mae = mean_absolute_error(y[train_up:], y_pred[train_up:])\n",
    "    txt = f\"\"\"rmse : {rmse} \\n mae : {mae}\"\"\"\n",
    "\n",
    "    name = [f\"{cwgp.phi.fn.__name__}_{cwgp.phi.n}\" for cwgp in cwgp_model]\n",
    "    name = \"_\".join(name)\n",
    "    if rmse < 0.003371134608025886:\n",
    "        domain = np.linspace(1940,2030,91)\n",
    "        plt.fill_between(domain, np.ravel(y_top), np.ravel(y_bot), color=(0,0.5,0.5,0.2), label=\"Confidence\")\n",
    "        plt.scatter(x[train_low:train_up], y[train_low:train_up], marker=\"x\", color='black', label=\"data\")\n",
    "        plt.scatter(x[train_up:], y[train_up:], marker=\"x\", color='red')\n",
    "        plt.plot(np.linspace(1940,2030,91),y_mean, label=\"mean\")\n",
    "        plt.ylim([0.1,0.35])\n",
    "        plt.legend()\n",
    "        plt.figtext(0.5, 0.2, txt, wrap=True, horizontalalignment='center', fontsize=12)\n",
    "        plt.grid(True)\n",
    "        plt.show()\n",
    "\n",
    "\n",
    "    print(rmse,mae)\n",
    "    return rmse, mae"
   ]
  },
  {
   "cell_type": "code",
   "execution_count": 4,
   "metadata": {},
   "outputs": [],
   "source": [
    "CSV_FIlE = \"../japan3.csv\"\n",
    "df = pd.read_csv(CSV_FIlE)\n",
    "age = 90\n",
    "df_all = {}\n",
    "df_all[age]= df[(df[\"age\"]==age)]\n",
    "\n",
    "year = df_all[age][\"year\"].to_numpy().reshape(-1,1)\n",
    "rate = df_all[age][\"rate\"].to_numpy().reshape(-1,1)\n",
    "\n"
   ]
  },
  {
   "cell_type": "code",
   "execution_count": null,
   "metadata": {},
   "outputs": [
    {
     "name": "stderr",
     "output_type": "stream",
     "text": [
      "\r",
      "  0%|          | 0/1296 [00:00<?, ?it/s]"
     ]
    },
    {
     "name": "stdout",
     "output_type": "stream",
     "text": [
      "[('sa', 1), ('sa', 2), ('sal', 1), ('sal', 2), ('box_cox', 1), ('box_cox', 2)]\n",
      "(('sa', 1), ('sa', 1), ('sa', 1), ('sa', 1))\n"
     ]
    },
    {
     "name": "stderr",
     "output_type": "stream",
     "text": [
      "\r",
      "  0%|          | 1/1296 [00:00<14:13,  1.52it/s]"
     ]
    },
    {
     "name": "stdout",
     "output_type": "stream",
     "text": [
      "0.0033974795812663264 0.0026830559499519007\n",
      "(('sa', 1), ('sa', 1), ('sa', 1), ('sa', 2))\n"
     ]
    },
    {
     "name": "stderr",
     "output_type": "stream",
     "text": [
      "\r",
      "  0%|          | 2/1296 [00:01<15:19,  1.41it/s]"
     ]
    },
    {
     "name": "stdout",
     "output_type": "stream",
     "text": [
      "0.0033974820847672694 0.0026830554340710666\n",
      "(('sa', 1), ('sa', 1), ('sa', 1), ('sal', 1))\n"
     ]
    },
    {
     "name": "stderr",
     "output_type": "stream",
     "text": [
      "\r",
      "  0%|          | 3/1296 [00:02<16:13,  1.33it/s]"
     ]
    },
    {
     "name": "stdout",
     "output_type": "stream",
     "text": [
      "0.005566753977688752 0.004985092720804488\n",
      "(('sa', 1), ('sa', 1), ('sa', 1), ('sal', 2))\n"
     ]
    },
    {
     "name": "stderr",
     "output_type": "stream",
     "text": [
      " /home/chen/work/venv/lib/python3.6/site-packages/autograd/tracer.py:48: RuntimeWarning:invalid value encountered in log\n",
      " /home/chen/work/venv/lib/python3.6/site-packages/cwgp/phi.py:67: RuntimeWarning:overflow encountered in matmul\n",
      " /home/chen/work/venv/lib/python3.6/site-packages/autograd/tracer.py:48: RuntimeWarning:overflow encountered in sinh\n",
      " /home/chen/work/venv/lib/python3.6/site-packages/autograd/tracer.py:48: RuntimeWarning:overflow encountered in cosh\n",
      " /home/chen/work/venv/lib/python3.6/site-packages/autograd/numpy/numpy_vjps.py:91: RuntimeWarning:overflow encountered in square\n",
      " /home/chen/work/venv/lib/python3.6/site-packages/autograd/numpy/numpy_vjps.py:91: RuntimeWarning:invalid value encountered in true_divide\n",
      " /home/chen/work/venv/lib/python3.6/site-packages/cwgp/kernel.py:6: RuntimeWarning:invalid value encountered in subtract\n",
      " /home/chen/work/venv/lib/python3.6/site-packages/numpy/linalg/linalg.py:2116: RuntimeWarning:invalid value encountered in det\n",
      " /home/chen/work/venv/lib/python3.6/site-packages/scipy/optimize/_numdiff.py:390: RuntimeWarning:invalid value encountered in less\n",
      " /home/chen/work/venv/lib/python3.6/site-packages/scipy/optimize/_numdiff.py:390: RuntimeWarning:invalid value encountered in greater\n",
      " /home/chen/work/venv/lib/python3.6/site-packages/scipy/optimize/_numdiff.py:405: RuntimeWarning:invalid value encountered in greater_equal\n",
      "  0%|          | 4/1296 [00:27<3:44:14, 10.41s/it]"
     ]
    },
    {
     "name": "stdout",
     "output_type": "stream",
     "text": [
      "0.0035633416381172676 0.002720057071868287\n",
      "(('sa', 1), ('sa', 1), ('sa', 1), ('box_cox', 1))\n"
     ]
    },
    {
     "name": "stderr",
     "output_type": "stream",
     "text": [
      "\r",
      "  0%|          | 5/1296 [00:28<2:28:50,  6.92s/it]"
     ]
    },
    {
     "name": "stdout",
     "output_type": "stream",
     "text": [
      "0.003557033418537441 0.002650914986671538\n",
      "(('sa', 1), ('sa', 1), ('sa', 1), ('box_cox', 2))\n"
     ]
    },
    {
     "data": {
      "image/png": "[encoded data removed]",
      "text/plain": [
       "<Figure size 432x288 with 1 Axes>"
      ]
     },
     "metadata": {
      "needs_background": "light"
     },
     "output_type": "display_data"
    },
    {
     "name": "stderr",
     "output_type": "stream",
     "text": [
      "\r",
      "  0%|          | 6/1296 [00:29<1:45:44,  4.92s/it]"
     ]
    },
    {
     "name": "stdout",
     "output_type": "stream",
     "text": [
      "0.0027299451674620665 0.0020261630473005616\n",
      "(('sa', 1), ('sa', 1), ('sa', 2), ('sa', 1))\n"
     ]
    },
    {
     "name": "stderr",
     "output_type": "stream",
     "text": [
      "\r",
      "  1%|          | 7/1296 [00:30<1:19:36,  3.71s/it]"
     ]
    },
    {
     "name": "stdout",
     "output_type": "stream",
     "text": [
      "0.003397484520368009 0.0026830579684712997\n",
      "(('sa', 1), ('sa', 1), ('sa', 2), ('sa', 2))\n"
     ]
    },
    {
     "name": "stderr",
     "output_type": "stream",
     "text": [
      "\r",
      "  1%|          | 8/1296 [00:31<1:01:28,  2.86s/it]"
     ]
    },
    {
     "name": "stdout",
     "output_type": "stream",
     "text": [
      "0.003397483466559857 0.0026830571557730576\n",
      "(('sa', 1), ('sa', 1), ('sa', 2), ('sal', 1))\n"
     ]
    },
    {
     "name": "stderr",
     "output_type": "stream",
     "text": [
      "\r",
      "  1%|          | 9/1296 [00:32<50:29,  2.35s/it]  "
     ]
    },
    {
     "name": "stdout",
     "output_type": "stream",
     "text": [
      "0.005566685133579589 0.004985009106082239\n",
      "(('sa', 1), ('sa', 1), ('sa', 2), ('sal', 2))\n"
     ]
    },
    {
     "name": "stderr",
     "output_type": "stream",
     "text": [
      " /home/chen/work/venv/lib/python3.6/site-packages/autograd/tracer.py:48: RuntimeWarning:invalid value encountered in log\n",
      " /home/chen/work/venv/lib/python3.6/site-packages/cwgp/phi.py:67: RuntimeWarning:overflow encountered in matmul\n",
      " /home/chen/work/venv/lib/python3.6/site-packages/autograd/tracer.py:48: RuntimeWarning:overflow encountered in sinh\n",
      " /home/chen/work/venv/lib/python3.6/site-packages/autograd/tracer.py:48: RuntimeWarning:overflow encountered in cosh\n",
      " /home/chen/work/venv/lib/python3.6/site-packages/autograd/numpy/numpy_vjps.py:35: RuntimeWarning:overflow encountered in multiply\n",
      " /home/chen/work/venv/lib/python3.6/site-packages/autograd/numpy/numpy_vjps.py:91: RuntimeWarning:overflow encountered in square\n",
      " /home/chen/work/venv/lib/python3.6/site-packages/autograd/numpy/numpy_vjps.py:91: RuntimeWarning:invalid value encountered in true_divide\n",
      " /home/chen/work/venv/lib/python3.6/site-packages/cwgp/kernel.py:6: RuntimeWarning:invalid value encountered in subtract\n",
      " /home/chen/work/venv/lib/python3.6/site-packages/numpy/linalg/linalg.py:2116: RuntimeWarning:invalid value encountered in det\n",
      "  1%|          | 10/1296 [00:40<1:28:16,  4.12s/it]"
     ]
    },
    {
     "name": "stdout",
     "output_type": "stream",
     "text": [
      "0.0049461008577281074 0.004202375481830548\n",
      "(('sa', 1), ('sa', 1), ('sa', 2), ('box_cox', 1))\n"
     ]
    },
    {
     "name": "stderr",
     "output_type": "stream",
     "text": [
      "\r",
      "  1%|          | 11/1296 [00:41<1:05:56,  3.08s/it]"
     ]
    },
    {
     "name": "stdout",
     "output_type": "stream",
     "text": [
      "0.0035570572384997614 0.0026509066401727366\n",
      "(('sa', 1), ('sa', 1), ('sa', 2), ('box_cox', 2))\n"
     ]
    },
    {
     "data": {
      "image/png": "[encoded data removed]",
      "text/plain": [
       "<Figure size 432x288 with 1 Axes>"
      ]
     },
     "metadata": {
      "needs_background": "light"
     },
     "output_type": "display_data"
    },
    {
     "name": "stderr",
     "output_type": "stream",
     "text": [
      "\r",
      "  1%|          | 12/1296 [00:42<52:19,  2.45s/it]  "
     ]
    },
    {
     "name": "stdout",
     "output_type": "stream",
     "text": [
      "0.0027299113718802595 0.0020261579861276763\n",
      "(('sa', 1), ('sa', 1), ('sal', 1), ('sa', 1))\n"
     ]
    },
    {
     "name": "stderr",
     "output_type": "stream",
     "text": [
      "\r",
      "  1%|          | 13/1296 [00:43<42:13,  1.97s/it]"
     ]
    },
    {
     "name": "stdout",
     "output_type": "stream",
     "text": [
      "0.005548526514751663 0.00496418021526006\n",
      "(('sa', 1), ('sa', 1), ('sal', 1), ('sa', 2))\n"
     ]
    },
    {
     "name": "stderr",
     "output_type": "stream",
     "text": [
      " /home/chen/work/venv/lib/python3.6/site-packages/autograd/tracer.py:48: RuntimeWarning:invalid value encountered in log\n",
      "\r",
      "  1%|          | 14/1296 [00:44<34:46,  1.63s/it]"
     ]
    },
    {
     "name": "stdout",
     "output_type": "stream",
     "text": [
      "0.02687442599719323 0.026114380529594115\n",
      "(('sa', 1), ('sa', 1), ('sal', 1), ('sal', 1))\n"
     ]
    },
    {
     "name": "stderr",
     "output_type": "stream",
     "text": [
      "\r",
      "  1%|          | 15/1296 [00:45<31:17,  1.47s/it]"
     ]
    },
    {
     "name": "stdout",
     "output_type": "stream",
     "text": [
      "0.00444822942189491 0.0035409332726921506\n",
      "(('sa', 1), ('sa', 1), ('sal', 1), ('sal', 2))\n"
     ]
    },
    {
     "name": "stderr",
     "output_type": "stream",
     "text": [
      " /home/chen/work/venv/lib/python3.6/site-packages/autograd/tracer.py:48: RuntimeWarning:invalid value encountered in log\n",
      " /home/chen/work/venv/lib/python3.6/site-packages/autograd/tracer.py:48: RuntimeWarning:overflow encountered in sinh\n",
      " /home/chen/work/venv/lib/python3.6/site-packages/autograd/tracer.py:48: RuntimeWarning:overflow encountered in cosh\n",
      " /home/chen/work/venv/lib/python3.6/site-packages/autograd/numpy/numpy_vjps.py:91: RuntimeWarning:overflow encountered in square\n",
      " /home/chen/work/venv/lib/python3.6/site-packages/autograd/numpy/numpy_vjps.py:91: RuntimeWarning:invalid value encountered in true_divide\n",
      " /home/chen/work/venv/lib/python3.6/site-packages/cwgp/kernel.py:6: RuntimeWarning:invalid value encountered in subtract\n",
      " /home/chen/work/venv/lib/python3.6/site-packages/numpy/linalg/linalg.py:2116: RuntimeWarning:invalid value encountered in det\n",
      " /home/chen/work/venv/lib/python3.6/site-packages/autograd/tracer.py:48: RuntimeWarning:overflow encountered in multiply\n",
      " /home/chen/work/venv/lib/python3.6/site-packages/autograd/numpy/numpy_vjps.py:88: RuntimeWarning:overflow encountered in multiply\n",
      " /home/chen/work/venv/lib/python3.6/site-packages/cwgp/transformations.py:5: RuntimeWarning:overflow encountered in multiply\n",
      " /home/chen/work/venv/lib/python3.6/site-packages/cwgp/phi.py:67: RuntimeWarning:overflow encountered in matmul\n",
      " /home/chen/work/venv/lib/python3.6/site-packages/autograd/numpy/numpy_vjps.py:35: RuntimeWarning:overflow encountered in multiply\n"
     ]
    }
   ],
   "source": [
    "result = grid_search(cwgp_regression, year, rate, {\"c\":4,\"n\":[1,2],\"transformations\":[\"sa\",\"sal\",\"box_cox\"]})\n"
   ]
  }
 ],
 "metadata": {
  "kernelspec": {
   "display_name": "Python 3",
   "language": "python",
   "name": "python3"
  },
  "language_info": {
   "codemirror_mode": {
    "name": "ipython",
    "version": 3
   },
   "file_extension": ".py",
   "mimetype": "text/x-python",
   "name": "python",
   "nbconvert_exporter": "python",
   "pygments_lexer": "ipython3",
   "version": "3.6.9"
  }
 },
 "nbformat": 4,
 "nbformat_minor": 4
}
