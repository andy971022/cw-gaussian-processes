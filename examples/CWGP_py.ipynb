{
 "cells": [
  {
   "cell_type": "code",
   "execution_count": null,
   "metadata": {},
   "outputs": [],
   "source": [
    "import seaborn as sns\n",
    "import matplotlib.pyplot as plt\n",
    "from autograd import elementwise_grad, grad\n",
    "import autograd.numpy as np\n",
    "import scipy\n",
    "from scipy.optimize import minimize"
   ]
  },
  {
   "cell_type": "code",
   "execution_count": null,
   "metadata": {},
   "outputs": [],
   "source": [
    "n = 1"
   ]
  },
  {
   "cell_type": "code",
   "execution_count": null,
   "metadata": {},
   "outputs": [],
   "source": [
    "betas = np.random.beta(5,1,size=100)"
   ]
  },
  {
   "cell_type": "code",
   "execution_count": null,
   "metadata": {},
   "outputs": [],
   "source": [
    "sns.distplot(betas)"
   ]
  },
  {
   "cell_type": "code",
   "execution_count": null,
   "metadata": {},
   "outputs": [],
   "source": [
    "def sal(par,y):\n",
    "    assert len(par)>=4, \"not enough params\"\n",
    "    return par[0]+par[1]*np.sinh(par[2]*np.arcsinh(y) + par[3])"
   ]
  },
  {
   "cell_type": "code",
   "execution_count": null,
   "metadata": {},
   "outputs": [],
   "source": [
    "def sal_comp(par,y,n):\n",
    "    assert len(par)>=4*n, \"not enough params\"\n",
    "    comp = y\n",
    "    for i in range(1,n):\n",
    "        comp = sal(par[4*i:],comp)\n",
    "    return comp"
   ]
  },
  {
   "cell_type": "code",
   "execution_count": null,
   "metadata": {},
   "outputs": [],
   "source": [
    "# http://stackoverflow.com/questions/45599524/partial-derivative-using-autograd"
   ]
  },
  {
   "cell_type": "code",
   "execution_count": null,
   "metadata": {},
   "outputs": [],
   "source": [
    "d_sal = elementwise_grad(sal_comp,1)"
   ]
  },
  {
   "cell_type": "code",
   "execution_count": null,
   "metadata": {},
   "outputs": [],
   "source": [
    "d_sal"
   ]
  },
  {
   "cell_type": "code",
   "execution_count": null,
   "metadata": {},
   "outputs": [],
   "source": [
    "def cov_kernel(gamma,x):\n",
    "    return np.exp(-gamma*np.abs(x))"
   ]
  },
  {
   "cell_type": "code",
   "execution_count": null,
   "metadata": {},
   "outputs": [],
   "source": [
    "def nllf(par):\n",
    "    phi_y = sal_comp(par,betas,n)\n",
    "    phi_y = phi_y[np.newaxis]\n",
    "    t_phi_y = np.transpose(phi_y)\n",
    "    \n",
    "    cov_xx = cov_kernel(1,np.log(np.exp(t_phi_y)) @ np.exp(-(phi_y)))\n",
    "    gaussian_params = 0.5 * (phi_y) @ np.linalg.inv(cov_xx) @ t_phi_y\n",
    "    \n",
    "    print(np.linalg.det(cov_xx))\n",
    "    \n",
    "    return  0.5 * np.log(np.linalg.det(cov_xx)) + gaussian_params - sum(np.log(d_sal(par,betas,n)))"
   ]
  },
  {
   "cell_type": "code",
   "execution_count": null,
   "metadata": {
    "scrolled": true
   },
   "outputs": [],
   "source": [
    "res = minimize(nllf, np.random.rand(4*n), method='nelder-mead')\n",
    "while res.success == False:\n",
    "    try:\n",
    "        res = minimize(nllf, np.random.rand(4*n), method='SLSQP')\n",
    "        print(np.random.rand(4*n))\n",
    "    except:\n",
    "        pass"
   ]
  },
  {
   "cell_type": "code",
   "execution_count": null,
   "metadata": {},
   "outputs": [],
   "source": [
    "res"
   ]
  },
  {
   "cell_type": "code",
   "execution_count": null,
   "metadata": {},
   "outputs": [],
   "source": [
    "res.x"
   ]
  },
  {
   "cell_type": "code",
   "execution_count": null,
   "metadata": {},
   "outputs": [],
   "source": [
    "transformed_betas = sal_comp(res.x,betas,n)"
   ]
  },
  {
   "cell_type": "code",
   "execution_count": null,
   "metadata": {},
   "outputs": [],
   "source": [
    "sns.distplot(transformed_betas)"
   ]
  }
 ],
 "metadata": {
  "kernelspec": {
   "display_name": "Python 3",
   "language": "python",
   "name": "python3"
  },
  "language_info": {
   "codemirror_mode": {
    "name": "ipython",
    "version": 3
   },
   "file_extension": ".py",
   "mimetype": "text/x-python",
   "name": "python",
   "nbconvert_exporter": "python",
   "pygments_lexer": "ipython3",
   "version": "3.6.9"
  }
 },
 "nbformat": 4,
 "nbformat_minor": 4
}
