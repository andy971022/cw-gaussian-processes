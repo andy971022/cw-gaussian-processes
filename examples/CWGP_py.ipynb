{
 "cells": [
  {
   "cell_type": "code",
   "execution_count": 1,
   "metadata": {},
   "outputs": [],
   "source": [
    "import seaborn as sns\n",
    "import matplotlib.pyplot as plt\n",
    "from autograd import elementwise_grad, grad\n",
    "import autograd.numpy as np\n",
    "import scipy\n",
    "from scipy.optimize import minimize\n",
    "import copy"
   ]
  },
  {
   "cell_type": "code",
   "execution_count": 2,
   "metadata": {},
   "outputs": [],
   "source": [
    "n = 1\n",
    "gamma = 1"
   ]
  },
  {
   "cell_type": "code",
   "execution_count": 3,
   "metadata": {},
   "outputs": [],
   "source": [
    "# betas = np.random.beta(7,1,size=1000)\n",
    "betas = np.random.exponential(scale=5,size=100)"
   ]
  },
  {
   "cell_type": "code",
   "execution_count": 4,
   "metadata": {},
   "outputs": [
    {
     "data": {
      "text/plain": [
       "<matplotlib.axes._subplots.AxesSubplot at 0x7f1f12aa1fd0>"
      ]
     },
     "execution_count": 4,
     "metadata": {},
     "output_type": "execute_result"
    },
    {
     "data": {
      "image/png": "[encoded data removed]",
      "text/plain": [
       "<Figure size 432x288 with 1 Axes>"
      ]
     },
     "metadata": {
      "needs_background": "light"
     },
     "output_type": "display_data"
    }
   ],
   "source": [
    "sns.distplot(betas)"
   ]
  },
  {
   "cell_type": "code",
   "execution_count": 5,
   "metadata": {},
   "outputs": [],
   "source": [
    "def sal(par,y):\n",
    "    assert len(par)>=4, \"not enough params\"\n",
    "    return par[0]+par[1]*np.sinh(par[2]*np.arcsinh(y) + par[3])"
   ]
  },
  {
   "cell_type": "code",
   "execution_count": 6,
   "metadata": {},
   "outputs": [],
   "source": [
    "d_sal = elementwise_grad(sal,1)"
   ]
  },
  {
   "cell_type": "code",
   "execution_count": 7,
   "metadata": {},
   "outputs": [],
   "source": [
    "def sal_comp(par,y,n):\n",
    "    assert len(par)>=4*n, \"not enough params\"\n",
    "    comp = copy.deepcopy(y)\n",
    "    for i in range(0,n):\n",
    "        comp = sal(par[4*i:],comp)\n",
    "    return comp"
   ]
  },
  {
   "cell_type": "code",
   "execution_count": 8,
   "metadata": {},
   "outputs": [],
   "source": [
    "def d_sal_comp(par,y,n):\n",
    "    assert len(par)>=4*n, \"not enough params\"\n",
    "    comp = copy.deepcopy(y)\n",
    "    for i in range(0,n):\n",
    "        comp *= d_sal(par[4*i:],comp)\n",
    "    return comp"
   ]
  },
  {
   "cell_type": "code",
   "execution_count": null,
   "metadata": {},
   "outputs": [],
   "source": []
  },
  {
   "cell_type": "code",
   "execution_count": 9,
   "metadata": {},
   "outputs": [],
   "source": [
    "# http://stackoverflow.com/questions/45599524/partial-derivative-using-autograd"
   ]
  },
  {
   "cell_type": "code",
   "execution_count": 10,
   "metadata": {},
   "outputs": [],
   "source": [
    "def cov_kernel(gamma,x):\n",
    "    return np.exp(-gamma*np.abs(x))"
   ]
  },
  {
   "cell_type": "code",
   "execution_count": 11,
   "metadata": {},
   "outputs": [
    {
     "name": "stdout",
     "output_type": "stream",
     "text": [
      "(100, 1) (1, 100)\n"
     ]
    }
   ],
   "source": [
    "par = np.random.rand(4*n)\n",
    "phi_y = sal_comp(par,betas,n)\n",
    "phi_y = phi_y[np.newaxis].reshape(-1,1)\n",
    "t_phi_y = np.transpose(phi_y)\n",
    "\n",
    "print(phi_y.shape,t_phi_y.shape)"
   ]
  },
  {
   "cell_type": "code",
   "execution_count": 12,
   "metadata": {},
   "outputs": [],
   "source": [
    "def nllf(par):\n",
    "    phi_y = sal_comp(par,betas,n)\n",
    "    phi_y = phi_y[np.newaxis].reshape(-1,1)\n",
    "    t_phi_y = np.transpose(phi_y)\n",
    "    \n",
    "    cov_xx = cov_kernel(gamma,np.log(np.exp(phi_y) @ np.exp(-(t_phi_y))))\n",
    "    gaussian_params = 0.5 * (t_phi_y) @ np.linalg.inv(cov_xx) @ phi_y\n",
    "    \n",
    "    chain_d_sal = d_sal_comp(par,betas,n)\n",
    "    \n",
    "    return  0.5 * np.log(np.linalg.det(cov_xx)) + gaussian_params - sum(np.log(chain_d_sal))"
   ]
  },
  {
   "cell_type": "code",
   "execution_count": 13,
   "metadata": {},
   "outputs": [
    {
     "data": {
      "text/plain": [
       "<matplotlib.axes._subplots.AxesSubplot at 0x7f1f1055ebe0>"
      ]
     },
     "execution_count": 13,
     "metadata": {},
     "output_type": "execute_result"
    },
    {
     "data": {
      "image/png": "[encoded data removed]",
      "text/plain": [
       "<Figure size 432x288 with 1 Axes>"
      ]
     },
     "metadata": {
      "needs_background": "light"
     },
     "output_type": "display_data"
    }
   ],
   "source": [
    "sns.distplot(betas)"
   ]
  },
  {
   "cell_type": "code",
   "execution_count": 14,
   "metadata": {},
   "outputs": [
    {
     "data": {
      "text/plain": [
       "array([[-93.41515329]])"
      ]
     },
     "execution_count": 14,
     "metadata": {},
     "output_type": "execute_result"
    }
   ],
   "source": [
    "nllf(np.random.rand(4*n))"
   ]
  },
  {
   "cell_type": "code",
   "execution_count": 15,
   "metadata": {
    "scrolled": true
   },
   "outputs": [
    {
     "name": "stderr",
     "output_type": "stream",
     "text": [
      "/home/chen/work/venv/lib/python3.6/site-packages/autograd/tracer.py:48: RuntimeWarning: invalid value encountered in log\n",
      "  return f_raw(*args, **kwargs)\n",
      "/home/chen/work/venv/lib/python3.6/site-packages/autograd/tracer.py:48: RuntimeWarning: overflow encountered in exp\n",
      "  return f_raw(*args, **kwargs)\n",
      "/home/chen/work/venv/lib/python3.6/site-packages/ipykernel_launcher.py:6: RuntimeWarning: invalid value encountered in matmul\n",
      "  \n",
      "/home/chen/work/venv/lib/python3.6/site-packages/autograd/tracer.py:48: RuntimeWarning: divide by zero encountered in log\n",
      "  return f_raw(*args, **kwargs)\n",
      "/home/chen/work/venv/lib/python3.6/site-packages/numpy/linalg/linalg.py:2116: RuntimeWarning: invalid value encountered in det\n",
      "  r = _umath_linalg.det(a, signature=signature)\n",
      "/home/chen/work/venv/lib/python3.6/site-packages/autograd/tracer.py:48: RuntimeWarning: overflow encountered in sinh\n",
      "  return f_raw(*args, **kwargs)\n",
      "/home/chen/work/venv/lib/python3.6/site-packages/ipykernel_launcher.py:3: RuntimeWarning: overflow encountered in multiply\n",
      "  This is separate from the ipykernel package so we can avoid doing imports until\n",
      "/home/chen/work/venv/lib/python3.6/site-packages/autograd/tracer.py:48: RuntimeWarning: overflow encountered in multiply\n",
      "  return f_raw(*args, **kwargs)\n",
      "/home/chen/work/venv/lib/python3.6/site-packages/autograd/tracer.py:48: RuntimeWarning: overflow encountered in cosh\n",
      "  return f_raw(*args, **kwargs)\n",
      "/home/chen/work/venv/lib/python3.6/site-packages/autograd/numpy/numpy_vjps.py:88: RuntimeWarning: overflow encountered in multiply\n",
      "  defvjp(anp.sinh,   lambda ans, x : lambda g: g * anp.cosh(x))\n"
     ]
    },
    {
     "name": "stdout",
     "output_type": "stream",
     "text": [
      "[[ 0.01762132]\n",
      " [ 0.15014186]\n",
      " [ 1.50255575]\n",
      " [-0.96199558]]\n",
      "[[-3.5354676 ]\n",
      " [-4.04064621]\n",
      " [ 2.98747729]\n",
      " [ 1.79727242]]\n",
      "[[-4.42078736]\n",
      " [ 4.49667745]\n",
      " [ 1.78172357]\n",
      " [-0.68823061]]\n",
      "[[-3.82242545]\n",
      " [-4.28117912]\n",
      " [-4.39453413]\n",
      " [ 1.51458936]]\n",
      "[[ 3.02156313]\n",
      " [ 2.66752415]\n",
      " [ 1.05647715]\n",
      " [-4.33525268]]\n"
     ]
    }
   ],
   "source": [
    "res = minimize(nllf, np.random.rand(4*n), method='L-BFGS-B')\n",
    "while res.success == False:\n",
    "    try:\n",
    "        rand = np.random.uniform(low=-5, high=5, size=(4*n, 1))\n",
    "        res = minimize(nllf, rand , method='L-BFGS-B')\n",
    "        print(rand)\n",
    "    except:\n",
    "        pass"
   ]
  },
  {
   "cell_type": "code",
   "execution_count": 16,
   "metadata": {},
   "outputs": [
    {
     "data": {
      "text/plain": [
       "      fun: array([[-141.75092473]])\n",
       " hess_inv: <4x4 LbfgsInvHessProduct with dtype=float64>\n",
       "      jac: array([ 0.0040302 , -0.00393072,  0.12211672,  0.063676  ])\n",
       "  message: b'CONVERGENCE: REL_REDUCTION_OF_F_<=_FACTR*EPSMCH'\n",
       "     nfev: 485\n",
       "      nit: 67\n",
       "   status: 0\n",
       "  success: True\n",
       "        x: array([19.45520475,  6.69958763,  0.0985474 , -1.97244457])"
      ]
     },
     "execution_count": 16,
     "metadata": {},
     "output_type": "execute_result"
    }
   ],
   "source": [
    "res"
   ]
  },
  {
   "cell_type": "code",
   "execution_count": 17,
   "metadata": {},
   "outputs": [
    {
     "data": {
      "text/plain": [
       "array([19.45520475,  6.69958763,  0.0985474 , -1.97244457])"
      ]
     },
     "execution_count": 17,
     "metadata": {},
     "output_type": "execute_result"
    }
   ],
   "source": [
    "res.x"
   ]
  },
  {
   "cell_type": "code",
   "execution_count": 18,
   "metadata": {},
   "outputs": [],
   "source": [
    "transformed_betas = sal_comp(res.x,betas,n)"
   ]
  },
  {
   "cell_type": "code",
   "execution_count": 19,
   "metadata": {},
   "outputs": [
    {
     "data": {
      "text/plain": [
       "<matplotlib.axes._subplots.AxesSubplot at 0x7f1f104ea2b0>"
      ]
     },
     "execution_count": 19,
     "metadata": {},
     "output_type": "execute_result"
    },
    {
     "data": {
      "image/png": "[encoded data removed]",
      "text/plain": [
       "<Figure size 432x288 with 1 Axes>"
      ]
     },
     "metadata": {
      "needs_background": "light"
     },
     "output_type": "display_data"
    }
   ],
   "source": [
    "sns.distplot(transformed_betas)"
   ]
  }
 ],
 "metadata": {
  "kernelspec": {
   "display_name": "Python 3",
   "language": "python",
   "name": "python3"
  },
  "language_info": {
   "codemirror_mode": {
    "name": "ipython",
    "version": 3
   },
   "file_extension": ".py",
   "mimetype": "text/x-python",
   "name": "python",
   "nbconvert_exporter": "python",
   "pygments_lexer": "ipython3",
   "version": "3.6.9"
  }
 },
 "nbformat": 4,
 "nbformat_minor": 4
}
