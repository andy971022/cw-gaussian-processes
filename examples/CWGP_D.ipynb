{
 "cells": [
  {
   "cell_type": "code",
   "execution_count": 1,
   "metadata": {},
   "outputs": [
    {
     "name": "stderr",
     "output_type": "stream",
     "text": [
      "Warning message:\n",
      "“package ‘Deriv’ was built under R version 3.6.3”"
     ]
    }
   ],
   "source": [
    "library(Deriv)"
   ]
  },
  {
   "cell_type": "code",
   "execution_count": 2,
   "metadata": {},
   "outputs": [],
   "source": [
    "set.seed(2021)"
   ]
  },
  {
   "cell_type": "code",
   "execution_count": 3,
   "metadata": {},
   "outputs": [],
   "source": [
    "n <- 100\n",
    "betas <- matrix(rbeta(n,5,2))"
   ]
  },
  {
   "cell_type": "code",
   "execution_count": 4,
   "metadata": {},
   "outputs": [
    {
     "data": {
      "text/html": [
       "<ol class=list-inline>\n",
       "\t<li>0.738380190283766</li>\n",
       "\t<li>0.58951334445223</li>\n",
       "\t<li>0.638610545717967</li>\n",
       "\t<li>0.636055231836783</li>\n",
       "\t<li>0.958235950603937</li>\n",
       "</ol>\n"
      ],
      "text/latex": [
       "\\begin{enumerate*}\n",
       "\\item 0.738380190283766\n",
       "\\item 0.58951334445223\n",
       "\\item 0.638610545717967\n",
       "\\item 0.636055231836783\n",
       "\\item 0.958235950603937\n",
       "\\end{enumerate*}\n"
      ],
      "text/markdown": [
       "1. 0.738380190283766\n",
       "2. 0.58951334445223\n",
       "3. 0.638610545717967\n",
       "4. 0.636055231836783\n",
       "5. 0.958235950603937\n",
       "\n",
       "\n"
      ],
      "text/plain": [
       "[1] 0.7383802 0.5895133 0.6386105 0.6360552 0.9582360"
      ]
     },
     "metadata": {},
     "output_type": "display_data"
    }
   ],
   "source": [
    "betas[1:5]"
   ]
  },
  {
   "cell_type": "code",
   "execution_count": 5,
   "metadata": {},
   "outputs": [
    {
     "data": {
      "image/png": "[encoded data removed]",
      "text/plain": [
       "Plot with title “Histogram of betas”"
      ]
     },
     "metadata": {},
     "output_type": "display_data"
    }
   ],
   "source": [
    "hist(betas)"
   ]
  },
  {
   "cell_type": "code",
   "execution_count": 6,
   "metadata": {},
   "outputs": [
    {
     "data": {
      "text/html": [
       "<ol class=list-inline>\n",
       "\t<li>100</li>\n",
       "\t<li>1</li>\n",
       "</ol>\n"
      ],
      "text/latex": [
       "\\begin{enumerate*}\n",
       "\\item 100\n",
       "\\item 1\n",
       "\\end{enumerate*}\n"
      ],
      "text/markdown": [
       "1. 100\n",
       "2. 1\n",
       "\n",
       "\n"
      ],
      "text/plain": [
       "[1] 100   1"
      ]
     },
     "metadata": {},
     "output_type": "display_data"
    }
   ],
   "source": [
    "dim(betas)"
   ]
  },
  {
   "cell_type": "code",
   "execution_count": 7,
   "metadata": {},
   "outputs": [],
   "source": [
    "sal <- function(a,b,c,d,y){\n",
    "    a + b*sinh(c*asinh(y) + d)\n",
    "    }"
   ]
  },
  {
   "cell_type": "code",
   "execution_count": 10,
   "metadata": {},
   "outputs": [],
   "source": [
    "sal_comp <- function(v,y,n){\n",
    "    for(i in 0:n){\n",
    "        y = sal(v[1+4*i],v[2+4*i],v[3+4*i],v[4+4*i],y)\n",
    "    }\n",
    "    return(y)\n",
    "}"
   ]
  },
  {
   "cell_type": "code",
   "execution_count": 8,
   "metadata": {},
   "outputs": [],
   "source": [
    "cov_kernel <- function(gamma,x){\n",
    "    exp(-gamma*abs(x))\n",
    "}"
   ]
  },
  {
   "cell_type": "code",
   "execution_count": 11,
   "metadata": {},
   "outputs": [
    {
     "ename": "ERROR",
     "evalue": "Error in Deriv_(a, x[ix], env, use.D, dsym, scache): Could not retrieve body of 'for()'\n",
     "output_type": "error",
     "traceback": [
      "Error in Deriv_(a, x[ix], env, use.D, dsym, scache): Could not retrieve body of 'for()'\nTraceback:\n",
      "1. Deriv(sal_comp, \"y\")",
      "2. Deriv_(fd, x, env, use.D, dsym, scache, combine)",
      "3. lapply(seq_along(x), function(ix) Deriv_(a, x[ix], env, use.D, \n .     dsym, scache))",
      "4. FUN(X[[i]], ...)",
      "5. Deriv_(a, x[ix], env, use.D, dsym, scache)",
      "6. stop(sprintf(\"Could not retrieve body of '%s()'\", stch))"
     ]
    }
   ],
   "source": [
    "drule[[\"asinh\"]] <- alist(x=1/sqrt(x^2+1))\n",
    "\n",
    "d_sal = Deriv(sal_comp,\"y\")"
   ]
  }
 ],
 "metadata": {
  "kernelspec": {
   "display_name": "R",
   "language": "R",
   "name": "ir"
  },
  "language_info": {
   "codemirror_mode": "r",
   "file_extension": ".r",
   "mimetype": "text/x-r-source",
   "name": "R",
   "pygments_lexer": "r",
   "version": "3.6.1"
  }
 },
 "nbformat": 4,
 "nbformat_minor": 4
}
