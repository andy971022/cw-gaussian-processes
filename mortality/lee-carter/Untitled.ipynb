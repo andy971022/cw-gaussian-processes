{
 "cells": [
  {
   "cell_type": "code",
   "execution_count": null,
   "metadata": {},
   "outputs": [],
   "source": [
    "#https://www.kaggle.com/tokutani/lee-carter-model"
   ]
  },
  {
   "cell_type": "code",
   "execution_count": 1,
   "metadata": {},
   "outputs": [],
   "source": [
    "import pandas as pd\n",
    "import numpy as np"
   ]
  },
  {
   "cell_type": "code",
   "execution_count": 5,
   "metadata": {},
   "outputs": [
    {
     "name": "stdout",
     "output_type": "stream",
     "text": [
      "import itertools\r\n",
      "from cwgp.grid_search import grid_search\r\n",
      "import pandas as pd\r\n",
      "import numpy as np\r\n",
      "import seaborn as sns\r\n",
      "import matplotlib.pyplot as plt\r\n",
      "import copy\r\n",
      "import GPy\r\n",
      "from sklearn.metrics import mean_absolute_error, mean_squared_error\r\n",
      "from sklearn.preprocessing import normalize\r\n",
      "import os\r\n",
      "\r\n",
      "\r\n",
      "\r\n",
      "\r\n",
      "def zero(x):\r\n",
      "\treturn 0\r\n",
      "\r\n",
      "def one(x):\r\n",
      "\treturn 1\r\n",
      "\r\n",
      "def average(x):\r\n",
      "\treturn avg\r\n",
      "\r\n",
      "def sigmoid(x):\r\n",
      "\treturn  1/(1+np.exp(-x))\r\n",
      "\r\n",
      "def exponential(x):\r\n",
      "\treturn np.exp(-x)\r\n",
      "\r\n",
      "\r\n",
      "\r\n",
      "def gp_regression(x, y, mean_func):\r\n",
      "\t# kernel = GPy.kern.RBF(1)\r\n",
      "\tkernel = GPy.kern.Matern32(1)\r\n",
      "\r\n",
      "\tmf = GPy.core.Mapping(1,1)\r\n",
      "\tmf.f = lambda x: mean_func(x)\r\n",
      "\tmf.update_gradients = lambda a,b: None\r\n",
      "\r\n",
      "\r\n",
      "\tmodel = GPy.models.GPRegression(x[train_low:train_up], y[train_low:train_up], mean_function=mf, kernel=kernel)\r\n",
      "\tmodel.optimize()\r\n",
      "\r\n",
      "\ty_pred = model.predict(x[train_up:])[0]\r\n",
      "\ty_true = y[train_up:]\r\n",
      "\r\n",
      "\trmse = mean_squared_error(y_true, y_pred, squared=False)\r\n",
      "\tmae = mean_absolute_error(y_true, y_pred)\r\n",
      "\r\n",
      "\ttxt = f\"\"\"rmse : {rmse} \\n mae : {mae}\"\"\"\r\n",
      "\r\n",
      "\tmodel.plot(plot_limits=[1940,2031])\r\n",
      "\r\n",
      "\tplt.title('Age ' + str(age) + f\" {mean_func.__name__}\")\r\n",
      "\tplt.xlabel('Year')\r\n",
      "\tplt.ylabel('Mortality Rate' )\r\n",
      "\tplt.scatter(x[train_up:], y[train_up:], marker=\"x\", color='red')\r\n",
      "\tplt.figtext(0.5, 0.2, txt, wrap=True, horizontalalignment='center', fontsize=12)\r\n",
      "\t# plt.ylim([0.1,0.35])\r\n",
      "\tplt.ylim([0,0.12])\r\n",
      "\r\n",
      "\tplt.grid(True)\r\n",
      "\tplt.savefig(f'./{IMG_DIR}/{mean_func.__name__}_{age}_mf.png')\r\n",
      "\tplt.show()\r\n",
      "\r\n",
      "\r\n",
      "\treturn rmse, mae\r\n",
      "\r\n",
      "\r\n",
      "\r\n",
      "if __name__ == '__main__':\r\n",
      "\tCSV_FIlE = \"../japan3.csv\"\r\n",
      "\tIMG_DIR = \"./mf\"\r\n",
      "\r\n",
      "\tdf = pd.read_csv(CSV_FIlE)\r\n",
      "\tage = 75\r\n",
      "\tdf_all = {}\r\n",
      "\tdf_all[age]= df[(df[\"age\"]==age)]\r\n",
      "\r\n",
      "\trate = df_all[age][\"rate\"].to_numpy().reshape(-1,1)\r\n",
      "\tyear = df_all[age][\"year\"].to_numpy().reshape(-1,1)\r\n",
      "\r\n",
      "\tratio = 0.9\r\n",
      "\tlength = len(rate)\r\n",
      "\ttrain = int(ratio*length)\r\n",
      "\ttrain_up, train_low = train, train-train\r\n",
      "\t\r\n",
      "\r\n",
      "\tavg = np.mean(rate[train_low:train_up])\r\n",
      "\r\n",
      "\tmean_funcs = [zero,one,sigmoid,exponential,average]\r\n",
      "\r\n",
      "\tif not os.path.exists(IMG_DIR):\r\n",
      "\t\tos.makedirs(IMG_DIR)\r\n",
      "\r\n",
      "\tfor mf in mean_funcs:\r\n",
      "\t\tout = gp_regression(year, rate, mf)\r\n",
      "\t\tprint(out)"
     ]
    }
   ],
   "source": [
    "!cat ../grid_search_and_mean_function/mortality_mf.py"
   ]
  },
  {
   "cell_type": "code",
   "execution_count": 26,
   "metadata": {},
   "outputs": [
    {
     "data": {
      "text/plain": [
       "array([[0.3010279 ],\n",
       "       [0.26294821],\n",
       "       [0.28878282],\n",
       "       [0.30267922],\n",
       "       [0.29271007],\n",
       "       [0.26286509],\n",
       "       [0.30108992],\n",
       "       [0.29209622],\n",
       "       [0.28485077],\n",
       "       [0.28046833],\n",
       "       [0.31871728],\n",
       "       [0.26592479],\n",
       "       [0.26855547],\n",
       "       [0.29261364],\n",
       "       [0.27590848],\n",
       "       [0.29515184],\n",
       "       [0.27793594],\n",
       "       [0.2752925 ],\n",
       "       [0.28516129],\n",
       "       [0.26492772],\n",
       "       [0.2735761 ],\n",
       "       [0.28095238],\n",
       "       [0.26707531],\n",
       "       [0.26690286],\n",
       "       [0.2556247 ],\n",
       "       [0.24618071],\n",
       "       [0.262466  ],\n",
       "       [0.26419121],\n",
       "       [0.25080325],\n",
       "       [0.24711908],\n",
       "       [0.23875326],\n",
       "       [0.23717385],\n",
       "       [0.22099163],\n",
       "       [0.24047453],\n",
       "       [0.23090519],\n",
       "       [0.21287955],\n",
       "       [0.22210767],\n",
       "       [0.21192475],\n",
       "       [0.21016498],\n",
       "       [0.20552061],\n",
       "       [0.20082579],\n",
       "       [0.21479959],\n",
       "       [0.19471133],\n",
       "       [0.20797302],\n",
       "       [0.19665895],\n",
       "       [0.19837425],\n",
       "       [0.19527811],\n",
       "       [0.19079436],\n",
       "       [0.19739815],\n",
       "       [0.18000675],\n",
       "       [0.18995404],\n",
       "       [0.17696754],\n",
       "       [0.18549714],\n",
       "       [0.17001893],\n",
       "       [0.16858645],\n",
       "       [0.16654973],\n",
       "       [0.16780106],\n",
       "       [0.1644424 ],\n",
       "       [0.16697836],\n",
       "       [0.16528843],\n",
       "       [0.1623647 ],\n",
       "       [0.1632137 ],\n",
       "       [0.1572327 ],\n",
       "       [0.16566548],\n",
       "       [0.16244566],\n",
       "       [0.16526979],\n",
       "       [0.15868852],\n",
       "       [0.15498186],\n",
       "       [0.15571492],\n",
       "       [0.15484805]])"
      ]
     },
     "execution_count": 26,
     "metadata": {},
     "output_type": "execute_result"
    }
   ],
   "source": [
    "CSV_FIlE = \"../japan3.csv\"\n",
    "IMG_DIR = \"./mf\"\n",
    "\n",
    "df = pd.read_csv(CSV_FIlE)\n",
    "age = 90\n",
    "df_all = {}\n",
    "df_all[age]= df[(df[\"age\"]==age)]\n",
    "\n",
    "rate = df_all[age][\"rate\"].to_numpy().reshape(-1,1)\n",
    "year = df_all[age][\"year\"].to_numpy().reshape(-1,1)\n",
    "\n"
   ]
  },
  {
   "cell_type": "code",
   "execution_count": 31,
   "metadata": {},
   "outputs": [
    {
     "data": {
      "text/plain": [
       "(array([-1.86884816]),\n",
       " array([-0.16602506, -0.09365649, -0.14380386, -0.16895232, -0.15103168,\n",
       "        -0.09348732, -0.16613528, -0.14990835, -0.13646808, -0.12817173,\n",
       "        -0.19657943, -0.09967968, -0.10494707, -0.15085536, -0.11940076,\n",
       "        -0.15547684, -0.12331838, -0.1182048 , -0.13705106, -0.09766962,\n",
       "        -0.11485817, -0.12909442, -0.10198974, -0.10164413, -0.07854197,\n",
       "        -0.05839881, -0.09267432, -0.09617998, -0.06835303, -0.06043454,\n",
       "        -0.04200626, -0.03845475, -0.00064076, -0.04585008, -0.02412173,\n",
       "         0.01937067, -0.00333625,  0.02177601,  0.02623782,  0.03819519,\n",
       "         0.05056029,  0.01456613,  0.06710508,  0.03184795,  0.06177941,\n",
       "         0.05713248,  0.06554978,  0.07797913,  0.0597719 ,  0.10912227,\n",
       "         0.08034103,  0.11823379,  0.09304548,  0.1396676 ,  0.14419507,\n",
       "         0.15069891,  0.14669368,  0.15751252,  0.14932359,  0.15476662,\n",
       "         0.16431635,  0.16152568,  0.1815024 ,  0.1535474 ,  0.16404959,\n",
       "         0.15482698,  0.1765708 ,  0.18921776,  0.18669277,  0.18967996]))"
      ]
     },
     "execution_count": 31,
     "metadata": {},
     "output_type": "execute_result"
    }
   ],
   "source": [
    "x = age\n",
    "T = max(year) - min(year)\n",
    "logm_xt = np.log(rate).T\n",
    "a_x = np.mean(logm_xt)\n",
    "\n",
    "z_xt = logm_xt - a_x\n",
    "\n",
    "U,S,V = np.linalg.svd(z_xt, full_matrices=True)\n",
    "\n",
    "bxkt = S[0] * U[:,0]*V[0,:]\n",
    "eps = z_xt - bxkt\n",
    "\n",
    "bx = S[0] * U[:,0]\n",
    "\n",
    "kt = V[0,:]\n",
    "\n",
    "\n",
    "bx,kt"
   ]
  },
  {
   "cell_type": "code",
   "execution_count": 44,
   "metadata": {},
   "outputs": [
    {
     "data": {
      "text/plain": [
       "<matplotlib.axes._subplots.AxesSubplot at 0x7fb1aebd94a8>"
      ]
     },
     "execution_count": 44,
     "metadata": {},
     "output_type": "execute_result"
    },
    {
     "data": {
      "image/png": "[encoded data removed]",
      "text/plain": [
       "<Figure size 432x288 with 1 Axes>"
      ]
     },
     "metadata": {
      "needs_background": "light"
     },
     "output_type": "display_data"
    }
   ],
   "source": [
    "import seaborn as sns\n",
    "\n",
    "sns.lineplot(np.ravel(year),kt)"
   ]
  },
  {
   "cell_type": "code",
   "execution_count": null,
   "metadata": {},
   "outputs": [],
   "source": [
    "#第５９号　第２分冊（２００６年） 将来死亡率推定に関する一考察　＜及川桂＞ \n",
    "#Lee Carter Model\n",
    "#logmx = ax + bx*kt + ε\n",
    "#Σbx=1, Σkx=0\n",
    "\n",
    "#Parameter設定\n",
    "T=70\n",
    "N=101\n",
    "logm_xt=logmx_m+0 #ここでは男性の実績死亡率を使用\n",
    "\n",
    "#ここから計算\n",
    "a_x=logm_xt.sum(axis=1) / T #論文(1.4)式より\n",
    "z_xt=logm_xt - a_x.reshape(N,1) #ブロードキャストにより計算　(101,70) - (101,1)の形式\n",
    "\n",
    "U, S, V = np.linalg.svd(z_xt, full_matrices=True)\n",
    "\n",
    "bxkt = S[0] * np.dot(U[:,0].reshape(N,1),V[0,:].reshape(T,1).T) #論文(1.5)式より\n",
    "eps = z_xt - bxkt\n",
    "\n",
    "#Lee Carter Modelでの予測値\n",
    "logm_xt_lcfitted = bxkt + a_x.reshape(N,1)\n",
    "\n",
    "#bx,kxの出力\n",
    "b_x = U[:,0]/U[:,0].sum() #論文(1.7)式より\n",
    "k_t = V[0,:]*S[0]*U[:,0].sum()\n",
    "a_x = a_x + k_t.sum()*b_x\n",
    "k_t = k_t - k_t.sum()\n",
    "\n",
    "#ax+bx*ktが予測値を再現することの確認\n",
    "chk = logm_xt_lcfitted - a_x.reshape(N,1)\n",
    "chk = chk - np.dot(b_x.reshape(N,1),k_t.reshape(T,1).T)\n",
    "chk = chk*chk\n",
    "print(chk.sum())"
   ]
  }
 ],
 "metadata": {
  "kernelspec": {
   "display_name": "Python 3",
   "language": "python",
   "name": "python3"
  },
  "language_info": {
   "codemirror_mode": {
    "name": "ipython",
    "version": 3
   },
   "file_extension": ".py",
   "mimetype": "text/x-python",
   "name": "python",
   "nbconvert_exporter": "python",
   "pygments_lexer": "ipython3",
   "version": "3.6.9"
  }
 },
 "nbformat": 4,
 "nbformat_minor": 4
}
