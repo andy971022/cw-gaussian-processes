{
 "cells": [
  {
   "cell_type": "code",
   "execution_count": 1,
   "metadata": {},
   "outputs": [],
   "source": [
    "library(Deriv)"
   ]
  },
  {
   "cell_type": "code",
   "execution_count": 2,
   "metadata": {},
   "outputs": [],
   "source": [
    "n <- 100\n",
    "betas <- rbeta(n,5,2)"
   ]
  },
  {
   "cell_type": "code",
   "execution_count": 3,
   "metadata": {},
   "outputs": [
    {
     "data": {
      "text/html": [
       "<ol class=list-inline>\n",
       "\t<li>0.848239213937998</li>\n",
       "\t<li>0.64522061189927</li>\n",
       "\t<li>0.86608404566351</li>\n",
       "\t<li>0.447126874221722</li>\n",
       "\t<li>0.833088200793447</li>\n",
       "</ol>\n"
      ],
      "text/latex": [
       "\\begin{enumerate*}\n",
       "\\item 0.848239213937998\n",
       "\\item 0.64522061189927\n",
       "\\item 0.86608404566351\n",
       "\\item 0.447126874221722\n",
       "\\item 0.833088200793447\n",
       "\\end{enumerate*}\n"
      ],
      "text/markdown": [
       "1. 0.848239213937998\n",
       "2. 0.64522061189927\n",
       "3. 0.86608404566351\n",
       "4. 0.447126874221722\n",
       "5. 0.833088200793447\n",
       "\n",
       "\n"
      ],
      "text/plain": [
       "[1] 0.8482392 0.6452206 0.8660840 0.4471269 0.8330882"
      ]
     },
     "metadata": {},
     "output_type": "display_data"
    }
   ],
   "source": [
    "betas[1:5]"
   ]
  },
  {
   "cell_type": "code",
   "execution_count": 4,
   "metadata": {},
   "outputs": [
    {
     "data": {
      "image/png": "[encoded data removed]",
      "text/plain": [
       "Plot with title “Histogram of betas”"
      ]
     },
     "metadata": {},
     "output_type": "display_data"
    }
   ],
   "source": [
    "hist(betas)"
   ]
  },
  {
   "cell_type": "code",
   "execution_count": 36,
   "metadata": {},
   "outputs": [],
   "source": [
    "sal <- function(a,b,c,d,y){\n",
    "    a + b*sinh(c*asinh(y)+d)\n",
    "    }\n",
    "# sal = expression(a + b*sinh(c*asinh(y)+d))\n",
    "drule[[\"asinh\"]] <- alist(x=1/sqrt(x^2+1))\n",
    "\n",
    "d_sal = Deriv(sal,\"y\")\n",
    "\n",
    "# negative log likelihood function\n",
    "# https://stackoverflow.com/questions/20479315/optim-function-argument-missing\n",
    "nllf <- function(v){\n",
    "    a <- 0 # nothing\n",
    "    b <- v[2]\n",
    "    c <- v[3]\n",
    "    d <- v[4]\n",
    "    return(-sum(d_sal(a,b,c,d,betas)))\n",
    "    }\n"
   ]
  },
  {
   "cell_type": "code",
   "execution_count": 37,
   "metadata": {},
   "outputs": [
    {
     "data": {
      "text/html": [
       "<pre class=language-r><code>function (a, b, c, d, y) \n",
       "b * c * cosh(c * asinh(y) + d)/sqrt(1 + y^2)</code></pre>"
      ],
      "text/latex": [
       "\\begin{minted}{r}\n",
       "function (a, b, c, d, y) \n",
       "b * c * cosh(c * asinh(y) + d)/sqrt(1 + y\\textasciicircum{}2)\n",
       "\\end{minted}"
      ],
      "text/markdown": [
       "```r\n",
       "function (a, b, c, d, y) \n",
       "b * c * cosh(c * asinh(y) + d)/sqrt(1 + y^2)\n",
       "```"
      ],
      "text/plain": [
       "function (a, b, c, d, y) \n",
       "b * c * cosh(c * asinh(y) + d)/sqrt(1 + y^2)"
      ]
     },
     "metadata": {},
     "output_type": "display_data"
    }
   ],
   "source": [
    "d_sal"
   ]
  },
  {
   "cell_type": "code",
   "execution_count": 6,
   "metadata": {},
   "outputs": [],
   "source": [
    "#log likelihood\n",
    "# L = -1/2log|C|-1/2(y-\\mu)C^{-1}(y-\\mu)+\\sum log \\partial \\phi(yi)/\\partial yi - N/2 log2\\pi"
   ]
  },
  {
   "cell_type": "code",
   "execution_count": 41,
   "metadata": {},
   "outputs": [
    {
     "data": {
      "text/html": [
       "<dl>\n",
       "\t<dt>$par</dt>\n",
       "\t\t<dd><dl class=dl-horizontal>\n",
       "\t<dt>a</dt>\n",
       "\t\t<dd>-611.619087916032</dd>\n",
       "\t<dt>b</dt>\n",
       "\t\t<dd>936.857124695686</dd>\n",
       "\t<dt>c</dt>\n",
       "\t\t<dd>562.99744468568</dd>\n",
       "\t<dt>d</dt>\n",
       "\t\t<dd>204.668168155846</dd>\n",
       "</dl>\n",
       "</dd>\n",
       "\t<dt>$value</dt>\n",
       "\t\t<dd>-1.28059075324939e+308</dd>\n",
       "\t<dt>$counts</dt>\n",
       "\t\t<dd><dl class=dl-horizontal>\n",
       "\t<dt>function</dt>\n",
       "\t\t<dd>501</dd>\n",
       "\t<dt>gradient</dt>\n",
       "\t\t<dd>&lt;NA&gt;</dd>\n",
       "</dl>\n",
       "</dd>\n",
       "\t<dt>$convergence</dt>\n",
       "\t\t<dd>1</dd>\n",
       "\t<dt>$message</dt>\n",
       "\t\t<dd>NULL</dd>\n",
       "</dl>\n"
      ],
      "text/latex": [
       "\\begin{description}\n",
       "\\item[\\$par] \\begin{description*}\n",
       "\\item[a] -611.619087916032\n",
       "\\item[b] 936.857124695686\n",
       "\\item[c] 562.99744468568\n",
       "\\item[d] 204.668168155846\n",
       "\\end{description*}\n",
       "\n",
       "\\item[\\$value] -1.28059075324939e+308\n",
       "\\item[\\$counts] \\begin{description*}\n",
       "\\item[function] 501\n",
       "\\item[gradient] <NA>\n",
       "\\end{description*}\n",
       "\n",
       "\\item[\\$convergence] 1\n",
       "\\item[\\$message] NULL\n",
       "\\end{description}\n"
      ],
      "text/markdown": [
       "$par\n",
       ":   a\n",
       ":   -611.619087916032b\n",
       ":   936.857124695686c\n",
       ":   562.99744468568d\n",
       ":   204.668168155846\n",
       "\n",
       "\n",
       "$value\n",
       ":   -1.28059075324939e+308\n",
       "$counts\n",
       ":   function\n",
       ":   501gradient\n",
       ":   &lt;NA&gt;\n",
       "\n",
       "\n",
       "$convergence\n",
       ":   1\n",
       "$message\n",
       ":   NULL\n",
       "\n",
       "\n"
      ],
      "text/plain": [
       "$par\n",
       "        a         b         c         d \n",
       "-611.6191  936.8571  562.9974  204.6682 \n",
       "\n",
       "$value\n",
       "[1] -1.280591e+308\n",
       "\n",
       "$counts\n",
       "function gradient \n",
       "     501       NA \n",
       "\n",
       "$convergence\n",
       "[1] 1\n",
       "\n",
       "$message\n",
       "NULL\n"
      ]
     },
     "metadata": {},
     "output_type": "display_data"
    }
   ],
   "source": [
    "o = optim(par=c(a=0.1,b=0.1,c=0.1,d=0.1),fn=nllf)\n",
    "o"
   ]
  },
  {
   "cell_type": "code",
   "execution_count": 42,
   "metadata": {},
   "outputs": [
    {
     "ename": "ERROR",
     "evalue": "Error in print(o.par): object 'o.par' not found\n",
     "output_type": "error",
     "traceback": [
      "Error in print(o.par): object 'o.par' not found\nTraceback:\n",
      "1. print(o.par)"
     ]
    }
   ],
   "source": [
    "print(o.par)"
   ]
  },
  {
   "cell_type": "code",
   "execution_count": null,
   "metadata": {},
   "outputs": [],
   "source": [
    "optim(rep(0.5,8),sal)\n",
    "## a,b,c,d\n",
    "## d seems to control the position"
   ]
  },
  {
   "cell_type": "code",
   "execution_count": null,
   "metadata": {},
   "outputs": [],
   "source": [
    "hist(betas)"
   ]
  }
 ],
 "metadata": {
  "kernelspec": {
   "display_name": "R",
   "language": "R",
   "name": "ir"
  },
  "language_info": {
   "codemirror_mode": "r",
   "file_extension": ".r",
   "mimetype": "text/x-r-source",
   "name": "R",
   "pygments_lexer": "r",
   "version": "3.6.1"
  }
 },
 "nbformat": 4,
 "nbformat_minor": 4
}
