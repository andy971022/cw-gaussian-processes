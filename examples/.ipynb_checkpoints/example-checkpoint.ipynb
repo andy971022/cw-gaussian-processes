{
 "cells": [
  {
   "cell_type": "code",
   "execution_count": 14,
   "metadata": {},
   "outputs": [],
   "source": [
    "betas <- rbeta(1000,1,5)"
   ]
  },
  {
   "cell_type": "code",
   "execution_count": 15,
   "metadata": {},
   "outputs": [
    {
     "data": {
      "text/html": [
       "<ol class=list-inline>\n",
       "\t<li>0.0773125854697172</li>\n",
       "\t<li>0.340287214229446</li>\n",
       "\t<li>0.00332762906560996</li>\n",
       "\t<li>0.17701819574358</li>\n",
       "\t<li>0.108410781541122</li>\n",
       "</ol>\n"
      ],
      "text/latex": [
       "\\begin{enumerate*}\n",
       "\\item 0.0773125854697172\n",
       "\\item 0.340287214229446\n",
       "\\item 0.00332762906560996\n",
       "\\item 0.17701819574358\n",
       "\\item 0.108410781541122\n",
       "\\end{enumerate*}\n"
      ],
      "text/markdown": [
       "1. 0.0773125854697172\n",
       "2. 0.340287214229446\n",
       "3. 0.00332762906560996\n",
       "4. 0.17701819574358\n",
       "5. 0.108410781541122\n",
       "\n",
       "\n"
      ],
      "text/plain": [
       "[1] 0.077312585 0.340287214 0.003327629 0.177018196 0.108410782"
      ]
     },
     "metadata": {},
     "output_type": "display_data"
    }
   ],
   "source": [
    "betas[1:5]"
   ]
  },
  {
   "cell_type": "code",
   "execution_count": 16,
   "metadata": {},
   "outputs": [
    {
     "data": {
      "image/png": "[encoded data removed]",
      "text/plain": [
       "Plot with title “Histogram of betas”"
      ]
     },
     "metadata": {},
     "output_type": "display_data"
    }
   ],
   "source": [
    "hist(betas)"
   ]
  },
  {
   "cell_type": "code",
   "execution_count": 20,
   "metadata": {},
   "outputs": [
    {
     "data": {
      "text/html": [
       "-1.00010614344219"
      ],
      "text/latex": [
       "-1.00010614344219"
      ],
      "text/markdown": [
       "-1.00010614344219"
      ],
      "text/plain": [
       "[1] -1.000106"
      ]
     },
     "metadata": {},
     "output_type": "display_data"
    }
   ],
   "source": [
    "D <- 10\n",
    "thetas <- rnorm(4,0,1)\n",
    "\n",
    "thetas[1]"
   ]
  },
  {
   "cell_type": "code",
   "execution_count": 19,
   "metadata": {},
   "outputs": [
    {
     "data": {
      "text/html": [],
      "text/latex": [],
      "text/markdown": [],
      "text/plain": [
       "numeric(0)"
      ]
     },
     "metadata": {},
     "output_type": "display_data"
    }
   ],
   "source": []
  },
  {
   "cell_type": "code",
   "execution_count": null,
   "metadata": {},
   "outputs": [],
   "source": [
    "for(d in 1:D)\n",
    "    {\n",
    "    beta = thetas[0]\n",
    "}"
   ]
  }
 ],
 "metadata": {
  "kernelspec": {
   "display_name": "R",
   "language": "R",
   "name": "ir"
  },
  "language_info": {
   "codemirror_mode": "r",
   "file_extension": ".r",
   "mimetype": "text/x-r-source",
   "name": "R",
   "pygments_lexer": "r",
   "version": "3.6.1"
  }
 },
 "nbformat": 4,
 "nbformat_minor": 4
}
