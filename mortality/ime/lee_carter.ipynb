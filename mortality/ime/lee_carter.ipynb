{
 "cells": [
  {
   "cell_type": "code",
   "execution_count": 1,
   "metadata": {},
   "outputs": [],
   "source": [
    "#https://www.kaggle.com/tokutani/lee-carter-model\n",
    "#http://www.actuaries.jp/lib/y_ronbun/H18-2.pdf\n",
    "\n",
    "# arima : http://zhuanlan.zhihu.com/p/60648709\n",
    "# svd : https://www.cnblogs.com/pinard/p/6251584.html"
   ]
  },
  {
   "cell_type": "code",
   "execution_count": 2,
   "metadata": {},
   "outputs": [],
   "source": [
    "import pandas as pd\n",
    "import numpy as np\n",
    "import seaborn as sns\n",
    "import matplotlib.pyplot as plt\n",
    "from leecarter.leecarter import lee_carter as lc\n"
   ]
  },
  {
   "cell_type": "code",
   "execution_count": 3,
   "metadata": {},
   "outputs": [
    {
     "data": {
      "text/plain": [
       "array([[8.96450e-02, 3.63410e-02, 1.72370e-02, ..., 6.76427e-01,\n",
       "        6.72245e-01, 7.20384e-01],\n",
       "       [6.42350e-02, 1.90280e-02, 1.03500e-02, ..., 3.64652e-01,\n",
       "        5.07010e-01, 4.52830e-01],\n",
       "       [6.56430e-02, 1.84310e-02, 1.09700e-02, ..., 4.50384e-01,\n",
       "        4.00000e-01, 5.14286e-01],\n",
       "       ...,\n",
       "       [3.00900e-03, 4.55000e-04, 2.80000e-04, ..., 2.88328e-01,\n",
       "        3.12890e-01, 3.44015e-01],\n",
       "       [2.97300e-03, 3.94000e-04, 2.47000e-04, ..., 2.83782e-01,\n",
       "        3.11899e-01, 3.48742e-01],\n",
       "       [2.82000e-03, 4.30000e-04, 2.38000e-04, ..., 2.86664e-01,\n",
       "        3.09520e-01, 3.41088e-01]])"
      ]
     },
     "execution_count": 3,
     "metadata": {},
     "output_type": "execute_result"
    }
   ],
   "source": [
    "CSV_FIlE = \"./japan_mortality_1947-2019.csv\"\n",
    "IMG_DIR = \"./mf\"\n",
    "\n",
    "df = pd.read_csv(CSV_FIlE)\n",
    "df, df_test = df[(df[\"Year\"]<2005) & (df[\"Year\"]>=1947) & (df[\"Age\"]<=100)], df[(df[\"Year\"]>=2005) & (df[\"Age\"]<=100)]\n",
    "year = df[\"Year\"].to_numpy().reshape(-1,1)\n",
    "age = df[\"Age\"].to_numpy().reshape(-1,1)\n",
    "N = int(max(age) - min(age)) + 1\n",
    "T = int(max(year)- min(year)) + 1\n",
    "rate = df[\"Total\"].to_numpy(dtype=\"float\").reshape(-1,N)\n",
    "rate"
   ]
  },
  {
   "cell_type": "code",
   "execution_count": 4,
   "metadata": {},
   "outputs": [],
   "source": [
    "a_x, b_x, k_t, misc = lc(rate, T, N, misc=True)"
   ]
  },
  {
   "cell_type": "code",
   "execution_count": 5,
   "metadata": {},
   "outputs": [
    {
     "data": {
      "text/plain": [
       "{'U': array([[-0.17137908,  0.08859502,  0.17078334, ..., -0.09056627,\n",
       "          0.07566563, -0.09641161],\n",
       "        [-0.18326089, -0.12763625, -0.23525404, ..., -0.13829106,\n",
       "         -0.02886905, -0.16343948],\n",
       "        [-0.19362411, -0.10020734, -0.06253029, ...,  0.05983068,\n",
       "          0.24146917,  0.18877385],\n",
       "        ...,\n",
       "        [-0.02773657,  0.10717381, -0.09304106, ...,  0.09849921,\n",
       "          0.03111099,  0.02693681],\n",
       "        [-0.02790542,  0.10351193, -0.06716023, ...,  0.00955987,\n",
       "          0.04714075, -0.06896175],\n",
       "        [-0.02200232,  0.10466895, -0.0766146 , ...,  0.00723693,\n",
       "          0.01489232,  0.04948606]]),\n",
       " 'S': array([4.41916941e+01, 6.95632482e+00, 2.31423133e+00, 2.10131152e+00,\n",
       "        1.24514540e+00, 1.02592246e+00, 9.23991853e-01, 8.57048609e-01,\n",
       "        7.47726583e-01, 6.22507979e-01, 5.81915951e-01, 5.58924153e-01,\n",
       "        5.55359881e-01, 4.71243762e-01, 4.56325478e-01, 4.24202021e-01,\n",
       "        4.07159009e-01, 3.97464355e-01, 3.89959312e-01, 3.74830021e-01,\n",
       "        3.53985303e-01, 3.49114592e-01, 3.36407303e-01, 3.16029265e-01,\n",
       "        3.07825457e-01, 2.84678967e-01, 2.81505273e-01, 2.74155948e-01,\n",
       "        2.64231958e-01, 2.60284617e-01, 2.47638306e-01, 2.45856561e-01,\n",
       "        2.39618102e-01, 2.28392029e-01, 2.16084723e-01, 2.07452649e-01,\n",
       "        1.97070086e-01, 1.91800973e-01, 1.82924713e-01, 1.76709640e-01,\n",
       "        1.68856446e-01, 1.61713487e-01, 1.58426305e-01, 1.47323132e-01,\n",
       "        1.44172084e-01, 1.35286358e-01, 1.30062199e-01, 1.20727350e-01,\n",
       "        1.15683798e-01, 1.12542674e-01, 1.11113555e-01, 1.05704184e-01,\n",
       "        9.32580131e-02, 8.81673563e-02, 8.50303261e-02, 7.48942366e-02,\n",
       "        6.72568567e-02, 3.52532364e-14]),\n",
       " 'V': array([[-0.31753919, -0.27525168, -0.26119509, ...,  0.16908315,\n",
       "          0.16996989,  0.17722991],\n",
       "        [-0.2426273 , -0.34471953, -0.29089259, ..., -0.19302461,\n",
       "         -0.20315511, -0.21710264],\n",
       "        [-0.32417201, -0.11432831, -0.09899059, ...,  0.18942447,\n",
       "          0.23637271,  0.25900565],\n",
       "        ...,\n",
       "        [ 0.01144146, -0.10288777,  0.05975153, ...,  0.05683107,\n",
       "          0.02726964,  0.02410544],\n",
       "        [ 0.02904537, -0.07222445, -0.06502865, ..., -0.1520229 ,\n",
       "          0.05216559,  0.09912515],\n",
       "        [ 0.13130643,  0.13130643,  0.13130643, ...,  0.13130643,\n",
       "          0.13130643,  0.13130643]]),\n",
       " 'logm_xt': array([[-2.41189785, -2.74520705, -2.72352431, ..., -5.80614748,\n",
       "         -5.81818373, -5.87101839],\n",
       "        [-3.3148087 , -3.9618437 , -3.99372125, ..., -7.69521314,\n",
       "         -7.83915965, -7.75172535],\n",
       "        [-4.06069704, -4.57076876, -4.512591  , ..., -8.18072095,\n",
       "         -8.30612222, -8.34323988],\n",
       "        ...,\n",
       "        [-0.39093075, -1.0088118 , -0.79765473, ..., -1.24365656,\n",
       "         -1.25954894, -1.24944448],\n",
       "        [-0.39713242, -0.67922455, -0.91629073, ..., -1.16190359,\n",
       "         -1.16507586, -1.17273257],\n",
       "        [-0.32797088, -0.7922385 , -0.66497575, ..., -1.06707002,\n",
       "         -1.05342289, -1.07561477]]),\n",
       " 'z_xt': array([[ 2.05581424,  1.72250505,  1.74418779, ..., -1.33843538,\n",
       "         -1.35047164, -1.4033063 ],\n",
       "        [ 3.05217019,  2.40513519,  2.37325764, ..., -1.32823425,\n",
       "         -1.47218076, -1.38474646],\n",
       "        [ 2.78890307,  2.27883135,  2.3370091 , ..., -1.33112085,\n",
       "         -1.45652211, -1.49363977],\n",
       "        ...,\n",
       "        [ 0.47269687, -0.14518419,  0.06597289, ..., -0.38002894,\n",
       "         -0.39592132, -0.38581686],\n",
       "        [ 0.3992081 ,  0.11711597, -0.11995021, ..., -0.36556307,\n",
       "         -0.36873534, -0.37639205],\n",
       "        [ 0.42582498, -0.03844264,  0.08882011, ..., -0.31327416,\n",
       "         -0.29962703, -0.32181891]]),\n",
       " 'eps': array([[-0.34907897, -0.36212238, -0.23398163, ..., -0.05787869,\n",
       "         -0.06319925, -0.06104986],\n",
       "        [ 0.48054442,  0.17597939,  0.25794065, ...,  0.04110414,\n",
       "         -0.09566106,  0.05056936],\n",
       "        [ 0.07185449, -0.07638092,  0.10207311, ...,  0.11565222,\n",
       "         -0.00216165,  0.02284167],\n",
       "        ...,\n",
       "        [ 0.08348079, -0.48256737, -0.25418076, ..., -0.1727793 ,\n",
       "         -0.18758479, -0.16858152],\n",
       "        [ 0.00762265, -0.22232105, -0.44205282, ..., -0.15705178,\n",
       "         -0.15913055, -0.15783428],\n",
       "        [ 0.11707539, -0.30607526, -0.16514502, ..., -0.14887128,\n",
       "         -0.13436196, -0.14949478]]),\n",
       " 'logm_xt_lcfitted': array([[-2.06281889, -2.38308466, -2.48954268, ..., -5.74826879,\n",
       "         -5.75498449, -5.80996853],\n",
       "        [-3.79535311, -4.13782309, -4.2516619 , ..., -7.73631728,\n",
       "         -7.74349858, -7.80229471],\n",
       "        [-4.13255154, -4.49438784, -4.61466411, ..., -8.29637318,\n",
       "         -8.30396057, -8.36608155],\n",
       "        ...,\n",
       "        [-0.47441153, -0.52624444, -0.54347396, ..., -1.07087726,\n",
       "         -1.07196415, -1.08086296],\n",
       "        [-0.40475507, -0.4569035 , -0.47423792, ..., -1.00485181,\n",
       "         -1.00594531, -1.01489829],\n",
       "        [-0.44504626, -0.48616324, -0.49983073, ..., -0.91819873,\n",
       "         -0.91906092, -0.92611999]])}"
      ]
     },
     "execution_count": 5,
     "metadata": {},
     "output_type": "execute_result"
    }
   ],
   "source": [
    "misc"
   ]
  },
  {
   "cell_type": "code",
   "execution_count": 6,
   "metadata": {},
   "outputs": [
    {
     "data": {
      "text/plain": [
       "(101,)"
      ]
     },
     "execution_count": 6,
     "metadata": {},
     "output_type": "execute_result"
    }
   ],
   "source": [
    "a_x.shape"
   ]
  },
  {
   "cell_type": "code",
   "execution_count": 7,
   "metadata": {},
   "outputs": [
    {
     "data": {
      "text/plain": [
       "<matplotlib.axes._subplots.AxesSubplot at 0x7f8ad03fb550>"
      ]
     },
     "execution_count": 7,
     "metadata": {},
     "output_type": "execute_result"
    },
    {
     "data": {
      "image/png": "[encoded data removed]",
      "text/plain": [
       "<Figure size 432x288 with 1 Axes>"
      ]
     },
     "metadata": {
      "needs_background": "light"
     },
     "output_type": "display_data"
    }
   ],
   "source": [
    "sns.lineplot(np.arange(N), a_x)"
   ]
  },
  {
   "cell_type": "code",
   "execution_count": 8,
   "metadata": {},
   "outputs": [
    {
     "data": {
      "text/plain": [
       "<matplotlib.axes._subplots.AxesSubplot at 0x7f8a19c08c50>"
      ]
     },
     "execution_count": 8,
     "metadata": {},
     "output_type": "execute_result"
    },
    {
     "data": {
      "image/png": "[encoded data removed]",
      "text/plain": [
       "<Figure size 432x288 with 1 Axes>"
      ]
     },
     "metadata": {
      "needs_background": "light"
     },
     "output_type": "display_data"
    }
   ],
   "source": [
    "sns.lineplot(np.arange(N), b_x)"
   ]
  },
  {
   "cell_type": "code",
   "execution_count": 9,
   "metadata": {
    "scrolled": true
   },
   "outputs": [
    {
     "data": {
      "text/plain": [
       "<matplotlib.axes._subplots.AxesSubplot at 0x7f8a196c0a58>"
      ]
     },
     "execution_count": 9,
     "metadata": {},
     "output_type": "execute_result"
    },
    {
     "data": {
      "image/png": "[encoded data removed]",
      "text/plain": [
       "<Figure size 432x288 with 1 Axes>"
      ]
     },
     "metadata": {
      "needs_background": "light"
     },
     "output_type": "display_data"
    }
   ],
   "source": [
    "sns.lineplot(np.arange(T), k_t)"
   ]
  },
  {
   "cell_type": "code",
   "execution_count": 10,
   "metadata": {},
   "outputs": [],
   "source": [
    "import statsmodels.api as sm\n",
    "from statsmodels.tsa.arima_model import ARIMA\n",
    "from statsmodels.tsa.seasonal import seasonal_decompose\n",
    "from statsmodels.tsa.stattools import adfuller as ADF\n",
    "from statsmodels.tsa.ar_model import AutoReg"
   ]
  },
  {
   "cell_type": "code",
   "execution_count": 11,
   "metadata": {},
   "outputs": [
    {
     "data": {
      "text/plain": [
       "(<matplotlib.axes._subplots.AxesSubplot at 0x7f8a14a77160>,\n",
       " (-4.057606471558952,\n",
       "  0.0011371592471528184,\n",
       "  4,\n",
       "  52,\n",
       "  {'1%': -3.562878534649522,\n",
       "   '5%': -2.918973284023669,\n",
       "   '10%': -2.597393446745562},\n",
       "  195.22046198330523))"
      ]
     },
     "execution_count": 11,
     "metadata": {},
     "output_type": "execute_result"
    },
    {
     "data": {
      "image/png": "[encoded data removed]",
      "text/plain": [
       "<Figure size 432x288 with 1 Axes>"
      ]
     },
     "metadata": {
      "needs_background": "light"
     },
     "output_type": "display_data"
    }
   ],
   "source": [
    "k_t_ADF = ADF(np.diff(k_t))\n",
    "sns.lineplot(np.arange(len(np.diff(k_t))),np.diff(k_t)),k_t_ADF"
   ]
  },
  {
   "cell_type": "code",
   "execution_count": 12,
   "metadata": {},
   "outputs": [
    {
     "data": {
      "image/png": "[encoded data removed]",
      "text/plain": [
       "<Figure size 432x288 with 1 Axes>"
      ]
     },
     "metadata": {
      "needs_background": "light"
     },
     "output_type": "display_data"
    }
   ],
   "source": [
    "acf = sm.graphics.tsa.plot_acf(np.diff(k_t))"
   ]
  },
  {
   "cell_type": "code",
   "execution_count": 13,
   "metadata": {},
   "outputs": [
    {
     "data": {
      "image/png": "[encoded data removed]",
      "text/plain": [
       "<Figure size 432x288 with 1 Axes>"
      ]
     },
     "metadata": {
      "needs_background": "light"
     },
     "output_type": "display_data"
    }
   ],
   "source": [
    "pacf = sm.graphics.tsa.plot_pacf(np.diff(k_t))"
   ]
  },
  {
   "cell_type": "code",
   "execution_count": 14,
   "metadata": {},
   "outputs": [
    {
     "name": "stderr",
     "output_type": "stream",
     "text": [
      "/home/chen/work/venv/lib/python3.6/site-packages/statsmodels/base/model.py:548: HessianInversionWarning: Inverting hessian failed, no bse or cov_params available\n",
      "  'available', HessianInversionWarning)\n",
      "/home/chen/work/venv/lib/python3.6/site-packages/statsmodels/base/model.py:568: ConvergenceWarning: Maximum Likelihood optimization failed to converge. Check mle_retvals\n",
      "  \"Check mle_retvals\", ConvergenceWarning)\n",
      "/home/chen/work/venv/lib/python3.6/site-packages/statsmodels/base/model.py:548: HessianInversionWarning: Inverting hessian failed, no bse or cov_params available\n",
      "  'available', HessianInversionWarning)\n",
      "/home/chen/work/venv/lib/python3.6/site-packages/statsmodels/base/model.py:568: ConvergenceWarning: Maximum Likelihood optimization failed to converge. Check mle_retvals\n",
      "  \"Check mle_retvals\", ConvergenceWarning)\n",
      "/home/chen/work/venv/lib/python3.6/site-packages/statsmodels/base/model.py:548: HessianInversionWarning: Inverting hessian failed, no bse or cov_params available\n",
      "  'available', HessianInversionWarning)\n",
      "/home/chen/work/venv/lib/python3.6/site-packages/statsmodels/base/model.py:548: HessianInversionWarning: Inverting hessian failed, no bse or cov_params available\n",
      "  'available', HessianInversionWarning)\n"
     ]
    }
   ],
   "source": [
    "trend_evaluate = sm.tsa.arma_order_select_ic(np.diff(k_t), ic=['aic', 'bic'], trend='nc', max_ar=4, max_ma=4)"
   ]
  },
  {
   "cell_type": "code",
   "execution_count": 15,
   "metadata": {},
   "outputs": [
    {
     "data": {
      "text/plain": [
       "{'aic':             0           1           2           3           4\n",
       " 0         NaN  327.483805  327.827910  311.603212  302.353328\n",
       " 1  316.022984  294.817846  288.799962  285.985888  279.011585\n",
       " 2  310.222214  320.104716  302.803905  285.956676  284.118865\n",
       " 3  289.654329  286.618495  279.601517  281.548556  285.575457\n",
       " 4  286.026789  287.680463  281.585115  282.760854  284.328121,\n",
       " 'bic':             0           1           2           3           4\n",
       " 0         NaN  331.569908  333.957064  319.775417  312.568584\n",
       " 1  320.109087  300.947000  296.972167  296.201145  291.269892\n",
       " 2  316.351368  328.276921  313.019162  298.214983  298.420224\n",
       " 3  297.826534  296.833751  291.859825  295.849915  301.919867\n",
       " 4  296.242046  299.938770  295.886474  299.105264  302.715582,\n",
       " 'aic_min_order': (1, 4),\n",
       " 'bic_min_order': (1, 4)}"
      ]
     },
     "execution_count": 15,
     "metadata": {},
     "output_type": "execute_result"
    }
   ],
   "source": [
    "trend_evaluate"
   ]
  },
  {
   "cell_type": "code",
   "execution_count": 16,
   "metadata": {},
   "outputs": [],
   "source": [
    "model = ARIMA(k_t, order=(1,1,4))"
   ]
  },
  {
   "cell_type": "code",
   "execution_count": 17,
   "metadata": {},
   "outputs": [
    {
     "data": {
      "text/html": [
       "<table class=\"simpletable\">\n",
       "<caption>ARIMA Model Results</caption>\n",
       "<tr>\n",
       "  <th>Dep. Variable:</th>        <td>D.y</td>       <th>  No. Observations:  </th>    <td>57</td>   \n",
       "</tr>\n",
       "<tr>\n",
       "  <th>Model:</th>          <td>ARIMA(1, 1, 4)</td>  <th>  Log Likelihood     </th> <td>-132.253</td>\n",
       "</tr>\n",
       "<tr>\n",
       "  <th>Method:</th>             <td>css-mle</td>     <th>  S.D. of innovations</th>   <td>2.310</td> \n",
       "</tr>\n",
       "<tr>\n",
       "  <th>Date:</th>          <td>Mon, 07 Jun 2021</td> <th>  AIC                </th>  <td>278.506</td>\n",
       "</tr>\n",
       "<tr>\n",
       "  <th>Time:</th>              <td>00:26:44</td>     <th>  BIC                </th>  <td>292.808</td>\n",
       "</tr>\n",
       "<tr>\n",
       "  <th>Sample:</th>                <td>1</td>        <th>  HQIC               </th>  <td>284.064</td>\n",
       "</tr>\n",
       "<tr>\n",
       "  <th></th>                       <td> </td>        <th>                     </th>     <td> </td>   \n",
       "</tr>\n",
       "</table>\n",
       "<table class=\"simpletable\">\n",
       "<tr>\n",
       "      <td></td>         <th>coef</th>     <th>std err</th>      <th>z</th>      <th>P>|z|</th>  <th>[0.025</th>    <th>0.975]</th>  \n",
       "</tr>\n",
       "<tr>\n",
       "  <th>const</th>     <td>   -4.0182</td> <td>    1.460</td> <td>   -2.751</td> <td> 0.006</td> <td>   -6.881</td> <td>   -1.156</td>\n",
       "</tr>\n",
       "<tr>\n",
       "  <th>ar.L1.D.y</th> <td>    0.9001</td> <td>    0.176</td> <td>    5.101</td> <td> 0.000</td> <td>    0.554</td> <td>    1.246</td>\n",
       "</tr>\n",
       "<tr>\n",
       "  <th>ma.L1.D.y</th> <td>   -1.1371</td> <td>    0.286</td> <td>   -3.977</td> <td> 0.000</td> <td>   -1.697</td> <td>   -0.577</td>\n",
       "</tr>\n",
       "<tr>\n",
       "  <th>ma.L2.D.y</th> <td>    0.3386</td> <td>    0.209</td> <td>    1.618</td> <td> 0.106</td> <td>   -0.072</td> <td>    0.749</td>\n",
       "</tr>\n",
       "<tr>\n",
       "  <th>ma.L3.D.y</th> <td>    0.7537</td> <td>    0.189</td> <td>    3.994</td> <td> 0.000</td> <td>    0.384</td> <td>    1.124</td>\n",
       "</tr>\n",
       "<tr>\n",
       "  <th>ma.L4.D.y</th> <td>   -0.4719</td> <td>    0.321</td> <td>   -1.471</td> <td> 0.141</td> <td>   -1.100</td> <td>    0.157</td>\n",
       "</tr>\n",
       "</table>\n",
       "<table class=\"simpletable\">\n",
       "<caption>Roots</caption>\n",
       "<tr>\n",
       "    <td></td>   <th>            Real</th>  <th>         Imaginary</th> <th>         Modulus</th>  <th>        Frequency</th>\n",
       "</tr>\n",
       "<tr>\n",
       "  <th>AR.1</th> <td>           1.1110</td> <td>          +0.0000j</td> <td>           1.1110</td> <td>           0.0000</td>\n",
       "</tr>\n",
       "<tr>\n",
       "  <th>MA.1</th> <td>          -1.3078</td> <td>          -0.0000j</td> <td>           1.3078</td> <td>          -0.5000</td>\n",
       "</tr>\n",
       "<tr>\n",
       "  <th>MA.2</th> <td>           0.6423</td> <td>          -0.7665j</td> <td>           1.0001</td> <td>          -0.1390</td>\n",
       "</tr>\n",
       "<tr>\n",
       "  <th>MA.3</th> <td>           0.6423</td> <td>          +0.7665j</td> <td>           1.0001</td> <td>           0.1390</td>\n",
       "</tr>\n",
       "<tr>\n",
       "  <th>MA.4</th> <td>           1.6203</td> <td>          -0.0000j</td> <td>           1.6203</td> <td>          -0.0000</td>\n",
       "</tr>\n",
       "</table>"
      ],
      "text/plain": [
       "<class 'statsmodels.iolib.summary.Summary'>\n",
       "\"\"\"\n",
       "                             ARIMA Model Results                              \n",
       "==============================================================================\n",
       "Dep. Variable:                    D.y   No. Observations:                   57\n",
       "Model:                 ARIMA(1, 1, 4)   Log Likelihood                -132.253\n",
       "Method:                       css-mle   S.D. of innovations              2.310\n",
       "Date:                Mon, 07 Jun 2021   AIC                            278.506\n",
       "Time:                        00:26:44   BIC                            292.808\n",
       "Sample:                             1   HQIC                           284.064\n",
       "                                                                              \n",
       "==============================================================================\n",
       "                 coef    std err          z      P>|z|      [0.025      0.975]\n",
       "------------------------------------------------------------------------------\n",
       "const         -4.0182      1.460     -2.751      0.006      -6.881      -1.156\n",
       "ar.L1.D.y      0.9001      0.176      5.101      0.000       0.554       1.246\n",
       "ma.L1.D.y     -1.1371      0.286     -3.977      0.000      -1.697      -0.577\n",
       "ma.L2.D.y      0.3386      0.209      1.618      0.106      -0.072       0.749\n",
       "ma.L3.D.y      0.7537      0.189      3.994      0.000       0.384       1.124\n",
       "ma.L4.D.y     -0.4719      0.321     -1.471      0.141      -1.100       0.157\n",
       "                                    Roots                                    \n",
       "=============================================================================\n",
       "                  Real          Imaginary           Modulus         Frequency\n",
       "-----------------------------------------------------------------------------\n",
       "AR.1            1.1110           +0.0000j            1.1110            0.0000\n",
       "MA.1           -1.3078           -0.0000j            1.3078           -0.5000\n",
       "MA.2            0.6423           -0.7665j            1.0001           -0.1390\n",
       "MA.3            0.6423           +0.7665j            1.0001            0.1390\n",
       "MA.4            1.6203           -0.0000j            1.6203           -0.0000\n",
       "-----------------------------------------------------------------------------\n",
       "\"\"\""
      ]
     },
     "execution_count": 17,
     "metadata": {},
     "output_type": "execute_result"
    }
   ],
   "source": [
    "model_fit = model.fit()\n",
    "model_fit.summary()"
   ]
  },
  {
   "cell_type": "code",
   "execution_count": 27,
   "metadata": {
    "scrolled": true
   },
   "outputs": [
    {
     "data": {
      "text/html": [
       "<div>\n",
       "<style scoped>\n",
       "    .dataframe tbody tr th:only-of-type {\n",
       "        vertical-align: middle;\n",
       "    }\n",
       "\n",
       "    .dataframe tbody tr th {\n",
       "        vertical-align: top;\n",
       "    }\n",
       "\n",
       "    .dataframe thead th {\n",
       "        text-align: right;\n",
       "    }\n",
       "</style>\n",
       "<table border=\"1\" class=\"dataframe\">\n",
       "  <thead>\n",
       "    <tr style=\"text-align: right;\">\n",
       "      <th></th>\n",
       "      <th>Year</th>\n",
       "      <th>Age</th>\n",
       "      <th>Female</th>\n",
       "      <th>Male</th>\n",
       "      <th>Total</th>\n",
       "    </tr>\n",
       "  </thead>\n",
       "  <tbody>\n",
       "    <tr>\n",
       "      <th>6508</th>\n",
       "      <td>2005</td>\n",
       "      <td>70</td>\n",
       "      <td>0.008949</td>\n",
       "      <td>0.021762</td>\n",
       "      <td>0.014931</td>\n",
       "    </tr>\n",
       "    <tr>\n",
       "      <th>6619</th>\n",
       "      <td>2006</td>\n",
       "      <td>70</td>\n",
       "      <td>0.008479</td>\n",
       "      <td>0.019631</td>\n",
       "      <td>0.013702</td>\n",
       "    </tr>\n",
       "    <tr>\n",
       "      <th>6730</th>\n",
       "      <td>2007</td>\n",
       "      <td>70</td>\n",
       "      <td>0.008529</td>\n",
       "      <td>0.020085</td>\n",
       "      <td>0.01395</td>\n",
       "    </tr>\n",
       "    <tr>\n",
       "      <th>6841</th>\n",
       "      <td>2008</td>\n",
       "      <td>70</td>\n",
       "      <td>0.008174</td>\n",
       "      <td>0.019539</td>\n",
       "      <td>0.013507</td>\n",
       "    </tr>\n",
       "    <tr>\n",
       "      <th>6952</th>\n",
       "      <td>2009</td>\n",
       "      <td>70</td>\n",
       "      <td>0.007723</td>\n",
       "      <td>0.018255</td>\n",
       "      <td>0.012676</td>\n",
       "    </tr>\n",
       "    <tr>\n",
       "      <th>7063</th>\n",
       "      <td>2010</td>\n",
       "      <td>70</td>\n",
       "      <td>0.007732</td>\n",
       "      <td>0.018529</td>\n",
       "      <td>0.012821</td>\n",
       "    </tr>\n",
       "    <tr>\n",
       "      <th>7174</th>\n",
       "      <td>2011</td>\n",
       "      <td>70</td>\n",
       "      <td>0.008129</td>\n",
       "      <td>0.018932</td>\n",
       "      <td>0.013224</td>\n",
       "    </tr>\n",
       "    <tr>\n",
       "      <th>7285</th>\n",
       "      <td>2012</td>\n",
       "      <td>70</td>\n",
       "      <td>0.007548</td>\n",
       "      <td>0.018338</td>\n",
       "      <td>0.012637</td>\n",
       "    </tr>\n",
       "    <tr>\n",
       "      <th>7396</th>\n",
       "      <td>2013</td>\n",
       "      <td>70</td>\n",
       "      <td>0.00735</td>\n",
       "      <td>0.018089</td>\n",
       "      <td>0.012412</td>\n",
       "    </tr>\n",
       "    <tr>\n",
       "      <th>7507</th>\n",
       "      <td>2014</td>\n",
       "      <td>70</td>\n",
       "      <td>0.007353</td>\n",
       "      <td>0.017882</td>\n",
       "      <td>0.012315</td>\n",
       "    </tr>\n",
       "    <tr>\n",
       "      <th>7618</th>\n",
       "      <td>2015</td>\n",
       "      <td>70</td>\n",
       "      <td>0.007271</td>\n",
       "      <td>0.018188</td>\n",
       "      <td>0.012423</td>\n",
       "    </tr>\n",
       "    <tr>\n",
       "      <th>7729</th>\n",
       "      <td>2016</td>\n",
       "      <td>70</td>\n",
       "      <td>0.00702</td>\n",
       "      <td>0.016661</td>\n",
       "      <td>0.011595</td>\n",
       "    </tr>\n",
       "    <tr>\n",
       "      <th>7840</th>\n",
       "      <td>2017</td>\n",
       "      <td>70</td>\n",
       "      <td>0.007141</td>\n",
       "      <td>0.017143</td>\n",
       "      <td>0.011915</td>\n",
       "    </tr>\n",
       "    <tr>\n",
       "      <th>7951</th>\n",
       "      <td>2018</td>\n",
       "      <td>70</td>\n",
       "      <td>0.007208</td>\n",
       "      <td>0.01714</td>\n",
       "      <td>0.011952</td>\n",
       "    </tr>\n",
       "    <tr>\n",
       "      <th>8062</th>\n",
       "      <td>2019</td>\n",
       "      <td>70</td>\n",
       "      <td>0.006925</td>\n",
       "      <td>0.017231</td>\n",
       "      <td>0.011843</td>\n",
       "    </tr>\n",
       "  </tbody>\n",
       "</table>\n",
       "</div>"
      ],
      "text/plain": [
       "      Year  Age    Female      Male     Total\n",
       "6508  2005   70  0.008949  0.021762  0.014931\n",
       "6619  2006   70  0.008479  0.019631  0.013702\n",
       "6730  2007   70  0.008529  0.020085   0.01395\n",
       "6841  2008   70  0.008174  0.019539  0.013507\n",
       "6952  2009   70  0.007723  0.018255  0.012676\n",
       "7063  2010   70  0.007732  0.018529  0.012821\n",
       "7174  2011   70  0.008129  0.018932  0.013224\n",
       "7285  2012   70  0.007548  0.018338  0.012637\n",
       "7396  2013   70   0.00735  0.018089  0.012412\n",
       "7507  2014   70  0.007353  0.017882  0.012315\n",
       "7618  2015   70  0.007271  0.018188  0.012423\n",
       "7729  2016   70   0.00702  0.016661  0.011595\n",
       "7840  2017   70  0.007141  0.017143  0.011915\n",
       "7951  2018   70  0.007208   0.01714  0.011952\n",
       "8062  2019   70  0.006925  0.017231  0.011843"
      ]
     },
     "execution_count": 27,
     "metadata": {},
     "output_type": "execute_result"
    }
   ],
   "source": [
    "age = 70\n",
    "steps = max(df_test[\"Year\"]) - max(year)\n",
    "df_test[df_test[\"Age\"]==age]"
   ]
  },
  {
   "cell_type": "code",
   "execution_count": 28,
   "metadata": {},
   "outputs": [
    {
     "data": {
      "text/plain": [
       "array([-4.4677121 , -6.36697889, -6.84960011, -7.11677452, -7.34009054,\n",
       "       -7.52860678, -7.67723321, -7.82844821, -8.01882093, -8.14401411,\n",
       "       -8.23517745, -8.26407675, -8.22510144, -8.13194424, -8.03270215,\n",
       "       -7.82401007, -7.42770819, -7.25806758, -7.13227708, -7.02087519,\n",
       "       -6.97139243, -6.9441022 , -6.91628122, -6.89350503, -6.88053929,\n",
       "       -6.86671686, -6.85764272, -6.8496616 , -6.82452757, -6.78664664,\n",
       "       -6.76612274, -6.73631383, -6.68591749, -6.63431488, -6.57857899,\n",
       "       -6.51978611, -6.46036715, -6.39413619, -6.3266229 , -6.24616879,\n",
       "       -6.17188872, -6.10138424, -6.02133084, -5.94194407, -5.85260127,\n",
       "       -5.7677052 , -5.68722619, -5.59791604, -5.51289086, -5.4234569 ,\n",
       "       -5.33311542, -5.25070525, -5.16275436, -5.07888823, -4.99696777,\n",
       "       -4.9128152 , -4.82811342, -4.74271412, -4.63871441, -4.56381933,\n",
       "       -4.476821  , -4.38502592, -4.29224262, -4.19653632, -4.10107996,\n",
       "       -4.00761401, -3.91033855, -3.81272178, -3.71134534, -3.61059888,\n",
       "       -3.50927244, -3.40679097, -3.30395738, -3.20075569, -3.0951198 ,\n",
       "       -2.99017433, -2.88615793, -2.77909141, -2.67167851, -2.56480839,\n",
       "       -2.45382825, -2.3486941 , -2.24664308, -2.14189481, -2.04492442,\n",
       "       -1.94453195, -1.8437072 , -1.75198586, -1.65590376, -1.5621428 ,\n",
       "       -1.4748596 , -1.38353829, -1.2953173 , -1.22254073, -1.1410258 ,\n",
       "       -1.07590771, -1.00255711, -0.93945673, -0.86362762, -0.79634052,\n",
       "       -0.75379586])"
      ]
     },
     "execution_count": 28,
     "metadata": {},
     "output_type": "execute_result"
    }
   ],
   "source": [
    "a_x"
   ]
  },
  {
   "cell_type": "code",
   "execution_count": 29,
   "metadata": {},
   "outputs": [],
   "source": [
    "age_train = np.exp(a_x[age] + b_x[age]*k_t)\n",
    "forecast = model_fit.forecast(steps = int(steps))\n",
    "age_predict = np.exp(a_x[age] + b_x[age]*forecast[0])\n",
    "age_top, age_bot = np.exp(a_x[age] + b_x[age]*forecast[2][:,0]),np.exp(a_x[age] + b_x[age]*forecast[2][:,1])"
   ]
  },
  {
   "cell_type": "code",
   "execution_count": 30,
   "metadata": {},
   "outputs": [
    {
     "data": {
      "text/plain": [
       "(array([ -77.15396619,  -79.19446513,  -81.07306078,  -83.92619896,\n",
       "         -86.8957039 ,  -89.96995326,  -93.1384855 ,  -96.39188393,\n",
       "         -99.72167238, -103.12022126, -106.58066299, -110.09681591,\n",
       "        -113.66311575, -117.274554  , -120.92662238]),\n",
       " array([ 2.31008691,  2.90582356,  3.5574177 ,  5.39328779,  7.19684889,\n",
       "         9.00086801, 10.80747329, 12.6120943 , 14.40900857, 16.19290239,\n",
       "        17.95928928, 19.70455759, 21.42589594, 23.12118474, 24.78888621]),\n",
       " array([[ -81.68165333,  -72.62627906],\n",
       "        [ -84.88977466,  -73.49915561],\n",
       "        [ -88.04547135,  -74.10065021],\n",
       "        [ -94.49684879,  -73.35554912],\n",
       "        [-101.00126853,  -72.79013927],\n",
       "        [-107.61133039,  -72.32857613],\n",
       "        [-114.32074392,  -71.95622708],\n",
       "        [-121.11113452,  -71.67263333],\n",
       "        [-127.96281023,  -71.48053453],\n",
       "        [-134.85772675,  -71.38271577],\n",
       "        [-141.78022316,  -71.38110282],\n",
       "        [-148.71703911,  -71.4765927 ],\n",
       "        [-155.65710014,  -71.66913136],\n",
       "        [-162.59124338,  -71.95786463],\n",
       "        [-169.51194658,  -72.34129818]]))"
      ]
     },
     "execution_count": 30,
     "metadata": {},
     "output_type": "execute_result"
    }
   ],
   "source": [
    "forecast"
   ]
  },
  {
   "cell_type": "code",
   "execution_count": 31,
   "metadata": {
    "scrolled": true
   },
   "outputs": [
    {
     "data": {
      "text/plain": [
       "Text(0, 0.5, 'Death Rate')"
      ]
     },
     "execution_count": 31,
     "metadata": {},
     "output_type": "execute_result"
    },
    {
     "data": {
      "image/png": "[encoded data removed]",
      "text/plain": [
       "<Figure size 432x288 with 1 Axes>"
      ]
     },
     "metadata": {
      "needs_background": "light"
     },
     "output_type": "display_data"
    }
   ],
   "source": [
    "sns.lineplot(np.arange(min(year),max(df_test[\"Year\"])+1),np.concatenate([rate[:,age],df_test[df_test[\"Age\"]==age].Total.to_numpy(dtype=\"float\")]), label=\"Ground Truth\")\n",
    "sns.lineplot(np.arange(min(year),max(year)+1),age_train, label=\"Lee-Carter Fitted\")\n",
    "sns.lineplot(np.arange(min(df_test[\"Year\"]),max(df_test[\"Year\"])+1), age_predict, label=\"Predicted\")\n",
    "plt.fill_between(np.arange(min(df_test[\"Year\"]),max(df_test[\"Year\"])+1), age_top, age_bot, color=(0,0.5,0.5,0.2), label=\"Confidence\")\n",
    "plt.xlabel(\"Year\")\n",
    "plt.ylabel(\"Death Rate\")"
   ]
  },
  {
   "cell_type": "code",
   "execution_count": 32,
   "metadata": {},
   "outputs": [
    {
     "data": {
      "text/plain": [
       "(0.0012759828526324824, 0.0010974114774297053)"
      ]
     },
     "execution_count": 32,
     "metadata": {},
     "output_type": "execute_result"
    }
   ],
   "source": [
    "from sklearn.metrics import mean_absolute_error, mean_squared_error\n",
    "\n",
    "rmse = mean_squared_error(age_predict, df_test[df_test[\"Age\"]==age].Total.to_numpy(dtype=\"float\"), squared=False)\n",
    "mae = mean_absolute_error(age_predict, df_test[df_test[\"Age\"]==age].Total.to_numpy(dtype=\"float\"))\n",
    "\n",
    "rmse, mae"
   ]
  }
 ],
 "metadata": {
  "kernelspec": {
   "display_name": "Python 3",
   "language": "python",
   "name": "python3"
  },
  "language_info": {
   "codemirror_mode": {
    "name": "ipython",
    "version": 3
   },
   "file_extension": ".py",
   "mimetype": "text/x-python",
   "name": "python",
   "nbconvert_exporter": "python",
   "pygments_lexer": "ipython3",
   "version": "3.6.9"
  }
 },
 "nbformat": 4,
 "nbformat_minor": 4
}
