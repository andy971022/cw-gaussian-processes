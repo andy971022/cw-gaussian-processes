{
 "cells": [
  {
   "cell_type": "code",
   "execution_count": 1,
   "metadata": {},
   "outputs": [
    {
     "name": "stderr",
     "output_type": "stream",
     "text": [
      "Warning message:\n",
      "“package ‘Deriv’ was built under R version 3.6.3”"
     ]
    }
   ],
   "source": [
    "library(Deriv)"
   ]
  },
  {
   "cell_type": "code",
   "execution_count": 2,
   "metadata": {},
   "outputs": [],
   "source": [
    "n <- 100\n",
    "betas <- rbeta(n,5,1)"
   ]
  },
  {
   "cell_type": "code",
   "execution_count": 3,
   "metadata": {},
   "outputs": [
    {
     "data": {
      "text/html": [
       "<ol class=list-inline>\n",
       "\t<li>0.970123258602283</li>\n",
       "\t<li>0.936937980733694</li>\n",
       "\t<li>0.874983251021985</li>\n",
       "\t<li>0.902730424922022</li>\n",
       "\t<li>0.995964957045318</li>\n",
       "</ol>\n"
      ],
      "text/latex": [
       "\\begin{enumerate*}\n",
       "\\item 0.970123258602283\n",
       "\\item 0.936937980733694\n",
       "\\item 0.874983251021985\n",
       "\\item 0.902730424922022\n",
       "\\item 0.995964957045318\n",
       "\\end{enumerate*}\n"
      ],
      "text/markdown": [
       "1. 0.970123258602283\n",
       "2. 0.936937980733694\n",
       "3. 0.874983251021985\n",
       "4. 0.902730424922022\n",
       "5. 0.995964957045318\n",
       "\n",
       "\n"
      ],
      "text/plain": [
       "[1] 0.9701233 0.9369380 0.8749833 0.9027304 0.9959650"
      ]
     },
     "metadata": {},
     "output_type": "display_data"
    }
   ],
   "source": [
    "betas[1:5]"
   ]
  },
  {
   "cell_type": "code",
   "execution_count": 4,
   "metadata": {},
   "outputs": [
    {
     "data": {
      "image/png": "[encoded data removed]",
      "text/plain": [
       "Plot with title “Histogram of betas”"
      ]
     },
     "metadata": {},
     "output_type": "display_data"
    }
   ],
   "source": [
    "hist(betas)"
   ]
  },
  {
   "cell_type": "code",
   "execution_count": 5,
   "metadata": {},
   "outputs": [],
   "source": [
    "sal <- function(aa,bb,cc,dd,a,b,c,d,y){\n",
    "    aa + bb*sinh(cc*asinh(a + b*sinh(c*asinh(y)+d))+dd)\n",
    "    }\n",
    "# sal = expression(a + b*sinh(c*asinh(y)+d))\n",
    "drule[[\"asinh\"]] <- alist(x=1/sqrt(x^2+1))\n",
    "\n",
    "d_sal = Deriv(sal,\"y\")\n",
    "\n",
    "# negative log likelihood function\n",
    "# https://stackoverflow.com/questions/20479315/optim-function-argument-missing\n",
    "# Optimize mean and covariance too!!!\n",
    "nllf <- function(v){\n",
    "    a <- v[5]\n",
    "    b <- v[6]\n",
    "    c <- v[7]\n",
    "    d <- v[8]\n",
    "    aa <- v[1] \n",
    "    bb <- v[2]\n",
    "    cc <- v[3]\n",
    "    dd <- v[4]\n",
    "    return(-sum(log(d_sal(aa,bb,cc,dd,a,b,c,d,betas))))\n",
    "    }\n"
   ]
  },
  {
   "cell_type": "code",
   "execution_count": 6,
   "metadata": {},
   "outputs": [
    {
     "data": {
      "text/html": [
       "<pre class=language-r><code>function (aa, bb, cc, dd, a, b, c, d, y) \n",
       "{\n",
       "<span style=white-space:pre-wrap>    .e3 &lt;- c * asinh(y) + d</span>\n",
       "<span style=white-space:pre-wrap>    .e4 &lt;- a + b * sinh(.e3)</span>\n",
       "<span style=white-space:pre-wrap>    b * bb * c * cc * cosh(.e3) * cosh(cc * asinh(.e4) + dd)/(sqrt(.e4^2 + </span>\n",
       "<span style=white-space:pre-wrap>        1) * sqrt(1 + y^2))</span>\n",
       "}</code></pre>"
      ],
      "text/latex": [
       "\\begin{minted}{r}\n",
       "function (aa, bb, cc, dd, a, b, c, d, y) \n",
       "\\{\n",
       "    .e3 <- c * asinh(y) + d\n",
       "    .e4 <- a + b * sinh(.e3)\n",
       "    b * bb * c * cc * cosh(.e3) * cosh(cc * asinh(.e4) + dd)/(sqrt(.e4\\textasciicircum{}2 + \n",
       "        1) * sqrt(1 + y\\textasciicircum{}2))\n",
       "\\}\n",
       "\\end{minted}"
      ],
      "text/markdown": [
       "```r\n",
       "function (aa, bb, cc, dd, a, b, c, d, y) \n",
       "{\n",
       "    .e3 <- c * asinh(y) + d\n",
       "    .e4 <- a + b * sinh(.e3)\n",
       "    b * bb * c * cc * cosh(.e3) * cosh(cc * asinh(.e4) + dd)/(sqrt(.e4^2 + \n",
       "        1) * sqrt(1 + y^2))\n",
       "}\n",
       "```"
      ],
      "text/plain": [
       "function (aa, bb, cc, dd, a, b, c, d, y) \n",
       "{\n",
       "    .e3 <- c * asinh(y) + d\n",
       "    .e4 <- a + b * sinh(.e3)\n",
       "    b * bb * c * cc * cosh(.e3) * cosh(cc * asinh(.e4) + dd)/(sqrt(.e4^2 + \n",
       "        1) * sqrt(1 + y^2))\n",
       "}"
      ]
     },
     "metadata": {},
     "output_type": "display_data"
    }
   ],
   "source": [
    "d_sal"
   ]
  },
  {
   "cell_type": "code",
   "execution_count": 7,
   "metadata": {},
   "outputs": [],
   "source": [
    "#log likelihood\n",
    "# L = -1/2log|C|-1/2(y-\\mu)C^{-1}(y-\\mu)+\\sum log \\partial \\phi(yi)/\\partial yi - N/2 log2\\pi"
   ]
  },
  {
   "cell_type": "code",
   "execution_count": 8,
   "metadata": {},
   "outputs": [
    {
     "data": {
      "text/html": [
       "<dl>\n",
       "\t<dt>$par</dt>\n",
       "\t\t<dd><ol class=list-inline>\n",
       "\t<li>0.380186605474976</li>\n",
       "\t<li>1.51585451799319</li>\n",
       "\t<li>2.45915485137206</li>\n",
       "\t<li>0.425353481786521</li>\n",
       "\t<li>-1.60788270636432</li>\n",
       "\t<li>2.38357854737637</li>\n",
       "\t<li>2.54929810108548</li>\n",
       "\t<li>1.67588965164151</li>\n",
       "</ol>\n",
       "</dd>\n",
       "\t<dt>$value</dt>\n",
       "\t\t<dd>-1263.85926404349</dd>\n",
       "\t<dt>$counts</dt>\n",
       "\t\t<dd><dl class=dl-horizontal>\n",
       "\t<dt>function</dt>\n",
       "\t\t<dd>71</dd>\n",
       "\t<dt>gradient</dt>\n",
       "\t\t<dd>&lt;NA&gt;</dd>\n",
       "</dl>\n",
       "</dd>\n",
       "\t<dt>$convergence</dt>\n",
       "\t\t<dd>1</dd>\n",
       "\t<dt>$message</dt>\n",
       "\t\t<dd>NULL</dd>\n",
       "</dl>\n"
      ],
      "text/latex": [
       "\\begin{description}\n",
       "\\item[\\$par] \\begin{enumerate*}\n",
       "\\item 0.380186605474976\n",
       "\\item 1.51585451799319\n",
       "\\item 2.45915485137206\n",
       "\\item 0.425353481786521\n",
       "\\item -1.60788270636432\n",
       "\\item 2.38357854737637\n",
       "\\item 2.54929810108548\n",
       "\\item 1.67588965164151\n",
       "\\end{enumerate*}\n",
       "\n",
       "\\item[\\$value] -1263.85926404349\n",
       "\\item[\\$counts] \\begin{description*}\n",
       "\\item[function] 71\n",
       "\\item[gradient] <NA>\n",
       "\\end{description*}\n",
       "\n",
       "\\item[\\$convergence] 1\n",
       "\\item[\\$message] NULL\n",
       "\\end{description}\n"
      ],
      "text/markdown": [
       "$par\n",
       ":   1. 0.380186605474976\n",
       "2. 1.51585451799319\n",
       "3. 2.45915485137206\n",
       "4. 0.425353481786521\n",
       "5. -1.60788270636432\n",
       "6. 2.38357854737637\n",
       "7. 2.54929810108548\n",
       "8. 1.67588965164151\n",
       "\n",
       "\n",
       "\n",
       "$value\n",
       ":   -1263.85926404349\n",
       "$counts\n",
       ":   function\n",
       ":   71gradient\n",
       ":   &lt;NA&gt;\n",
       "\n",
       "\n",
       "$convergence\n",
       ":   1\n",
       "$message\n",
       ":   NULL\n",
       "\n",
       "\n"
      ],
      "text/plain": [
       "$par\n",
       "[1]  0.3801866  1.5158545  2.4591549  0.4253535 -1.6078827  2.3835785  2.5492981\n",
       "[8]  1.6758897\n",
       "\n",
       "$value\n",
       "[1] -1263.859\n",
       "\n",
       "$counts\n",
       "function gradient \n",
       "      71       NA \n",
       "\n",
       "$convergence\n",
       "[1] 1\n",
       "\n",
       "$message\n",
       "NULL\n"
      ]
     },
     "metadata": {},
     "output_type": "display_data"
    }
   ],
   "source": [
    "o = optim(par=rep(1,8),fn=nllf,control=list(maxit=70))\n",
    "o"
   ]
  },
  {
   "cell_type": "code",
   "execution_count": 9,
   "metadata": {},
   "outputs": [],
   "source": [
    "par = o$par"
   ]
  },
  {
   "cell_type": "code",
   "execution_count": 10,
   "metadata": {},
   "outputs": [
    {
     "data": {
      "image/png": "[encoded data removed]",
      "text/plain": [
       "Plot with title “Histogram of sal(par[1], par[2], par[3], par[4], par[5], par[6], par[7], par[8], betas)”"
      ]
     },
     "metadata": {},
     "output_type": "display_data"
    }
   ],
   "source": [
    "hist(sal(par[1],par[2],par[3],par[4],par[5],par[6],par[7],par[8],betas))"
   ]
  }
 ],
 "metadata": {
  "kernelspec": {
   "display_name": "R",
   "language": "R",
   "name": "ir"
  },
  "language_info": {
   "codemirror_mode": "r",
   "file_extension": ".r",
   "mimetype": "text/x-r-source",
   "name": "R",
   "pygments_lexer": "r",
   "version": "3.6.1"
  }
 },
 "nbformat": 4,
 "nbformat_minor": 4
}
