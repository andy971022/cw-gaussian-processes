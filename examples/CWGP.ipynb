{
 "cells": [
  {
   "cell_type": "code",
   "execution_count": 1,
   "metadata": {},
   "outputs": [],
   "source": [
    "library(Deriv)"
   ]
  },
  {
   "cell_type": "code",
   "execution_count": 2,
   "metadata": {},
   "outputs": [],
   "source": [
    "n <- 100\n",
    "betas <- rbeta(n,5,1)"
   ]
  },
  {
   "cell_type": "code",
   "execution_count": 3,
   "metadata": {},
   "outputs": [
    {
     "data": {
      "text/html": [
       "<ol class=list-inline>\n",
       "\t<li>0.831834645591058</li>\n",
       "\t<li>0.998075337797771</li>\n",
       "\t<li>0.85236960866691</li>\n",
       "\t<li>0.804777529331229</li>\n",
       "\t<li>0.899862883754688</li>\n",
       "</ol>\n"
      ],
      "text/latex": [
       "\\begin{enumerate*}\n",
       "\\item 0.831834645591058\n",
       "\\item 0.998075337797771\n",
       "\\item 0.85236960866691\n",
       "\\item 0.804777529331229\n",
       "\\item 0.899862883754688\n",
       "\\end{enumerate*}\n"
      ],
      "text/markdown": [
       "1. 0.831834645591058\n",
       "2. 0.998075337797771\n",
       "3. 0.85236960866691\n",
       "4. 0.804777529331229\n",
       "5. 0.899862883754688\n",
       "\n",
       "\n"
      ],
      "text/plain": [
       "[1] 0.8318346 0.9980753 0.8523696 0.8047775 0.8998629"
      ]
     },
     "metadata": {},
     "output_type": "display_data"
    }
   ],
   "source": [
    "betas[1:5]"
   ]
  },
  {
   "cell_type": "code",
   "execution_count": 4,
   "metadata": {},
   "outputs": [
    {
     "data": {
      "image/png": "[encoded data removed]",
      "text/plain": [
       "Plot with title “Histogram of betas”"
      ]
     },
     "metadata": {},
     "output_type": "display_data"
    }
   ],
   "source": [
    "hist(betas)"
   ]
  },
  {
   "cell_type": "code",
   "execution_count": 25,
   "metadata": {},
   "outputs": [],
   "source": [
    "sal <- function(a,b,c,d,y){\n",
    "    a + b*sinh(c*asinh(y) + d)\n",
    "    }\n",
    "# sal = expression(a + b*sinh(c*asinh(y)+d))\n",
    "drule[[\"asinh\"]] <- alist(x=1/sqrt(x^2+1))\n",
    "\n",
    "d_sal = Deriv(sal,\"y\")\n",
    "\n",
    "# negative log likelihood function\n",
    "# https://stackoverflow.com/questions/20479315/optim-function-argument-missing\n",
    "# Optimize mean and covariance too!!!\n",
    "nllf <- function(v,y){\n",
    "    a <- v[5]\n",
    "    b <- v[6]\n",
    "    c <- v[7]\n",
    "    d <- v[8]\n",
    "    return(-sum(log(d_sal(a,b,c,d,y))))\n",
    "    }\n"
   ]
  },
  {
   "cell_type": "code",
   "execution_count": 26,
   "metadata": {},
   "outputs": [
    {
     "data": {
      "text/html": [
       "<pre class=language-r><code>function (a, b, c, d, y) \n",
       "b * c * cosh(c * asinh(y) + d)/sqrt(1 + y^2)</code></pre>"
      ],
      "text/latex": [
       "\\begin{minted}{r}\n",
       "function (a, b, c, d, y) \n",
       "b * c * cosh(c * asinh(y) + d)/sqrt(1 + y\\textasciicircum{}2)\n",
       "\\end{minted}"
      ],
      "text/markdown": [
       "```r\n",
       "function (a, b, c, d, y) \n",
       "b * c * cosh(c * asinh(y) + d)/sqrt(1 + y^2)\n",
       "```"
      ],
      "text/plain": [
       "function (a, b, c, d, y) \n",
       "b * c * cosh(c * asinh(y) + d)/sqrt(1 + y^2)"
      ]
     },
     "metadata": {},
     "output_type": "display_data"
    }
   ],
   "source": [
    "d_sal"
   ]
  },
  {
   "cell_type": "code",
   "execution_count": 7,
   "metadata": {},
   "outputs": [],
   "source": [
    "#log likelihood\n",
    "# L = -1/2log|C|-1/2(y-\\mu)C^{-1}(y-\\mu)+\\sum log \\partial \\phi(yi)/\\partial yi - N/2 log2\\pi"
   ]
  },
  {
   "cell_type": "code",
   "execution_count": 27,
   "metadata": {},
   "outputs": [
    {
     "ename": "ERROR",
     "evalue": "Error in d_sal(a, b, c, d, y): argument \"y\" is missing, with no default\n",
     "output_type": "error",
     "traceback": [
      "Error in d_sal(a, b, c, d, y): argument \"y\" is missing, with no default\nTraceback:\n",
      "1. optim(par = c(0.5, 0.5, 0.5, 0.5), fn = nllf)",
      "2. (function (par) \n . fn(par, ...))(c(0.5, 0.5, 0.5, 0.5))",
      "3. fn(par, ...)",
      "4. d_sal(a, b, c, d, y)   # at line 17 of file <text>"
     ]
    }
   ],
   "source": [
    "o = optim(par=c(0.5,0.5,0.5,0.5),fn=nllf,)\n",
    "o"
   ]
  },
  {
   "cell_type": "code",
   "execution_count": null,
   "metadata": {},
   "outputs": [],
   "source": [
    "par = o$par"
   ]
  },
  {
   "cell_type": "code",
   "execution_count": null,
   "metadata": {},
   "outputs": [],
   "source": [
    "hist(sal(par[1],par[2],par[3],par[4],betas))"
   ]
  }
 ],
 "metadata": {
  "kernelspec": {
   "display_name": "R",
   "language": "R",
   "name": "ir"
  },
  "language_info": {
   "codemirror_mode": "r",
   "file_extension": ".r",
   "mimetype": "text/x-r-source",
   "name": "R",
   "pygments_lexer": "r",
   "version": "3.6.1"
  }
 },
 "nbformat": 4,
 "nbformat_minor": 4
}
