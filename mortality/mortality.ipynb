{
 "cells": [
  {
   "cell_type": "code",
   "execution_count": 1,
   "metadata": {},
   "outputs": [],
   "source": [
    "import seaborn as sns\n",
    "import matplotlib.pyplot as plt\n",
    "import pandas as pd\n",
    "from autograd import elementwise_grad, grad\n",
    "import autograd.numpy as np\n",
    "import scipy\n",
    "from scipy.optimize import minimize\n",
    "import copy\n",
    "import GPy"
   ]
  },
  {
   "cell_type": "code",
   "execution_count": 2,
   "metadata": {},
   "outputs": [],
   "source": [
    "def sal(par,y):\n",
    "    assert len(par)>=4, \"not enough params\"\n",
    "    return par[0]+par[1]*np.sinh(par[2]*np.arcsinh(y) + par[3])\n",
    "\n",
    "d_sal = elementwise_grad(sal,1)\n",
    "\n",
    "def sal_comp(par,y,n):\n",
    "    assert len(par)>=4*n, \"not enough params\"\n",
    "    comp = copy.deepcopy(y)\n",
    "    for i in range(0,n):\n",
    "        comp = sal(par[4*i:],comp)\n",
    "    return comp\n",
    "\n",
    "def d_sal_comp(par,y,n):\n",
    "    assert len(par)>=4*n, \"not enough params\"\n",
    "    comp = copy.deepcopy(y)\n",
    "    d_comp = 1\n",
    "    for i in range(0,n):\n",
    "        d_comp *= d_sal(par[4*i:],comp)\n",
    "        comp = sal(par[4*i:],comp)\n",
    "    return d_comp\n",
    "\n",
    "def cov_kernel(gamma,x):\n",
    "    return np.exp(-gamma*(np.abs(x))**2)\n",
    "\n",
    "def nllf(par):\n",
    "    phi_y = sal_comp(par,betas,n)\n",
    "    phi_y = phi_y[np.newaxis].reshape(-1,1)\n",
    "    t_phi_y = np.transpose(phi_y)\n",
    "    \n",
    "    cov_xx = cov_kernel(gamma,np.log(np.exp(phi_y) @ np.exp(-(t_phi_y))))\n",
    "    gaussian_params = 0.5 * (t_phi_y) @ np.linalg.inv(cov_xx) @ phi_y\n",
    "    \n",
    "    chain_d_sal = d_sal_comp(par,betas,n)\n",
    "    \n",
    "    return  0.5 * np.log(np.linalg.det(cov_xx)) + gaussian_params - sum(np.log(chain_d_sal))\n"
   ]
  },
  {
   "cell_type": "code",
   "execution_count": 3,
   "metadata": {},
   "outputs": [],
   "source": [
    "CSV_FIlE = \"japan.csv\""
   ]
  },
  {
   "cell_type": "code",
   "execution_count": 4,
   "metadata": {},
   "outputs": [],
   "source": [
    "df = pd.read_csv(CSV_FIlE)"
   ]
  },
  {
   "cell_type": "code",
   "execution_count": 5,
   "metadata": {},
   "outputs": [
    {
     "data": {
      "text/plain": [
       "Index(['year', 'age', 'female', 'male', 'total'], dtype='object')"
      ]
     },
     "execution_count": 5,
     "metadata": {},
     "output_type": "execute_result"
    }
   ],
   "source": [
    "df.columns"
   ]
  },
  {
   "cell_type": "code",
   "execution_count": 6,
   "metadata": {},
   "outputs": [],
   "source": [
    "df_50 = df[(df[\"age\"]==50)]"
   ]
  },
  {
   "cell_type": "code",
   "execution_count": 7,
   "metadata": {},
   "outputs": [
    {
     "data": {
      "text/plain": [
       "<matplotlib.axes._subplots.AxesSubplot at 0x7f1ca8754ba8>"
      ]
     },
     "execution_count": 7,
     "metadata": {},
     "output_type": "execute_result"
    },
    {
     "data": {
      "image/png": "[encoded data removed]",
      "text/plain": [
       "<Figure size 432x288 with 1 Axes>"
      ]
     },
     "metadata": {
      "needs_background": "light"
     },
     "output_type": "display_data"
    }
   ],
   "source": [
    "sns.scatterplot(df_50[\"year\"],df_50[\"total\"])"
   ]
  },
  {
   "cell_type": "code",
   "execution_count": null,
   "metadata": {},
   "outputs": [],
   "source": []
  },
  {
   "cell_type": "code",
   "execution_count": 8,
   "metadata": {},
   "outputs": [
    {
     "data": {
      "text/plain": [
       "(70,)"
      ]
     },
     "execution_count": 8,
     "metadata": {},
     "output_type": "execute_result"
    }
   ],
   "source": [
    "n = 2\n",
    "gamma = 2\n",
    "betas = np.array(df_50[\"total\"])\n",
    "year = np.array(df_50[\"year\"])\n",
    "betas.shape"
   ]
  },
  {
   "cell_type": "code",
   "execution_count": 9,
   "metadata": {},
   "outputs": [
    {
     "data": {
      "text/plain": [
       "<matplotlib.axes._subplots.AxesSubplot at 0x7f1ca6665358>"
      ]
     },
     "execution_count": 9,
     "metadata": {},
     "output_type": "execute_result"
    },
    {
     "data": {
      "image/png": "[encoded data removed]",
      "text/plain": [
       "<Figure size 432x288 with 1 Axes>"
      ]
     },
     "metadata": {
      "needs_background": "light"
     },
     "output_type": "display_data"
    }
   ],
   "source": [
    "sns.distplot(betas, kde=False, norm_hist=True)"
   ]
  },
  {
   "cell_type": "code",
   "execution_count": 10,
   "metadata": {},
   "outputs": [
    {
     "data": {
      "text/plain": [
       "0.6571428571428571"
      ]
     },
     "execution_count": 10,
     "metadata": {},
     "output_type": "execute_result"
    }
   ],
   "source": [
    "len(betas[betas<0.005])/len(betas)"
   ]
  },
  {
   "cell_type": "code",
   "execution_count": null,
   "metadata": {},
   "outputs": [
    {
     "name": "stderr",
     "output_type": "stream",
     "text": [
      " /home/chen/work/venv/lib/python3.6/site-packages/autograd/tracer.py:48: RuntimeWarning:divide by zero encountered in log\n",
      " /home/chen/work/venv/lib/python3.6/site-packages/scipy/optimize/optimize.py:697: RuntimeWarning:invalid value encountered in subtract\n",
      " /home/chen/work/venv/lib/python3.6/site-packages/numpy/linalg/linalg.py:2116: RuntimeWarning:invalid value encountered in det\n"
     ]
    }
   ],
   "source": [
    "res = minimize(nllf, np.random.rand(4*n), method='L-BFGS-B')\n",
    "while res.success == False:\n",
    "    try:\n",
    "        res = minimize(nllf, np.random.rand(4*n), method='L-BFGS-B')\n",
    "#         rand = np.random.uniform(low=-5, high=5, size=(4*n, 1))\n",
    "#         res = minimize(nllf, rand , method='L-BFGS-B')\n",
    "#         print(rand)\n",
    "    except:\n",
    "        pass"
   ]
  },
  {
   "cell_type": "code",
   "execution_count": null,
   "metadata": {},
   "outputs": [],
   "source": [
    "res"
   ]
  },
  {
   "cell_type": "code",
   "execution_count": null,
   "metadata": {},
   "outputs": [],
   "source": [
    "res.x"
   ]
  },
  {
   "cell_type": "code",
   "execution_count": null,
   "metadata": {},
   "outputs": [],
   "source": [
    "transformed_betas = sal_comp(res.x,betas,n)"
   ]
  },
  {
   "cell_type": "code",
   "execution_count": null,
   "metadata": {},
   "outputs": [],
   "source": [
    "sns.distplot(transformed_betas)"
   ]
  },
  {
   "cell_type": "code",
   "execution_count": null,
   "metadata": {},
   "outputs": [],
   "source": [
    "betas"
   ]
  },
  {
   "cell_type": "code",
   "execution_count": null,
   "metadata": {},
   "outputs": [],
   "source": [
    "transformed_betas"
   ]
  },
  {
   "cell_type": "code",
   "execution_count": null,
   "metadata": {},
   "outputs": [],
   "source": [
    "# from sklearn.model_selection import train_test_split\n",
    "\n",
    "kernel = GPy.kern.Matern52(1)*GPy.kern.Brownian(1)*GPy.kern.RBF(1)\n",
    "per = 0.7\n",
    "length = len(year)\n",
    "X_train, y_train = year[np.newaxis].reshape(-1,1)[:int(0.7*len(year))], transformed_betas[np.newaxis].reshape(-1,1)[:int(0.7*len(year))]\n",
    "X_test, y_test = year[np.newaxis].reshape(-1,1)[int(0.7*len(year)):], transformed_betas[np.newaxis].reshape(-1,1)[int(0.7*len(year)):]\n",
    "model = GPy.models.GPRegression(X_train, y_train,kernel = kernel)\n",
    "\n",
    "model.optimize()\n",
    "model.plot()\n",
    "print(model)\n",
    "\n",
    "print(X_test.shape,y_test.shape)\n",
    "plt.scatter(X_test,y_test)\n",
    "plt.show()"
   ]
  },
  {
   "cell_type": "code",
   "execution_count": null,
   "metadata": {},
   "outputs": [],
   "source": []
  },
  {
   "cell_type": "code",
   "execution_count": null,
   "metadata": {},
   "outputs": [],
   "source": [
    "kernel = GPy.kern.Matern52(1)\n",
    "per = 0.7\n",
    "length = len(year)\n",
    "X_train, y_train = year[np.newaxis].reshape(-1,1)[:int(0.7*len(year))], betas[np.newaxis].reshape(-1,1)[:int(0.7*len(year))]\n",
    "X_test, y_test = year[np.newaxis].reshape(-1,1)[int(0.7*len(year)):], betas[np.newaxis].reshape(-1,1)[int(0.7*len(year)):]\n",
    "model = GPy.models.GPRegression(X_train, y_train,kernel = kernel)\n",
    "\n",
    "model.optimize()\n",
    "model.plot()\n",
    "print(model)\n",
    "\n",
    "print(X_test.shape,y_test.shape)\n",
    "plt.scatter(X_test,y_test)\n",
    "plt.show()"
   ]
  }
 ],
 "metadata": {
  "kernelspec": {
   "display_name": "Python 3",
   "language": "python",
   "name": "python3"
  },
  "language_info": {
   "codemirror_mode": {
    "name": "ipython",
    "version": 3
   },
   "file_extension": ".py",
   "mimetype": "text/x-python",
   "name": "python",
   "nbconvert_exporter": "python",
   "pygments_lexer": "ipython3",
   "version": "3.6.9"
  }
 },
 "nbformat": 4,
 "nbformat_minor": 4
}
